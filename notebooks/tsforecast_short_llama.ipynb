{
  "cells": [
    {
      "cell_type": "markdown",
      "metadata": {
        "id": "7B-RWSwCTFUx"
      },
      "source": [
        "### 1. Install Dependencies"
      ]
    },
    {
      "cell_type": "code",
      "execution_count": 1,
      "metadata": {
        "colab": {
          "base_uri": "https://localhost:8080/"
        },
        "id": "CQ6xyR-xS8Zl",
        "outputId": "494727aa-1eb2-4340-8c37-38596d303169"
      },
      "outputs": [
        {
          "name": "stdout",
          "output_type": "stream",
          "text": [
            "Requirement already satisfied: pandas in /usr/local/lib/python3.11/dist-packages (2.2.2)\n",
            "Requirement already satisfied: gdown in /usr/local/lib/python3.11/dist-packages (5.2.0)\n",
            "Requirement already satisfied: huggingface-hub in /usr/local/lib/python3.11/dist-packages (0.33.2)\n",
            "Requirement already satisfied: numpy in /usr/local/lib/python3.11/dist-packages (2.0.2)\n",
            "Requirement already satisfied: matplotlib in /usr/local/lib/python3.11/dist-packages (3.10.0)\n",
            "Requirement already satisfied: scikit-learn in /usr/local/lib/python3.11/dist-packages (1.6.1)\n",
            "Requirement already satisfied: transformers in /usr/local/lib/python3.11/dist-packages (4.53.0)\n",
            "Requirement already satisfied: torch in /usr/local/lib/python3.11/dist-packages (2.6.0+cu124)\n",
            "Requirement already satisfied: tqdm in /usr/local/lib/python3.11/dist-packages (4.67.1)\n",
            "Requirement already satisfied: python-dateutil>=2.8.2 in /usr/local/lib/python3.11/dist-packages (from pandas) (2.9.0.post0)\n",
            "Requirement already satisfied: pytz>=2020.1 in /usr/local/lib/python3.11/dist-packages (from pandas) (2025.2)\n",
            "Requirement already satisfied: tzdata>=2022.7 in /usr/local/lib/python3.11/dist-packages (from pandas) (2025.2)\n",
            "Requirement already satisfied: beautifulsoup4 in /usr/local/lib/python3.11/dist-packages (from gdown) (4.13.4)\n",
            "Requirement already satisfied: filelock in /usr/local/lib/python3.11/dist-packages (from gdown) (3.18.0)\n",
            "Requirement already satisfied: requests[socks] in /usr/local/lib/python3.11/dist-packages (from gdown) (2.32.3)\n",
            "Requirement already satisfied: fsspec>=2023.5.0 in /usr/local/lib/python3.11/dist-packages (from huggingface-hub) (2025.3.2)\n",
            "Requirement already satisfied: packaging>=20.9 in /usr/local/lib/python3.11/dist-packages (from huggingface-hub) (24.2)\n",
            "Requirement already satisfied: pyyaml>=5.1 in /usr/local/lib/python3.11/dist-packages (from huggingface-hub) (6.0.2)\n",
            "Requirement already satisfied: typing-extensions>=3.7.4.3 in /usr/local/lib/python3.11/dist-packages (from huggingface-hub) (4.14.0)\n",
            "Requirement already satisfied: hf-xet<2.0.0,>=1.1.2 in /usr/local/lib/python3.11/dist-packages (from huggingface-hub) (1.1.5)\n",
            "Requirement already satisfied: contourpy>=1.0.1 in /usr/local/lib/python3.11/dist-packages (from matplotlib) (1.3.2)\n",
            "Requirement already satisfied: cycler>=0.10 in /usr/local/lib/python3.11/dist-packages (from matplotlib) (0.12.1)\n",
            "Requirement already satisfied: fonttools>=4.22.0 in /usr/local/lib/python3.11/dist-packages (from matplotlib) (4.58.4)\n",
            "Requirement already satisfied: kiwisolver>=1.3.1 in /usr/local/lib/python3.11/dist-packages (from matplotlib) (1.4.8)\n",
            "Requirement already satisfied: pillow>=8 in /usr/local/lib/python3.11/dist-packages (from matplotlib) (11.2.1)\n",
            "Requirement already satisfied: pyparsing>=2.3.1 in /usr/local/lib/python3.11/dist-packages (from matplotlib) (3.2.3)\n",
            "Requirement already satisfied: scipy>=1.6.0 in /usr/local/lib/python3.11/dist-packages (from scikit-learn) (1.15.3)\n",
            "Requirement already satisfied: joblib>=1.2.0 in /usr/local/lib/python3.11/dist-packages (from scikit-learn) (1.5.1)\n",
            "Requirement already satisfied: threadpoolctl>=3.1.0 in /usr/local/lib/python3.11/dist-packages (from scikit-learn) (3.6.0)\n",
            "Requirement already satisfied: regex!=2019.12.17 in /usr/local/lib/python3.11/dist-packages (from transformers) (2024.11.6)\n",
            "Requirement already satisfied: tokenizers<0.22,>=0.21 in /usr/local/lib/python3.11/dist-packages (from transformers) (0.21.2)\n",
            "Requirement already satisfied: safetensors>=0.4.3 in /usr/local/lib/python3.11/dist-packages (from transformers) (0.5.3)\n",
            "Requirement already satisfied: networkx in /usr/local/lib/python3.11/dist-packages (from torch) (3.5)\n",
            "Requirement already satisfied: jinja2 in /usr/local/lib/python3.11/dist-packages (from torch) (3.1.6)\n",
            "Collecting nvidia-cuda-nvrtc-cu12==12.4.127 (from torch)\n",
            "  Downloading nvidia_cuda_nvrtc_cu12-12.4.127-py3-none-manylinux2014_x86_64.whl.metadata (1.5 kB)\n",
            "Collecting nvidia-cuda-runtime-cu12==12.4.127 (from torch)\n",
            "  Downloading nvidia_cuda_runtime_cu12-12.4.127-py3-none-manylinux2014_x86_64.whl.metadata (1.5 kB)\n",
            "Collecting nvidia-cuda-cupti-cu12==12.4.127 (from torch)\n",
            "  Downloading nvidia_cuda_cupti_cu12-12.4.127-py3-none-manylinux2014_x86_64.whl.metadata (1.6 kB)\n",
            "Collecting nvidia-cudnn-cu12==9.1.0.70 (from torch)\n",
            "  Downloading nvidia_cudnn_cu12-9.1.0.70-py3-none-manylinux2014_x86_64.whl.metadata (1.6 kB)\n",
            "Collecting nvidia-cublas-cu12==12.4.5.8 (from torch)\n",
            "  Downloading nvidia_cublas_cu12-12.4.5.8-py3-none-manylinux2014_x86_64.whl.metadata (1.5 kB)\n",
            "Collecting nvidia-cufft-cu12==11.2.1.3 (from torch)\n",
            "  Downloading nvidia_cufft_cu12-11.2.1.3-py3-none-manylinux2014_x86_64.whl.metadata (1.5 kB)\n",
            "Collecting nvidia-curand-cu12==10.3.5.147 (from torch)\n",
            "  Downloading nvidia_curand_cu12-10.3.5.147-py3-none-manylinux2014_x86_64.whl.metadata (1.5 kB)\n",
            "Collecting nvidia-cusolver-cu12==11.6.1.9 (from torch)\n",
            "  Downloading nvidia_cusolver_cu12-11.6.1.9-py3-none-manylinux2014_x86_64.whl.metadata (1.6 kB)\n",
            "Collecting nvidia-cusparse-cu12==12.3.1.170 (from torch)\n",
            "  Downloading nvidia_cusparse_cu12-12.3.1.170-py3-none-manylinux2014_x86_64.whl.metadata (1.6 kB)\n",
            "Requirement already satisfied: nvidia-cusparselt-cu12==0.6.2 in /usr/local/lib/python3.11/dist-packages (from torch) (0.6.2)\n",
            "Requirement already satisfied: nvidia-nccl-cu12==2.21.5 in /usr/local/lib/python3.11/dist-packages (from torch) (2.21.5)\n",
            "Requirement already satisfied: nvidia-nvtx-cu12==12.4.127 in /usr/local/lib/python3.11/dist-packages (from torch) (12.4.127)\n",
            "Collecting nvidia-nvjitlink-cu12==12.4.127 (from torch)\n",
            "  Downloading nvidia_nvjitlink_cu12-12.4.127-py3-none-manylinux2014_x86_64.whl.metadata (1.5 kB)\n",
            "Requirement already satisfied: triton==3.2.0 in /usr/local/lib/python3.11/dist-packages (from torch) (3.2.0)\n",
            "Requirement already satisfied: sympy==1.13.1 in /usr/local/lib/python3.11/dist-packages (from torch) (1.13.1)\n",
            "Requirement already satisfied: mpmath<1.4,>=1.1.0 in /usr/local/lib/python3.11/dist-packages (from sympy==1.13.1->torch) (1.3.0)\n",
            "Requirement already satisfied: six>=1.5 in /usr/local/lib/python3.11/dist-packages (from python-dateutil>=2.8.2->pandas) (1.17.0)\n",
            "Requirement already satisfied: soupsieve>1.2 in /usr/local/lib/python3.11/dist-packages (from beautifulsoup4->gdown) (2.7)\n",
            "Requirement already satisfied: MarkupSafe>=2.0 in /usr/local/lib/python3.11/dist-packages (from jinja2->torch) (3.0.2)\n",
            "Requirement already satisfied: charset-normalizer<4,>=2 in /usr/local/lib/python3.11/dist-packages (from requests[socks]->gdown) (3.4.2)\n",
            "Requirement already satisfied: idna<4,>=2.5 in /usr/local/lib/python3.11/dist-packages (from requests[socks]->gdown) (3.10)\n",
            "Requirement already satisfied: urllib3<3,>=1.21.1 in /usr/local/lib/python3.11/dist-packages (from requests[socks]->gdown) (2.4.0)\n",
            "Requirement already satisfied: certifi>=2017.4.17 in /usr/local/lib/python3.11/dist-packages (from requests[socks]->gdown) (2025.6.15)\n",
            "Requirement already satisfied: PySocks!=1.5.7,>=1.5.6 in /usr/local/lib/python3.11/dist-packages (from requests[socks]->gdown) (1.7.1)\n",
            "Downloading nvidia_cublas_cu12-12.4.5.8-py3-none-manylinux2014_x86_64.whl (363.4 MB)\n",
            "\u001b[2K   \u001b[90m━━━━━━━━━━━━━━━━━━━━━━━━━━━━━━━━━━━━━━━━\u001b[0m \u001b[32m363.4/363.4 MB\u001b[0m \u001b[31m4.4 MB/s\u001b[0m eta \u001b[36m0:00:00\u001b[0m\n",
            "\u001b[?25hDownloading nvidia_cuda_cupti_cu12-12.4.127-py3-none-manylinux2014_x86_64.whl (13.8 MB)\n",
            "\u001b[2K   \u001b[90m━━━━━━━━━━━━━━━━━━━━━━━━━━━━━━━━━━━━━━━━\u001b[0m \u001b[32m13.8/13.8 MB\u001b[0m \u001b[31m66.3 MB/s\u001b[0m eta \u001b[36m0:00:00\u001b[0m\n",
            "\u001b[?25hDownloading nvidia_cuda_nvrtc_cu12-12.4.127-py3-none-manylinux2014_x86_64.whl (24.6 MB)\n",
            "\u001b[2K   \u001b[90m━━━━━━━━━━━━━━━━━━━━━━━━━━━━━━━━━━━━━━━━\u001b[0m \u001b[32m24.6/24.6 MB\u001b[0m \u001b[31m58.2 MB/s\u001b[0m eta \u001b[36m0:00:00\u001b[0m\n",
            "\u001b[?25hDownloading nvidia_cuda_runtime_cu12-12.4.127-py3-none-manylinux2014_x86_64.whl (883 kB)\n",
            "\u001b[2K   \u001b[90m━━━━━━━━━━━━━━━━━━━━━━━━━━━━━━━━━━━━━━━━\u001b[0m \u001b[32m883.7/883.7 kB\u001b[0m \u001b[31m51.1 MB/s\u001b[0m eta \u001b[36m0:00:00\u001b[0m\n",
            "\u001b[?25hDownloading nvidia_cudnn_cu12-9.1.0.70-py3-none-manylinux2014_x86_64.whl (664.8 MB)\n",
            "\u001b[2K   \u001b[90m━━━━━━━━━━━━━━━━━━━━━━━━━━━━━━━━━━━━━━━━\u001b[0m \u001b[32m664.8/664.8 MB\u001b[0m \u001b[31m2.3 MB/s\u001b[0m eta \u001b[36m0:00:00\u001b[0m\n",
            "\u001b[?25hDownloading nvidia_cufft_cu12-11.2.1.3-py3-none-manylinux2014_x86_64.whl (211.5 MB)\n",
            "\u001b[2K   \u001b[90m━━━━━━━━━━━━━━━━━━━━━━━━━━━━━━━━━━━━━━━━\u001b[0m \u001b[32m211.5/211.5 MB\u001b[0m \u001b[31m6.4 MB/s\u001b[0m eta \u001b[36m0:00:00\u001b[0m\n",
            "\u001b[?25hDownloading nvidia_curand_cu12-10.3.5.147-py3-none-manylinux2014_x86_64.whl (56.3 MB)\n",
            "\u001b[2K   \u001b[90m━━━━━━━━━━━━━━━━━━━━━━━━━━━━━━━━━━━━━━━━\u001b[0m \u001b[32m56.3/56.3 MB\u001b[0m \u001b[31m12.5 MB/s\u001b[0m eta \u001b[36m0:00:00\u001b[0m\n",
            "\u001b[?25hDownloading nvidia_cusolver_cu12-11.6.1.9-py3-none-manylinux2014_x86_64.whl (127.9 MB)\n",
            "\u001b[2K   \u001b[90m━━━━━━━━━━━━━━━━━━━━━━━━━━━━━━━━━━━━━━━━\u001b[0m \u001b[32m127.9/127.9 MB\u001b[0m \u001b[31m7.6 MB/s\u001b[0m eta \u001b[36m0:00:00\u001b[0m\n",
            "\u001b[?25hDownloading nvidia_cusparse_cu12-12.3.1.170-py3-none-manylinux2014_x86_64.whl (207.5 MB)\n",
            "\u001b[2K   \u001b[90m━━━━━━━━━━━━━━━━━━━━━━━━━━━━━━━━━━━━━━━━\u001b[0m \u001b[32m207.5/207.5 MB\u001b[0m \u001b[31m3.8 MB/s\u001b[0m eta \u001b[36m0:00:00\u001b[0m\n",
            "\u001b[?25hDownloading nvidia_nvjitlink_cu12-12.4.127-py3-none-manylinux2014_x86_64.whl (21.1 MB)\n",
            "\u001b[2K   \u001b[90m━━━━━━━━━━━━━━━━━━━━━━━━━━━━━━━━━━━━━━━━\u001b[0m \u001b[32m21.1/21.1 MB\u001b[0m \u001b[31m41.9 MB/s\u001b[0m eta \u001b[36m0:00:00\u001b[0m\n",
            "\u001b[?25hInstalling collected packages: nvidia-nvjitlink-cu12, nvidia-curand-cu12, nvidia-cufft-cu12, nvidia-cuda-runtime-cu12, nvidia-cuda-nvrtc-cu12, nvidia-cuda-cupti-cu12, nvidia-cublas-cu12, nvidia-cusparse-cu12, nvidia-cudnn-cu12, nvidia-cusolver-cu12\n",
            "  Attempting uninstall: nvidia-nvjitlink-cu12\n",
            "    Found existing installation: nvidia-nvjitlink-cu12 12.5.82\n",
            "    Uninstalling nvidia-nvjitlink-cu12-12.5.82:\n",
            "      Successfully uninstalled nvidia-nvjitlink-cu12-12.5.82\n",
            "  Attempting uninstall: nvidia-curand-cu12\n",
            "    Found existing installation: nvidia-curand-cu12 10.3.6.82\n",
            "    Uninstalling nvidia-curand-cu12-10.3.6.82:\n",
            "      Successfully uninstalled nvidia-curand-cu12-10.3.6.82\n",
            "  Attempting uninstall: nvidia-cufft-cu12\n",
            "    Found existing installation: nvidia-cufft-cu12 11.2.3.61\n",
            "    Uninstalling nvidia-cufft-cu12-11.2.3.61:\n",
            "      Successfully uninstalled nvidia-cufft-cu12-11.2.3.61\n",
            "  Attempting uninstall: nvidia-cuda-runtime-cu12\n",
            "    Found existing installation: nvidia-cuda-runtime-cu12 12.5.82\n",
            "    Uninstalling nvidia-cuda-runtime-cu12-12.5.82:\n",
            "      Successfully uninstalled nvidia-cuda-runtime-cu12-12.5.82\n",
            "  Attempting uninstall: nvidia-cuda-nvrtc-cu12\n",
            "    Found existing installation: nvidia-cuda-nvrtc-cu12 12.5.82\n",
            "    Uninstalling nvidia-cuda-nvrtc-cu12-12.5.82:\n",
            "      Successfully uninstalled nvidia-cuda-nvrtc-cu12-12.5.82\n",
            "  Attempting uninstall: nvidia-cuda-cupti-cu12\n",
            "    Found existing installation: nvidia-cuda-cupti-cu12 12.5.82\n",
            "    Uninstalling nvidia-cuda-cupti-cu12-12.5.82:\n",
            "      Successfully uninstalled nvidia-cuda-cupti-cu12-12.5.82\n",
            "  Attempting uninstall: nvidia-cublas-cu12\n",
            "    Found existing installation: nvidia-cublas-cu12 12.5.3.2\n",
            "    Uninstalling nvidia-cublas-cu12-12.5.3.2:\n",
            "      Successfully uninstalled nvidia-cublas-cu12-12.5.3.2\n",
            "  Attempting uninstall: nvidia-cusparse-cu12\n",
            "    Found existing installation: nvidia-cusparse-cu12 12.5.1.3\n",
            "    Uninstalling nvidia-cusparse-cu12-12.5.1.3:\n",
            "      Successfully uninstalled nvidia-cusparse-cu12-12.5.1.3\n",
            "  Attempting uninstall: nvidia-cudnn-cu12\n",
            "    Found existing installation: nvidia-cudnn-cu12 9.3.0.75\n",
            "    Uninstalling nvidia-cudnn-cu12-9.3.0.75:\n",
            "      Successfully uninstalled nvidia-cudnn-cu12-9.3.0.75\n",
            "  Attempting uninstall: nvidia-cusolver-cu12\n",
            "    Found existing installation: nvidia-cusolver-cu12 11.6.3.83\n",
            "    Uninstalling nvidia-cusolver-cu12-11.6.3.83:\n",
            "      Successfully uninstalled nvidia-cusolver-cu12-11.6.3.83\n",
            "Successfully installed nvidia-cublas-cu12-12.4.5.8 nvidia-cuda-cupti-cu12-12.4.127 nvidia-cuda-nvrtc-cu12-12.4.127 nvidia-cuda-runtime-cu12-12.4.127 nvidia-cudnn-cu12-9.1.0.70 nvidia-cufft-cu12-11.2.1.3 nvidia-curand-cu12-10.3.5.147 nvidia-cusolver-cu12-11.6.1.9 nvidia-cusparse-cu12-12.3.1.170 nvidia-nvjitlink-cu12-12.4.127\n"
          ]
        }
      ],
      "source": [
        "!pip install pandas gdown huggingface-hub numpy matplotlib scikit-learn transformers torch tqdm"
      ]
    },
    {
      "cell_type": "code",
      "execution_count": 2,
      "metadata": {
        "colab": {
          "base_uri": "https://localhost:8080/"
        },
        "id": "ImJ21s77uOhW",
        "outputId": "0547e377-e5c8-4037-c6dc-cf6602fc9a5a"
      },
      "outputs": [
        {
          "name": "stdout",
          "output_type": "stream",
          "text": [
            "Requirement already satisfied: datasets in /usr/local/lib/python3.11/dist-packages (2.14.4)\n",
            "Collecting datasets\n",
            "  Downloading datasets-3.6.0-py3-none-any.whl.metadata (19 kB)\n",
            "Requirement already satisfied: filelock in /usr/local/lib/python3.11/dist-packages (from datasets) (3.18.0)\n",
            "Requirement already satisfied: numpy>=1.17 in /usr/local/lib/python3.11/dist-packages (from datasets) (2.0.2)\n",
            "Requirement already satisfied: pyarrow>=15.0.0 in /usr/local/lib/python3.11/dist-packages (from datasets) (18.1.0)\n",
            "Requirement already satisfied: dill<0.3.9,>=0.3.0 in /usr/local/lib/python3.11/dist-packages (from datasets) (0.3.7)\n",
            "Requirement already satisfied: pandas in /usr/local/lib/python3.11/dist-packages (from datasets) (2.2.2)\n",
            "Requirement already satisfied: requests>=2.32.2 in /usr/local/lib/python3.11/dist-packages (from datasets) (2.32.3)\n",
            "Requirement already satisfied: tqdm>=4.66.3 in /usr/local/lib/python3.11/dist-packages (from datasets) (4.67.1)\n",
            "Requirement already satisfied: xxhash in /usr/local/lib/python3.11/dist-packages (from datasets) (3.5.0)\n",
            "Requirement already satisfied: multiprocess<0.70.17 in /usr/local/lib/python3.11/dist-packages (from datasets) (0.70.15)\n",
            "Collecting fsspec<=2025.3.0,>=2023.1.0 (from fsspec[http]<=2025.3.0,>=2023.1.0->datasets)\n",
            "  Downloading fsspec-2025.3.0-py3-none-any.whl.metadata (11 kB)\n",
            "Requirement already satisfied: huggingface-hub>=0.24.0 in /usr/local/lib/python3.11/dist-packages (from datasets) (0.33.2)\n",
            "Requirement already satisfied: packaging in /usr/local/lib/python3.11/dist-packages (from datasets) (24.2)\n",
            "Requirement already satisfied: pyyaml>=5.1 in /usr/local/lib/python3.11/dist-packages (from datasets) (6.0.2)\n",
            "Requirement already satisfied: aiohttp!=4.0.0a0,!=4.0.0a1 in /usr/local/lib/python3.11/dist-packages (from fsspec[http]<=2025.3.0,>=2023.1.0->datasets) (3.11.15)\n",
            "Requirement already satisfied: typing-extensions>=3.7.4.3 in /usr/local/lib/python3.11/dist-packages (from huggingface-hub>=0.24.0->datasets) (4.14.0)\n",
            "Requirement already satisfied: hf-xet<2.0.0,>=1.1.2 in /usr/local/lib/python3.11/dist-packages (from huggingface-hub>=0.24.0->datasets) (1.1.5)\n",
            "Requirement already satisfied: charset-normalizer<4,>=2 in /usr/local/lib/python3.11/dist-packages (from requests>=2.32.2->datasets) (3.4.2)\n",
            "Requirement already satisfied: idna<4,>=2.5 in /usr/local/lib/python3.11/dist-packages (from requests>=2.32.2->datasets) (3.10)\n",
            "Requirement already satisfied: urllib3<3,>=1.21.1 in /usr/local/lib/python3.11/dist-packages (from requests>=2.32.2->datasets) (2.4.0)\n",
            "Requirement already satisfied: certifi>=2017.4.17 in /usr/local/lib/python3.11/dist-packages (from requests>=2.32.2->datasets) (2025.6.15)\n",
            "Requirement already satisfied: python-dateutil>=2.8.2 in /usr/local/lib/python3.11/dist-packages (from pandas->datasets) (2.9.0.post0)\n",
            "Requirement already satisfied: pytz>=2020.1 in /usr/local/lib/python3.11/dist-packages (from pandas->datasets) (2025.2)\n",
            "Requirement already satisfied: tzdata>=2022.7 in /usr/local/lib/python3.11/dist-packages (from pandas->datasets) (2025.2)\n",
            "Requirement already satisfied: aiohappyeyeballs>=2.3.0 in /usr/local/lib/python3.11/dist-packages (from aiohttp!=4.0.0a0,!=4.0.0a1->fsspec[http]<=2025.3.0,>=2023.1.0->datasets) (2.6.1)\n",
            "Requirement already satisfied: aiosignal>=1.1.2 in /usr/local/lib/python3.11/dist-packages (from aiohttp!=4.0.0a0,!=4.0.0a1->fsspec[http]<=2025.3.0,>=2023.1.0->datasets) (1.3.2)\n",
            "Requirement already satisfied: attrs>=17.3.0 in /usr/local/lib/python3.11/dist-packages (from aiohttp!=4.0.0a0,!=4.0.0a1->fsspec[http]<=2025.3.0,>=2023.1.0->datasets) (25.3.0)\n",
            "Requirement already satisfied: frozenlist>=1.1.1 in /usr/local/lib/python3.11/dist-packages (from aiohttp!=4.0.0a0,!=4.0.0a1->fsspec[http]<=2025.3.0,>=2023.1.0->datasets) (1.7.0)\n",
            "Requirement already satisfied: multidict<7.0,>=4.5 in /usr/local/lib/python3.11/dist-packages (from aiohttp!=4.0.0a0,!=4.0.0a1->fsspec[http]<=2025.3.0,>=2023.1.0->datasets) (6.6.3)\n",
            "Requirement already satisfied: propcache>=0.2.0 in /usr/local/lib/python3.11/dist-packages (from aiohttp!=4.0.0a0,!=4.0.0a1->fsspec[http]<=2025.3.0,>=2023.1.0->datasets) (0.3.2)\n",
            "Requirement already satisfied: yarl<2.0,>=1.17.0 in /usr/local/lib/python3.11/dist-packages (from aiohttp!=4.0.0a0,!=4.0.0a1->fsspec[http]<=2025.3.0,>=2023.1.0->datasets) (1.20.1)\n",
            "Requirement already satisfied: six>=1.5 in /usr/local/lib/python3.11/dist-packages (from python-dateutil>=2.8.2->pandas->datasets) (1.17.0)\n",
            "Downloading datasets-3.6.0-py3-none-any.whl (491 kB)\n",
            "\u001b[2K   \u001b[90m━━━━━━━━━━━━━━━━━━━━━━━━━━━━━━━━━━━━━━━━\u001b[0m \u001b[32m491.5/491.5 kB\u001b[0m \u001b[31m33.2 MB/s\u001b[0m eta \u001b[36m0:00:00\u001b[0m\n",
            "\u001b[?25hDownloading fsspec-2025.3.0-py3-none-any.whl (193 kB)\n",
            "\u001b[2K   \u001b[90m━━━━━━━━━━━━━━━━━━━━━━━━━━━━━━━━━━━━━━━━\u001b[0m \u001b[32m193.6/193.6 kB\u001b[0m \u001b[31m21.5 MB/s\u001b[0m eta \u001b[36m0:00:00\u001b[0m\n",
            "\u001b[?25hInstalling collected packages: fsspec, datasets\n",
            "  Attempting uninstall: fsspec\n",
            "    Found existing installation: fsspec 2025.3.2\n",
            "    Uninstalling fsspec-2025.3.2:\n",
            "      Successfully uninstalled fsspec-2025.3.2\n",
            "  Attempting uninstall: datasets\n",
            "    Found existing installation: datasets 2.14.4\n",
            "    Uninstalling datasets-2.14.4:\n",
            "      Successfully uninstalled datasets-2.14.4\n",
            "\u001b[31mERROR: pip's dependency resolver does not currently take into account all the packages that are installed. This behaviour is the source of the following dependency conflicts.\n",
            "gcsfs 2025.3.2 requires fsspec==2025.3.2, but you have fsspec 2025.3.0 which is incompatible.\u001b[0m\u001b[31m\n",
            "\u001b[0mSuccessfully installed datasets-3.6.0 fsspec-2025.3.0\n"
          ]
        }
      ],
      "source": [
        "!pip install -U datasets"
      ]
    },
    {
      "cell_type": "markdown",
      "metadata": {
        "id": "BkGeCoTJVDma"
      },
      "source": [
        "### 2. Imports"
      ]
    },
    {
      "cell_type": "code",
      "execution_count": 3,
      "metadata": {
        "id": "_D7g6b6xVGG9"
      },
      "outputs": [],
      "source": [
        "import os\n",
        "import json\n",
        "import sys\n",
        "import argparse\n",
        "import re\n",
        "from typing import List, Union\n",
        "import pandas as pd\n",
        "from tqdm import tqdm\n",
        "from pathlib import Path\n",
        "from google.colab import drive\n",
        "from datetime import datetime\n",
        "\n",
        "from abc import ABC, abstractmethod\n",
        "\n",
        "import torch\n",
        "import numpy as np\n",
        "import matplotlib.pyplot as plt\n",
        "from datasets import load_dataset\n",
        "from transformers import AutoModelForCausalLM, AutoTokenizer, pipeline"
      ]
    },
    {
      "cell_type": "code",
      "execution_count": 4,
      "metadata": {
        "colab": {
          "base_uri": "https://localhost:8080/"
        },
        "id": "prJZo492paGc",
        "outputId": "530351a5-be13-43ca-fd29-62317f4345d0"
      },
      "outputs": [
        {
          "data": {
            "text/plain": [
              "True"
            ]
          },
          "execution_count": 4,
          "metadata": {},
          "output_type": "execute_result"
        }
      ],
      "source": [
        "torch.cuda.is_available()"
      ]
    },
    {
      "cell_type": "markdown",
      "metadata": {
        "id": "VgcDALLqVGlu"
      },
      "source": [
        "### 3. Connect to Google Drive"
      ]
    },
    {
      "cell_type": "code",
      "execution_count": 5,
      "metadata": {
        "colab": {
          "base_uri": "https://localhost:8080/"
        },
        "id": "jG2LcXVGVKK_",
        "outputId": "50d474f9-089b-472a-9191-91f9721ccae7"
      },
      "outputs": [
        {
          "name": "stdout",
          "output_type": "stream",
          "text": [
            "Mounted at /content/drive\n"
          ]
        }
      ],
      "source": [
        "drive.mount(\"/content/drive\",force_remount=True)\n",
        "os.chdir(\"/content/drive/My Drive\")"
      ]
    },
    {
      "cell_type": "markdown",
      "metadata": {
        "id": "mLgpzXE5VLXX"
      },
      "source": [
        "### 4. Utils Code"
      ]
    },
    {
      "cell_type": "code",
      "execution_count": 6,
      "metadata": {
        "id": "sk6gL82yVNPo"
      },
      "outputs": [],
      "source": [
        "def format_time_difference(seconds):\n",
        "    minutes = seconds // 60\n",
        "    hours = minutes // 60\n",
        "    days = hours // 24\n",
        "\n",
        "    if days > 0:\n",
        "        if hours % 24 > 0.1:\n",
        "            return f\"{days} days-{hours % 24} hours\"\n",
        "        else:\n",
        "            return f\"{days} days\"\n",
        "    elif hours > 0:\n",
        "        if minutes % 60 > 0.1:\n",
        "            return f\"{hours} hours-{minutes % 60} minutes\"\n",
        "        else:\n",
        "            return f\"{hours} hours\"\n",
        "    elif minutes > 0:\n",
        "        if seconds % 60 > 0.1:\n",
        "            return f\"{minutes} minutes-{seconds % 60} seconds\"\n",
        "        else:\n",
        "            return f\"{minutes} minutes\"\n",
        "    else:\n",
        "        return f\"{seconds} seconds\"\n",
        "\n",
        "def save_to_json(data, save_path):\n",
        "    os.makedirs(os.path.dirname(save_path), exist_ok=True)\n",
        "    with open(save_path, \"w\") as f:\n",
        "        json.dump(data, f, indent=4)\n",
        "\n",
        "def plot_series(filename, input_ts, output_ts, predicted_ts, save_folder):\n",
        "    plt.figure(figsize=(10, 5))\n",
        "    plt.plot(range(len(input_ts)), input_ts, label=\"Input Time Series\", marker='o')\n",
        "    plt.plot(range(len(input_ts), len(input_ts) + len(output_ts)), output_ts, label=\"Ground Truth\", marker='o')\n",
        "    plt.plot(range(len(input_ts), len(input_ts) + len(predicted_ts)), predicted_ts, label=\"Predicted\", linestyle='dashed')\n",
        "    plt.legend()\n",
        "    plt.title(f\"Prediction for {filename}\")\n",
        "    plt.xlabel(\"Time Steps\")\n",
        "    plt.ylabel(\"Value\")\n",
        "    plt.grid()\n",
        "\n",
        "    base_name = os.path.splitext(filename)[0]\n",
        "    save_path = os.path.join(save_folder, base_name + \".png\")\n",
        "    plt.savefig(save_path)\n",
        "\n",
        "    plt.close()\n",
        "\n",
        "def calculate_mape(y_true, y_pred):\n",
        "    y_true, y_pred = np.array(y_true), np.array(y_pred)\n",
        "\n",
        "    # Avoid division by zero\n",
        "    mask = y_true != 0\n",
        "    return np.mean(np.abs((y_true[mask] - y_pred[mask]) / y_true[mask])) * 100\n",
        "\n",
        "\n",
        "def calculate_acc(result_list, regrouped_labels = None):\n",
        "    if regrouped_labels is None:\n",
        "        correct_pred = sum(1 for result in result_list if result[\"ground_truth\"] in result[\"predict\"])\n",
        "    else:\n",
        "        correct_pred = 0\n",
        "        for result in result_list:\n",
        "            gt_group = regrouped_labels[result['ground_truth']]\n",
        "            for original_label in regrouped_labels.keys():\n",
        "                if original_label in result['predict']:\n",
        "                    predict_group = regrouped_labels[original_label]\n",
        "                    if gt_group == predict_group:\n",
        "                        correct_pred += 1\n",
        "                        break\n",
        "\n",
        "    total_pred = len(result_list)\n",
        "    accuracy = correct_pred / total_pred\n",
        "\n",
        "    return accuracy\n",
        "\n",
        "\n",
        "def calculate_correlation_acc(result_list):\n",
        "    model_predictions = {\"total\": 0, \"exact_correct\": 0, \"brief_correct\": 0}\n",
        "    positive_correlations = [\"Strong Positive Correlation\", \"Moderate Positive Correlation\"]\n",
        "    negative_correlations = [\"Strong Negative Correlation\", \"Moderate Negative Correlation\"]\n",
        "    for result in result_list:\n",
        "        prediction = result[\"predict\"].strip()\n",
        "        model_predictions[\"total\"] += 1\n",
        "        if prediction == result[\"ground_truth\"]:\n",
        "            model_predictions[\"exact_correct\"] += 1\n",
        "\n",
        "        # Brief accuracy\n",
        "        pred_is_positive = prediction in positive_correlations\n",
        "        pred_is_negative = prediction in negative_correlations\n",
        "        truth_is_positive = result[\"ground_truth\"] in positive_correlations\n",
        "        truth_is_negative = result[\"ground_truth\"] in negative_correlations\n",
        "\n",
        "        if (pred_is_positive and truth_is_positive) or \\\n",
        "            (pred_is_negative and truth_is_negative) or \\\n",
        "            (prediction == result[\"ground_truth\"]):\n",
        "            model_predictions[\"brief_correct\"] += 1\n",
        "\n",
        "    # Calculate and format results\n",
        "    total = model_predictions[\"total\"]\n",
        "    exact_accuracy = (model_predictions[\"exact_correct\"] / total) * 100\n",
        "    brief_accuracy = (model_predictions[\"brief_correct\"] / total) * 100\n",
        "\n",
        "    metric_results = {\n",
        "        \"exact_accuracy\": f\"{round(exact_accuracy, 2)}%\",\n",
        "        \"brief_accuracy\": f\"{round(brief_accuracy, 2)}%\",\n",
        "        \"total_samples\": total\n",
        "    }\n",
        "    return metric_results\n",
        "\n",
        "\n",
        "def calculate_mcqa_acc(result_list):\n",
        "    correct = 0\n",
        "    total = 0\n",
        "    for result in result_list:\n",
        "        predition = result[\"predict\"].strip()\n",
        "        predition = predition[0].upper()\n",
        "        if predition == result[\"ground_truth\"]:\n",
        "            correct += 1\n",
        "\n",
        "        total += 1\n",
        "\n",
        "    accuracy = correct / total\n",
        "\n",
        "    return accuracy * 100"
      ]
    },
    {
      "cell_type": "markdown",
      "metadata": {
        "id": "eygbt3uqV5bd"
      },
      "source": [
        "### 5. Models Code"
      ]
    },
    {
      "cell_type": "code",
      "execution_count": 7,
      "metadata": {
        "id": "VzVqjoWMV9ZJ"
      },
      "outputs": [],
      "source": [
        "class BaseModel(ABC):\n",
        "    @abstractmethod\n",
        "    def inference(self, content: str) -> str:\n",
        "        \"\"\"\n",
        "        Run inference on a given input prompt and return the generated output.\n",
        "        \"\"\"\n",
        "        pass"
      ]
    },
    {
      "cell_type": "code",
      "execution_count": 8,
      "metadata": {
        "id": "J-7-980UWDSQ"
      },
      "outputs": [],
      "source": [
        "class DeepSeekModel(BaseModel):\n",
        "    def __init__(self, model_name: str = \"deepseek-ai/DeepSeek-R1-Distill-Qwen-1.5B\", **kwargs):\n",
        "\n",
        "        # The model is set in eval mode by default by using eval()\n",
        "        # See: https://huggingface.co/docs/transformers/en/main_classes/model#transformers.PreTrainedModel\n",
        "        self.model = AutoModelForCausalLM.from_pretrained(\n",
        "            model_name,\n",
        "            torch_dtype=\"auto\",\n",
        "            device_map=\"auto\",\n",
        "            **kwargs\n",
        "        )\n",
        "        self.tokenizer = AutoTokenizer.from_pretrained(model_name)\n",
        "\n",
        "    def inference(self, content: str) -> str:\n",
        "        messages = [{\"role\": \"user\", \"content\": content}]\n",
        "\n",
        "        chat_prompt = self.tokenizer.apply_chat_template(\n",
        "            messages,\n",
        "            tokenize=False,\n",
        "            add_generation_prompt=True\n",
        "        )\n",
        "        tokenized_input = self.tokenizer([chat_prompt], return_tensors=\"pt\").to(self.model.device)\n",
        "        generated_output = self.model.generate(\n",
        "            **tokenized_input,\n",
        "            max_new_tokens=4096,\n",
        "        )\n",
        "        output_ids = generated_output[0][len(tokenized_input.input_ids[0]):].tolist()\n",
        "\n",
        "        # parsing thinking content\n",
        "        try:\n",
        "            # rindex finding 151649 (</think>)\n",
        "            index = len(output_ids) - output_ids[::-1].index(151649)\n",
        "        except ValueError:\n",
        "            index = 0\n",
        "        outputs = self.tokenizer.decode(output_ids[index:], skip_special_tokens=True).strip(\"\\n\")\n",
        "\n",
        "        return outputs"
      ]
    },
    {
      "cell_type": "code",
      "execution_count": null,
      "metadata": {
        "id": "94Rf3ZLIYCuI"
      },
      "outputs": [],
      "source": [
        "class LLaMAModel(BaseModel):\n",
        "    def __init__(self, model_name: str = \"meta-llama/Llama-3.2-1B-Instruct\", **kwargs):\n",
        "        self.pipeline = pipeline(\n",
        "            \"text-generation\",\n",
        "            model=model_name,\n",
        "            torch_dtype=\"auto\",\n",
        "            device_map=\"auto\",\n",
        "            token=\"\",\n",
        "            **kwargs\n",
        "        )\n",
        "\n",
        "    def inference(self, content: str) -> str:\n",
        "        messages = [{\"role\": \"user\", \"content\": content}]\n",
        "\n",
        "        outputs = self.pipeline(messages, max_new_tokens=1024)\n",
        "\n",
        "        return outputs[0][\"generated_text\"][-1][\"content\"]"
      ]
    },
    {
      "cell_type": "code",
      "execution_count": 10,
      "metadata": {
        "id": "fdC6qVPZYJVs"
      },
      "outputs": [],
      "source": [
        "class ModelFactory:\n",
        "    def __init__(self, config: dict):\n",
        "        self.config = config\n",
        "\n",
        "    @staticmethod\n",
        "    def get_model(model_type: str, model_name: str, **kwargs) -> BaseModel:\n",
        "        if model_type == \"deepseek\":\n",
        "            return DeepSeekModel(model_name=model_name, **kwargs)\n",
        "        elif model_type == \"llama\":\n",
        "            return LLaMAModel(model_name=model_name, **kwargs)\n",
        "        else:\n",
        "            raise ValueError(f\"Unsupported model type: {model_type}\")"
      ]
    },
    {
      "cell_type": "markdown",
      "metadata": {
        "id": "UsKClRUpYK8m"
      },
      "source": [
        "### 6. Experiment Code --"
      ]
    },
    {
      "cell_type": "code",
      "execution_count": 11,
      "metadata": {
        "id": "3Hw8kUS5sd-u"
      },
      "outputs": [],
      "source": [
        "def finance_mse_metaprompt_generation(\n",
        "    text: str,\n",
        "    prices: List[float],\n",
        "    start_datetime: str,\n",
        "    end_datetime: str,\n",
        "    pred_end_datetime: str,\n",
        "    granularity: str,\n",
        "    prediction_length: int,\n",
        "    mode: str,\n",
        ") -> str:\n",
        "    \"\"\"\n",
        "    Generates a meta-prompt for hypothetical stock price trend analysis\n",
        "    based on given inputs.\n",
        "\n",
        "    Args:\n",
        "        text (str): News article content within the input time series range.\n",
        "        prices (List[float]): Historical stock prices.\n",
        "        start_datetime (str): Start datetime of the input time series.\n",
        "        end_datetime (str): End datetime of the input time series.\n",
        "        pred_end_datetime (str): End datetime of the hypothetical projection.\n",
        "        granularity (str): Granularity of the input time series (e.g., daily, hourly).\n",
        "        prediction_length (int): Number of future time steps to estimate.\n",
        "        mode (str): Mode of estimation (\"timeseries_only\", \"text_only\", \"combined\").\n",
        "\n",
        "    Returns:\n",
        "        str: Meta-prompt for ChatGPT.\n",
        "    \"\"\"\n",
        "    prompt = (\n",
        "        f\"You are an AI assistant trained in data analysis and modeling. \"\n",
        "        f\"Your task is to conduct a research-based timeseries estimation for the next {prediction_length} time steps \"\n",
        "        f\"based on provided historical price movements and/or related news articles. \"\n",
        "        f\"This analysis aims to explore patterns in the given dataset and should not be considered financial advice. \"\n",
        "        f\"The input time series spans from {start_datetime} to {end_datetime}, with a granularity of {granularity}. \"\n",
        "        f\"The estimation period extends from {end_datetime} to {pred_end_datetime}, maintaining the same granularity.\"\n",
        "    )\n",
        "\n",
        "    if mode == \"timeseries_only\":\n",
        "        prompt += (\n",
        "            \"You will analyze the numerical patterns in historical prices and extrapolate potential movements. \"\n",
        "            f\"The input prices are: {prices}. \"\n",
        "        )\n",
        "    elif mode == \"text_only\":\n",
        "        prompt += (\n",
        "            \"You will analyze sentiment and potential market impacts from the following news article content: \"\n",
        "            f\"{text}. \"\n",
        "        )\n",
        "    elif mode == \"combined\":\n",
        "        prompt += (\n",
        "            \"You will use both historical price movements and relevant news sentiment analysis \"\n",
        "            f\"to explore hypothetical market trends. The input prices are: {prices}. The news article states: {text}. \"\n",
        "        )\n",
        "    else:\n",
        "        raise ValueError(\n",
        "            \"Invalid mode. Choose from 'timeseries_only', 'text_only', or 'combined'.\"\n",
        "        )\n",
        "\n",
        "    prompt += (\n",
        "        \"\\n\\nPlease return your estimated values in a structured format as a  list of float numbers. \"\n",
        "        \"Ensure the output follows this format strictly: \"\n",
        "        \"\\nPredicted Prices: value1, value2, ..., valueN. \"\n",
        "        f\"The number of estimated values should be exactly {prediction_length}. \"\n",
        "    )\n",
        "\n",
        "    return prompt\n",
        "\n",
        "def finance_macd_metaprompt_generation(\n",
        "    text: str,\n",
        "    prices: List[float],\n",
        "    start_datetime: str,\n",
        "    end_datetime: str,\n",
        "    pred_end_datetime: str,\n",
        "    granularity: str,\n",
        "    prediction_length: int,\n",
        "    mode: str,\n",
        ") -> str:\n",
        "\n",
        "    prompt = (\n",
        "        f\"You are an AI assistant trained in data analysis and modeling. \"\n",
        "        f\"Your task is to Predict the future Moving Average Convergence Divergence (MACD) values for the next {prediction_length} time steps \"\n",
        "        f\"based on provided historical timeseries movements and/or related news articles. \"\n",
        "        # f\"This analysis aims to explore patterns in the given dataset and should not be considered financial advice. \"\n",
        "        f\"The input time series spans from {start_datetime} to {end_datetime}, with a granularity of {granularity}. \"\n",
        "        f\"The estimation period extends from {end_datetime} to {pred_end_datetime}, maintaining the same granularity.\"\n",
        "    )\n",
        "\n",
        "    if mode == \"timeseries_only\":\n",
        "        prompt += (\n",
        "            \"You will analyze the numerical patterns in historical prices. \"\n",
        "            f\"The input prices are: {prices}. \"\n",
        "        )\n",
        "    elif mode == \"text_only\":\n",
        "        prompt += (\n",
        "            \"You will analyze sentiment and potential market impacts from the following news article content: \"\n",
        "            f\"{text}. \"\n",
        "        )\n",
        "    elif mode == \"combined\":\n",
        "        prompt += (\n",
        "            \"You will use both historical price movements and relevant text sentiment analysis \"\n",
        "            f\"The input prices are: {prices}. The news article states: {text}. \"\n",
        "        )\n",
        "    else:\n",
        "        raise ValueError(\n",
        "            \"Invalid mode. Choose from 'timeseries_only', 'text_only', or 'combined'.\"\n",
        "        )\n",
        "\n",
        "    prompt += (\n",
        "        \"\\n\\nPlease return your predicted MACD values in a structured format as a list of float numbers. Please predict the real possible values, do not use the naive linear extrapolation or similar methods\"\n",
        "        \"Ensure the output follows this format strictly: \"\n",
        "        \"\\nPredicted Prices: value1, value2, ..., valueN. \"\n",
        "        f\"The number of predicted values should be exactly {prediction_length}. \"\n",
        "    )\n",
        "\n",
        "    return prompt\n",
        "\n",
        "def finance_bb_metaprompt_generation(\n",
        "    text: str,\n",
        "    prices: List[float],\n",
        "    start_datetime: str,\n",
        "    end_datetime: str,\n",
        "    pred_end_datetime: str,\n",
        "    granularity: str,\n",
        "    prediction_length: int,\n",
        "    mode: str,\n",
        ") -> str:\n",
        "\n",
        "    prompt = (\n",
        "        f\"You are an AI assistant trained in data analysis and modeling. \"\n",
        "        f\"Your task is to Predict the future upper Bollinger Band (BB) values  for the next {prediction_length} time steps \"\n",
        "        f\"based on provided historical price movements and/or related news articles. \"\n",
        "        # f\"This analysis aims to explore patterns in the given dataset and should not be considered financial advice. \"\n",
        "        f\"The input time series spans from {start_datetime} to {end_datetime}, with a granularity of {granularity}. \"\n",
        "        f\"The estimation period extends from {end_datetime} to {pred_end_datetime}, maintaining the same granularity.\"\n",
        "    )\n",
        "\n",
        "    if mode == \"timeseries_only\":\n",
        "        prompt += (\n",
        "            \"You will analyze the numerical patterns in historical prices. \"\n",
        "            f\"The input prices are: {prices}. \"\n",
        "        )\n",
        "    elif mode == \"text_only\":\n",
        "        prompt += (\n",
        "            \"You will analyze sentiment and potential market impacts from the following news article content: \"\n",
        "            f\"{text}. \"\n",
        "        )\n",
        "    elif mode == \"combined\":\n",
        "        prompt += (\n",
        "            \"You will use both historical price movements and relevant news sentiment analysis \"\n",
        "            f\"to explore hypothetical market trends. The input prices are: {prices}. The news article states: {text}. \"\n",
        "        )\n",
        "    else:\n",
        "        raise ValueError(\n",
        "            \"Invalid mode. Choose from 'timeseries_only', 'text_only', or 'combined'.\"\n",
        "        )\n",
        "\n",
        "    prompt += (\n",
        "        \"\\n\\nPlease return your estimated upper Bollinger Band (BB) values values in a structured format as a list of float numbers. \"\n",
        "        \"Ensure the output follows this format strictly: \"\n",
        "        \"\\nPredicted Prices: value1, value2, ..., valueN. \"\n",
        "        f\"The number of estimated values should be exactly {prediction_length}. \"\n",
        "    )\n",
        "\n",
        "    return prompt\n",
        "\n",
        "def parse_val_prediction_response(response: str) -> Union[List[float], None]:\n",
        "    \"\"\"\n",
        "    Decodes the predicted prices from a response string.\n",
        "\n",
        "    Args:\n",
        "        response (str): The response containing the predicted prices.\n",
        "\n",
        "    Returns:\n",
        "        List[float]: A list of float numbers extracted from the response.\n",
        "        None: If extraction fails.\n",
        "    \"\"\"\n",
        "    match = re.search(r\"Predicted Prices:\\s*([-\\d.,\\s]+)\", response)\n",
        "\n",
        "    if match:\n",
        "        try:\n",
        "            price_list = [float(value) for value in match.group(1).split(',')]\n",
        "            return price_list\n",
        "        except ValueError:\n",
        "            pass  # If conversion fails, try another approach\n",
        "\n",
        "    # Alternative approach: Find all potential numbers in the response\n",
        "    possible_numbers = re.findall(r\"-?\\d+\\.\\d+\", response)\n",
        "    if possible_numbers:\n",
        "        try:\n",
        "            return [float(num) for num in possible_numbers]\n",
        "        except ValueError:\n",
        "            pass  # If conversion fails, return None\n",
        "\n",
        "    return None  # Return None if extraction fails\n",
        "\n",
        "def finance_classification_metaprompt_generation(text=None, timestamps=None, prices=None, mode=None):\n",
        "    time_series_data = \", \".join([f\"{price}\" for price in  prices])\n",
        "\n",
        "    if mode == \"combined\":\n",
        "        meta_prompt = f\"\"\"\n",
        "            You are a financial prediction expert with knowledge of advanced machine learning models and time-series analysis.\n",
        "            Your goal is to predict the stock trend (rise, neutral, or fall) based on the following inputs:\n",
        "\n",
        "            1. **Time Series Stock Price Data**:\n",
        "            - This data includes stock prices recorded at 1-hour intervals over the last month from {timestamps[0]} to {timestamps[-1]}.\n",
        "            - Example data format:\n",
        "                {time_series_data}\n",
        "\n",
        "            2. **News Data**:\n",
        "            - This includes news headlines and summaries relevant to the stock's company or sector.\n",
        "            - Example data format:\n",
        "                {text}\n",
        "\n",
        "            ### Task:\n",
        "            Analyze the provided time-series data and news to identify future trends of the stock performance. Ensure that the news data is used to supplement the insights from the time-series analysis, focusing on combining both inputs for a more accurate prediction.\n",
        "\n",
        "            ### Output:\n",
        "            Provide a prediction for the stock trend categorized one of the following labels:\n",
        "            - \"<-4%\"\n",
        "            - \"-2% ~ -4%\"\n",
        "            - \"-2% ~ +2%\"\n",
        "            - \"+2% ~ +4%\"\n",
        "            - \">+4%\"\n",
        "\n",
        "            please think step-by-step and briefly explain how the combination of time-series data and news data led to the prediction;\n",
        "            then wrap your final answer in the final predicted label in the format ^^^label^^^\n",
        "        \"\"\"\n",
        "\n",
        "    elif mode == \"text_only\":\n",
        "        meta_prompt = f\"\"\"\n",
        "            You are a financial prediction expert with knowledge of advanced machine learning models and time-series analysis.\n",
        "            Your goal is to predict the stock trend with given labels based on the following input:\n",
        "\n",
        "            **News Data**:\n",
        "            - This includes news headlines and summaries relevant to the stock's company or sector.\n",
        "            - Example data format:\n",
        "                {text}\n",
        "\n",
        "            ### Output:\n",
        "            Provide a prediction for the stock trend categorized one of the following labels:\n",
        "            - \"<-4%\"\n",
        "            - \"-2% ~ -4%\"\n",
        "            - \"-2% ~ +2%\"\n",
        "            - \"+2% ~ +4%\"\n",
        "            - \">+4%\"\n",
        "\n",
        "            ### Task:\n",
        "            Analyze the news semantics to identify trends and patterns that could impact stock performance.\n",
        "            Then wrap your final answer in the final predicted label in the format ^^^label^^^\n",
        "        \"\"\"\n",
        "\n",
        "    elif mode == \"timeseries_only\":\n",
        "        meta_prompt = f\"\"\"\n",
        "            You are a financial prediction expert with knowledge of advanced machine learning models and time-series analysis.\n",
        "            Your goal is to predict the stock trend with given labels based on the following input:\n",
        "\n",
        "            1. **Time Series Stock Price Data**:\n",
        "            - This data includes stock prices recorded at 1-hour intervals over the last month from {timestamps[0]} to {timestamps[-1]}.\n",
        "            - Example data format:\n",
        "                {time_series_data}\n",
        "\n",
        "            ### Output:\n",
        "            Provide a prediction for the stock trend categorized one of the following labels:\n",
        "            - \"<-4%\"\n",
        "            - \"-2% ~ -4%\"\n",
        "            - \"-2% ~ +2%\"\n",
        "            - \"+2% ~ +4%\"\n",
        "            - \">+4%\"\n",
        "\n",
        "            ### Task:\n",
        "            Analyze the provided time-series data to identify trends and patterns that could impact stock performance. Focus solely on the time-series data for making predictions.\n",
        "             then wrap your final answer in the final predicted label in the format ^^^label^^^\n",
        "        \"\"\"\n",
        "\n",
        "    return meta_prompt\n",
        "\n",
        "def parse_cls_response(answer):\n",
        "    try:\n",
        "        return  re.findall(r'\\^\\^\\^(.*?)\\^\\^\\^', answer)[-1]\n",
        "    except:\n",
        "        return  re.findall(r'\\^+(.*?)\\^+', answer)[-1]\n",
        "\n",
        "\n",
        "\n",
        "def finance_correlation_metaprompt_generation(setting, sticker, time1, time2, in_price, news, time_news):\n",
        "\n",
        "    time_interval = \"1 hour\" if setting == \"long\" else \"5 minutes\"\n",
        "\n",
        "    if setting == \"long\":\n",
        "        system_prompt =\"You are an expert in finance and stock market analysis. Based on the given 30-day historical stock price time series and a financial analysis published at the last timestamp of the time series, your task is to predict the correlation between the stock's price fluctuations in the next 7 days and the analysis sentiment (positive correlation indicates that positive analysis leads to price increase and negative analysis leads to price decrease). Take into account external factors or market conditions that might affect stock price movement.\"\n",
        "    else:\n",
        "        system_prompt = \"You are an expert in finance and stock market analysis. Based on the given 7-day historical stock price time series and a financial analysis published at the last timestamp of the time series, your task is to predict the correlation between the stock's price fluctuations in the next 1 day and the analysis sentiment (positive correlation indicates that positive analysis leads to price increase and negative analysis leads to price decrease). Take into account external factors or market conditions that might affect stock price movement.\"\n",
        "    question = \"Return your answer in one of the following without any other words: Strong Positive Correlation, Moderate Positive Correlation, No Correlation, Moderate Negative Correlation, Strong Negative Correlation.\"\n",
        "    query = f\"stock price of {sticker} between {time1} to {time2}, time interval is {time_interval}: \\\n",
        "            {in_price}\\\n",
        "            News published at {time_news}: \\\n",
        "            {news}\\\n",
        "            {question} Answer:\"\n",
        "    prompt = f\"{system_prompt}\\n\\n{query}\"\n",
        "\n",
        "    return prompt\n",
        "\n",
        "\n",
        "\n",
        "\n",
        "def finance_mcqa_metaprompt_generation(setting, sticker, time1, time2, in_price, news, time_news, question):\n",
        "    time_interval = \"1 hour\" if setting == \"long\" else \"5 minutes\"\n",
        "    if setting  == \"long\":\n",
        "        system_prompt =\"You are an expert in finance and stock market analysis. Your task is to answer the question based on the given 30-day historical stock price time series and a financial analysis published at the last timestamp of the time series. Return your answer only in the letter (A, B, C, or D). \"\n",
        "    else:\n",
        "        system_prompt =\"You are an expert in finance and stock market analysis. Your task is to answer the question based on the given 7-day historical stock price time series and a financial analysis published at the last timestamp of the time series. Return your answer only in the letter (A, B, C, or D). \"\n",
        "    query = f\"stock price of {sticker} between {time1} to {time2}, time interval is {time_interval}: \\\n",
        "            {in_price}\\\n",
        "            News published at {time_news}: \\\n",
        "            {news}\\\n",
        "            Question: {question}. Give your answer in the letter (A, B, C, or D) without any other words. Answer:\"\n",
        "    prompt = f\"{system_prompt}\\n\\n{query}\"\n",
        "    return prompt"
      ]
    },
    {
      "cell_type": "code",
      "execution_count": 12,
      "metadata": {
        "id": "j79ILLkFaWC8"
      },
      "outputs": [],
      "source": [
        "# import sys\n",
        "\n",
        "# sys.argv = [\n",
        "#     \"script_name\",  # Placeholder for script name (ignored by argparse)\n",
        "#     \"--dataset_folder\", \"./MTBench-Test/MTBench_finance_QA_short\",\n",
        "#     \"--save_path\", \"./MTBench-Test/llama/qa_short\",\n",
        "#     \"--model_type\", \"llama\",\n",
        "#     \"--model\", \"meta-llama/Llama-3.2-1B-Instruct\",\n",
        "#     \"--setting\", \"short\"\n",
        "# ]\n",
        "\n",
        "import sys\n",
        "\n",
        "sys.argv = [\n",
        "    \"script_name\",  # Placeholder for script name (ignored by argparse)\n",
        "    \"--dataset_path\", \"./MTBench-Test/MTBench_finance_aligned_pairs_short/train-00000-of-00001.parquet\",\n",
        "    \"--save_path\", \"./MTBench-Test/llama/tsforecast_short\",\n",
        "    \"--model_type\", \"llama\",\n",
        "    \"--model\", \"meta-llama/Llama-3.2-1B-Instruct\",\n",
        "    \"--mode\", \"timeseries_only\",\n",
        "    \"--indicator\", \"time\"\n",
        "]"
      ]
    },
    {
      "cell_type": "code",
      "execution_count": 13,
      "metadata": {
        "colab": {
          "base_uri": "https://localhost:8080/",
          "height": 1000,
          "referenced_widgets": [
            "b1060b05b5a64aefab1653801e6910a4",
            "5e984b2a05294741aa75f180dcc0932a",
            "af6b8db8f8aa43d2b8b1aa7d8b60f020",
            "ec1c10b335c64bfcbf81aabd9816a396",
            "cd4118a3ef64494c85434cce4907ba53",
            "179980b78d044b0cbf4e4e7a08382366",
            "0daa08fce7614e92a73143de4c80dd80",
            "e5df7dd934cb4caaa98907b199eb32b6",
            "d2b8d5e3597e493183948e9ff0dc9f2d",
            "14e0d6bd1c1d4bfbadc750a96cf5326c",
            "49517971ad894c678c636314a3d0f532",
            "ab4ad125fab4452f87e0f70449d51a89",
            "8ffd4ee4e6cf49d4b253f0d3f00e103a",
            "a6682b6b54ea4491a237ee8d0491a2c4",
            "6d1c5e7ae65e41019a67ee2703313944",
            "5b5e03ee2eb74dc2b23da00ca95613ab",
            "69b98a90a36a4e27a952d64302cb702c",
            "2d23d5e52ff9473d819d1b81b3e8cbc7",
            "dca24977fb524e79a1037ae734eb85cc",
            "7859e4b53227412b81961156ba7c6d5d",
            "bf03ed90b2ab419fac335e1b99e8840d",
            "daff3b8fea1541ea9c9b04565b124a62",
            "031cfbf6cccb493eb3ca5994a473b5fa",
            "561b74f79c9b4d799958b2fe0583b674",
            "e52126c6b91e4586aa627fa438aa8589",
            "157ec67f802948ccba8f6e41be6c0542",
            "aad25a57275545ee91d542951da95f82",
            "7d4e7e2ddc1e4c5a817343518c75173d",
            "3d7f746bbbc845669d88446a808dfcca",
            "ca79221c5536422e90c176d6a242ef26",
            "50de36cb66d54295b550cb82ece4457a",
            "c08607268b1a41fea3ac98629e98415d",
            "6f16d9d4237d4976ac3bb85818d63548",
            "a89d1c7769854a0baeb926982dc8028e",
            "9c3297a78eaa4f3cb47bb8961a4758ad",
            "e1e8489c32dd4fbba37fd440e33b0697",
            "43fdd7bee2a746d58e39addcbe122057",
            "3a18e6cc52b84d529f0b75964bc8039f",
            "9dc6afc346c74cc8b66c8fe91ec6a801",
            "25c97d18e3e5441b925c23497f3d3def",
            "9ce10200c3014a418e428685a2bdb4fa",
            "9cf2d1b7cf8e49eba5c2dc678bf2a2dc",
            "0874e0d9f1e5415586560d173fc1448c",
            "cd9e442b3a5742fc976feb5b559391b0",
            "7d9d1f3d09f9445ca2e5ca1cb2437d4f",
            "f6d8a5bc94954fa3b412edcc55364e6d",
            "9cf2bbcb10ea4b089cad3002d5bbaaca",
            "cfbafd80784b4d4bb41ef8d97a66861e",
            "9e4c082620094384a7e63ffe328c52b6",
            "fb1e651fd6ec495aabf8cc70df5fb584",
            "a57ddf2db4cb42d88be577dcc7901b66",
            "62c76747efef4f7381874a5e0af5cb60",
            "c097a2bff414492daaedefecbeaeffad",
            "762c0adc64a94e0382d5e2f74cbeaa2e",
            "100784d1f24a4ee9b8c66a0d73f825ba",
            "f10bd667abfb4a17b923ed28cd093e3d",
            "ee00a53b9947428aae7d2c70ed58ef6d",
            "659008fbf459484396348b7f7946763c",
            "5b005965ea4e4f6591c67680c34956e0",
            "12198c9fd3bd4377a66125ce14feac76",
            "be63a5acdec347dda83d5e0e438dfebb",
            "33e81677f6b14c528f8f147a5fe62a6e",
            "2259ce0d84d642aaa3a356df595ca050",
            "cd02c71133144312ab448700c7245f59",
            "e6b4f2aab16f4334b208e2319dda4003",
            "c7f62a5fada6449bbe6510f5c8d485fc"
          ]
        },
        "id": "XdWvXn4YreWT",
        "outputId": "29a4f9c9-4fef-42d0-9c3e-09cf38a14669"
      },
      "outputs": [
        {
          "data": {
            "application/vnd.jupyter.widget-view+json": {
              "model_id": "b1060b05b5a64aefab1653801e6910a4",
              "version_major": 2,
              "version_minor": 0
            },
            "text/plain": [
              "config.json:   0%|          | 0.00/877 [00:00<?, ?B/s]"
            ]
          },
          "metadata": {},
          "output_type": "display_data"
        },
        {
          "data": {
            "application/vnd.jupyter.widget-view+json": {
              "model_id": "ab4ad125fab4452f87e0f70449d51a89",
              "version_major": 2,
              "version_minor": 0
            },
            "text/plain": [
              "model.safetensors:   0%|          | 0.00/2.47G [00:00<?, ?B/s]"
            ]
          },
          "metadata": {},
          "output_type": "display_data"
        },
        {
          "data": {
            "application/vnd.jupyter.widget-view+json": {
              "model_id": "031cfbf6cccb493eb3ca5994a473b5fa",
              "version_major": 2,
              "version_minor": 0
            },
            "text/plain": [
              "generation_config.json:   0%|          | 0.00/189 [00:00<?, ?B/s]"
            ]
          },
          "metadata": {},
          "output_type": "display_data"
        },
        {
          "name": "stderr",
          "output_type": "stream",
          "text": [
            "/usr/local/lib/python3.11/dist-packages/huggingface_hub/utils/_auth.py:94: UserWarning: \n",
            "The secret `HF_TOKEN` does not exist in your Colab secrets.\n",
            "To authenticate with the Hugging Face Hub, create a token in your settings tab (https://huggingface.co/settings/tokens), set it as secret in your Google Colab and restart your session.\n",
            "You will be able to reuse this secret in all of your notebooks.\n",
            "Please note that authentication is recommended but still optional to access public models or datasets.\n",
            "  warnings.warn(\n"
          ]
        },
        {
          "data": {
            "application/vnd.jupyter.widget-view+json": {
              "model_id": "a89d1c7769854a0baeb926982dc8028e",
              "version_major": 2,
              "version_minor": 0
            },
            "text/plain": [
              "tokenizer_config.json:   0%|          | 0.00/54.5k [00:00<?, ?B/s]"
            ]
          },
          "metadata": {},
          "output_type": "display_data"
        },
        {
          "data": {
            "application/vnd.jupyter.widget-view+json": {
              "model_id": "7d9d1f3d09f9445ca2e5ca1cb2437d4f",
              "version_major": 2,
              "version_minor": 0
            },
            "text/plain": [
              "tokenizer.json:   0%|          | 0.00/9.09M [00:00<?, ?B/s]"
            ]
          },
          "metadata": {},
          "output_type": "display_data"
        },
        {
          "data": {
            "application/vnd.jupyter.widget-view+json": {
              "model_id": "f10bd667abfb4a17b923ed28cd093e3d",
              "version_major": 2,
              "version_minor": 0
            },
            "text/plain": [
              "special_tokens_map.json:   0%|          | 0.00/296 [00:00<?, ?B/s]"
            ]
          },
          "metadata": {},
          "output_type": "display_data"
        },
        {
          "name": "stderr",
          "output_type": "stream",
          "text": [
            "Device set to use cuda:0\n"
          ]
        },
        {
          "name": "stdout",
          "output_type": "stream",
          "text": [
            "Evaluating 150 samples...\n"
          ]
        },
        {
          "name": "stderr",
          "output_type": "stream",
          "text": [
            "  0%|          | 0/150 [00:00<?, ?it/s]Setting `pad_token_id` to `eos_token_id`:128001 for open-end generation.\n",
            "  1%|          | 1/150 [00:42<1:44:35, 42.12s/it]Setting `pad_token_id` to `eos_token_id`:128001 for open-end generation.\n"
          ]
        },
        {
          "name": "stdout",
          "output_type": "stream",
          "text": [
            "0/150: mse: 0.8459, mae: 0.8492, rmse: 0.9197\n"
          ]
        },
        {
          "name": "stderr",
          "output_type": "stream",
          "text": [
            "\r  1%|▏         | 2/150 [01:04<1:15:53, 30.76s/it]Setting `pad_token_id` to `eos_token_id`:128001 for open-end generation.\n"
          ]
        },
        {
          "name": "stdout",
          "output_type": "stream",
          "text": [
            "1/150: mse: 22.9970, mae: 4.7940, rmse: 4.7955\n"
          ]
        },
        {
          "name": "stderr",
          "output_type": "stream",
          "text": [
            "\r  2%|▏         | 3/150 [01:39<1:19:49, 32.58s/it]Setting `pad_token_id` to `eos_token_id`:128001 for open-end generation.\n"
          ]
        },
        {
          "name": "stdout",
          "output_type": "stream",
          "text": [
            "2/150: mse: 0.0037, mae: 0.0508, rmse: 0.0611\n"
          ]
        },
        {
          "name": "stderr",
          "output_type": "stream",
          "text": [
            "\r  3%|▎         | 4/150 [02:14<1:21:12, 33.37s/it]Setting `pad_token_id` to `eos_token_id`:128001 for open-end generation.\n"
          ]
        },
        {
          "name": "stdout",
          "output_type": "stream",
          "text": [
            "3/150: mse: 76.7770, mae: 8.7053, rmse: 8.7622\n"
          ]
        },
        {
          "name": "stderr",
          "output_type": "stream",
          "text": [
            "\r  3%|▎         | 5/150 [02:52<1:24:52, 35.12s/it]Setting `pad_token_id` to `eos_token_id`:128001 for open-end generation.\n"
          ]
        },
        {
          "name": "stdout",
          "output_type": "stream",
          "text": [
            "4/150: mse: 19.8816, mae: 3.6194, rmse: 4.4589\n"
          ]
        },
        {
          "name": "stderr",
          "output_type": "stream",
          "text": [
            "\r  4%|▍         | 6/150 [03:26<1:23:40, 34.86s/it]Setting `pad_token_id` to `eos_token_id`:128001 for open-end generation.\n"
          ]
        },
        {
          "name": "stdout",
          "output_type": "stream",
          "text": [
            "5/150: mse: 0.2182, mae: 0.4656, rmse: 0.4672\n"
          ]
        },
        {
          "name": "stderr",
          "output_type": "stream",
          "text": [
            "\r  5%|▍         | 7/150 [03:59<1:21:10, 34.06s/it]Setting `pad_token_id` to `eos_token_id`:128001 for open-end generation.\n"
          ]
        },
        {
          "name": "stdout",
          "output_type": "stream",
          "text": [
            "6/150: mse: 25.9288, mae: 4.9561, rmse: 5.0920\n"
          ]
        },
        {
          "name": "stderr",
          "output_type": "stream",
          "text": [
            "\r  5%|▌         | 8/150 [04:01<57:00, 24.09s/it]  Setting `pad_token_id` to `eos_token_id`:128001 for open-end generation.\n"
          ]
        },
        {
          "name": "stdout",
          "output_type": "stream",
          "text": [
            "Skipping 7 due to error: object of type 'NoneType' has no len()\n"
          ]
        },
        {
          "name": "stderr",
          "output_type": "stream",
          "text": [
            "\r  6%|▌         | 9/150 [04:24<55:23, 23.57s/it]Setting `pad_token_id` to `eos_token_id`:128001 for open-end generation.\n"
          ]
        },
        {
          "name": "stdout",
          "output_type": "stream",
          "text": [
            "Skipping 8 due to error: object of type 'NoneType' has no len()\n"
          ]
        },
        {
          "name": "stderr",
          "output_type": "stream",
          "text": [
            "\r  7%|▋         | 10/150 [04:48<55:27, 23.77s/it]You seem to be using the pipelines sequentially on GPU. In order to maximize efficiency please use a dataset\n",
            "Setting `pad_token_id` to `eos_token_id`:128001 for open-end generation.\n"
          ]
        },
        {
          "name": "stdout",
          "output_type": "stream",
          "text": [
            "Skipping 9 due to error: object of type 'NoneType' has no len()\n"
          ]
        },
        {
          "name": "stderr",
          "output_type": "stream",
          "text": [
            "\r  7%|▋         | 11/150 [05:22<1:02:18, 26.89s/it]Setting `pad_token_id` to `eos_token_id`:128001 for open-end generation.\n"
          ]
        },
        {
          "name": "stdout",
          "output_type": "stream",
          "text": [
            "10/150: mse: 39.8237, mae: 5.8422, rmse: 6.3106\n"
          ]
        },
        {
          "name": "stderr",
          "output_type": "stream",
          "text": [
            "\r  8%|▊         | 12/150 [05:56<1:06:56, 29.10s/it]Setting `pad_token_id` to `eos_token_id`:128001 for open-end generation.\n"
          ]
        },
        {
          "name": "stdout",
          "output_type": "stream",
          "text": [
            "train-00000-of-00001.parquet failed mse  700.9013083823581\n"
          ]
        },
        {
          "name": "stderr",
          "output_type": "stream",
          "text": [
            "\r  9%|▊         | 13/150 [06:30<1:09:53, 30.61s/it]Setting `pad_token_id` to `eos_token_id`:128001 for open-end generation.\n"
          ]
        },
        {
          "name": "stdout",
          "output_type": "stream",
          "text": [
            "12/150: mse: 0.1646, mae: 0.3587, rmse: 0.4056\n"
          ]
        },
        {
          "name": "stderr",
          "output_type": "stream",
          "text": [
            "\r  9%|▉         | 14/150 [07:04<1:11:28, 31.53s/it]Setting `pad_token_id` to `eos_token_id`:128001 for open-end generation.\n"
          ]
        },
        {
          "name": "stdout",
          "output_type": "stream",
          "text": [
            "Skipping 13 due to error: object of type 'NoneType' has no len()\n"
          ]
        },
        {
          "name": "stderr",
          "output_type": "stream",
          "text": [
            "\r 10%|█         | 15/150 [07:39<1:13:14, 32.56s/it]Setting `pad_token_id` to `eos_token_id`:128001 for open-end generation.\n"
          ]
        },
        {
          "name": "stdout",
          "output_type": "stream",
          "text": [
            "14/150: mse: 28.3542, mae: 5.0925, rmse: 5.3249\n"
          ]
        },
        {
          "name": "stderr",
          "output_type": "stream",
          "text": [
            "\r 11%|█         | 16/150 [07:42<52:55, 23.70s/it]  Setting `pad_token_id` to `eos_token_id`:128001 for open-end generation.\n"
          ]
        },
        {
          "name": "stdout",
          "output_type": "stream",
          "text": [
            "Skipping 15 due to error: object of type 'NoneType' has no len()\n"
          ]
        },
        {
          "name": "stderr",
          "output_type": "stream",
          "text": [
            "\r 11%|█▏        | 17/150 [08:16<59:35, 26.88s/it]Setting `pad_token_id` to `eos_token_id`:128001 for open-end generation.\n"
          ]
        },
        {
          "name": "stdout",
          "output_type": "stream",
          "text": [
            "16/150: mse: 0.0997, mae: 0.2745, rmse: 0.3157\n"
          ]
        },
        {
          "name": "stderr",
          "output_type": "stream",
          "text": [
            "\r 12%|█▏        | 18/150 [08:50<1:03:53, 29.04s/it]Setting `pad_token_id` to `eos_token_id`:128001 for open-end generation.\n"
          ]
        },
        {
          "name": "stdout",
          "output_type": "stream",
          "text": [
            "train-00000-of-00001.parquet failed mse  528.2930550958761\n"
          ]
        },
        {
          "name": "stderr",
          "output_type": "stream",
          "text": [
            "\r 13%|█▎        | 19/150 [09:23<1:06:02, 30.25s/it]Setting `pad_token_id` to `eos_token_id`:128001 for open-end generation.\n"
          ]
        },
        {
          "name": "stdout",
          "output_type": "stream",
          "text": [
            "Skipping 18 due to error: object of type 'NoneType' has no len()\n"
          ]
        },
        {
          "name": "stderr",
          "output_type": "stream",
          "text": [
            "\r 13%|█▎        | 20/150 [09:48<1:01:42, 28.48s/it]Setting `pad_token_id` to `eos_token_id`:128001 for open-end generation.\n"
          ]
        },
        {
          "name": "stdout",
          "output_type": "stream",
          "text": [
            "train-00000-of-00001.parquet failed mse  105.33068834921436\n"
          ]
        },
        {
          "name": "stderr",
          "output_type": "stream",
          "text": [
            "\r 14%|█▍        | 21/150 [10:07<55:24, 25.77s/it]  Setting `pad_token_id` to `eos_token_id`:128001 for open-end generation.\n"
          ]
        },
        {
          "name": "stdout",
          "output_type": "stream",
          "text": [
            "train-00000-of-00001.parquet failed mse  3618.112980882659\n"
          ]
        },
        {
          "name": "stderr",
          "output_type": "stream",
          "text": [
            "\r 15%|█▍        | 22/150 [10:41<1:00:14, 28.24s/it]Setting `pad_token_id` to `eos_token_id`:128001 for open-end generation.\n"
          ]
        },
        {
          "name": "stdout",
          "output_type": "stream",
          "text": [
            "21/150: mse: 4.7247, mae: 1.6368, rmse: 2.1736\n"
          ]
        },
        {
          "name": "stderr",
          "output_type": "stream",
          "text": [
            "\r 15%|█▌        | 23/150 [11:16<1:03:44, 30.12s/it]Setting `pad_token_id` to `eos_token_id`:128001 for open-end generation.\n"
          ]
        },
        {
          "name": "stdout",
          "output_type": "stream",
          "text": [
            "train-00000-of-00001.parquet failed mse  216.3067308101457\n"
          ]
        },
        {
          "name": "stderr",
          "output_type": "stream",
          "text": [
            "\r 16%|█▌        | 24/150 [11:50<1:05:35, 31.24s/it]Setting `pad_token_id` to `eos_token_id`:128001 for open-end generation.\n"
          ]
        },
        {
          "name": "stdout",
          "output_type": "stream",
          "text": [
            "23/150: mse: 82.1260, mae: 2.4405, rmse: 9.0623\n"
          ]
        },
        {
          "name": "stderr",
          "output_type": "stream",
          "text": [
            "\r 17%|█▋        | 25/150 [12:22<1:05:31, 31.45s/it]Setting `pad_token_id` to `eos_token_id`:128001 for open-end generation.\n"
          ]
        },
        {
          "name": "stdout",
          "output_type": "stream",
          "text": [
            "24/150: mse: 19.1604, mae: 3.5218, rmse: 4.3773\n"
          ]
        },
        {
          "name": "stderr",
          "output_type": "stream",
          "text": [
            "\r 17%|█▋        | 26/150 [12:46<1:00:30, 29.27s/it]Setting `pad_token_id` to `eos_token_id`:128001 for open-end generation.\n"
          ]
        },
        {
          "name": "stdout",
          "output_type": "stream",
          "text": [
            "Skipping 25 due to error: object of type 'NoneType' has no len()\n"
          ]
        },
        {
          "name": "stderr",
          "output_type": "stream",
          "text": [
            "\r 18%|█▊        | 27/150 [13:20<1:02:44, 30.61s/it]Setting `pad_token_id` to `eos_token_id`:128001 for open-end generation.\n"
          ]
        },
        {
          "name": "stdout",
          "output_type": "stream",
          "text": [
            "26/150: mse: 5.9241, mae: 1.9886, rmse: 2.4339\n"
          ]
        },
        {
          "name": "stderr",
          "output_type": "stream",
          "text": [
            "\r 19%|█▊        | 28/150 [13:54<1:04:28, 31.71s/it]Setting `pad_token_id` to `eos_token_id`:128001 for open-end generation.\n"
          ]
        },
        {
          "name": "stdout",
          "output_type": "stream",
          "text": [
            "27/150: mse: 10.3320, mae: 3.1963, rmse: 3.2143\n"
          ]
        },
        {
          "name": "stderr",
          "output_type": "stream",
          "text": [
            "\r 19%|█▉        | 29/150 [14:28<1:05:29, 32.48s/it]Setting `pad_token_id` to `eos_token_id`:128001 for open-end generation.\n"
          ]
        },
        {
          "name": "stdout",
          "output_type": "stream",
          "text": [
            "28/150: mse: 91.9047, mae: 7.9794, rmse: 9.5867\n"
          ]
        },
        {
          "name": "stderr",
          "output_type": "stream",
          "text": [
            "\r 20%|██        | 30/150 [14:52<59:33, 29.78s/it]  Setting `pad_token_id` to `eos_token_id`:128001 for open-end generation.\n"
          ]
        },
        {
          "name": "stdout",
          "output_type": "stream",
          "text": [
            "train-00000-of-00001.parquet failed mse  476.9762509445823\n"
          ]
        },
        {
          "name": "stderr",
          "output_type": "stream",
          "text": [
            "\r 21%|██        | 31/150 [15:12<53:17, 26.87s/it]Setting `pad_token_id` to `eos_token_id`:128001 for open-end generation.\n"
          ]
        },
        {
          "name": "stdout",
          "output_type": "stream",
          "text": [
            "Skipping 30 due to error: object of type 'NoneType' has no len()\n"
          ]
        },
        {
          "name": "stderr",
          "output_type": "stream",
          "text": [
            "\r 21%|██▏       | 32/150 [15:46<57:26, 29.21s/it]Setting `pad_token_id` to `eos_token_id`:128001 for open-end generation.\n"
          ]
        },
        {
          "name": "stdout",
          "output_type": "stream",
          "text": [
            "31/150: mse: 1.8976, mae: 1.1604, rmse: 1.3775\n"
          ]
        },
        {
          "name": "stderr",
          "output_type": "stream",
          "text": [
            "\r 22%|██▏       | 33/150 [16:13<55:16, 28.34s/it]Setting `pad_token_id` to `eos_token_id`:128001 for open-end generation.\n"
          ]
        },
        {
          "name": "stdout",
          "output_type": "stream",
          "text": [
            "train-00000-of-00001.parquet failed mse  3141.964168084717\n"
          ]
        },
        {
          "name": "stderr",
          "output_type": "stream",
          "text": [
            "\r 23%|██▎       | 34/150 [16:47<58:15, 30.13s/it]Setting `pad_token_id` to `eos_token_id`:128001 for open-end generation.\n"
          ]
        },
        {
          "name": "stdout",
          "output_type": "stream",
          "text": [
            "33/150: mse: 71.1251, mae: 4.5253, rmse: 8.4336\n"
          ]
        },
        {
          "name": "stderr",
          "output_type": "stream",
          "text": [
            "\r 23%|██▎       | 35/150 [17:20<59:40, 31.14s/it]Setting `pad_token_id` to `eos_token_id`:128001 for open-end generation.\n"
          ]
        },
        {
          "name": "stdout",
          "output_type": "stream",
          "text": [
            "34/150: mse: 1.9321, mae: 1.3900, rmse: 1.3900\n"
          ]
        },
        {
          "name": "stderr",
          "output_type": "stream",
          "text": [
            "\r 24%|██▍       | 36/150 [17:54<1:00:47, 32.00s/it]Setting `pad_token_id` to `eos_token_id`:128001 for open-end generation.\n"
          ]
        },
        {
          "name": "stdout",
          "output_type": "stream",
          "text": [
            "train-00000-of-00001.parquet failed mse  2844.409478853146\n"
          ]
        },
        {
          "name": "stderr",
          "output_type": "stream",
          "text": [
            "\r 25%|██▍       | 37/150 [18:12<51:56, 27.58s/it]  Setting `pad_token_id` to `eos_token_id`:128001 for open-end generation.\n"
          ]
        },
        {
          "name": "stdout",
          "output_type": "stream",
          "text": [
            "train-00000-of-00001.parquet failed mse  398117.3293776806\n"
          ]
        },
        {
          "name": "stderr",
          "output_type": "stream",
          "text": [
            "\r 25%|██▌       | 38/150 [18:46<55:12, 29.58s/it]Setting `pad_token_id` to `eos_token_id`:128001 for open-end generation.\n"
          ]
        },
        {
          "name": "stdout",
          "output_type": "stream",
          "text": [
            "37/150: mse: 1.9498, mae: 1.2445, rmse: 1.3964\n"
          ]
        },
        {
          "name": "stderr",
          "output_type": "stream",
          "text": [
            "\r 26%|██▌       | 39/150 [18:48<39:43, 21.47s/it]Setting `pad_token_id` to `eos_token_id`:128001 for open-end generation.\n"
          ]
        },
        {
          "name": "stdout",
          "output_type": "stream",
          "text": [
            "Skipping 38 due to error: object of type 'NoneType' has no len()\n"
          ]
        },
        {
          "name": "stderr",
          "output_type": "stream",
          "text": [
            "\r 27%|██▋       | 40/150 [19:23<46:28, 25.35s/it]Setting `pad_token_id` to `eos_token_id`:128001 for open-end generation.\n"
          ]
        },
        {
          "name": "stdout",
          "output_type": "stream",
          "text": [
            "39/150: mse: 23.6721, mae: 4.7220, rmse: 4.8654\n"
          ]
        },
        {
          "name": "stderr",
          "output_type": "stream",
          "text": [
            "\r 27%|██▋       | 41/150 [19:57<50:46, 27.95s/it]Setting `pad_token_id` to `eos_token_id`:128001 for open-end generation.\n"
          ]
        },
        {
          "name": "stdout",
          "output_type": "stream",
          "text": [
            "40/150: mse: 1.9672, mae: 1.3886, rmse: 1.4026\n"
          ]
        },
        {
          "name": "stderr",
          "output_type": "stream",
          "text": [
            "\r 28%|██▊       | 42/150 [20:31<53:43, 29.85s/it]Setting `pad_token_id` to `eos_token_id`:128001 for open-end generation.\n"
          ]
        },
        {
          "name": "stdout",
          "output_type": "stream",
          "text": [
            "41/150: mse: 1.1987, mae: 0.8148, rmse: 1.0949\n"
          ]
        },
        {
          "name": "stderr",
          "output_type": "stream",
          "text": [
            "\r 29%|██▊       | 43/150 [20:57<51:03, 28.63s/it]Setting `pad_token_id` to `eos_token_id`:128001 for open-end generation.\n"
          ]
        },
        {
          "name": "stdout",
          "output_type": "stream",
          "text": [
            "train-00000-of-00001.parquet failed mse  40686.68298927422\n"
          ]
        },
        {
          "name": "stderr",
          "output_type": "stream",
          "text": [
            "\r 29%|██▉       | 44/150 [21:30<52:56, 29.97s/it]Setting `pad_token_id` to `eos_token_id`:128001 for open-end generation.\n"
          ]
        },
        {
          "name": "stdout",
          "output_type": "stream",
          "text": [
            "43/150: mse: 0.6337, mae: 0.6894, rmse: 0.7961\n"
          ]
        },
        {
          "name": "stderr",
          "output_type": "stream",
          "text": [
            "\r 30%|███       | 45/150 [21:51<47:51, 27.35s/it]Setting `pad_token_id` to `eos_token_id`:128001 for open-end generation.\n"
          ]
        },
        {
          "name": "stdout",
          "output_type": "stream",
          "text": [
            "train-00000-of-00001.parquet failed mse  40950.394796612185\n"
          ]
        },
        {
          "name": "stderr",
          "output_type": "stream",
          "text": [
            "\r 31%|███       | 46/150 [22:26<51:03, 29.46s/it]Setting `pad_token_id` to `eos_token_id`:128001 for open-end generation.\n"
          ]
        },
        {
          "name": "stdout",
          "output_type": "stream",
          "text": [
            "45/150: mse: 1.3492, mae: 0.9801, rmse: 1.1616\n"
          ]
        },
        {
          "name": "stderr",
          "output_type": "stream",
          "text": [
            "\r 31%|███▏      | 47/150 [23:00<52:54, 30.82s/it]Setting `pad_token_id` to `eos_token_id`:128001 for open-end generation.\n"
          ]
        },
        {
          "name": "stdout",
          "output_type": "stream",
          "text": [
            "train-00000-of-00001.parquet failed mse  1589.628304076915\n"
          ]
        },
        {
          "name": "stderr",
          "output_type": "stream",
          "text": [
            "\r 32%|███▏      | 48/150 [23:34<54:18, 31.94s/it]Setting `pad_token_id` to `eos_token_id`:128001 for open-end generation.\n"
          ]
        },
        {
          "name": "stdout",
          "output_type": "stream",
          "text": [
            "47/150: mse: 6.3105, mae: 2.4742, rmse: 2.5121\n"
          ]
        },
        {
          "name": "stderr",
          "output_type": "stream",
          "text": [
            "\r 33%|███▎      | 49/150 [24:08<54:56, 32.64s/it]Setting `pad_token_id` to `eos_token_id`:128001 for open-end generation.\n"
          ]
        },
        {
          "name": "stdout",
          "output_type": "stream",
          "text": [
            "48/150: mse: 1.2537, mae: 1.0573, rmse: 1.1197\n"
          ]
        },
        {
          "name": "stderr",
          "output_type": "stream",
          "text": [
            "\r 33%|███▎      | 50/150 [24:42<54:58, 32.98s/it]Setting `pad_token_id` to `eos_token_id`:128001 for open-end generation.\n"
          ]
        },
        {
          "name": "stdout",
          "output_type": "stream",
          "text": [
            "49/150: mse: 13.4119, mae: 3.1323, rmse: 3.6622\n"
          ]
        },
        {
          "name": "stderr",
          "output_type": "stream",
          "text": [
            "\r 34%|███▍      | 51/150 [25:17<55:10, 33.44s/it]Setting `pad_token_id` to `eos_token_id`:128001 for open-end generation.\n"
          ]
        },
        {
          "name": "stdout",
          "output_type": "stream",
          "text": [
            "50/150: mse: 0.1518, mae: 0.3485, rmse: 0.3897\n"
          ]
        },
        {
          "name": "stderr",
          "output_type": "stream",
          "text": [
            "\r 35%|███▍      | 52/150 [25:51<55:07, 33.75s/it]Setting `pad_token_id` to `eos_token_id`:128001 for open-end generation.\n"
          ]
        },
        {
          "name": "stdout",
          "output_type": "stream",
          "text": [
            "train-00000-of-00001.parquet failed mse  41540.656849687046\n"
          ]
        },
        {
          "name": "stderr",
          "output_type": "stream",
          "text": [
            "\r 35%|███▌      | 53/150 [26:25<54:38, 33.80s/it]Setting `pad_token_id` to `eos_token_id`:128001 for open-end generation.\n"
          ]
        },
        {
          "name": "stdout",
          "output_type": "stream",
          "text": [
            "52/150: mse: 0.5975, mae: 0.5600, rmse: 0.7730\n"
          ]
        },
        {
          "name": "stderr",
          "output_type": "stream",
          "text": [
            "\r 36%|███▌      | 54/150 [26:49<49:22, 30.86s/it]Setting `pad_token_id` to `eos_token_id`:128001 for open-end generation.\n"
          ]
        },
        {
          "name": "stdout",
          "output_type": "stream",
          "text": [
            "Skipping 53 due to error: object of type 'NoneType' has no len()\n"
          ]
        },
        {
          "name": "stderr",
          "output_type": "stream",
          "text": [
            "\r 37%|███▋      | 55/150 [27:23<50:19, 31.78s/it]Setting `pad_token_id` to `eos_token_id`:128001 for open-end generation.\n"
          ]
        },
        {
          "name": "stdout",
          "output_type": "stream",
          "text": [
            "54/150: mse: 0.9298, mae: 0.7993, rmse: 0.9642\n"
          ]
        },
        {
          "name": "stderr",
          "output_type": "stream",
          "text": [
            "\r 37%|███▋      | 56/150 [27:57<50:43, 32.38s/it]Setting `pad_token_id` to `eos_token_id`:128001 for open-end generation.\n"
          ]
        },
        {
          "name": "stdout",
          "output_type": "stream",
          "text": [
            "55/150: mse: 55.1217, mae: 6.7066, rmse: 7.4244\n"
          ]
        },
        {
          "name": "stderr",
          "output_type": "stream",
          "text": [
            "\r 38%|███▊      | 57/150 [28:31<51:02, 32.93s/it]Setting `pad_token_id` to `eos_token_id`:128001 for open-end generation.\n"
          ]
        },
        {
          "name": "stdout",
          "output_type": "stream",
          "text": [
            "56/150: mse: 0.0271, mae: 0.1371, rmse: 0.1647\n"
          ]
        },
        {
          "name": "stderr",
          "output_type": "stream",
          "text": [
            "\r 39%|███▊      | 58/150 [29:07<51:52, 33.83s/it]Setting `pad_token_id` to `eos_token_id`:128001 for open-end generation.\n"
          ]
        },
        {
          "name": "stdout",
          "output_type": "stream",
          "text": [
            "57/150: mse: 1.0896, mae: 1.0229, rmse: 1.0439\n"
          ]
        },
        {
          "name": "stderr",
          "output_type": "stream",
          "text": [
            "\r 39%|███▉      | 59/150 [29:39<50:16, 33.15s/it]Setting `pad_token_id` to `eos_token_id`:128001 for open-end generation.\n"
          ]
        },
        {
          "name": "stdout",
          "output_type": "stream",
          "text": [
            "train-00000-of-00001.parquet failed mse  198.90615197188268\n"
          ]
        },
        {
          "name": "stderr",
          "output_type": "stream",
          "text": [
            "\r 40%|████      | 60/150 [30:13<50:21, 33.57s/it]Setting `pad_token_id` to `eos_token_id`:128001 for open-end generation.\n"
          ]
        },
        {
          "name": "stdout",
          "output_type": "stream",
          "text": [
            "59/150: mse: 16.8147, mae: 3.4946, rmse: 4.1006\n"
          ]
        },
        {
          "name": "stderr",
          "output_type": "stream",
          "text": [
            "\r 41%|████      | 61/150 [30:44<48:43, 32.85s/it]Setting `pad_token_id` to `eos_token_id`:128001 for open-end generation.\n"
          ]
        },
        {
          "name": "stdout",
          "output_type": "stream",
          "text": [
            "train-00000-of-00001.parquet failed mse  577.989566666795\n"
          ]
        },
        {
          "name": "stderr",
          "output_type": "stream",
          "text": [
            "\r 41%|████▏     | 62/150 [31:19<48:48, 33.28s/it]Setting `pad_token_id` to `eos_token_id`:128001 for open-end generation.\n"
          ]
        },
        {
          "name": "stdout",
          "output_type": "stream",
          "text": [
            "61/150: mse: 1.1032, mae: 0.8711, rmse: 1.0503\n"
          ]
        },
        {
          "name": "stderr",
          "output_type": "stream",
          "text": [
            "\r 42%|████▏     | 63/150 [31:52<48:22, 33.36s/it]Setting `pad_token_id` to `eos_token_id`:128001 for open-end generation.\n"
          ]
        },
        {
          "name": "stdout",
          "output_type": "stream",
          "text": [
            "Skipping 62 due to error: object of type 'NoneType' has no len()\n"
          ]
        },
        {
          "name": "stderr",
          "output_type": "stream",
          "text": [
            "\r 43%|████▎     | 64/150 [32:26<48:10, 33.61s/it]Setting `pad_token_id` to `eos_token_id`:128001 for open-end generation.\n"
          ]
        },
        {
          "name": "stdout",
          "output_type": "stream",
          "text": [
            "63/150: mse: 37.0748, mae: 5.8143, rmse: 6.0889\n"
          ]
        },
        {
          "name": "stderr",
          "output_type": "stream",
          "text": [
            "\r 43%|████▎     | 65/150 [33:00<47:44, 33.70s/it]Setting `pad_token_id` to `eos_token_id`:128001 for open-end generation.\n"
          ]
        },
        {
          "name": "stdout",
          "output_type": "stream",
          "text": [
            "64/150: mse: 0.1589, mae: 0.3415, rmse: 0.3986\n"
          ]
        },
        {
          "name": "stderr",
          "output_type": "stream",
          "text": [
            "\r 44%|████▍     | 66/150 [33:34<47:22, 33.84s/it]Setting `pad_token_id` to `eos_token_id`:128001 for open-end generation.\n"
          ]
        },
        {
          "name": "stdout",
          "output_type": "stream",
          "text": [
            "Skipping 65 due to error: object of type 'NoneType' has no len()\n"
          ]
        },
        {
          "name": "stderr",
          "output_type": "stream",
          "text": [
            "\r 45%|████▍     | 67/150 [34:09<46:59, 33.97s/it]Setting `pad_token_id` to `eos_token_id`:128001 for open-end generation.\n"
          ]
        },
        {
          "name": "stdout",
          "output_type": "stream",
          "text": [
            "66/150: mse: 13.0556, mae: 3.3093, rmse: 3.6133\n"
          ]
        },
        {
          "name": "stderr",
          "output_type": "stream",
          "text": [
            "\r 45%|████▌     | 68/150 [34:43<46:23, 33.94s/it]Setting `pad_token_id` to `eos_token_id`:128001 for open-end generation.\n"
          ]
        },
        {
          "name": "stdout",
          "output_type": "stream",
          "text": [
            "67/150: mse: 0.1903, mae: 0.4074, rmse: 0.4362\n"
          ]
        },
        {
          "name": "stderr",
          "output_type": "stream",
          "text": [
            "\r 46%|████▌     | 69/150 [35:17<45:59, 34.07s/it]Setting `pad_token_id` to `eos_token_id`:128001 for open-end generation.\n"
          ]
        },
        {
          "name": "stdout",
          "output_type": "stream",
          "text": [
            "68/150: mse: 0.0292, mae: 0.1480, rmse: 0.1709\n"
          ]
        },
        {
          "name": "stderr",
          "output_type": "stream",
          "text": [
            "\r 47%|████▋     | 70/150 [35:51<45:30, 34.13s/it]Setting `pad_token_id` to `eos_token_id`:128001 for open-end generation.\n"
          ]
        },
        {
          "name": "stdout",
          "output_type": "stream",
          "text": [
            "69/150: mse: 0.0546, mae: 0.2309, rmse: 0.2336\n"
          ]
        },
        {
          "name": "stderr",
          "output_type": "stream",
          "text": [
            "\r 47%|████▋     | 71/150 [36:25<44:56, 34.14s/it]Setting `pad_token_id` to `eos_token_id`:128001 for open-end generation.\n"
          ]
        },
        {
          "name": "stdout",
          "output_type": "stream",
          "text": [
            "70/150: mse: 0.9755, mae: 0.8152, rmse: 0.9877\n"
          ]
        },
        {
          "name": "stderr",
          "output_type": "stream",
          "text": [
            "\r 48%|████▊     | 72/150 [37:00<44:23, 34.15s/it]Setting `pad_token_id` to `eos_token_id`:128001 for open-end generation.\n"
          ]
        },
        {
          "name": "stdout",
          "output_type": "stream",
          "text": [
            "71/150: mse: 10.5923, mae: 3.1859, rmse: 3.2546\n"
          ]
        },
        {
          "name": "stderr",
          "output_type": "stream",
          "text": [
            "\r 49%|████▊     | 73/150 [37:34<43:45, 34.10s/it]Setting `pad_token_id` to `eos_token_id`:128001 for open-end generation.\n"
          ]
        },
        {
          "name": "stdout",
          "output_type": "stream",
          "text": [
            "72/150: mse: 1.5190, mae: 1.0801, rmse: 1.2325\n"
          ]
        },
        {
          "name": "stderr",
          "output_type": "stream",
          "text": [
            "\r 49%|████▉     | 74/150 [38:07<43:04, 34.00s/it]Setting `pad_token_id` to `eos_token_id`:128001 for open-end generation.\n"
          ]
        },
        {
          "name": "stdout",
          "output_type": "stream",
          "text": [
            "73/150: mse: 0.2581, mae: 0.4641, rmse: 0.5080\n"
          ]
        },
        {
          "name": "stderr",
          "output_type": "stream",
          "text": [
            "\r 50%|█████     | 75/150 [38:41<42:34, 34.07s/it]Setting `pad_token_id` to `eos_token_id`:128001 for open-end generation.\n"
          ]
        },
        {
          "name": "stdout",
          "output_type": "stream",
          "text": [
            "74/150: mse: 0.9267, mae: 0.8128, rmse: 0.9626\n"
          ]
        },
        {
          "name": "stderr",
          "output_type": "stream",
          "text": [
            "\r 51%|█████     | 76/150 [38:58<35:25, 28.72s/it]Setting `pad_token_id` to `eos_token_id`:128001 for open-end generation.\n"
          ]
        },
        {
          "name": "stdout",
          "output_type": "stream",
          "text": [
            "train-00000-of-00001.parquet failed mse  7980.612716783116\n"
          ]
        },
        {
          "name": "stderr",
          "output_type": "stream",
          "text": [
            "\r 51%|█████▏    | 77/150 [39:33<37:27, 30.78s/it]Setting `pad_token_id` to `eos_token_id`:128001 for open-end generation.\n"
          ]
        },
        {
          "name": "stdout",
          "output_type": "stream",
          "text": [
            "train-00000-of-00001.parquet failed mse  3178.2312913885676\n"
          ]
        },
        {
          "name": "stderr",
          "output_type": "stream",
          "text": [
            "\r 52%|█████▏    | 78/150 [40:07<38:08, 31.78s/it]Setting `pad_token_id` to `eos_token_id`:128001 for open-end generation.\n"
          ]
        },
        {
          "name": "stdout",
          "output_type": "stream",
          "text": [
            "77/150: mse: 2.3037, mae: 1.3086, rmse: 1.5178\n"
          ]
        },
        {
          "name": "stderr",
          "output_type": "stream",
          "text": [
            "\r 53%|█████▎    | 79/150 [40:41<38:21, 32.42s/it]Setting `pad_token_id` to `eos_token_id`:128001 for open-end generation.\n"
          ]
        },
        {
          "name": "stdout",
          "output_type": "stream",
          "text": [
            "78/150: mse: 76.6248, mae: 8.3070, rmse: 8.7536\n"
          ]
        },
        {
          "name": "stderr",
          "output_type": "stream",
          "text": [
            "\r 53%|█████▎    | 80/150 [41:15<38:24, 32.92s/it]Setting `pad_token_id` to `eos_token_id`:128001 for open-end generation.\n"
          ]
        },
        {
          "name": "stdout",
          "output_type": "stream",
          "text": [
            "79/150: mse: 7.9735, mae: 2.4976, rmse: 2.8237\n"
          ]
        },
        {
          "name": "stderr",
          "output_type": "stream",
          "text": [
            "\r 54%|█████▍    | 81/150 [41:49<38:08, 33.16s/it]Setting `pad_token_id` to `eos_token_id`:128001 for open-end generation.\n"
          ]
        },
        {
          "name": "stdout",
          "output_type": "stream",
          "text": [
            "80/150: mse: 61.1492, mae: 5.1761, rmse: 7.8198\n"
          ]
        },
        {
          "name": "stderr",
          "output_type": "stream",
          "text": [
            "\r 55%|█████▍    | 82/150 [42:23<37:57, 33.50s/it]Setting `pad_token_id` to `eos_token_id`:128001 for open-end generation.\n"
          ]
        },
        {
          "name": "stdout",
          "output_type": "stream",
          "text": [
            "81/150: mse: 7.6197, mae: 2.6670, rmse: 2.7604\n"
          ]
        },
        {
          "name": "stderr",
          "output_type": "stream",
          "text": [
            "\r 55%|█████▌    | 83/150 [42:58<37:38, 33.71s/it]Setting `pad_token_id` to `eos_token_id`:128001 for open-end generation.\n"
          ]
        },
        {
          "name": "stdout",
          "output_type": "stream",
          "text": [
            "82/150: mse: 2.4427, mae: 1.5203, rmse: 1.5629\n"
          ]
        },
        {
          "name": "stderr",
          "output_type": "stream",
          "text": [
            "\r 56%|█████▌    | 84/150 [43:31<37:07, 33.74s/it]Setting `pad_token_id` to `eos_token_id`:128001 for open-end generation.\n"
          ]
        },
        {
          "name": "stdout",
          "output_type": "stream",
          "text": [
            "83/150: mse: 3.9027, mae: 1.6960, rmse: 1.9755\n"
          ]
        },
        {
          "name": "stderr",
          "output_type": "stream",
          "text": [
            "\r 57%|█████▋    | 85/150 [44:06<36:51, 34.03s/it]Setting `pad_token_id` to `eos_token_id`:128001 for open-end generation.\n"
          ]
        },
        {
          "name": "stdout",
          "output_type": "stream",
          "text": [
            "84/150: mse: 1.0694, mae: 0.8598, rmse: 1.0341\n"
          ]
        },
        {
          "name": "stderr",
          "output_type": "stream",
          "text": [
            "\r 57%|█████▋    | 86/150 [44:33<33:57, 31.84s/it]Setting `pad_token_id` to `eos_token_id`:128001 for open-end generation.\n"
          ]
        },
        {
          "name": "stdout",
          "output_type": "stream",
          "text": [
            "Skipping 85 due to error: object of type 'NoneType' has no len()\n"
          ]
        },
        {
          "name": "stderr",
          "output_type": "stream",
          "text": [
            "\r 58%|█████▊    | 87/150 [45:07<34:06, 32.49s/it]Setting `pad_token_id` to `eos_token_id`:128001 for open-end generation.\n"
          ]
        },
        {
          "name": "stdout",
          "output_type": "stream",
          "text": [
            "86/150: mse: 3.3619, mae: 1.4998, rmse: 1.8335\n"
          ]
        },
        {
          "name": "stderr",
          "output_type": "stream",
          "text": [
            "\r 59%|█████▊    | 88/150 [45:41<34:03, 32.96s/it]Setting `pad_token_id` to `eos_token_id`:128001 for open-end generation.\n"
          ]
        },
        {
          "name": "stdout",
          "output_type": "stream",
          "text": [
            "87/150: mse: 0.2610, mae: 0.4469, rmse: 0.5109\n"
          ]
        },
        {
          "name": "stderr",
          "output_type": "stream",
          "text": [
            "\r 59%|█████▉    | 89/150 [46:16<34:00, 33.45s/it]Setting `pad_token_id` to `eos_token_id`:128001 for open-end generation.\n"
          ]
        },
        {
          "name": "stdout",
          "output_type": "stream",
          "text": [
            "88/150: mse: 1.0438, mae: 0.9653, rmse: 1.0217\n"
          ]
        },
        {
          "name": "stderr",
          "output_type": "stream",
          "text": [
            "\r 60%|██████    | 90/150 [46:50<33:35, 33.60s/it]Setting `pad_token_id` to `eos_token_id`:128001 for open-end generation.\n"
          ]
        },
        {
          "name": "stdout",
          "output_type": "stream",
          "text": [
            "89/150: mse: 0.1461, mae: 0.3167, rmse: 0.3823\n"
          ]
        },
        {
          "name": "stderr",
          "output_type": "stream",
          "text": [
            "\r 61%|██████    | 91/150 [47:11<29:34, 30.07s/it]Setting `pad_token_id` to `eos_token_id`:128001 for open-end generation.\n"
          ]
        },
        {
          "name": "stdout",
          "output_type": "stream",
          "text": [
            "90/150: mse: 84.0547, mae: 9.1636, rmse: 9.1681\n"
          ]
        },
        {
          "name": "stderr",
          "output_type": "stream",
          "text": [
            "\r 61%|██████▏   | 92/150 [47:46<30:16, 31.31s/it]Setting `pad_token_id` to `eos_token_id`:128001 for open-end generation.\n"
          ]
        },
        {
          "name": "stdout",
          "output_type": "stream",
          "text": [
            "91/150: mse: 26.0817, mae: 4.5421, rmse: 5.1070\n"
          ]
        },
        {
          "name": "stderr",
          "output_type": "stream",
          "text": [
            "\r 62%|██████▏   | 93/150 [48:19<30:26, 32.05s/it]Setting `pad_token_id` to `eos_token_id`:128001 for open-end generation.\n"
          ]
        },
        {
          "name": "stdout",
          "output_type": "stream",
          "text": [
            "92/150: mse: 0.0316, mae: 0.1439, rmse: 0.1778\n"
          ]
        },
        {
          "name": "stderr",
          "output_type": "stream",
          "text": [
            "\r 63%|██████▎   | 94/150 [48:54<30:31, 32.71s/it]Setting `pad_token_id` to `eos_token_id`:128001 for open-end generation.\n"
          ]
        },
        {
          "name": "stdout",
          "output_type": "stream",
          "text": [
            "93/150: mse: 32.0015, mae: 5.6354, rmse: 5.6570\n"
          ]
        },
        {
          "name": "stderr",
          "output_type": "stream",
          "text": [
            "\r 63%|██████▎   | 95/150 [49:28<30:27, 33.23s/it]Setting `pad_token_id` to `eos_token_id`:128001 for open-end generation.\n"
          ]
        },
        {
          "name": "stdout",
          "output_type": "stream",
          "text": [
            "94/150: mse: 5.8525, mae: 2.4025, rmse: 2.4192\n"
          ]
        },
        {
          "name": "stderr",
          "output_type": "stream",
          "text": [
            "\r 64%|██████▍   | 96/150 [50:02<30:12, 33.57s/it]Setting `pad_token_id` to `eos_token_id`:128001 for open-end generation.\n"
          ]
        },
        {
          "name": "stdout",
          "output_type": "stream",
          "text": [
            "95/150: mse: 0.0754, mae: 0.0994, rmse: 0.2745\n"
          ]
        },
        {
          "name": "stderr",
          "output_type": "stream",
          "text": [
            "\r 65%|██████▍   | 97/150 [50:37<29:48, 33.75s/it]Setting `pad_token_id` to `eos_token_id`:128001 for open-end generation.\n"
          ]
        },
        {
          "name": "stdout",
          "output_type": "stream",
          "text": [
            "train-00000-of-00001.parquet failed mse  2283.7056870677334\n"
          ]
        },
        {
          "name": "stderr",
          "output_type": "stream",
          "text": [
            "\r 65%|██████▌   | 98/150 [51:12<29:36, 34.17s/it]Setting `pad_token_id` to `eos_token_id`:128001 for open-end generation.\n"
          ]
        },
        {
          "name": "stdout",
          "output_type": "stream",
          "text": [
            "97/150: mse: 1.7423, mae: 1.2756, rmse: 1.3200\n"
          ]
        },
        {
          "name": "stderr",
          "output_type": "stream",
          "text": [
            "\r 66%|██████▌   | 99/150 [51:46<29:01, 34.15s/it]Setting `pad_token_id` to `eos_token_id`:128001 for open-end generation.\n"
          ]
        },
        {
          "name": "stdout",
          "output_type": "stream",
          "text": [
            "98/150: mse: 2.0403, mae: 1.2102, rmse: 1.4284\n"
          ]
        },
        {
          "name": "stderr",
          "output_type": "stream",
          "text": [
            "\r 67%|██████▋   | 100/150 [52:20<28:26, 34.13s/it]Setting `pad_token_id` to `eos_token_id`:128001 for open-end generation.\n"
          ]
        },
        {
          "name": "stdout",
          "output_type": "stream",
          "text": [
            "99/150: mse: 4.0408, mae: 1.4739, rmse: 2.0102\n"
          ]
        },
        {
          "name": "stderr",
          "output_type": "stream",
          "text": [
            "\r 67%|██████▋   | 101/150 [52:53<27:44, 33.96s/it]Setting `pad_token_id` to `eos_token_id`:128001 for open-end generation.\n"
          ]
        },
        {
          "name": "stdout",
          "output_type": "stream",
          "text": [
            "100/150: mse: 0.2483, mae: 0.4594, rmse: 0.4983\n"
          ]
        },
        {
          "name": "stderr",
          "output_type": "stream",
          "text": [
            "\r 68%|██████▊   | 102/150 [53:28<27:16, 34.09s/it]Setting `pad_token_id` to `eos_token_id`:128001 for open-end generation.\n"
          ]
        },
        {
          "name": "stdout",
          "output_type": "stream",
          "text": [
            "101/150: mse: 0.8308, mae: 0.7757, rmse: 0.9115\n"
          ]
        },
        {
          "name": "stderr",
          "output_type": "stream",
          "text": [
            "\r 69%|██████▊   | 103/150 [54:02<26:47, 34.21s/it]Setting `pad_token_id` to `eos_token_id`:128001 for open-end generation.\n"
          ]
        },
        {
          "name": "stdout",
          "output_type": "stream",
          "text": [
            "train-00000-of-00001.parquet failed mse  131.2090219042981\n"
          ]
        },
        {
          "name": "stderr",
          "output_type": "stream",
          "text": [
            "\r 69%|██████▉   | 104/150 [54:34<25:42, 33.54s/it]Setting `pad_token_id` to `eos_token_id`:128001 for open-end generation.\n"
          ]
        },
        {
          "name": "stdout",
          "output_type": "stream",
          "text": [
            "103/150: mse: 0.0508, mae: 0.1979, rmse: 0.2254\n"
          ]
        },
        {
          "name": "stderr",
          "output_type": "stream",
          "text": [
            "\r 70%|███████   | 105/150 [55:08<25:17, 33.72s/it]Setting `pad_token_id` to `eos_token_id`:128001 for open-end generation.\n"
          ]
        },
        {
          "name": "stdout",
          "output_type": "stream",
          "text": [
            "104/150: mse: 8.1996, mae: 2.8093, rmse: 2.8635\n"
          ]
        },
        {
          "name": "stderr",
          "output_type": "stream",
          "text": [
            "\r 71%|███████   | 106/150 [55:42<24:47, 33.81s/it]Setting `pad_token_id` to `eos_token_id`:128001 for open-end generation.\n"
          ]
        },
        {
          "name": "stdout",
          "output_type": "stream",
          "text": [
            "105/150: mse: 1.5852, mae: 0.9866, rmse: 1.2591\n"
          ]
        },
        {
          "name": "stderr",
          "output_type": "stream",
          "text": [
            "\r 71%|███████▏  | 107/150 [56:17<24:26, 34.11s/it]Setting `pad_token_id` to `eos_token_id`:128001 for open-end generation.\n"
          ]
        },
        {
          "name": "stdout",
          "output_type": "stream",
          "text": [
            "106/150: mse: 19.4977, mae: 4.3929, rmse: 4.4156\n"
          ]
        },
        {
          "name": "stderr",
          "output_type": "stream",
          "text": [
            "\r 72%|███████▏  | 108/150 [56:21<17:23, 24.84s/it]Setting `pad_token_id` to `eos_token_id`:128001 for open-end generation.\n"
          ]
        },
        {
          "name": "stdout",
          "output_type": "stream",
          "text": [
            "Skipping 107 due to error: object of type 'NoneType' has no len()\n"
          ]
        },
        {
          "name": "stderr",
          "output_type": "stream",
          "text": [
            "\r 73%|███████▎  | 109/150 [56:54<18:49, 27.54s/it]Setting `pad_token_id` to `eos_token_id`:128001 for open-end generation.\n"
          ]
        },
        {
          "name": "stdout",
          "output_type": "stream",
          "text": [
            "train-00000-of-00001.parquet failed mse  143.44331841778182\n"
          ]
        },
        {
          "name": "stderr",
          "output_type": "stream",
          "text": [
            "\r 73%|███████▎  | 110/150 [57:28<19:35, 29.39s/it]Setting `pad_token_id` to `eos_token_id`:128001 for open-end generation.\n"
          ]
        },
        {
          "name": "stdout",
          "output_type": "stream",
          "text": [
            "109/150: mse: 0.5172, mae: 0.7052, rmse: 0.7192\n"
          ]
        },
        {
          "name": "stderr",
          "output_type": "stream",
          "text": [
            "\r 74%|███████▍  | 111/150 [58:02<20:01, 30.81s/it]Setting `pad_token_id` to `eos_token_id`:128001 for open-end generation.\n"
          ]
        },
        {
          "name": "stdout",
          "output_type": "stream",
          "text": [
            "110/150: mse: 6.0697, mae: 2.2230, rmse: 2.4637\n"
          ]
        },
        {
          "name": "stderr",
          "output_type": "stream",
          "text": [
            "\r 75%|███████▍  | 112/150 [58:36<20:05, 31.71s/it]Setting `pad_token_id` to `eos_token_id`:128001 for open-end generation.\n"
          ]
        },
        {
          "name": "stdout",
          "output_type": "stream",
          "text": [
            "111/150: mse: 0.0399, mae: 0.1820, rmse: 0.1997\n"
          ]
        },
        {
          "name": "stderr",
          "output_type": "stream",
          "text": [
            "\r 75%|███████▌  | 113/150 [59:10<20:00, 32.45s/it]Setting `pad_token_id` to `eos_token_id`:128001 for open-end generation.\n"
          ]
        },
        {
          "name": "stdout",
          "output_type": "stream",
          "text": [
            "112/150: mse: 0.2538, mae: 0.4163, rmse: 0.5038\n"
          ]
        },
        {
          "name": "stderr",
          "output_type": "stream",
          "text": [
            "\r 76%|███████▌  | 114/150 [59:30<17:11, 28.66s/it]Setting `pad_token_id` to `eos_token_id`:128001 for open-end generation.\n"
          ]
        },
        {
          "name": "stdout",
          "output_type": "stream",
          "text": [
            "Skipping 113 due to error: object of type 'NoneType' has no len()\n"
          ]
        },
        {
          "name": "stderr",
          "output_type": "stream",
          "text": [
            "\r 77%|███████▋  | 115/150 [1:00:04<17:35, 30.16s/it]Setting `pad_token_id` to `eos_token_id`:128001 for open-end generation.\n"
          ]
        },
        {
          "name": "stdout",
          "output_type": "stream",
          "text": [
            "114/150: mse: 8.2271, mae: 0.9703, rmse: 2.8683\n"
          ]
        },
        {
          "name": "stderr",
          "output_type": "stream",
          "text": [
            "\r 77%|███████▋  | 116/150 [1:00:37<17:34, 31.03s/it]Setting `pad_token_id` to `eos_token_id`:128001 for open-end generation.\n"
          ]
        },
        {
          "name": "stdout",
          "output_type": "stream",
          "text": [
            "115/150: mse: 5.7682, mae: 2.3497, rmse: 2.4017\n"
          ]
        },
        {
          "name": "stderr",
          "output_type": "stream",
          "text": [
            "\r 78%|███████▊  | 117/150 [1:01:11<17:35, 31.97s/it]Setting `pad_token_id` to `eos_token_id`:128001 for open-end generation.\n"
          ]
        },
        {
          "name": "stdout",
          "output_type": "stream",
          "text": [
            "train-00000-of-00001.parquet failed mse  196.86882755131728\n"
          ]
        },
        {
          "name": "stderr",
          "output_type": "stream",
          "text": [
            "\r 79%|███████▊  | 118/150 [1:01:45<17:24, 32.64s/it]Setting `pad_token_id` to `eos_token_id`:128001 for open-end generation.\n"
          ]
        },
        {
          "name": "stdout",
          "output_type": "stream",
          "text": [
            "117/150: mse: 0.2524, mae: 0.3949, rmse: 0.5024\n"
          ]
        },
        {
          "name": "stderr",
          "output_type": "stream",
          "text": [
            "\r 79%|███████▉  | 119/150 [1:02:19<17:05, 33.10s/it]Setting `pad_token_id` to `eos_token_id`:128001 for open-end generation.\n"
          ]
        },
        {
          "name": "stdout",
          "output_type": "stream",
          "text": [
            "118/150: mse: 2.2371, mae: 1.1863, rmse: 1.4957\n"
          ]
        },
        {
          "name": "stderr",
          "output_type": "stream",
          "text": [
            "\r 80%|████████  | 120/150 [1:02:37<14:11, 28.38s/it]Setting `pad_token_id` to `eos_token_id`:128001 for open-end generation.\n"
          ]
        },
        {
          "name": "stdout",
          "output_type": "stream",
          "text": [
            "train-00000-of-00001.parquet failed mse  22445.053951282058\n"
          ]
        },
        {
          "name": "stderr",
          "output_type": "stream",
          "text": [
            "\r 81%|████████  | 121/150 [1:03:11<14:31, 30.05s/it]Setting `pad_token_id` to `eos_token_id`:128001 for open-end generation.\n"
          ]
        },
        {
          "name": "stdout",
          "output_type": "stream",
          "text": [
            "120/150: mse: 2.8633, mae: 1.4080, rmse: 1.6921\n"
          ]
        },
        {
          "name": "stderr",
          "output_type": "stream",
          "text": [
            "\r 81%|████████▏ | 122/150 [1:03:44<14:32, 31.16s/it]Setting `pad_token_id` to `eos_token_id`:128001 for open-end generation.\n"
          ]
        },
        {
          "name": "stdout",
          "output_type": "stream",
          "text": [
            "121/150: mse: 0.1269, mae: 0.3048, rmse: 0.3562\n"
          ]
        },
        {
          "name": "stderr",
          "output_type": "stream",
          "text": [
            "\r 82%|████████▏ | 123/150 [1:04:18<14:25, 32.06s/it]Setting `pad_token_id` to `eos_token_id`:128001 for open-end generation.\n"
          ]
        },
        {
          "name": "stdout",
          "output_type": "stream",
          "text": [
            "122/150: mse: 20.7818, mae: 3.7750, rmse: 4.5587\n"
          ]
        },
        {
          "name": "stderr",
          "output_type": "stream",
          "text": [
            "\r 83%|████████▎ | 124/150 [1:04:50<13:48, 31.88s/it]Setting `pad_token_id` to `eos_token_id`:128001 for open-end generation.\n"
          ]
        },
        {
          "name": "stdout",
          "output_type": "stream",
          "text": [
            "123/150: mse: 0.6651, mae: 0.7194, rmse: 0.8155\n"
          ]
        },
        {
          "name": "stderr",
          "output_type": "stream",
          "text": [
            "\r 83%|████████▎ | 125/150 [1:05:24<13:34, 32.58s/it]Setting `pad_token_id` to `eos_token_id`:128001 for open-end generation.\n"
          ]
        },
        {
          "name": "stdout",
          "output_type": "stream",
          "text": [
            "124/150: mse: 76.2882, mae: 8.2835, rmse: 8.7343\n"
          ]
        },
        {
          "name": "stderr",
          "output_type": "stream",
          "text": [
            "\r 84%|████████▍ | 126/150 [1:05:59<13:15, 33.13s/it]Setting `pad_token_id` to `eos_token_id`:128001 for open-end generation.\n"
          ]
        },
        {
          "name": "stdout",
          "output_type": "stream",
          "text": [
            "125/150: mse: 0.9917, mae: 0.9525, rmse: 0.9958\n"
          ]
        },
        {
          "name": "stderr",
          "output_type": "stream",
          "text": [
            "\r 85%|████████▍ | 127/150 [1:06:32<12:47, 33.36s/it]Setting `pad_token_id` to `eos_token_id`:128001 for open-end generation.\n"
          ]
        },
        {
          "name": "stdout",
          "output_type": "stream",
          "text": [
            "126/150: mse: 52.5301, mae: 5.5033, rmse: 7.2478\n"
          ]
        },
        {
          "name": "stderr",
          "output_type": "stream",
          "text": [
            "\r 85%|████████▌ | 128/150 [1:07:06<12:17, 33.54s/it]Setting `pad_token_id` to `eos_token_id`:128001 for open-end generation.\n"
          ]
        },
        {
          "name": "stdout",
          "output_type": "stream",
          "text": [
            "127/150: mse: 17.9861, mae: 1.4555, rmse: 4.2410\n"
          ]
        },
        {
          "name": "stderr",
          "output_type": "stream",
          "text": [
            "\r 86%|████████▌ | 129/150 [1:07:40<11:47, 33.69s/it]Setting `pad_token_id` to `eos_token_id`:128001 for open-end generation.\n"
          ]
        },
        {
          "name": "stdout",
          "output_type": "stream",
          "text": [
            "train-00000-of-00001.parquet failed mse  196.15869544468552\n"
          ]
        },
        {
          "name": "stderr",
          "output_type": "stream",
          "text": [
            "\r 87%|████████▋ | 130/150 [1:08:15<11:17, 33.87s/it]Setting `pad_token_id` to `eos_token_id`:128001 for open-end generation.\n"
          ]
        },
        {
          "name": "stdout",
          "output_type": "stream",
          "text": [
            "129/150: mse: 0.0460, mae: 0.2071, rmse: 0.2146\n"
          ]
        },
        {
          "name": "stderr",
          "output_type": "stream",
          "text": [
            "\r 87%|████████▋ | 131/150 [1:08:49<10:44, 33.94s/it]Setting `pad_token_id` to `eos_token_id`:128001 for open-end generation.\n"
          ]
        },
        {
          "name": "stdout",
          "output_type": "stream",
          "text": [
            "130/150: mse: 44.1334, mae: 6.5380, rmse: 6.6433\n"
          ]
        },
        {
          "name": "stderr",
          "output_type": "stream",
          "text": [
            "\r 88%|████████▊ | 132/150 [1:09:22<10:09, 33.86s/it]Setting `pad_token_id` to `eos_token_id`:128001 for open-end generation.\n"
          ]
        },
        {
          "name": "stdout",
          "output_type": "stream",
          "text": [
            "131/150: mse: 1.6872, mae: 1.1641, rmse: 1.2989\n"
          ]
        },
        {
          "name": "stderr",
          "output_type": "stream",
          "text": [
            "\r 89%|████████▊ | 133/150 [1:09:55<09:29, 33.52s/it]Setting `pad_token_id` to `eos_token_id`:128001 for open-end generation.\n"
          ]
        },
        {
          "name": "stdout",
          "output_type": "stream",
          "text": [
            "train-00000-of-00001.parquet failed mse  3653.42044059902\n"
          ]
        },
        {
          "name": "stderr",
          "output_type": "stream",
          "text": [
            "\r 89%|████████▉ | 134/150 [1:10:29<08:57, 33.58s/it]Setting `pad_token_id` to `eos_token_id`:128001 for open-end generation.\n"
          ]
        },
        {
          "name": "stdout",
          "output_type": "stream",
          "text": [
            "133/150: mse: 1.2975, mae: 0.8383, rmse: 1.1391\n"
          ]
        },
        {
          "name": "stderr",
          "output_type": "stream",
          "text": [
            "\r 90%|█████████ | 135/150 [1:11:03<08:26, 33.74s/it]Setting `pad_token_id` to `eos_token_id`:128001 for open-end generation.\n"
          ]
        },
        {
          "name": "stdout",
          "output_type": "stream",
          "text": [
            "134/150: mse: 0.1846, mae: 0.3668, rmse: 0.4296\n"
          ]
        },
        {
          "name": "stderr",
          "output_type": "stream",
          "text": [
            "\r 91%|█████████ | 136/150 [1:11:36<07:50, 33.62s/it]Setting `pad_token_id` to `eos_token_id`:128001 for open-end generation.\n"
          ]
        },
        {
          "name": "stdout",
          "output_type": "stream",
          "text": [
            "train-00000-of-00001.parquet failed mse  10851.531301125704\n"
          ]
        },
        {
          "name": "stderr",
          "output_type": "stream",
          "text": [
            "\r 91%|█████████▏| 137/150 [1:12:11<07:19, 33.81s/it]Setting `pad_token_id` to `eos_token_id`:128001 for open-end generation.\n"
          ]
        },
        {
          "name": "stdout",
          "output_type": "stream",
          "text": [
            "136/150: mse: 2.6559, mae: 1.3587, rmse: 1.6297\n"
          ]
        },
        {
          "name": "stderr",
          "output_type": "stream",
          "text": [
            "\r 92%|█████████▏| 138/150 [1:12:45<06:46, 33.88s/it]Setting `pad_token_id` to `eos_token_id`:128001 for open-end generation.\n"
          ]
        },
        {
          "name": "stdout",
          "output_type": "stream",
          "text": [
            "137/150: mse: 84.9996, mae: 8.8937, rmse: 9.2195\n"
          ]
        },
        {
          "name": "stderr",
          "output_type": "stream",
          "text": [
            "\r 93%|█████████▎| 139/150 [1:13:19<06:12, 33.90s/it]Setting `pad_token_id` to `eos_token_id`:128001 for open-end generation.\n"
          ]
        },
        {
          "name": "stdout",
          "output_type": "stream",
          "text": [
            "138/150: mse: 0.1419, mae: 0.3750, rmse: 0.3767\n"
          ]
        },
        {
          "name": "stderr",
          "output_type": "stream",
          "text": [
            "\r 93%|█████████▎| 140/150 [1:13:53<05:40, 34.07s/it]Setting `pad_token_id` to `eos_token_id`:128001 for open-end generation.\n"
          ]
        },
        {
          "name": "stdout",
          "output_type": "stream",
          "text": [
            "139/150: mse: 15.6635, mae: 3.7166, rmse: 3.9577\n"
          ]
        },
        {
          "name": "stderr",
          "output_type": "stream",
          "text": [
            "\r 94%|█████████▍| 141/150 [1:14:27<05:05, 33.95s/it]Setting `pad_token_id` to `eos_token_id`:128001 for open-end generation.\n"
          ]
        },
        {
          "name": "stdout",
          "output_type": "stream",
          "text": [
            "140/150: mse: 82.3389, mae: 7.5817, rmse: 9.0741\n"
          ]
        },
        {
          "name": "stderr",
          "output_type": "stream",
          "text": [
            "\r 95%|█████████▍| 142/150 [1:14:29<03:15, 24.42s/it]Setting `pad_token_id` to `eos_token_id`:128001 for open-end generation.\n"
          ]
        },
        {
          "name": "stdout",
          "output_type": "stream",
          "text": [
            "Skipping 141 due to error: object of type 'NoneType' has no len()\n"
          ]
        },
        {
          "name": "stderr",
          "output_type": "stream",
          "text": [
            "\r 95%|█████████▌| 143/150 [1:15:02<03:08, 26.94s/it]Setting `pad_token_id` to `eos_token_id`:128001 for open-end generation.\n"
          ]
        },
        {
          "name": "stdout",
          "output_type": "stream",
          "text": [
            "142/150: mse: 37.1552, mae: 4.6159, rmse: 6.0955\n"
          ]
        },
        {
          "name": "stderr",
          "output_type": "stream",
          "text": [
            "\r 96%|█████████▌| 144/150 [1:15:34<02:51, 28.64s/it]Setting `pad_token_id` to `eos_token_id`:128001 for open-end generation.\n"
          ]
        },
        {
          "name": "stdout",
          "output_type": "stream",
          "text": [
            "143/150: mse: 10.3197, mae: 3.0265, rmse: 3.2124\n"
          ]
        },
        {
          "name": "stderr",
          "output_type": "stream",
          "text": [
            "\r 97%|█████████▋| 145/150 [1:16:08<02:31, 30.20s/it]Setting `pad_token_id` to `eos_token_id`:128001 for open-end generation.\n"
          ]
        },
        {
          "name": "stdout",
          "output_type": "stream",
          "text": [
            "144/150: mse: 37.9575, mae: 6.1608, rmse: 6.1610\n"
          ]
        },
        {
          "name": "stderr",
          "output_type": "stream",
          "text": [
            "\r 97%|█████████▋| 146/150 [1:16:32<01:53, 28.27s/it]Setting `pad_token_id` to `eos_token_id`:128001 for open-end generation.\n"
          ]
        },
        {
          "name": "stdout",
          "output_type": "stream",
          "text": [
            "145/150: mse: 1.2719, mae: 1.1209, rmse: 1.1278\n"
          ]
        },
        {
          "name": "stderr",
          "output_type": "stream",
          "text": [
            "\r 98%|█████████▊| 147/150 [1:17:06<01:30, 30.01s/it]Setting `pad_token_id` to `eos_token_id`:128001 for open-end generation.\n"
          ]
        },
        {
          "name": "stdout",
          "output_type": "stream",
          "text": [
            "146/150: mse: 23.5279, mae: 4.0123, rmse: 4.8506\n"
          ]
        },
        {
          "name": "stderr",
          "output_type": "stream",
          "text": [
            "\r 99%|█████████▊| 148/150 [1:17:40<01:02, 31.12s/it]Setting `pad_token_id` to `eos_token_id`:128001 for open-end generation.\n"
          ]
        },
        {
          "name": "stdout",
          "output_type": "stream",
          "text": [
            "147/150: mse: 34.1707, mae: 5.8025, rmse: 5.8456\n"
          ]
        },
        {
          "name": "stderr",
          "output_type": "stream",
          "text": [
            "\r 99%|█████████▉| 149/150 [1:18:14<00:31, 31.96s/it]Setting `pad_token_id` to `eos_token_id`:128001 for open-end generation.\n"
          ]
        },
        {
          "name": "stdout",
          "output_type": "stream",
          "text": [
            "148/150: mse: 4.0269, mae: 1.4963, rmse: 2.0067\n"
          ]
        },
        {
          "name": "stderr",
          "output_type": "stream",
          "text": [
            "100%|██████████| 150/150 [1:18:46<00:00, 31.51s/it]"
          ]
        },
        {
          "name": "stdout",
          "output_type": "stream",
          "text": [
            "149/150: mse: 0.3339, mae: 0.5534, rmse: 0.5778\n",
            "Processing complete. Results saved to MTBench-Test/llama/tsforecast_short/final_results.json\n"
          ]
        },
        {
          "name": "stderr",
          "output_type": "stream",
          "text": [
            "\n"
          ]
        }
      ],
      "source": [
        "parser = argparse.ArgumentParser()\n",
        "parser.add_argument(\"--dataset_path\", type=str, help=\"path to the dataset\")\n",
        "parser.add_argument(\"--save_path\", type=str, help=\"path to save the results\")\n",
        "parser.add_argument(\"--indicator\", default=\"macd\", type=str, help=\"macd, bb, or time\")\n",
        "parser.add_argument(\"--model_type\",  type=str, help=\"deepseek or llama\")\n",
        "parser.add_argument(\"--model\",  type=str, help=\"model name\")\n",
        "parser.add_argument(\n",
        "    \"--mode\",\n",
        "    type=str,\n",
        "    default=\"combined\",\n",
        "    help=\"choose from timeseries_only, text_only, combined\",\n",
        ")\n",
        "args = parser.parse_args()\n",
        "\n",
        "save_path = Path(args.save_path)\n",
        "details_path = save_path / \"output_details\"\n",
        "visualizations_path = save_path / \"visualizations\"\n",
        "details_path.mkdir(parents=True, exist_ok=True)\n",
        "visualizations_path.mkdir(parents=True, exist_ok=True)\n",
        "\n",
        "data_list = []\n",
        "df = pd.read_parquet(args.dataset_path)\n",
        "filename = Path(args.dataset_path).name\n",
        "\n",
        "df[\"text\"] = df[\"text\"].apply(lambda x: json.loads(x) if isinstance(x, str) else x)\n",
        "df[\"technical\"] = df[\"technical\"].apply(lambda x: json.loads(x) if isinstance(x, str) else x)\n",
        "\n",
        "for col in [\"input_window\", \"output_window\", \"input_timestamps\"]:\n",
        "    df[col] = df[col].apply(lambda x: x.tolist() if isinstance(x, np.ndarray) else x)\n",
        "\n",
        "for _, row in df.iterrows():\n",
        "    text = row[\"text\"]\n",
        "    technical = row[\"technical\"]\n",
        "\n",
        "    extracted_data = {\n",
        "        \"filename\": filename,\n",
        "        \"input_window\": row[\"input_window\"],\n",
        "        \"output_window\": row[\"output_window\"],\n",
        "        \"text\": text[\"content\"],\n",
        "        \"input_timestamps\": row[\"input_timestamps\"],\n",
        "        \"in_macd\": technical.get(\"in_macd\"),\n",
        "        \"out_macd\": technical.get(\"out_macd\"),\n",
        "        \"in_upper_bb\": technical.get(\"in_upper_bb\"),\n",
        "        \"out_upper_bb\": technical.get(\"out_upper_bb\"),\n",
        "    }\n",
        "\n",
        "    data_list.append(extracted_data)\n",
        "data_list = data_list[:150]\n",
        "\n",
        "model = ModelFactory.get_model(model_type=args.model_type, model_name=args.model)\n",
        "\n",
        "result_list = []\n",
        "tot_samples = len(data_list)\n",
        "print(f\"Evaluating {tot_samples} samples...\")\n",
        "\n",
        "epoch_results = []\n",
        "cumulative_mse, cumulative_mae, cumulative_rmse, cumulative_mape = [], [], [], []\n",
        "for idx, sample in tqdm(enumerate(data_list), total=tot_samples):\n",
        "    try:\n",
        "        datetime_list = [\n",
        "            datetime.fromtimestamp(s).strftime(\"%Y-%m-%d %H:%M:%S\")\n",
        "            for s in sample[\"input_timestamps\"]\n",
        "        ]\n",
        "        text = sample[\"text\"]\n",
        "        input_ts = sample[\"input_window\"]\n",
        "        granularity_string = format_time_difference(\n",
        "            sample[\"input_timestamps\"][1] - sample[\"input_timestamps\"][0]\n",
        "        )\n",
        "\n",
        "        if args.indicator == \"macd\":\n",
        "            output_ts = sample[\"out_macd\"]\n",
        "            designed_prompt = finance_macd_metaprompt_generation(\n",
        "                text=text,\n",
        "                prices=input_ts,\n",
        "                start_datetime=datetime_list[0],\n",
        "                end_datetime=datetime_list[-1],\n",
        "                pred_end_datetime=output_ts[-1],\n",
        "                granularity=granularity_string,\n",
        "                prediction_length=len(output_ts),\n",
        "                mode=args.mode,\n",
        "            )\n",
        "        elif args.indicator == \"bb\":\n",
        "            output_ts = sample[\"out_upper_bb\"]\n",
        "            designed_prompt = finance_bb_metaprompt_generation(\n",
        "                text=text,\n",
        "                prices=input_ts,\n",
        "                start_datetime=datetime_list[0],\n",
        "                end_datetime=datetime_list[-1],\n",
        "                pred_end_datetime=output_ts[-1],\n",
        "                granularity=granularity_string,\n",
        "                prediction_length=len(output_ts),\n",
        "                mode=args.mode,\n",
        "            )\n",
        "        elif args.indicator == \"time\":\n",
        "            output_ts = sample[\"output_window\"]\n",
        "            designed_prompt = finance_mse_metaprompt_generation(\n",
        "                text=text,\n",
        "                prices=input_ts,\n",
        "                start_datetime=datetime_list[0],\n",
        "                end_datetime=datetime_list[-1],\n",
        "                pred_end_datetime=output_ts[-1],\n",
        "                granularity=granularity_string,\n",
        "                prediction_length=len(output_ts),\n",
        "                mode=args.mode,\n",
        "            )\n",
        "\n",
        "        answer = model.inference(designed_prompt)\n",
        "        answer = answer.strip().replace('\"', '')\n",
        "\n",
        "        predict_ts = parse_val_prediction_response(answer)\n",
        "        predict_ts_orig = predict_ts\n",
        "        predict_ts = np.interp( # type: ignore\n",
        "            np.linspace(0, 1, len(output_ts)),\n",
        "            np.linspace(0, 1, len(predict_ts)),\n",
        "            predict_ts\n",
        "        )\n",
        "\n",
        "        res = {\n",
        "            \"filename\": sample[\"filename\"],\n",
        "            \"response\": answer,\n",
        "            \"ground_truth\": output_ts,\n",
        "            \"predict\": predict_ts.tolist(),\n",
        "        }\n",
        "        result_list.append(res)\n",
        "\n",
        "        save_to_json(res, details_path / sample[\"filename\"])\n",
        "\n",
        "        if args.indicator == \"macd\":\n",
        "            first_half = sample[\"in_macd\"]\n",
        "        elif args.indicator == \"bb\":\n",
        "            first_half = sample[\"in_upper_bb\"]\n",
        "        elif args.indicator == \"time\":\n",
        "            first_half = sample[\"input_window\"]\n",
        "        plot_series(sample[\"filename\"], first_half, output_ts, predict_ts_orig, visualizations_path)\n",
        "\n",
        "        mse = np.mean((np.array(output_ts) - np.array(predict_ts)) ** 2)\n",
        "        mae = np.mean(np.abs(np.array(output_ts) - np.array(predict_ts)))\n",
        "        rmse = np.sqrt(mse)\n",
        "        mape = calculate_mape(output_ts, predict_ts)\n",
        "\n",
        "        if args.indicator == \"macd\" and mse > 10:\n",
        "            print(f\"{sample['filename']} failed mse\", mse)\n",
        "            epoch_results.append({\n",
        "                \"filename\": sample[\"filename\"],\n",
        "                \"failed\": True,\n",
        "                \"epoch\": idx + 1,\n",
        "                \"mse\": mse,\n",
        "                \"mae\": mae,\n",
        "                \"rmse\": rmse,\n",
        "                \"mape\": mape,\n",
        "            })\n",
        "            continue\n",
        "\n",
        "        if args.indicator == \"time\" and mse > 100:\n",
        "            print(f\"{sample['filename']} failed mse \", mse)\n",
        "            epoch_results.append({\n",
        "                \"filename\": sample[\"filename\"],\n",
        "                \"failed\": True,\n",
        "                \"epoch\": idx + 1,\n",
        "                \"mse\": mse,\n",
        "                \"mae\": mae,\n",
        "                \"rmse\": rmse,\n",
        "                \"mape\": mape,\n",
        "            })\n",
        "            continue\n",
        "\n",
        "        if args.indicator == \"bb\" and mse > 100:\n",
        "            print(f\"{sample['filename']} failed mse \", mse)\n",
        "            epoch_results.append({\n",
        "                \"filename\": sample[\"filename\"],\n",
        "                \"failed\": True,\n",
        "                \"epoch\": idx + 1,\n",
        "                \"mse\": mse,\n",
        "                \"mae\": mae,\n",
        "                \"rmse\": rmse,\n",
        "                \"mape\": mape,\n",
        "            })\n",
        "            continue\n",
        "\n",
        "        cumulative_mse.append(mse)\n",
        "        cumulative_mae.append(mae)\n",
        "        cumulative_rmse.append(rmse)\n",
        "        cumulative_mape.append(mape)\n",
        "\n",
        "        epoch_results.append({\n",
        "            \"filename\": sample[\"filename\"],\n",
        "            \"epoch\": idx + 1,\n",
        "            \"mse\": mse,\n",
        "            \"mae\": mae,\n",
        "            \"rmse\": rmse,\n",
        "            \"mape\": mape,\n",
        "            \"mean_mse\": np.mean(cumulative_mse),\n",
        "            \"mean_mae\": np.mean(cumulative_mae),\n",
        "            \"mean_rmse\": np.mean(cumulative_rmse),\n",
        "            \"mean_mape\": np.mean(cumulative_mape),\n",
        "        })\n",
        "        save_to_json(epoch_results, f\"{save_path}/epoch_results.json\")\n",
        "        print(\n",
        "            \"{}/{}: mse: {:.4f}, mae: {:.4f}, rmse: {:.4f}\".format(\n",
        "                idx, tot_samples, mse, mae, rmse\n",
        "            )\n",
        "        )\n",
        "    except Exception as e:\n",
        "        print(f\"Skipping {idx} due to error: {e}\")\n",
        "\n",
        "\n",
        "summary = {\n",
        "    \"total_samples\": len(result_list),\n",
        "    \"mse\": np.mean(cumulative_mse),\n",
        "    \"mae\": np.mean(cumulative_mae),\n",
        "    \"rmse\": np.mean(cumulative_rmse),\n",
        "    \"mape\": np.mean(cumulative_mape),\n",
        "}\n",
        "\n",
        "save_to_json(summary, f\"{save_path}/final_results.json\")\n",
        "print(f\"Processing complete. Results saved to {save_path}/final_results.json\")"
      ]
    }
  ],
  "metadata": {
    "accelerator": "GPU",
    "colab": {
      "gpuType": "T4",
      "provenance": []
    },
    "kernelspec": {
      "display_name": "Python 3",
      "name": "python3"
    },
    "language_info": {
      "name": "python"
    },
    "widgets": {
      "application/vnd.jupyter.widget-state+json": {
        "031cfbf6cccb493eb3ca5994a473b5fa": {
          "model_module": "@jupyter-widgets/controls",
          "model_module_version": "1.5.0",
          "model_name": "HBoxModel",
          "state": {
            "_dom_classes": [],
            "_model_module": "@jupyter-widgets/controls",
            "_model_module_version": "1.5.0",
            "_model_name": "HBoxModel",
            "_view_count": null,
            "_view_module": "@jupyter-widgets/controls",
            "_view_module_version": "1.5.0",
            "_view_name": "HBoxView",
            "box_style": "",
            "children": [
              "IPY_MODEL_561b74f79c9b4d799958b2fe0583b674",
              "IPY_MODEL_e52126c6b91e4586aa627fa438aa8589",
              "IPY_MODEL_157ec67f802948ccba8f6e41be6c0542"
            ],
            "layout": "IPY_MODEL_aad25a57275545ee91d542951da95f82"
          }
        },
        "0874e0d9f1e5415586560d173fc1448c": {
          "model_module": "@jupyter-widgets/base",
          "model_module_version": "1.2.0",
          "model_name": "LayoutModel",
          "state": {
            "_model_module": "@jupyter-widgets/base",
            "_model_module_version": "1.2.0",
            "_model_name": "LayoutModel",
            "_view_count": null,
            "_view_module": "@jupyter-widgets/base",
            "_view_module_version": "1.2.0",
            "_view_name": "LayoutView",
            "align_content": null,
            "align_items": null,
            "align_self": null,
            "border": null,
            "bottom": null,
            "display": null,
            "flex": null,
            "flex_flow": null,
            "grid_area": null,
            "grid_auto_columns": null,
            "grid_auto_flow": null,
            "grid_auto_rows": null,
            "grid_column": null,
            "grid_gap": null,
            "grid_row": null,
            "grid_template_areas": null,
            "grid_template_columns": null,
            "grid_template_rows": null,
            "height": null,
            "justify_content": null,
            "justify_items": null,
            "left": null,
            "margin": null,
            "max_height": null,
            "max_width": null,
            "min_height": null,
            "min_width": null,
            "object_fit": null,
            "object_position": null,
            "order": null,
            "overflow": null,
            "overflow_x": null,
            "overflow_y": null,
            "padding": null,
            "right": null,
            "top": null,
            "visibility": null,
            "width": null
          }
        },
        "0daa08fce7614e92a73143de4c80dd80": {
          "model_module": "@jupyter-widgets/controls",
          "model_module_version": "1.5.0",
          "model_name": "DescriptionStyleModel",
          "state": {
            "_model_module": "@jupyter-widgets/controls",
            "_model_module_version": "1.5.0",
            "_model_name": "DescriptionStyleModel",
            "_view_count": null,
            "_view_module": "@jupyter-widgets/base",
            "_view_module_version": "1.2.0",
            "_view_name": "StyleView",
            "description_width": ""
          }
        },
        "100784d1f24a4ee9b8c66a0d73f825ba": {
          "model_module": "@jupyter-widgets/controls",
          "model_module_version": "1.5.0",
          "model_name": "DescriptionStyleModel",
          "state": {
            "_model_module": "@jupyter-widgets/controls",
            "_model_module_version": "1.5.0",
            "_model_name": "DescriptionStyleModel",
            "_view_count": null,
            "_view_module": "@jupyter-widgets/base",
            "_view_module_version": "1.2.0",
            "_view_name": "StyleView",
            "description_width": ""
          }
        },
        "12198c9fd3bd4377a66125ce14feac76": {
          "model_module": "@jupyter-widgets/base",
          "model_module_version": "1.2.0",
          "model_name": "LayoutModel",
          "state": {
            "_model_module": "@jupyter-widgets/base",
            "_model_module_version": "1.2.0",
            "_model_name": "LayoutModel",
            "_view_count": null,
            "_view_module": "@jupyter-widgets/base",
            "_view_module_version": "1.2.0",
            "_view_name": "LayoutView",
            "align_content": null,
            "align_items": null,
            "align_self": null,
            "border": null,
            "bottom": null,
            "display": null,
            "flex": null,
            "flex_flow": null,
            "grid_area": null,
            "grid_auto_columns": null,
            "grid_auto_flow": null,
            "grid_auto_rows": null,
            "grid_column": null,
            "grid_gap": null,
            "grid_row": null,
            "grid_template_areas": null,
            "grid_template_columns": null,
            "grid_template_rows": null,
            "height": null,
            "justify_content": null,
            "justify_items": null,
            "left": null,
            "margin": null,
            "max_height": null,
            "max_width": null,
            "min_height": null,
            "min_width": null,
            "object_fit": null,
            "object_position": null,
            "order": null,
            "overflow": null,
            "overflow_x": null,
            "overflow_y": null,
            "padding": null,
            "right": null,
            "top": null,
            "visibility": null,
            "width": null
          }
        },
        "14e0d6bd1c1d4bfbadc750a96cf5326c": {
          "model_module": "@jupyter-widgets/base",
          "model_module_version": "1.2.0",
          "model_name": "LayoutModel",
          "state": {
            "_model_module": "@jupyter-widgets/base",
            "_model_module_version": "1.2.0",
            "_model_name": "LayoutModel",
            "_view_count": null,
            "_view_module": "@jupyter-widgets/base",
            "_view_module_version": "1.2.0",
            "_view_name": "LayoutView",
            "align_content": null,
            "align_items": null,
            "align_self": null,
            "border": null,
            "bottom": null,
            "display": null,
            "flex": null,
            "flex_flow": null,
            "grid_area": null,
            "grid_auto_columns": null,
            "grid_auto_flow": null,
            "grid_auto_rows": null,
            "grid_column": null,
            "grid_gap": null,
            "grid_row": null,
            "grid_template_areas": null,
            "grid_template_columns": null,
            "grid_template_rows": null,
            "height": null,
            "justify_content": null,
            "justify_items": null,
            "left": null,
            "margin": null,
            "max_height": null,
            "max_width": null,
            "min_height": null,
            "min_width": null,
            "object_fit": null,
            "object_position": null,
            "order": null,
            "overflow": null,
            "overflow_x": null,
            "overflow_y": null,
            "padding": null,
            "right": null,
            "top": null,
            "visibility": null,
            "width": null
          }
        },
        "157ec67f802948ccba8f6e41be6c0542": {
          "model_module": "@jupyter-widgets/controls",
          "model_module_version": "1.5.0",
          "model_name": "HTMLModel",
          "state": {
            "_dom_classes": [],
            "_model_module": "@jupyter-widgets/controls",
            "_model_module_version": "1.5.0",
            "_model_name": "HTMLModel",
            "_view_count": null,
            "_view_module": "@jupyter-widgets/controls",
            "_view_module_version": "1.5.0",
            "_view_name": "HTMLView",
            "description": "",
            "description_tooltip": null,
            "layout": "IPY_MODEL_c08607268b1a41fea3ac98629e98415d",
            "placeholder": "​",
            "style": "IPY_MODEL_6f16d9d4237d4976ac3bb85818d63548",
            "value": " 189/189 [00:00&lt;00:00, 19.2kB/s]"
          }
        },
        "179980b78d044b0cbf4e4e7a08382366": {
          "model_module": "@jupyter-widgets/base",
          "model_module_version": "1.2.0",
          "model_name": "LayoutModel",
          "state": {
            "_model_module": "@jupyter-widgets/base",
            "_model_module_version": "1.2.0",
            "_model_name": "LayoutModel",
            "_view_count": null,
            "_view_module": "@jupyter-widgets/base",
            "_view_module_version": "1.2.0",
            "_view_name": "LayoutView",
            "align_content": null,
            "align_items": null,
            "align_self": null,
            "border": null,
            "bottom": null,
            "display": null,
            "flex": null,
            "flex_flow": null,
            "grid_area": null,
            "grid_auto_columns": null,
            "grid_auto_flow": null,
            "grid_auto_rows": null,
            "grid_column": null,
            "grid_gap": null,
            "grid_row": null,
            "grid_template_areas": null,
            "grid_template_columns": null,
            "grid_template_rows": null,
            "height": null,
            "justify_content": null,
            "justify_items": null,
            "left": null,
            "margin": null,
            "max_height": null,
            "max_width": null,
            "min_height": null,
            "min_width": null,
            "object_fit": null,
            "object_position": null,
            "order": null,
            "overflow": null,
            "overflow_x": null,
            "overflow_y": null,
            "padding": null,
            "right": null,
            "top": null,
            "visibility": null,
            "width": null
          }
        },
        "2259ce0d84d642aaa3a356df595ca050": {
          "model_module": "@jupyter-widgets/base",
          "model_module_version": "1.2.0",
          "model_name": "LayoutModel",
          "state": {
            "_model_module": "@jupyter-widgets/base",
            "_model_module_version": "1.2.0",
            "_model_name": "LayoutModel",
            "_view_count": null,
            "_view_module": "@jupyter-widgets/base",
            "_view_module_version": "1.2.0",
            "_view_name": "LayoutView",
            "align_content": null,
            "align_items": null,
            "align_self": null,
            "border": null,
            "bottom": null,
            "display": null,
            "flex": null,
            "flex_flow": null,
            "grid_area": null,
            "grid_auto_columns": null,
            "grid_auto_flow": null,
            "grid_auto_rows": null,
            "grid_column": null,
            "grid_gap": null,
            "grid_row": null,
            "grid_template_areas": null,
            "grid_template_columns": null,
            "grid_template_rows": null,
            "height": null,
            "justify_content": null,
            "justify_items": null,
            "left": null,
            "margin": null,
            "max_height": null,
            "max_width": null,
            "min_height": null,
            "min_width": null,
            "object_fit": null,
            "object_position": null,
            "order": null,
            "overflow": null,
            "overflow_x": null,
            "overflow_y": null,
            "padding": null,
            "right": null,
            "top": null,
            "visibility": null,
            "width": null
          }
        },
        "25c97d18e3e5441b925c23497f3d3def": {
          "model_module": "@jupyter-widgets/controls",
          "model_module_version": "1.5.0",
          "model_name": "DescriptionStyleModel",
          "state": {
            "_model_module": "@jupyter-widgets/controls",
            "_model_module_version": "1.5.0",
            "_model_name": "DescriptionStyleModel",
            "_view_count": null,
            "_view_module": "@jupyter-widgets/base",
            "_view_module_version": "1.2.0",
            "_view_name": "StyleView",
            "description_width": ""
          }
        },
        "2d23d5e52ff9473d819d1b81b3e8cbc7": {
          "model_module": "@jupyter-widgets/controls",
          "model_module_version": "1.5.0",
          "model_name": "DescriptionStyleModel",
          "state": {
            "_model_module": "@jupyter-widgets/controls",
            "_model_module_version": "1.5.0",
            "_model_name": "DescriptionStyleModel",
            "_view_count": null,
            "_view_module": "@jupyter-widgets/base",
            "_view_module_version": "1.2.0",
            "_view_name": "StyleView",
            "description_width": ""
          }
        },
        "33e81677f6b14c528f8f147a5fe62a6e": {
          "model_module": "@jupyter-widgets/controls",
          "model_module_version": "1.5.0",
          "model_name": "DescriptionStyleModel",
          "state": {
            "_model_module": "@jupyter-widgets/controls",
            "_model_module_version": "1.5.0",
            "_model_name": "DescriptionStyleModel",
            "_view_count": null,
            "_view_module": "@jupyter-widgets/base",
            "_view_module_version": "1.2.0",
            "_view_name": "StyleView",
            "description_width": ""
          }
        },
        "3a18e6cc52b84d529f0b75964bc8039f": {
          "model_module": "@jupyter-widgets/base",
          "model_module_version": "1.2.0",
          "model_name": "LayoutModel",
          "state": {
            "_model_module": "@jupyter-widgets/base",
            "_model_module_version": "1.2.0",
            "_model_name": "LayoutModel",
            "_view_count": null,
            "_view_module": "@jupyter-widgets/base",
            "_view_module_version": "1.2.0",
            "_view_name": "LayoutView",
            "align_content": null,
            "align_items": null,
            "align_self": null,
            "border": null,
            "bottom": null,
            "display": null,
            "flex": null,
            "flex_flow": null,
            "grid_area": null,
            "grid_auto_columns": null,
            "grid_auto_flow": null,
            "grid_auto_rows": null,
            "grid_column": null,
            "grid_gap": null,
            "grid_row": null,
            "grid_template_areas": null,
            "grid_template_columns": null,
            "grid_template_rows": null,
            "height": null,
            "justify_content": null,
            "justify_items": null,
            "left": null,
            "margin": null,
            "max_height": null,
            "max_width": null,
            "min_height": null,
            "min_width": null,
            "object_fit": null,
            "object_position": null,
            "order": null,
            "overflow": null,
            "overflow_x": null,
            "overflow_y": null,
            "padding": null,
            "right": null,
            "top": null,
            "visibility": null,
            "width": null
          }
        },
        "3d7f746bbbc845669d88446a808dfcca": {
          "model_module": "@jupyter-widgets/controls",
          "model_module_version": "1.5.0",
          "model_name": "DescriptionStyleModel",
          "state": {
            "_model_module": "@jupyter-widgets/controls",
            "_model_module_version": "1.5.0",
            "_model_name": "DescriptionStyleModel",
            "_view_count": null,
            "_view_module": "@jupyter-widgets/base",
            "_view_module_version": "1.2.0",
            "_view_name": "StyleView",
            "description_width": ""
          }
        },
        "43fdd7bee2a746d58e39addcbe122057": {
          "model_module": "@jupyter-widgets/controls",
          "model_module_version": "1.5.0",
          "model_name": "HTMLModel",
          "state": {
            "_dom_classes": [],
            "_model_module": "@jupyter-widgets/controls",
            "_model_module_version": "1.5.0",
            "_model_name": "HTMLModel",
            "_view_count": null,
            "_view_module": "@jupyter-widgets/controls",
            "_view_module_version": "1.5.0",
            "_view_name": "HTMLView",
            "description": "",
            "description_tooltip": null,
            "layout": "IPY_MODEL_0874e0d9f1e5415586560d173fc1448c",
            "placeholder": "​",
            "style": "IPY_MODEL_cd9e442b3a5742fc976feb5b559391b0",
            "value": " 54.5k/54.5k [00:00&lt;00:00, 4.08MB/s]"
          }
        },
        "49517971ad894c678c636314a3d0f532": {
          "model_module": "@jupyter-widgets/controls",
          "model_module_version": "1.5.0",
          "model_name": "DescriptionStyleModel",
          "state": {
            "_model_module": "@jupyter-widgets/controls",
            "_model_module_version": "1.5.0",
            "_model_name": "DescriptionStyleModel",
            "_view_count": null,
            "_view_module": "@jupyter-widgets/base",
            "_view_module_version": "1.2.0",
            "_view_name": "StyleView",
            "description_width": ""
          }
        },
        "50de36cb66d54295b550cb82ece4457a": {
          "model_module": "@jupyter-widgets/controls",
          "model_module_version": "1.5.0",
          "model_name": "ProgressStyleModel",
          "state": {
            "_model_module": "@jupyter-widgets/controls",
            "_model_module_version": "1.5.0",
            "_model_name": "ProgressStyleModel",
            "_view_count": null,
            "_view_module": "@jupyter-widgets/base",
            "_view_module_version": "1.2.0",
            "_view_name": "StyleView",
            "bar_color": null,
            "description_width": ""
          }
        },
        "561b74f79c9b4d799958b2fe0583b674": {
          "model_module": "@jupyter-widgets/controls",
          "model_module_version": "1.5.0",
          "model_name": "HTMLModel",
          "state": {
            "_dom_classes": [],
            "_model_module": "@jupyter-widgets/controls",
            "_model_module_version": "1.5.0",
            "_model_name": "HTMLModel",
            "_view_count": null,
            "_view_module": "@jupyter-widgets/controls",
            "_view_module_version": "1.5.0",
            "_view_name": "HTMLView",
            "description": "",
            "description_tooltip": null,
            "layout": "IPY_MODEL_7d4e7e2ddc1e4c5a817343518c75173d",
            "placeholder": "​",
            "style": "IPY_MODEL_3d7f746bbbc845669d88446a808dfcca",
            "value": "generation_config.json: 100%"
          }
        },
        "5b005965ea4e4f6591c67680c34956e0": {
          "model_module": "@jupyter-widgets/controls",
          "model_module_version": "1.5.0",
          "model_name": "HTMLModel",
          "state": {
            "_dom_classes": [],
            "_model_module": "@jupyter-widgets/controls",
            "_model_module_version": "1.5.0",
            "_model_name": "HTMLModel",
            "_view_count": null,
            "_view_module": "@jupyter-widgets/controls",
            "_view_module_version": "1.5.0",
            "_view_name": "HTMLView",
            "description": "",
            "description_tooltip": null,
            "layout": "IPY_MODEL_e6b4f2aab16f4334b208e2319dda4003",
            "placeholder": "​",
            "style": "IPY_MODEL_c7f62a5fada6449bbe6510f5c8d485fc",
            "value": " 296/296 [00:00&lt;00:00, 21.9kB/s]"
          }
        },
        "5b5e03ee2eb74dc2b23da00ca95613ab": {
          "model_module": "@jupyter-widgets/base",
          "model_module_version": "1.2.0",
          "model_name": "LayoutModel",
          "state": {
            "_model_module": "@jupyter-widgets/base",
            "_model_module_version": "1.2.0",
            "_model_name": "LayoutModel",
            "_view_count": null,
            "_view_module": "@jupyter-widgets/base",
            "_view_module_version": "1.2.0",
            "_view_name": "LayoutView",
            "align_content": null,
            "align_items": null,
            "align_self": null,
            "border": null,
            "bottom": null,
            "display": null,
            "flex": null,
            "flex_flow": null,
            "grid_area": null,
            "grid_auto_columns": null,
            "grid_auto_flow": null,
            "grid_auto_rows": null,
            "grid_column": null,
            "grid_gap": null,
            "grid_row": null,
            "grid_template_areas": null,
            "grid_template_columns": null,
            "grid_template_rows": null,
            "height": null,
            "justify_content": null,
            "justify_items": null,
            "left": null,
            "margin": null,
            "max_height": null,
            "max_width": null,
            "min_height": null,
            "min_width": null,
            "object_fit": null,
            "object_position": null,
            "order": null,
            "overflow": null,
            "overflow_x": null,
            "overflow_y": null,
            "padding": null,
            "right": null,
            "top": null,
            "visibility": null,
            "width": null
          }
        },
        "5e984b2a05294741aa75f180dcc0932a": {
          "model_module": "@jupyter-widgets/controls",
          "model_module_version": "1.5.0",
          "model_name": "HTMLModel",
          "state": {
            "_dom_classes": [],
            "_model_module": "@jupyter-widgets/controls",
            "_model_module_version": "1.5.0",
            "_model_name": "HTMLModel",
            "_view_count": null,
            "_view_module": "@jupyter-widgets/controls",
            "_view_module_version": "1.5.0",
            "_view_name": "HTMLView",
            "description": "",
            "description_tooltip": null,
            "layout": "IPY_MODEL_179980b78d044b0cbf4e4e7a08382366",
            "placeholder": "​",
            "style": "IPY_MODEL_0daa08fce7614e92a73143de4c80dd80",
            "value": "config.json: 100%"
          }
        },
        "62c76747efef4f7381874a5e0af5cb60": {
          "model_module": "@jupyter-widgets/base",
          "model_module_version": "1.2.0",
          "model_name": "LayoutModel",
          "state": {
            "_model_module": "@jupyter-widgets/base",
            "_model_module_version": "1.2.0",
            "_model_name": "LayoutModel",
            "_view_count": null,
            "_view_module": "@jupyter-widgets/base",
            "_view_module_version": "1.2.0",
            "_view_name": "LayoutView",
            "align_content": null,
            "align_items": null,
            "align_self": null,
            "border": null,
            "bottom": null,
            "display": null,
            "flex": null,
            "flex_flow": null,
            "grid_area": null,
            "grid_auto_columns": null,
            "grid_auto_flow": null,
            "grid_auto_rows": null,
            "grid_column": null,
            "grid_gap": null,
            "grid_row": null,
            "grid_template_areas": null,
            "grid_template_columns": null,
            "grid_template_rows": null,
            "height": null,
            "justify_content": null,
            "justify_items": null,
            "left": null,
            "margin": null,
            "max_height": null,
            "max_width": null,
            "min_height": null,
            "min_width": null,
            "object_fit": null,
            "object_position": null,
            "order": null,
            "overflow": null,
            "overflow_x": null,
            "overflow_y": null,
            "padding": null,
            "right": null,
            "top": null,
            "visibility": null,
            "width": null
          }
        },
        "659008fbf459484396348b7f7946763c": {
          "model_module": "@jupyter-widgets/controls",
          "model_module_version": "1.5.0",
          "model_name": "FloatProgressModel",
          "state": {
            "_dom_classes": [],
            "_model_module": "@jupyter-widgets/controls",
            "_model_module_version": "1.5.0",
            "_model_name": "FloatProgressModel",
            "_view_count": null,
            "_view_module": "@jupyter-widgets/controls",
            "_view_module_version": "1.5.0",
            "_view_name": "ProgressView",
            "bar_style": "success",
            "description": "",
            "description_tooltip": null,
            "layout": "IPY_MODEL_2259ce0d84d642aaa3a356df595ca050",
            "max": 296,
            "min": 0,
            "orientation": "horizontal",
            "style": "IPY_MODEL_cd02c71133144312ab448700c7245f59",
            "value": 296
          }
        },
        "69b98a90a36a4e27a952d64302cb702c": {
          "model_module": "@jupyter-widgets/base",
          "model_module_version": "1.2.0",
          "model_name": "LayoutModel",
          "state": {
            "_model_module": "@jupyter-widgets/base",
            "_model_module_version": "1.2.0",
            "_model_name": "LayoutModel",
            "_view_count": null,
            "_view_module": "@jupyter-widgets/base",
            "_view_module_version": "1.2.0",
            "_view_name": "LayoutView",
            "align_content": null,
            "align_items": null,
            "align_self": null,
            "border": null,
            "bottom": null,
            "display": null,
            "flex": null,
            "flex_flow": null,
            "grid_area": null,
            "grid_auto_columns": null,
            "grid_auto_flow": null,
            "grid_auto_rows": null,
            "grid_column": null,
            "grid_gap": null,
            "grid_row": null,
            "grid_template_areas": null,
            "grid_template_columns": null,
            "grid_template_rows": null,
            "height": null,
            "justify_content": null,
            "justify_items": null,
            "left": null,
            "margin": null,
            "max_height": null,
            "max_width": null,
            "min_height": null,
            "min_width": null,
            "object_fit": null,
            "object_position": null,
            "order": null,
            "overflow": null,
            "overflow_x": null,
            "overflow_y": null,
            "padding": null,
            "right": null,
            "top": null,
            "visibility": null,
            "width": null
          }
        },
        "6d1c5e7ae65e41019a67ee2703313944": {
          "model_module": "@jupyter-widgets/controls",
          "model_module_version": "1.5.0",
          "model_name": "HTMLModel",
          "state": {
            "_dom_classes": [],
            "_model_module": "@jupyter-widgets/controls",
            "_model_module_version": "1.5.0",
            "_model_name": "HTMLModel",
            "_view_count": null,
            "_view_module": "@jupyter-widgets/controls",
            "_view_module_version": "1.5.0",
            "_view_name": "HTMLView",
            "description": "",
            "description_tooltip": null,
            "layout": "IPY_MODEL_bf03ed90b2ab419fac335e1b99e8840d",
            "placeholder": "​",
            "style": "IPY_MODEL_daff3b8fea1541ea9c9b04565b124a62",
            "value": " 2.47G/2.47G [00:47&lt;00:00, 83.2MB/s]"
          }
        },
        "6f16d9d4237d4976ac3bb85818d63548": {
          "model_module": "@jupyter-widgets/controls",
          "model_module_version": "1.5.0",
          "model_name": "DescriptionStyleModel",
          "state": {
            "_model_module": "@jupyter-widgets/controls",
            "_model_module_version": "1.5.0",
            "_model_name": "DescriptionStyleModel",
            "_view_count": null,
            "_view_module": "@jupyter-widgets/base",
            "_view_module_version": "1.2.0",
            "_view_name": "StyleView",
            "description_width": ""
          }
        },
        "762c0adc64a94e0382d5e2f74cbeaa2e": {
          "model_module": "@jupyter-widgets/base",
          "model_module_version": "1.2.0",
          "model_name": "LayoutModel",
          "state": {
            "_model_module": "@jupyter-widgets/base",
            "_model_module_version": "1.2.0",
            "_model_name": "LayoutModel",
            "_view_count": null,
            "_view_module": "@jupyter-widgets/base",
            "_view_module_version": "1.2.0",
            "_view_name": "LayoutView",
            "align_content": null,
            "align_items": null,
            "align_self": null,
            "border": null,
            "bottom": null,
            "display": null,
            "flex": null,
            "flex_flow": null,
            "grid_area": null,
            "grid_auto_columns": null,
            "grid_auto_flow": null,
            "grid_auto_rows": null,
            "grid_column": null,
            "grid_gap": null,
            "grid_row": null,
            "grid_template_areas": null,
            "grid_template_columns": null,
            "grid_template_rows": null,
            "height": null,
            "justify_content": null,
            "justify_items": null,
            "left": null,
            "margin": null,
            "max_height": null,
            "max_width": null,
            "min_height": null,
            "min_width": null,
            "object_fit": null,
            "object_position": null,
            "order": null,
            "overflow": null,
            "overflow_x": null,
            "overflow_y": null,
            "padding": null,
            "right": null,
            "top": null,
            "visibility": null,
            "width": null
          }
        },
        "7859e4b53227412b81961156ba7c6d5d": {
          "model_module": "@jupyter-widgets/controls",
          "model_module_version": "1.5.0",
          "model_name": "ProgressStyleModel",
          "state": {
            "_model_module": "@jupyter-widgets/controls",
            "_model_module_version": "1.5.0",
            "_model_name": "ProgressStyleModel",
            "_view_count": null,
            "_view_module": "@jupyter-widgets/base",
            "_view_module_version": "1.2.0",
            "_view_name": "StyleView",
            "bar_color": null,
            "description_width": ""
          }
        },
        "7d4e7e2ddc1e4c5a817343518c75173d": {
          "model_module": "@jupyter-widgets/base",
          "model_module_version": "1.2.0",
          "model_name": "LayoutModel",
          "state": {
            "_model_module": "@jupyter-widgets/base",
            "_model_module_version": "1.2.0",
            "_model_name": "LayoutModel",
            "_view_count": null,
            "_view_module": "@jupyter-widgets/base",
            "_view_module_version": "1.2.0",
            "_view_name": "LayoutView",
            "align_content": null,
            "align_items": null,
            "align_self": null,
            "border": null,
            "bottom": null,
            "display": null,
            "flex": null,
            "flex_flow": null,
            "grid_area": null,
            "grid_auto_columns": null,
            "grid_auto_flow": null,
            "grid_auto_rows": null,
            "grid_column": null,
            "grid_gap": null,
            "grid_row": null,
            "grid_template_areas": null,
            "grid_template_columns": null,
            "grid_template_rows": null,
            "height": null,
            "justify_content": null,
            "justify_items": null,
            "left": null,
            "margin": null,
            "max_height": null,
            "max_width": null,
            "min_height": null,
            "min_width": null,
            "object_fit": null,
            "object_position": null,
            "order": null,
            "overflow": null,
            "overflow_x": null,
            "overflow_y": null,
            "padding": null,
            "right": null,
            "top": null,
            "visibility": null,
            "width": null
          }
        },
        "7d9d1f3d09f9445ca2e5ca1cb2437d4f": {
          "model_module": "@jupyter-widgets/controls",
          "model_module_version": "1.5.0",
          "model_name": "HBoxModel",
          "state": {
            "_dom_classes": [],
            "_model_module": "@jupyter-widgets/controls",
            "_model_module_version": "1.5.0",
            "_model_name": "HBoxModel",
            "_view_count": null,
            "_view_module": "@jupyter-widgets/controls",
            "_view_module_version": "1.5.0",
            "_view_name": "HBoxView",
            "box_style": "",
            "children": [
              "IPY_MODEL_f6d8a5bc94954fa3b412edcc55364e6d",
              "IPY_MODEL_9cf2bbcb10ea4b089cad3002d5bbaaca",
              "IPY_MODEL_cfbafd80784b4d4bb41ef8d97a66861e"
            ],
            "layout": "IPY_MODEL_9e4c082620094384a7e63ffe328c52b6"
          }
        },
        "8ffd4ee4e6cf49d4b253f0d3f00e103a": {
          "model_module": "@jupyter-widgets/controls",
          "model_module_version": "1.5.0",
          "model_name": "HTMLModel",
          "state": {
            "_dom_classes": [],
            "_model_module": "@jupyter-widgets/controls",
            "_model_module_version": "1.5.0",
            "_model_name": "HTMLModel",
            "_view_count": null,
            "_view_module": "@jupyter-widgets/controls",
            "_view_module_version": "1.5.0",
            "_view_name": "HTMLView",
            "description": "",
            "description_tooltip": null,
            "layout": "IPY_MODEL_69b98a90a36a4e27a952d64302cb702c",
            "placeholder": "​",
            "style": "IPY_MODEL_2d23d5e52ff9473d819d1b81b3e8cbc7",
            "value": "model.safetensors: 100%"
          }
        },
        "9c3297a78eaa4f3cb47bb8961a4758ad": {
          "model_module": "@jupyter-widgets/controls",
          "model_module_version": "1.5.0",
          "model_name": "HTMLModel",
          "state": {
            "_dom_classes": [],
            "_model_module": "@jupyter-widgets/controls",
            "_model_module_version": "1.5.0",
            "_model_name": "HTMLModel",
            "_view_count": null,
            "_view_module": "@jupyter-widgets/controls",
            "_view_module_version": "1.5.0",
            "_view_name": "HTMLView",
            "description": "",
            "description_tooltip": null,
            "layout": "IPY_MODEL_9dc6afc346c74cc8b66c8fe91ec6a801",
            "placeholder": "​",
            "style": "IPY_MODEL_25c97d18e3e5441b925c23497f3d3def",
            "value": "tokenizer_config.json: 100%"
          }
        },
        "9ce10200c3014a418e428685a2bdb4fa": {
          "model_module": "@jupyter-widgets/base",
          "model_module_version": "1.2.0",
          "model_name": "LayoutModel",
          "state": {
            "_model_module": "@jupyter-widgets/base",
            "_model_module_version": "1.2.0",
            "_model_name": "LayoutModel",
            "_view_count": null,
            "_view_module": "@jupyter-widgets/base",
            "_view_module_version": "1.2.0",
            "_view_name": "LayoutView",
            "align_content": null,
            "align_items": null,
            "align_self": null,
            "border": null,
            "bottom": null,
            "display": null,
            "flex": null,
            "flex_flow": null,
            "grid_area": null,
            "grid_auto_columns": null,
            "grid_auto_flow": null,
            "grid_auto_rows": null,
            "grid_column": null,
            "grid_gap": null,
            "grid_row": null,
            "grid_template_areas": null,
            "grid_template_columns": null,
            "grid_template_rows": null,
            "height": null,
            "justify_content": null,
            "justify_items": null,
            "left": null,
            "margin": null,
            "max_height": null,
            "max_width": null,
            "min_height": null,
            "min_width": null,
            "object_fit": null,
            "object_position": null,
            "order": null,
            "overflow": null,
            "overflow_x": null,
            "overflow_y": null,
            "padding": null,
            "right": null,
            "top": null,
            "visibility": null,
            "width": null
          }
        },
        "9cf2bbcb10ea4b089cad3002d5bbaaca": {
          "model_module": "@jupyter-widgets/controls",
          "model_module_version": "1.5.0",
          "model_name": "FloatProgressModel",
          "state": {
            "_dom_classes": [],
            "_model_module": "@jupyter-widgets/controls",
            "_model_module_version": "1.5.0",
            "_model_name": "FloatProgressModel",
            "_view_count": null,
            "_view_module": "@jupyter-widgets/controls",
            "_view_module_version": "1.5.0",
            "_view_name": "ProgressView",
            "bar_style": "success",
            "description": "",
            "description_tooltip": null,
            "layout": "IPY_MODEL_62c76747efef4f7381874a5e0af5cb60",
            "max": 9085657,
            "min": 0,
            "orientation": "horizontal",
            "style": "IPY_MODEL_c097a2bff414492daaedefecbeaeffad",
            "value": 9085657
          }
        },
        "9cf2d1b7cf8e49eba5c2dc678bf2a2dc": {
          "model_module": "@jupyter-widgets/controls",
          "model_module_version": "1.5.0",
          "model_name": "ProgressStyleModel",
          "state": {
            "_model_module": "@jupyter-widgets/controls",
            "_model_module_version": "1.5.0",
            "_model_name": "ProgressStyleModel",
            "_view_count": null,
            "_view_module": "@jupyter-widgets/base",
            "_view_module_version": "1.2.0",
            "_view_name": "StyleView",
            "bar_color": null,
            "description_width": ""
          }
        },
        "9dc6afc346c74cc8b66c8fe91ec6a801": {
          "model_module": "@jupyter-widgets/base",
          "model_module_version": "1.2.0",
          "model_name": "LayoutModel",
          "state": {
            "_model_module": "@jupyter-widgets/base",
            "_model_module_version": "1.2.0",
            "_model_name": "LayoutModel",
            "_view_count": null,
            "_view_module": "@jupyter-widgets/base",
            "_view_module_version": "1.2.0",
            "_view_name": "LayoutView",
            "align_content": null,
            "align_items": null,
            "align_self": null,
            "border": null,
            "bottom": null,
            "display": null,
            "flex": null,
            "flex_flow": null,
            "grid_area": null,
            "grid_auto_columns": null,
            "grid_auto_flow": null,
            "grid_auto_rows": null,
            "grid_column": null,
            "grid_gap": null,
            "grid_row": null,
            "grid_template_areas": null,
            "grid_template_columns": null,
            "grid_template_rows": null,
            "height": null,
            "justify_content": null,
            "justify_items": null,
            "left": null,
            "margin": null,
            "max_height": null,
            "max_width": null,
            "min_height": null,
            "min_width": null,
            "object_fit": null,
            "object_position": null,
            "order": null,
            "overflow": null,
            "overflow_x": null,
            "overflow_y": null,
            "padding": null,
            "right": null,
            "top": null,
            "visibility": null,
            "width": null
          }
        },
        "9e4c082620094384a7e63ffe328c52b6": {
          "model_module": "@jupyter-widgets/base",
          "model_module_version": "1.2.0",
          "model_name": "LayoutModel",
          "state": {
            "_model_module": "@jupyter-widgets/base",
            "_model_module_version": "1.2.0",
            "_model_name": "LayoutModel",
            "_view_count": null,
            "_view_module": "@jupyter-widgets/base",
            "_view_module_version": "1.2.0",
            "_view_name": "LayoutView",
            "align_content": null,
            "align_items": null,
            "align_self": null,
            "border": null,
            "bottom": null,
            "display": null,
            "flex": null,
            "flex_flow": null,
            "grid_area": null,
            "grid_auto_columns": null,
            "grid_auto_flow": null,
            "grid_auto_rows": null,
            "grid_column": null,
            "grid_gap": null,
            "grid_row": null,
            "grid_template_areas": null,
            "grid_template_columns": null,
            "grid_template_rows": null,
            "height": null,
            "justify_content": null,
            "justify_items": null,
            "left": null,
            "margin": null,
            "max_height": null,
            "max_width": null,
            "min_height": null,
            "min_width": null,
            "object_fit": null,
            "object_position": null,
            "order": null,
            "overflow": null,
            "overflow_x": null,
            "overflow_y": null,
            "padding": null,
            "right": null,
            "top": null,
            "visibility": null,
            "width": null
          }
        },
        "a57ddf2db4cb42d88be577dcc7901b66": {
          "model_module": "@jupyter-widgets/controls",
          "model_module_version": "1.5.0",
          "model_name": "DescriptionStyleModel",
          "state": {
            "_model_module": "@jupyter-widgets/controls",
            "_model_module_version": "1.5.0",
            "_model_name": "DescriptionStyleModel",
            "_view_count": null,
            "_view_module": "@jupyter-widgets/base",
            "_view_module_version": "1.2.0",
            "_view_name": "StyleView",
            "description_width": ""
          }
        },
        "a6682b6b54ea4491a237ee8d0491a2c4": {
          "model_module": "@jupyter-widgets/controls",
          "model_module_version": "1.5.0",
          "model_name": "FloatProgressModel",
          "state": {
            "_dom_classes": [],
            "_model_module": "@jupyter-widgets/controls",
            "_model_module_version": "1.5.0",
            "_model_name": "FloatProgressModel",
            "_view_count": null,
            "_view_module": "@jupyter-widgets/controls",
            "_view_module_version": "1.5.0",
            "_view_name": "ProgressView",
            "bar_style": "success",
            "description": "",
            "description_tooltip": null,
            "layout": "IPY_MODEL_dca24977fb524e79a1037ae734eb85cc",
            "max": 2471645608,
            "min": 0,
            "orientation": "horizontal",
            "style": "IPY_MODEL_7859e4b53227412b81961156ba7c6d5d",
            "value": 2471645608
          }
        },
        "a89d1c7769854a0baeb926982dc8028e": {
          "model_module": "@jupyter-widgets/controls",
          "model_module_version": "1.5.0",
          "model_name": "HBoxModel",
          "state": {
            "_dom_classes": [],
            "_model_module": "@jupyter-widgets/controls",
            "_model_module_version": "1.5.0",
            "_model_name": "HBoxModel",
            "_view_count": null,
            "_view_module": "@jupyter-widgets/controls",
            "_view_module_version": "1.5.0",
            "_view_name": "HBoxView",
            "box_style": "",
            "children": [
              "IPY_MODEL_9c3297a78eaa4f3cb47bb8961a4758ad",
              "IPY_MODEL_e1e8489c32dd4fbba37fd440e33b0697",
              "IPY_MODEL_43fdd7bee2a746d58e39addcbe122057"
            ],
            "layout": "IPY_MODEL_3a18e6cc52b84d529f0b75964bc8039f"
          }
        },
        "aad25a57275545ee91d542951da95f82": {
          "model_module": "@jupyter-widgets/base",
          "model_module_version": "1.2.0",
          "model_name": "LayoutModel",
          "state": {
            "_model_module": "@jupyter-widgets/base",
            "_model_module_version": "1.2.0",
            "_model_name": "LayoutModel",
            "_view_count": null,
            "_view_module": "@jupyter-widgets/base",
            "_view_module_version": "1.2.0",
            "_view_name": "LayoutView",
            "align_content": null,
            "align_items": null,
            "align_self": null,
            "border": null,
            "bottom": null,
            "display": null,
            "flex": null,
            "flex_flow": null,
            "grid_area": null,
            "grid_auto_columns": null,
            "grid_auto_flow": null,
            "grid_auto_rows": null,
            "grid_column": null,
            "grid_gap": null,
            "grid_row": null,
            "grid_template_areas": null,
            "grid_template_columns": null,
            "grid_template_rows": null,
            "height": null,
            "justify_content": null,
            "justify_items": null,
            "left": null,
            "margin": null,
            "max_height": null,
            "max_width": null,
            "min_height": null,
            "min_width": null,
            "object_fit": null,
            "object_position": null,
            "order": null,
            "overflow": null,
            "overflow_x": null,
            "overflow_y": null,
            "padding": null,
            "right": null,
            "top": null,
            "visibility": null,
            "width": null
          }
        },
        "ab4ad125fab4452f87e0f70449d51a89": {
          "model_module": "@jupyter-widgets/controls",
          "model_module_version": "1.5.0",
          "model_name": "HBoxModel",
          "state": {
            "_dom_classes": [],
            "_model_module": "@jupyter-widgets/controls",
            "_model_module_version": "1.5.0",
            "_model_name": "HBoxModel",
            "_view_count": null,
            "_view_module": "@jupyter-widgets/controls",
            "_view_module_version": "1.5.0",
            "_view_name": "HBoxView",
            "box_style": "",
            "children": [
              "IPY_MODEL_8ffd4ee4e6cf49d4b253f0d3f00e103a",
              "IPY_MODEL_a6682b6b54ea4491a237ee8d0491a2c4",
              "IPY_MODEL_6d1c5e7ae65e41019a67ee2703313944"
            ],
            "layout": "IPY_MODEL_5b5e03ee2eb74dc2b23da00ca95613ab"
          }
        },
        "af6b8db8f8aa43d2b8b1aa7d8b60f020": {
          "model_module": "@jupyter-widgets/controls",
          "model_module_version": "1.5.0",
          "model_name": "FloatProgressModel",
          "state": {
            "_dom_classes": [],
            "_model_module": "@jupyter-widgets/controls",
            "_model_module_version": "1.5.0",
            "_model_name": "FloatProgressModel",
            "_view_count": null,
            "_view_module": "@jupyter-widgets/controls",
            "_view_module_version": "1.5.0",
            "_view_name": "ProgressView",
            "bar_style": "success",
            "description": "",
            "description_tooltip": null,
            "layout": "IPY_MODEL_e5df7dd934cb4caaa98907b199eb32b6",
            "max": 877,
            "min": 0,
            "orientation": "horizontal",
            "style": "IPY_MODEL_d2b8d5e3597e493183948e9ff0dc9f2d",
            "value": 877
          }
        },
        "b1060b05b5a64aefab1653801e6910a4": {
          "model_module": "@jupyter-widgets/controls",
          "model_module_version": "1.5.0",
          "model_name": "HBoxModel",
          "state": {
            "_dom_classes": [],
            "_model_module": "@jupyter-widgets/controls",
            "_model_module_version": "1.5.0",
            "_model_name": "HBoxModel",
            "_view_count": null,
            "_view_module": "@jupyter-widgets/controls",
            "_view_module_version": "1.5.0",
            "_view_name": "HBoxView",
            "box_style": "",
            "children": [
              "IPY_MODEL_5e984b2a05294741aa75f180dcc0932a",
              "IPY_MODEL_af6b8db8f8aa43d2b8b1aa7d8b60f020",
              "IPY_MODEL_ec1c10b335c64bfcbf81aabd9816a396"
            ],
            "layout": "IPY_MODEL_cd4118a3ef64494c85434cce4907ba53"
          }
        },
        "be63a5acdec347dda83d5e0e438dfebb": {
          "model_module": "@jupyter-widgets/base",
          "model_module_version": "1.2.0",
          "model_name": "LayoutModel",
          "state": {
            "_model_module": "@jupyter-widgets/base",
            "_model_module_version": "1.2.0",
            "_model_name": "LayoutModel",
            "_view_count": null,
            "_view_module": "@jupyter-widgets/base",
            "_view_module_version": "1.2.0",
            "_view_name": "LayoutView",
            "align_content": null,
            "align_items": null,
            "align_self": null,
            "border": null,
            "bottom": null,
            "display": null,
            "flex": null,
            "flex_flow": null,
            "grid_area": null,
            "grid_auto_columns": null,
            "grid_auto_flow": null,
            "grid_auto_rows": null,
            "grid_column": null,
            "grid_gap": null,
            "grid_row": null,
            "grid_template_areas": null,
            "grid_template_columns": null,
            "grid_template_rows": null,
            "height": null,
            "justify_content": null,
            "justify_items": null,
            "left": null,
            "margin": null,
            "max_height": null,
            "max_width": null,
            "min_height": null,
            "min_width": null,
            "object_fit": null,
            "object_position": null,
            "order": null,
            "overflow": null,
            "overflow_x": null,
            "overflow_y": null,
            "padding": null,
            "right": null,
            "top": null,
            "visibility": null,
            "width": null
          }
        },
        "bf03ed90b2ab419fac335e1b99e8840d": {
          "model_module": "@jupyter-widgets/base",
          "model_module_version": "1.2.0",
          "model_name": "LayoutModel",
          "state": {
            "_model_module": "@jupyter-widgets/base",
            "_model_module_version": "1.2.0",
            "_model_name": "LayoutModel",
            "_view_count": null,
            "_view_module": "@jupyter-widgets/base",
            "_view_module_version": "1.2.0",
            "_view_name": "LayoutView",
            "align_content": null,
            "align_items": null,
            "align_self": null,
            "border": null,
            "bottom": null,
            "display": null,
            "flex": null,
            "flex_flow": null,
            "grid_area": null,
            "grid_auto_columns": null,
            "grid_auto_flow": null,
            "grid_auto_rows": null,
            "grid_column": null,
            "grid_gap": null,
            "grid_row": null,
            "grid_template_areas": null,
            "grid_template_columns": null,
            "grid_template_rows": null,
            "height": null,
            "justify_content": null,
            "justify_items": null,
            "left": null,
            "margin": null,
            "max_height": null,
            "max_width": null,
            "min_height": null,
            "min_width": null,
            "object_fit": null,
            "object_position": null,
            "order": null,
            "overflow": null,
            "overflow_x": null,
            "overflow_y": null,
            "padding": null,
            "right": null,
            "top": null,
            "visibility": null,
            "width": null
          }
        },
        "c08607268b1a41fea3ac98629e98415d": {
          "model_module": "@jupyter-widgets/base",
          "model_module_version": "1.2.0",
          "model_name": "LayoutModel",
          "state": {
            "_model_module": "@jupyter-widgets/base",
            "_model_module_version": "1.2.0",
            "_model_name": "LayoutModel",
            "_view_count": null,
            "_view_module": "@jupyter-widgets/base",
            "_view_module_version": "1.2.0",
            "_view_name": "LayoutView",
            "align_content": null,
            "align_items": null,
            "align_self": null,
            "border": null,
            "bottom": null,
            "display": null,
            "flex": null,
            "flex_flow": null,
            "grid_area": null,
            "grid_auto_columns": null,
            "grid_auto_flow": null,
            "grid_auto_rows": null,
            "grid_column": null,
            "grid_gap": null,
            "grid_row": null,
            "grid_template_areas": null,
            "grid_template_columns": null,
            "grid_template_rows": null,
            "height": null,
            "justify_content": null,
            "justify_items": null,
            "left": null,
            "margin": null,
            "max_height": null,
            "max_width": null,
            "min_height": null,
            "min_width": null,
            "object_fit": null,
            "object_position": null,
            "order": null,
            "overflow": null,
            "overflow_x": null,
            "overflow_y": null,
            "padding": null,
            "right": null,
            "top": null,
            "visibility": null,
            "width": null
          }
        },
        "c097a2bff414492daaedefecbeaeffad": {
          "model_module": "@jupyter-widgets/controls",
          "model_module_version": "1.5.0",
          "model_name": "ProgressStyleModel",
          "state": {
            "_model_module": "@jupyter-widgets/controls",
            "_model_module_version": "1.5.0",
            "_model_name": "ProgressStyleModel",
            "_view_count": null,
            "_view_module": "@jupyter-widgets/base",
            "_view_module_version": "1.2.0",
            "_view_name": "StyleView",
            "bar_color": null,
            "description_width": ""
          }
        },
        "c7f62a5fada6449bbe6510f5c8d485fc": {
          "model_module": "@jupyter-widgets/controls",
          "model_module_version": "1.5.0",
          "model_name": "DescriptionStyleModel",
          "state": {
            "_model_module": "@jupyter-widgets/controls",
            "_model_module_version": "1.5.0",
            "_model_name": "DescriptionStyleModel",
            "_view_count": null,
            "_view_module": "@jupyter-widgets/base",
            "_view_module_version": "1.2.0",
            "_view_name": "StyleView",
            "description_width": ""
          }
        },
        "ca79221c5536422e90c176d6a242ef26": {
          "model_module": "@jupyter-widgets/base",
          "model_module_version": "1.2.0",
          "model_name": "LayoutModel",
          "state": {
            "_model_module": "@jupyter-widgets/base",
            "_model_module_version": "1.2.0",
            "_model_name": "LayoutModel",
            "_view_count": null,
            "_view_module": "@jupyter-widgets/base",
            "_view_module_version": "1.2.0",
            "_view_name": "LayoutView",
            "align_content": null,
            "align_items": null,
            "align_self": null,
            "border": null,
            "bottom": null,
            "display": null,
            "flex": null,
            "flex_flow": null,
            "grid_area": null,
            "grid_auto_columns": null,
            "grid_auto_flow": null,
            "grid_auto_rows": null,
            "grid_column": null,
            "grid_gap": null,
            "grid_row": null,
            "grid_template_areas": null,
            "grid_template_columns": null,
            "grid_template_rows": null,
            "height": null,
            "justify_content": null,
            "justify_items": null,
            "left": null,
            "margin": null,
            "max_height": null,
            "max_width": null,
            "min_height": null,
            "min_width": null,
            "object_fit": null,
            "object_position": null,
            "order": null,
            "overflow": null,
            "overflow_x": null,
            "overflow_y": null,
            "padding": null,
            "right": null,
            "top": null,
            "visibility": null,
            "width": null
          }
        },
        "cd02c71133144312ab448700c7245f59": {
          "model_module": "@jupyter-widgets/controls",
          "model_module_version": "1.5.0",
          "model_name": "ProgressStyleModel",
          "state": {
            "_model_module": "@jupyter-widgets/controls",
            "_model_module_version": "1.5.0",
            "_model_name": "ProgressStyleModel",
            "_view_count": null,
            "_view_module": "@jupyter-widgets/base",
            "_view_module_version": "1.2.0",
            "_view_name": "StyleView",
            "bar_color": null,
            "description_width": ""
          }
        },
        "cd4118a3ef64494c85434cce4907ba53": {
          "model_module": "@jupyter-widgets/base",
          "model_module_version": "1.2.0",
          "model_name": "LayoutModel",
          "state": {
            "_model_module": "@jupyter-widgets/base",
            "_model_module_version": "1.2.0",
            "_model_name": "LayoutModel",
            "_view_count": null,
            "_view_module": "@jupyter-widgets/base",
            "_view_module_version": "1.2.0",
            "_view_name": "LayoutView",
            "align_content": null,
            "align_items": null,
            "align_self": null,
            "border": null,
            "bottom": null,
            "display": null,
            "flex": null,
            "flex_flow": null,
            "grid_area": null,
            "grid_auto_columns": null,
            "grid_auto_flow": null,
            "grid_auto_rows": null,
            "grid_column": null,
            "grid_gap": null,
            "grid_row": null,
            "grid_template_areas": null,
            "grid_template_columns": null,
            "grid_template_rows": null,
            "height": null,
            "justify_content": null,
            "justify_items": null,
            "left": null,
            "margin": null,
            "max_height": null,
            "max_width": null,
            "min_height": null,
            "min_width": null,
            "object_fit": null,
            "object_position": null,
            "order": null,
            "overflow": null,
            "overflow_x": null,
            "overflow_y": null,
            "padding": null,
            "right": null,
            "top": null,
            "visibility": null,
            "width": null
          }
        },
        "cd9e442b3a5742fc976feb5b559391b0": {
          "model_module": "@jupyter-widgets/controls",
          "model_module_version": "1.5.0",
          "model_name": "DescriptionStyleModel",
          "state": {
            "_model_module": "@jupyter-widgets/controls",
            "_model_module_version": "1.5.0",
            "_model_name": "DescriptionStyleModel",
            "_view_count": null,
            "_view_module": "@jupyter-widgets/base",
            "_view_module_version": "1.2.0",
            "_view_name": "StyleView",
            "description_width": ""
          }
        },
        "cfbafd80784b4d4bb41ef8d97a66861e": {
          "model_module": "@jupyter-widgets/controls",
          "model_module_version": "1.5.0",
          "model_name": "HTMLModel",
          "state": {
            "_dom_classes": [],
            "_model_module": "@jupyter-widgets/controls",
            "_model_module_version": "1.5.0",
            "_model_name": "HTMLModel",
            "_view_count": null,
            "_view_module": "@jupyter-widgets/controls",
            "_view_module_version": "1.5.0",
            "_view_name": "HTMLView",
            "description": "",
            "description_tooltip": null,
            "layout": "IPY_MODEL_762c0adc64a94e0382d5e2f74cbeaa2e",
            "placeholder": "​",
            "style": "IPY_MODEL_100784d1f24a4ee9b8c66a0d73f825ba",
            "value": " 9.09M/9.09M [00:00&lt;00:00, 28.2MB/s]"
          }
        },
        "d2b8d5e3597e493183948e9ff0dc9f2d": {
          "model_module": "@jupyter-widgets/controls",
          "model_module_version": "1.5.0",
          "model_name": "ProgressStyleModel",
          "state": {
            "_model_module": "@jupyter-widgets/controls",
            "_model_module_version": "1.5.0",
            "_model_name": "ProgressStyleModel",
            "_view_count": null,
            "_view_module": "@jupyter-widgets/base",
            "_view_module_version": "1.2.0",
            "_view_name": "StyleView",
            "bar_color": null,
            "description_width": ""
          }
        },
        "daff3b8fea1541ea9c9b04565b124a62": {
          "model_module": "@jupyter-widgets/controls",
          "model_module_version": "1.5.0",
          "model_name": "DescriptionStyleModel",
          "state": {
            "_model_module": "@jupyter-widgets/controls",
            "_model_module_version": "1.5.0",
            "_model_name": "DescriptionStyleModel",
            "_view_count": null,
            "_view_module": "@jupyter-widgets/base",
            "_view_module_version": "1.2.0",
            "_view_name": "StyleView",
            "description_width": ""
          }
        },
        "dca24977fb524e79a1037ae734eb85cc": {
          "model_module": "@jupyter-widgets/base",
          "model_module_version": "1.2.0",
          "model_name": "LayoutModel",
          "state": {
            "_model_module": "@jupyter-widgets/base",
            "_model_module_version": "1.2.0",
            "_model_name": "LayoutModel",
            "_view_count": null,
            "_view_module": "@jupyter-widgets/base",
            "_view_module_version": "1.2.0",
            "_view_name": "LayoutView",
            "align_content": null,
            "align_items": null,
            "align_self": null,
            "border": null,
            "bottom": null,
            "display": null,
            "flex": null,
            "flex_flow": null,
            "grid_area": null,
            "grid_auto_columns": null,
            "grid_auto_flow": null,
            "grid_auto_rows": null,
            "grid_column": null,
            "grid_gap": null,
            "grid_row": null,
            "grid_template_areas": null,
            "grid_template_columns": null,
            "grid_template_rows": null,
            "height": null,
            "justify_content": null,
            "justify_items": null,
            "left": null,
            "margin": null,
            "max_height": null,
            "max_width": null,
            "min_height": null,
            "min_width": null,
            "object_fit": null,
            "object_position": null,
            "order": null,
            "overflow": null,
            "overflow_x": null,
            "overflow_y": null,
            "padding": null,
            "right": null,
            "top": null,
            "visibility": null,
            "width": null
          }
        },
        "e1e8489c32dd4fbba37fd440e33b0697": {
          "model_module": "@jupyter-widgets/controls",
          "model_module_version": "1.5.0",
          "model_name": "FloatProgressModel",
          "state": {
            "_dom_classes": [],
            "_model_module": "@jupyter-widgets/controls",
            "_model_module_version": "1.5.0",
            "_model_name": "FloatProgressModel",
            "_view_count": null,
            "_view_module": "@jupyter-widgets/controls",
            "_view_module_version": "1.5.0",
            "_view_name": "ProgressView",
            "bar_style": "success",
            "description": "",
            "description_tooltip": null,
            "layout": "IPY_MODEL_9ce10200c3014a418e428685a2bdb4fa",
            "max": 54528,
            "min": 0,
            "orientation": "horizontal",
            "style": "IPY_MODEL_9cf2d1b7cf8e49eba5c2dc678bf2a2dc",
            "value": 54528
          }
        },
        "e52126c6b91e4586aa627fa438aa8589": {
          "model_module": "@jupyter-widgets/controls",
          "model_module_version": "1.5.0",
          "model_name": "FloatProgressModel",
          "state": {
            "_dom_classes": [],
            "_model_module": "@jupyter-widgets/controls",
            "_model_module_version": "1.5.0",
            "_model_name": "FloatProgressModel",
            "_view_count": null,
            "_view_module": "@jupyter-widgets/controls",
            "_view_module_version": "1.5.0",
            "_view_name": "ProgressView",
            "bar_style": "success",
            "description": "",
            "description_tooltip": null,
            "layout": "IPY_MODEL_ca79221c5536422e90c176d6a242ef26",
            "max": 189,
            "min": 0,
            "orientation": "horizontal",
            "style": "IPY_MODEL_50de36cb66d54295b550cb82ece4457a",
            "value": 189
          }
        },
        "e5df7dd934cb4caaa98907b199eb32b6": {
          "model_module": "@jupyter-widgets/base",
          "model_module_version": "1.2.0",
          "model_name": "LayoutModel",
          "state": {
            "_model_module": "@jupyter-widgets/base",
            "_model_module_version": "1.2.0",
            "_model_name": "LayoutModel",
            "_view_count": null,
            "_view_module": "@jupyter-widgets/base",
            "_view_module_version": "1.2.0",
            "_view_name": "LayoutView",
            "align_content": null,
            "align_items": null,
            "align_self": null,
            "border": null,
            "bottom": null,
            "display": null,
            "flex": null,
            "flex_flow": null,
            "grid_area": null,
            "grid_auto_columns": null,
            "grid_auto_flow": null,
            "grid_auto_rows": null,
            "grid_column": null,
            "grid_gap": null,
            "grid_row": null,
            "grid_template_areas": null,
            "grid_template_columns": null,
            "grid_template_rows": null,
            "height": null,
            "justify_content": null,
            "justify_items": null,
            "left": null,
            "margin": null,
            "max_height": null,
            "max_width": null,
            "min_height": null,
            "min_width": null,
            "object_fit": null,
            "object_position": null,
            "order": null,
            "overflow": null,
            "overflow_x": null,
            "overflow_y": null,
            "padding": null,
            "right": null,
            "top": null,
            "visibility": null,
            "width": null
          }
        },
        "e6b4f2aab16f4334b208e2319dda4003": {
          "model_module": "@jupyter-widgets/base",
          "model_module_version": "1.2.0",
          "model_name": "LayoutModel",
          "state": {
            "_model_module": "@jupyter-widgets/base",
            "_model_module_version": "1.2.0",
            "_model_name": "LayoutModel",
            "_view_count": null,
            "_view_module": "@jupyter-widgets/base",
            "_view_module_version": "1.2.0",
            "_view_name": "LayoutView",
            "align_content": null,
            "align_items": null,
            "align_self": null,
            "border": null,
            "bottom": null,
            "display": null,
            "flex": null,
            "flex_flow": null,
            "grid_area": null,
            "grid_auto_columns": null,
            "grid_auto_flow": null,
            "grid_auto_rows": null,
            "grid_column": null,
            "grid_gap": null,
            "grid_row": null,
            "grid_template_areas": null,
            "grid_template_columns": null,
            "grid_template_rows": null,
            "height": null,
            "justify_content": null,
            "justify_items": null,
            "left": null,
            "margin": null,
            "max_height": null,
            "max_width": null,
            "min_height": null,
            "min_width": null,
            "object_fit": null,
            "object_position": null,
            "order": null,
            "overflow": null,
            "overflow_x": null,
            "overflow_y": null,
            "padding": null,
            "right": null,
            "top": null,
            "visibility": null,
            "width": null
          }
        },
        "ec1c10b335c64bfcbf81aabd9816a396": {
          "model_module": "@jupyter-widgets/controls",
          "model_module_version": "1.5.0",
          "model_name": "HTMLModel",
          "state": {
            "_dom_classes": [],
            "_model_module": "@jupyter-widgets/controls",
            "_model_module_version": "1.5.0",
            "_model_name": "HTMLModel",
            "_view_count": null,
            "_view_module": "@jupyter-widgets/controls",
            "_view_module_version": "1.5.0",
            "_view_name": "HTMLView",
            "description": "",
            "description_tooltip": null,
            "layout": "IPY_MODEL_14e0d6bd1c1d4bfbadc750a96cf5326c",
            "placeholder": "​",
            "style": "IPY_MODEL_49517971ad894c678c636314a3d0f532",
            "value": " 877/877 [00:00&lt;00:00, 43.6kB/s]"
          }
        },
        "ee00a53b9947428aae7d2c70ed58ef6d": {
          "model_module": "@jupyter-widgets/controls",
          "model_module_version": "1.5.0",
          "model_name": "HTMLModel",
          "state": {
            "_dom_classes": [],
            "_model_module": "@jupyter-widgets/controls",
            "_model_module_version": "1.5.0",
            "_model_name": "HTMLModel",
            "_view_count": null,
            "_view_module": "@jupyter-widgets/controls",
            "_view_module_version": "1.5.0",
            "_view_name": "HTMLView",
            "description": "",
            "description_tooltip": null,
            "layout": "IPY_MODEL_be63a5acdec347dda83d5e0e438dfebb",
            "placeholder": "​",
            "style": "IPY_MODEL_33e81677f6b14c528f8f147a5fe62a6e",
            "value": "special_tokens_map.json: 100%"
          }
        },
        "f10bd667abfb4a17b923ed28cd093e3d": {
          "model_module": "@jupyter-widgets/controls",
          "model_module_version": "1.5.0",
          "model_name": "HBoxModel",
          "state": {
            "_dom_classes": [],
            "_model_module": "@jupyter-widgets/controls",
            "_model_module_version": "1.5.0",
            "_model_name": "HBoxModel",
            "_view_count": null,
            "_view_module": "@jupyter-widgets/controls",
            "_view_module_version": "1.5.0",
            "_view_name": "HBoxView",
            "box_style": "",
            "children": [
              "IPY_MODEL_ee00a53b9947428aae7d2c70ed58ef6d",
              "IPY_MODEL_659008fbf459484396348b7f7946763c",
              "IPY_MODEL_5b005965ea4e4f6591c67680c34956e0"
            ],
            "layout": "IPY_MODEL_12198c9fd3bd4377a66125ce14feac76"
          }
        },
        "f6d8a5bc94954fa3b412edcc55364e6d": {
          "model_module": "@jupyter-widgets/controls",
          "model_module_version": "1.5.0",
          "model_name": "HTMLModel",
          "state": {
            "_dom_classes": [],
            "_model_module": "@jupyter-widgets/controls",
            "_model_module_version": "1.5.0",
            "_model_name": "HTMLModel",
            "_view_count": null,
            "_view_module": "@jupyter-widgets/controls",
            "_view_module_version": "1.5.0",
            "_view_name": "HTMLView",
            "description": "",
            "description_tooltip": null,
            "layout": "IPY_MODEL_fb1e651fd6ec495aabf8cc70df5fb584",
            "placeholder": "​",
            "style": "IPY_MODEL_a57ddf2db4cb42d88be577dcc7901b66",
            "value": "tokenizer.json: 100%"
          }
        },
        "fb1e651fd6ec495aabf8cc70df5fb584": {
          "model_module": "@jupyter-widgets/base",
          "model_module_version": "1.2.0",
          "model_name": "LayoutModel",
          "state": {
            "_model_module": "@jupyter-widgets/base",
            "_model_module_version": "1.2.0",
            "_model_name": "LayoutModel",
            "_view_count": null,
            "_view_module": "@jupyter-widgets/base",
            "_view_module_version": "1.2.0",
            "_view_name": "LayoutView",
            "align_content": null,
            "align_items": null,
            "align_self": null,
            "border": null,
            "bottom": null,
            "display": null,
            "flex": null,
            "flex_flow": null,
            "grid_area": null,
            "grid_auto_columns": null,
            "grid_auto_flow": null,
            "grid_auto_rows": null,
            "grid_column": null,
            "grid_gap": null,
            "grid_row": null,
            "grid_template_areas": null,
            "grid_template_columns": null,
            "grid_template_rows": null,
            "height": null,
            "justify_content": null,
            "justify_items": null,
            "left": null,
            "margin": null,
            "max_height": null,
            "max_width": null,
            "min_height": null,
            "min_width": null,
            "object_fit": null,
            "object_position": null,
            "order": null,
            "overflow": null,
            "overflow_x": null,
            "overflow_y": null,
            "padding": null,
            "right": null,
            "top": null,
            "visibility": null,
            "width": null
          }
        }
      }
    }
  },
  "nbformat": 4,
  "nbformat_minor": 0
}
