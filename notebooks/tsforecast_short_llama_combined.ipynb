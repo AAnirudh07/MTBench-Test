{
  "cells": [
    {
      "cell_type": "markdown",
      "metadata": {
        "id": "7B-RWSwCTFUx"
      },
      "source": [
        "### 1. Install Dependencies"
      ]
    },
    {
      "cell_type": "code",
      "execution_count": 1,
      "metadata": {
        "colab": {
          "base_uri": "https://localhost:8080/"
        },
        "id": "CQ6xyR-xS8Zl",
        "outputId": "915064d8-2469-4ae0-9760-c43cd1d82be4"
      },
      "outputs": [
        {
          "name": "stdout",
          "output_type": "stream",
          "text": [
            "Requirement already satisfied: pandas in /usr/local/lib/python3.11/dist-packages (2.2.2)\n",
            "Requirement already satisfied: gdown in /usr/local/lib/python3.11/dist-packages (5.2.0)\n",
            "Requirement already satisfied: huggingface-hub in /usr/local/lib/python3.11/dist-packages (0.33.2)\n",
            "Requirement already satisfied: numpy in /usr/local/lib/python3.11/dist-packages (2.0.2)\n",
            "Requirement already satisfied: matplotlib in /usr/local/lib/python3.11/dist-packages (3.10.0)\n",
            "Requirement already satisfied: scikit-learn in /usr/local/lib/python3.11/dist-packages (1.6.1)\n",
            "Requirement already satisfied: transformers in /usr/local/lib/python3.11/dist-packages (4.53.0)\n",
            "Requirement already satisfied: torch in /usr/local/lib/python3.11/dist-packages (2.6.0+cu124)\n",
            "Requirement already satisfied: tqdm in /usr/local/lib/python3.11/dist-packages (4.67.1)\n",
            "Requirement already satisfied: python-dateutil>=2.8.2 in /usr/local/lib/python3.11/dist-packages (from pandas) (2.9.0.post0)\n",
            "Requirement already satisfied: pytz>=2020.1 in /usr/local/lib/python3.11/dist-packages (from pandas) (2025.2)\n",
            "Requirement already satisfied: tzdata>=2022.7 in /usr/local/lib/python3.11/dist-packages (from pandas) (2025.2)\n",
            "Requirement already satisfied: beautifulsoup4 in /usr/local/lib/python3.11/dist-packages (from gdown) (4.13.4)\n",
            "Requirement already satisfied: filelock in /usr/local/lib/python3.11/dist-packages (from gdown) (3.18.0)\n",
            "Requirement already satisfied: requests[socks] in /usr/local/lib/python3.11/dist-packages (from gdown) (2.32.3)\n",
            "Requirement already satisfied: fsspec>=2023.5.0 in /usr/local/lib/python3.11/dist-packages (from huggingface-hub) (2025.3.2)\n",
            "Requirement already satisfied: packaging>=20.9 in /usr/local/lib/python3.11/dist-packages (from huggingface-hub) (24.2)\n",
            "Requirement already satisfied: pyyaml>=5.1 in /usr/local/lib/python3.11/dist-packages (from huggingface-hub) (6.0.2)\n",
            "Requirement already satisfied: typing-extensions>=3.7.4.3 in /usr/local/lib/python3.11/dist-packages (from huggingface-hub) (4.14.0)\n",
            "Requirement already satisfied: hf-xet<2.0.0,>=1.1.2 in /usr/local/lib/python3.11/dist-packages (from huggingface-hub) (1.1.5)\n",
            "Requirement already satisfied: contourpy>=1.0.1 in /usr/local/lib/python3.11/dist-packages (from matplotlib) (1.3.2)\n",
            "Requirement already satisfied: cycler>=0.10 in /usr/local/lib/python3.11/dist-packages (from matplotlib) (0.12.1)\n",
            "Requirement already satisfied: fonttools>=4.22.0 in /usr/local/lib/python3.11/dist-packages (from matplotlib) (4.58.4)\n",
            "Requirement already satisfied: kiwisolver>=1.3.1 in /usr/local/lib/python3.11/dist-packages (from matplotlib) (1.4.8)\n",
            "Requirement already satisfied: pillow>=8 in /usr/local/lib/python3.11/dist-packages (from matplotlib) (11.2.1)\n",
            "Requirement already satisfied: pyparsing>=2.3.1 in /usr/local/lib/python3.11/dist-packages (from matplotlib) (3.2.3)\n",
            "Requirement already satisfied: scipy>=1.6.0 in /usr/local/lib/python3.11/dist-packages (from scikit-learn) (1.15.3)\n",
            "Requirement already satisfied: joblib>=1.2.0 in /usr/local/lib/python3.11/dist-packages (from scikit-learn) (1.5.1)\n",
            "Requirement already satisfied: threadpoolctl>=3.1.0 in /usr/local/lib/python3.11/dist-packages (from scikit-learn) (3.6.0)\n",
            "Requirement already satisfied: regex!=2019.12.17 in /usr/local/lib/python3.11/dist-packages (from transformers) (2024.11.6)\n",
            "Requirement already satisfied: tokenizers<0.22,>=0.21 in /usr/local/lib/python3.11/dist-packages (from transformers) (0.21.2)\n",
            "Requirement already satisfied: safetensors>=0.4.3 in /usr/local/lib/python3.11/dist-packages (from transformers) (0.5.3)\n",
            "Requirement already satisfied: networkx in /usr/local/lib/python3.11/dist-packages (from torch) (3.5)\n",
            "Requirement already satisfied: jinja2 in /usr/local/lib/python3.11/dist-packages (from torch) (3.1.6)\n",
            "Collecting nvidia-cuda-nvrtc-cu12==12.4.127 (from torch)\n",
            "  Downloading nvidia_cuda_nvrtc_cu12-12.4.127-py3-none-manylinux2014_x86_64.whl.metadata (1.5 kB)\n",
            "Collecting nvidia-cuda-runtime-cu12==12.4.127 (from torch)\n",
            "  Downloading nvidia_cuda_runtime_cu12-12.4.127-py3-none-manylinux2014_x86_64.whl.metadata (1.5 kB)\n",
            "Collecting nvidia-cuda-cupti-cu12==12.4.127 (from torch)\n",
            "  Downloading nvidia_cuda_cupti_cu12-12.4.127-py3-none-manylinux2014_x86_64.whl.metadata (1.6 kB)\n",
            "Collecting nvidia-cudnn-cu12==9.1.0.70 (from torch)\n",
            "  Downloading nvidia_cudnn_cu12-9.1.0.70-py3-none-manylinux2014_x86_64.whl.metadata (1.6 kB)\n",
            "Collecting nvidia-cublas-cu12==12.4.5.8 (from torch)\n",
            "  Downloading nvidia_cublas_cu12-12.4.5.8-py3-none-manylinux2014_x86_64.whl.metadata (1.5 kB)\n",
            "Collecting nvidia-cufft-cu12==11.2.1.3 (from torch)\n",
            "  Downloading nvidia_cufft_cu12-11.2.1.3-py3-none-manylinux2014_x86_64.whl.metadata (1.5 kB)\n",
            "Collecting nvidia-curand-cu12==10.3.5.147 (from torch)\n",
            "  Downloading nvidia_curand_cu12-10.3.5.147-py3-none-manylinux2014_x86_64.whl.metadata (1.5 kB)\n",
            "Collecting nvidia-cusolver-cu12==11.6.1.9 (from torch)\n",
            "  Downloading nvidia_cusolver_cu12-11.6.1.9-py3-none-manylinux2014_x86_64.whl.metadata (1.6 kB)\n",
            "Collecting nvidia-cusparse-cu12==12.3.1.170 (from torch)\n",
            "  Downloading nvidia_cusparse_cu12-12.3.1.170-py3-none-manylinux2014_x86_64.whl.metadata (1.6 kB)\n",
            "Requirement already satisfied: nvidia-cusparselt-cu12==0.6.2 in /usr/local/lib/python3.11/dist-packages (from torch) (0.6.2)\n",
            "Requirement already satisfied: nvidia-nccl-cu12==2.21.5 in /usr/local/lib/python3.11/dist-packages (from torch) (2.21.5)\n",
            "Requirement already satisfied: nvidia-nvtx-cu12==12.4.127 in /usr/local/lib/python3.11/dist-packages (from torch) (12.4.127)\n",
            "Collecting nvidia-nvjitlink-cu12==12.4.127 (from torch)\n",
            "  Downloading nvidia_nvjitlink_cu12-12.4.127-py3-none-manylinux2014_x86_64.whl.metadata (1.5 kB)\n",
            "Requirement already satisfied: triton==3.2.0 in /usr/local/lib/python3.11/dist-packages (from torch) (3.2.0)\n",
            "Requirement already satisfied: sympy==1.13.1 in /usr/local/lib/python3.11/dist-packages (from torch) (1.13.1)\n",
            "Requirement already satisfied: mpmath<1.4,>=1.1.0 in /usr/local/lib/python3.11/dist-packages (from sympy==1.13.1->torch) (1.3.0)\n",
            "Requirement already satisfied: six>=1.5 in /usr/local/lib/python3.11/dist-packages (from python-dateutil>=2.8.2->pandas) (1.17.0)\n",
            "Requirement already satisfied: soupsieve>1.2 in /usr/local/lib/python3.11/dist-packages (from beautifulsoup4->gdown) (2.7)\n",
            "Requirement already satisfied: MarkupSafe>=2.0 in /usr/local/lib/python3.11/dist-packages (from jinja2->torch) (3.0.2)\n",
            "Requirement already satisfied: charset-normalizer<4,>=2 in /usr/local/lib/python3.11/dist-packages (from requests[socks]->gdown) (3.4.2)\n",
            "Requirement already satisfied: idna<4,>=2.5 in /usr/local/lib/python3.11/dist-packages (from requests[socks]->gdown) (3.10)\n",
            "Requirement already satisfied: urllib3<3,>=1.21.1 in /usr/local/lib/python3.11/dist-packages (from requests[socks]->gdown) (2.4.0)\n",
            "Requirement already satisfied: certifi>=2017.4.17 in /usr/local/lib/python3.11/dist-packages (from requests[socks]->gdown) (2025.6.15)\n",
            "Requirement already satisfied: PySocks!=1.5.7,>=1.5.6 in /usr/local/lib/python3.11/dist-packages (from requests[socks]->gdown) (1.7.1)\n",
            "Downloading nvidia_cublas_cu12-12.4.5.8-py3-none-manylinux2014_x86_64.whl (363.4 MB)\n",
            "\u001b[2K   \u001b[90m━━━━━━━━━━━━━━━━━━━━━━━━━━━━━━━━━━━━━━━━\u001b[0m \u001b[32m363.4/363.4 MB\u001b[0m \u001b[31m5.1 MB/s\u001b[0m eta \u001b[36m0:00:00\u001b[0m\n",
            "\u001b[?25hDownloading nvidia_cuda_cupti_cu12-12.4.127-py3-none-manylinux2014_x86_64.whl (13.8 MB)\n",
            "\u001b[2K   \u001b[90m━━━━━━━━━━━━━━━━━━━━━━━━━━━━━━━━━━━━━━━━\u001b[0m \u001b[32m13.8/13.8 MB\u001b[0m \u001b[31m56.1 MB/s\u001b[0m eta \u001b[36m0:00:00\u001b[0m\n",
            "\u001b[?25hDownloading nvidia_cuda_nvrtc_cu12-12.4.127-py3-none-manylinux2014_x86_64.whl (24.6 MB)\n",
            "\u001b[2K   \u001b[90m━━━━━━━━━━━━━━━━━━━━━━━━━━━━━━━━━━━━━━━━\u001b[0m \u001b[32m24.6/24.6 MB\u001b[0m \u001b[31m62.3 MB/s\u001b[0m eta \u001b[36m0:00:00\u001b[0m\n",
            "\u001b[?25hDownloading nvidia_cuda_runtime_cu12-12.4.127-py3-none-manylinux2014_x86_64.whl (883 kB)\n",
            "\u001b[2K   \u001b[90m━━━━━━━━━━━━━━━━━━━━━━━━━━━━━━━━━━━━━━━━\u001b[0m \u001b[32m883.7/883.7 kB\u001b[0m \u001b[31m40.2 MB/s\u001b[0m eta \u001b[36m0:00:00\u001b[0m\n",
            "\u001b[?25hDownloading nvidia_cudnn_cu12-9.1.0.70-py3-none-manylinux2014_x86_64.whl (664.8 MB)\n",
            "\u001b[2K   \u001b[90m━━━━━━━━━━━━━━━━━━━━━━━━━━━━━━━━━━━━━━━━\u001b[0m \u001b[32m664.8/664.8 MB\u001b[0m \u001b[31m1.5 MB/s\u001b[0m eta \u001b[36m0:00:00\u001b[0m\n",
            "\u001b[?25hDownloading nvidia_cufft_cu12-11.2.1.3-py3-none-manylinux2014_x86_64.whl (211.5 MB)\n",
            "\u001b[2K   \u001b[90m━━━━━━━━━━━━━━━━━━━━━━━━━━━━━━━━━━━━━━━━\u001b[0m \u001b[32m211.5/211.5 MB\u001b[0m \u001b[31m4.8 MB/s\u001b[0m eta \u001b[36m0:00:00\u001b[0m\n",
            "\u001b[?25hDownloading nvidia_curand_cu12-10.3.5.147-py3-none-manylinux2014_x86_64.whl (56.3 MB)\n",
            "\u001b[2K   \u001b[90m━━━━━━━━━━━━━━━━━━━━━━━━━━━━━━━━━━━━━━━━\u001b[0m \u001b[32m56.3/56.3 MB\u001b[0m \u001b[31m11.3 MB/s\u001b[0m eta \u001b[36m0:00:00\u001b[0m\n",
            "\u001b[?25hDownloading nvidia_cusolver_cu12-11.6.1.9-py3-none-manylinux2014_x86_64.whl (127.9 MB)\n",
            "\u001b[2K   \u001b[90m━━━━━━━━━━━━━━━━━━━━━━━━━━━━━━━━━━━━━━━━\u001b[0m \u001b[32m127.9/127.9 MB\u001b[0m \u001b[31m8.7 MB/s\u001b[0m eta \u001b[36m0:00:00\u001b[0m\n",
            "\u001b[?25hDownloading nvidia_cusparse_cu12-12.3.1.170-py3-none-manylinux2014_x86_64.whl (207.5 MB)\n",
            "\u001b[2K   \u001b[90m━━━━━━━━━━━━━━━━━━━━━━━━━━━━━━━━━━━━━━━━\u001b[0m \u001b[32m207.5/207.5 MB\u001b[0m \u001b[31m5.8 MB/s\u001b[0m eta \u001b[36m0:00:00\u001b[0m\n",
            "\u001b[?25hDownloading nvidia_nvjitlink_cu12-12.4.127-py3-none-manylinux2014_x86_64.whl (21.1 MB)\n",
            "\u001b[2K   \u001b[90m━━━━━━━━━━━━━━━━━━━━━━━━━━━━━━━━━━━━━━━━\u001b[0m \u001b[32m21.1/21.1 MB\u001b[0m \u001b[31m72.9 MB/s\u001b[0m eta \u001b[36m0:00:00\u001b[0m\n",
            "\u001b[?25hInstalling collected packages: nvidia-nvjitlink-cu12, nvidia-curand-cu12, nvidia-cufft-cu12, nvidia-cuda-runtime-cu12, nvidia-cuda-nvrtc-cu12, nvidia-cuda-cupti-cu12, nvidia-cublas-cu12, nvidia-cusparse-cu12, nvidia-cudnn-cu12, nvidia-cusolver-cu12\n",
            "  Attempting uninstall: nvidia-nvjitlink-cu12\n",
            "    Found existing installation: nvidia-nvjitlink-cu12 12.5.82\n",
            "    Uninstalling nvidia-nvjitlink-cu12-12.5.82:\n",
            "      Successfully uninstalled nvidia-nvjitlink-cu12-12.5.82\n",
            "  Attempting uninstall: nvidia-curand-cu12\n",
            "    Found existing installation: nvidia-curand-cu12 10.3.6.82\n",
            "    Uninstalling nvidia-curand-cu12-10.3.6.82:\n",
            "      Successfully uninstalled nvidia-curand-cu12-10.3.6.82\n",
            "  Attempting uninstall: nvidia-cufft-cu12\n",
            "    Found existing installation: nvidia-cufft-cu12 11.2.3.61\n",
            "    Uninstalling nvidia-cufft-cu12-11.2.3.61:\n",
            "      Successfully uninstalled nvidia-cufft-cu12-11.2.3.61\n",
            "  Attempting uninstall: nvidia-cuda-runtime-cu12\n",
            "    Found existing installation: nvidia-cuda-runtime-cu12 12.5.82\n",
            "    Uninstalling nvidia-cuda-runtime-cu12-12.5.82:\n",
            "      Successfully uninstalled nvidia-cuda-runtime-cu12-12.5.82\n",
            "  Attempting uninstall: nvidia-cuda-nvrtc-cu12\n",
            "    Found existing installation: nvidia-cuda-nvrtc-cu12 12.5.82\n",
            "    Uninstalling nvidia-cuda-nvrtc-cu12-12.5.82:\n",
            "      Successfully uninstalled nvidia-cuda-nvrtc-cu12-12.5.82\n",
            "  Attempting uninstall: nvidia-cuda-cupti-cu12\n",
            "    Found existing installation: nvidia-cuda-cupti-cu12 12.5.82\n",
            "    Uninstalling nvidia-cuda-cupti-cu12-12.5.82:\n",
            "      Successfully uninstalled nvidia-cuda-cupti-cu12-12.5.82\n",
            "  Attempting uninstall: nvidia-cublas-cu12\n",
            "    Found existing installation: nvidia-cublas-cu12 12.5.3.2\n",
            "    Uninstalling nvidia-cublas-cu12-12.5.3.2:\n",
            "      Successfully uninstalled nvidia-cublas-cu12-12.5.3.2\n",
            "  Attempting uninstall: nvidia-cusparse-cu12\n",
            "    Found existing installation: nvidia-cusparse-cu12 12.5.1.3\n",
            "    Uninstalling nvidia-cusparse-cu12-12.5.1.3:\n",
            "      Successfully uninstalled nvidia-cusparse-cu12-12.5.1.3\n",
            "  Attempting uninstall: nvidia-cudnn-cu12\n",
            "    Found existing installation: nvidia-cudnn-cu12 9.3.0.75\n",
            "    Uninstalling nvidia-cudnn-cu12-9.3.0.75:\n",
            "      Successfully uninstalled nvidia-cudnn-cu12-9.3.0.75\n",
            "  Attempting uninstall: nvidia-cusolver-cu12\n",
            "    Found existing installation: nvidia-cusolver-cu12 11.6.3.83\n",
            "    Uninstalling nvidia-cusolver-cu12-11.6.3.83:\n",
            "      Successfully uninstalled nvidia-cusolver-cu12-11.6.3.83\n",
            "Successfully installed nvidia-cublas-cu12-12.4.5.8 nvidia-cuda-cupti-cu12-12.4.127 nvidia-cuda-nvrtc-cu12-12.4.127 nvidia-cuda-runtime-cu12-12.4.127 nvidia-cudnn-cu12-9.1.0.70 nvidia-cufft-cu12-11.2.1.3 nvidia-curand-cu12-10.3.5.147 nvidia-cusolver-cu12-11.6.1.9 nvidia-cusparse-cu12-12.3.1.170 nvidia-nvjitlink-cu12-12.4.127\n"
          ]
        }
      ],
      "source": [
        "!pip install pandas gdown huggingface-hub numpy matplotlib scikit-learn transformers torch tqdm"
      ]
    },
    {
      "cell_type": "code",
      "execution_count": 2,
      "metadata": {
        "colab": {
          "base_uri": "https://localhost:8080/"
        },
        "id": "ImJ21s77uOhW",
        "outputId": "2a813ae0-bb23-42d4-a407-3245d6a7a312"
      },
      "outputs": [
        {
          "name": "stdout",
          "output_type": "stream",
          "text": [
            "Requirement already satisfied: datasets in /usr/local/lib/python3.11/dist-packages (2.14.4)\n",
            "Collecting datasets\n",
            "  Downloading datasets-3.6.0-py3-none-any.whl.metadata (19 kB)\n",
            "Requirement already satisfied: filelock in /usr/local/lib/python3.11/dist-packages (from datasets) (3.18.0)\n",
            "Requirement already satisfied: numpy>=1.17 in /usr/local/lib/python3.11/dist-packages (from datasets) (2.0.2)\n",
            "Requirement already satisfied: pyarrow>=15.0.0 in /usr/local/lib/python3.11/dist-packages (from datasets) (18.1.0)\n",
            "Requirement already satisfied: dill<0.3.9,>=0.3.0 in /usr/local/lib/python3.11/dist-packages (from datasets) (0.3.7)\n",
            "Requirement already satisfied: pandas in /usr/local/lib/python3.11/dist-packages (from datasets) (2.2.2)\n",
            "Requirement already satisfied: requests>=2.32.2 in /usr/local/lib/python3.11/dist-packages (from datasets) (2.32.3)\n",
            "Requirement already satisfied: tqdm>=4.66.3 in /usr/local/lib/python3.11/dist-packages (from datasets) (4.67.1)\n",
            "Requirement already satisfied: xxhash in /usr/local/lib/python3.11/dist-packages (from datasets) (3.5.0)\n",
            "Requirement already satisfied: multiprocess<0.70.17 in /usr/local/lib/python3.11/dist-packages (from datasets) (0.70.15)\n",
            "Collecting fsspec<=2025.3.0,>=2023.1.0 (from fsspec[http]<=2025.3.0,>=2023.1.0->datasets)\n",
            "  Downloading fsspec-2025.3.0-py3-none-any.whl.metadata (11 kB)\n",
            "Requirement already satisfied: huggingface-hub>=0.24.0 in /usr/local/lib/python3.11/dist-packages (from datasets) (0.33.2)\n",
            "Requirement already satisfied: packaging in /usr/local/lib/python3.11/dist-packages (from datasets) (24.2)\n",
            "Requirement already satisfied: pyyaml>=5.1 in /usr/local/lib/python3.11/dist-packages (from datasets) (6.0.2)\n",
            "Requirement already satisfied: aiohttp!=4.0.0a0,!=4.0.0a1 in /usr/local/lib/python3.11/dist-packages (from fsspec[http]<=2025.3.0,>=2023.1.0->datasets) (3.11.15)\n",
            "Requirement already satisfied: typing-extensions>=3.7.4.3 in /usr/local/lib/python3.11/dist-packages (from huggingface-hub>=0.24.0->datasets) (4.14.0)\n",
            "Requirement already satisfied: hf-xet<2.0.0,>=1.1.2 in /usr/local/lib/python3.11/dist-packages (from huggingface-hub>=0.24.0->datasets) (1.1.5)\n",
            "Requirement already satisfied: charset-normalizer<4,>=2 in /usr/local/lib/python3.11/dist-packages (from requests>=2.32.2->datasets) (3.4.2)\n",
            "Requirement already satisfied: idna<4,>=2.5 in /usr/local/lib/python3.11/dist-packages (from requests>=2.32.2->datasets) (3.10)\n",
            "Requirement already satisfied: urllib3<3,>=1.21.1 in /usr/local/lib/python3.11/dist-packages (from requests>=2.32.2->datasets) (2.4.0)\n",
            "Requirement already satisfied: certifi>=2017.4.17 in /usr/local/lib/python3.11/dist-packages (from requests>=2.32.2->datasets) (2025.6.15)\n",
            "Requirement already satisfied: python-dateutil>=2.8.2 in /usr/local/lib/python3.11/dist-packages (from pandas->datasets) (2.9.0.post0)\n",
            "Requirement already satisfied: pytz>=2020.1 in /usr/local/lib/python3.11/dist-packages (from pandas->datasets) (2025.2)\n",
            "Requirement already satisfied: tzdata>=2022.7 in /usr/local/lib/python3.11/dist-packages (from pandas->datasets) (2025.2)\n",
            "Requirement already satisfied: aiohappyeyeballs>=2.3.0 in /usr/local/lib/python3.11/dist-packages (from aiohttp!=4.0.0a0,!=4.0.0a1->fsspec[http]<=2025.3.0,>=2023.1.0->datasets) (2.6.1)\n",
            "Requirement already satisfied: aiosignal>=1.1.2 in /usr/local/lib/python3.11/dist-packages (from aiohttp!=4.0.0a0,!=4.0.0a1->fsspec[http]<=2025.3.0,>=2023.1.0->datasets) (1.3.2)\n",
            "Requirement already satisfied: attrs>=17.3.0 in /usr/local/lib/python3.11/dist-packages (from aiohttp!=4.0.0a0,!=4.0.0a1->fsspec[http]<=2025.3.0,>=2023.1.0->datasets) (25.3.0)\n",
            "Requirement already satisfied: frozenlist>=1.1.1 in /usr/local/lib/python3.11/dist-packages (from aiohttp!=4.0.0a0,!=4.0.0a1->fsspec[http]<=2025.3.0,>=2023.1.0->datasets) (1.7.0)\n",
            "Requirement already satisfied: multidict<7.0,>=4.5 in /usr/local/lib/python3.11/dist-packages (from aiohttp!=4.0.0a0,!=4.0.0a1->fsspec[http]<=2025.3.0,>=2023.1.0->datasets) (6.6.3)\n",
            "Requirement already satisfied: propcache>=0.2.0 in /usr/local/lib/python3.11/dist-packages (from aiohttp!=4.0.0a0,!=4.0.0a1->fsspec[http]<=2025.3.0,>=2023.1.0->datasets) (0.3.2)\n",
            "Requirement already satisfied: yarl<2.0,>=1.17.0 in /usr/local/lib/python3.11/dist-packages (from aiohttp!=4.0.0a0,!=4.0.0a1->fsspec[http]<=2025.3.0,>=2023.1.0->datasets) (1.20.1)\n",
            "Requirement already satisfied: six>=1.5 in /usr/local/lib/python3.11/dist-packages (from python-dateutil>=2.8.2->pandas->datasets) (1.17.0)\n",
            "Downloading datasets-3.6.0-py3-none-any.whl (491 kB)\n",
            "\u001b[2K   \u001b[90m━━━━━━━━━━━━━━━━━━━━━━━━━━━━━━━━━━━━━━━━\u001b[0m \u001b[32m491.5/491.5 kB\u001b[0m \u001b[31m27.7 MB/s\u001b[0m eta \u001b[36m0:00:00\u001b[0m\n",
            "\u001b[?25hDownloading fsspec-2025.3.0-py3-none-any.whl (193 kB)\n",
            "\u001b[2K   \u001b[90m━━━━━━━━━━━━━━━━━━━━━━━━━━━━━━━━━━━━━━━━\u001b[0m \u001b[32m193.6/193.6 kB\u001b[0m \u001b[31m19.0 MB/s\u001b[0m eta \u001b[36m0:00:00\u001b[0m\n",
            "\u001b[?25hInstalling collected packages: fsspec, datasets\n",
            "  Attempting uninstall: fsspec\n",
            "    Found existing installation: fsspec 2025.3.2\n",
            "    Uninstalling fsspec-2025.3.2:\n",
            "      Successfully uninstalled fsspec-2025.3.2\n",
            "  Attempting uninstall: datasets\n",
            "    Found existing installation: datasets 2.14.4\n",
            "    Uninstalling datasets-2.14.4:\n",
            "      Successfully uninstalled datasets-2.14.4\n",
            "\u001b[31mERROR: pip's dependency resolver does not currently take into account all the packages that are installed. This behaviour is the source of the following dependency conflicts.\n",
            "gcsfs 2025.3.2 requires fsspec==2025.3.2, but you have fsspec 2025.3.0 which is incompatible.\u001b[0m\u001b[31m\n",
            "\u001b[0mSuccessfully installed datasets-3.6.0 fsspec-2025.3.0\n"
          ]
        }
      ],
      "source": [
        "!pip install -U datasets"
      ]
    },
    {
      "cell_type": "markdown",
      "metadata": {
        "id": "BkGeCoTJVDma"
      },
      "source": [
        "### 2. Imports"
      ]
    },
    {
      "cell_type": "code",
      "execution_count": 3,
      "metadata": {
        "id": "_D7g6b6xVGG9"
      },
      "outputs": [],
      "source": [
        "import os\n",
        "import json\n",
        "import sys\n",
        "import argparse\n",
        "import re\n",
        "from typing import List, Union\n",
        "import pandas as pd\n",
        "from tqdm import tqdm\n",
        "from pathlib import Path\n",
        "from google.colab import drive\n",
        "from datetime import datetime\n",
        "\n",
        "from abc import ABC, abstractmethod\n",
        "\n",
        "import torch\n",
        "import numpy as np\n",
        "import matplotlib.pyplot as plt\n",
        "from datasets import load_dataset\n",
        "from transformers import AutoModelForCausalLM, AutoTokenizer, pipeline"
      ]
    },
    {
      "cell_type": "code",
      "execution_count": 4,
      "metadata": {
        "colab": {
          "base_uri": "https://localhost:8080/"
        },
        "id": "prJZo492paGc",
        "outputId": "5823f091-3aab-4f4b-e069-3c5b871c7f52"
      },
      "outputs": [
        {
          "data": {
            "text/plain": [
              "True"
            ]
          },
          "execution_count": 4,
          "metadata": {},
          "output_type": "execute_result"
        }
      ],
      "source": [
        "torch.cuda.is_available()"
      ]
    },
    {
      "cell_type": "markdown",
      "metadata": {
        "id": "VgcDALLqVGlu"
      },
      "source": [
        "### 3. Connect to Google Drive"
      ]
    },
    {
      "cell_type": "code",
      "execution_count": 5,
      "metadata": {
        "colab": {
          "base_uri": "https://localhost:8080/"
        },
        "id": "jG2LcXVGVKK_",
        "outputId": "ebf7fa9f-0160-415f-c471-2018fd27520a"
      },
      "outputs": [
        {
          "name": "stdout",
          "output_type": "stream",
          "text": [
            "Mounted at /content/drive\n"
          ]
        }
      ],
      "source": [
        "drive.mount(\"/content/drive\",force_remount=True)\n",
        "os.chdir(\"/content/drive/My Drive\")"
      ]
    },
    {
      "cell_type": "markdown",
      "metadata": {
        "id": "mLgpzXE5VLXX"
      },
      "source": [
        "### 4. Utils Code"
      ]
    },
    {
      "cell_type": "code",
      "execution_count": 6,
      "metadata": {
        "id": "sk6gL82yVNPo"
      },
      "outputs": [],
      "source": [
        "def format_time_difference(seconds):\n",
        "    minutes = seconds // 60\n",
        "    hours = minutes // 60\n",
        "    days = hours // 24\n",
        "\n",
        "    if days > 0:\n",
        "        if hours % 24 > 0.1:\n",
        "            return f\"{days} days-{hours % 24} hours\"\n",
        "        else:\n",
        "            return f\"{days} days\"\n",
        "    elif hours > 0:\n",
        "        if minutes % 60 > 0.1:\n",
        "            return f\"{hours} hours-{minutes % 60} minutes\"\n",
        "        else:\n",
        "            return f\"{hours} hours\"\n",
        "    elif minutes > 0:\n",
        "        if seconds % 60 > 0.1:\n",
        "            return f\"{minutes} minutes-{seconds % 60} seconds\"\n",
        "        else:\n",
        "            return f\"{minutes} minutes\"\n",
        "    else:\n",
        "        return f\"{seconds} seconds\"\n",
        "\n",
        "def save_to_json(data, save_path):\n",
        "    os.makedirs(os.path.dirname(save_path), exist_ok=True)\n",
        "    with open(save_path, \"w\") as f:\n",
        "        json.dump(data, f, indent=4)\n",
        "\n",
        "def plot_series(filename, input_ts, output_ts, predicted_ts, save_folder):\n",
        "    plt.figure(figsize=(10, 5))\n",
        "    plt.plot(range(len(input_ts)), input_ts, label=\"Input Time Series\", marker='o')\n",
        "    plt.plot(range(len(input_ts), len(input_ts) + len(output_ts)), output_ts, label=\"Ground Truth\", marker='o')\n",
        "    plt.plot(range(len(input_ts), len(input_ts) + len(predicted_ts)), predicted_ts, label=\"Predicted\", linestyle='dashed')\n",
        "    plt.legend()\n",
        "    plt.title(f\"Prediction for {filename}\")\n",
        "    plt.xlabel(\"Time Steps\")\n",
        "    plt.ylabel(\"Value\")\n",
        "    plt.grid()\n",
        "\n",
        "    base_name = os.path.splitext(filename)[0]\n",
        "    save_path = os.path.join(save_folder, base_name + \".png\")\n",
        "    plt.savefig(save_path)\n",
        "\n",
        "    plt.close()\n",
        "\n",
        "def calculate_mape(y_true, y_pred):\n",
        "    y_true, y_pred = np.array(y_true), np.array(y_pred)\n",
        "\n",
        "    # Avoid division by zero\n",
        "    mask = y_true != 0\n",
        "    return np.mean(np.abs((y_true[mask] - y_pred[mask]) / y_true[mask])) * 100\n",
        "\n",
        "\n",
        "def calculate_acc(result_list, regrouped_labels = None):\n",
        "    if regrouped_labels is None:\n",
        "        correct_pred = sum(1 for result in result_list if result[\"ground_truth\"] in result[\"predict\"])\n",
        "    else:\n",
        "        correct_pred = 0\n",
        "        for result in result_list:\n",
        "            gt_group = regrouped_labels[result['ground_truth']]\n",
        "            for original_label in regrouped_labels.keys():\n",
        "                if original_label in result['predict']:\n",
        "                    predict_group = regrouped_labels[original_label]\n",
        "                    if gt_group == predict_group:\n",
        "                        correct_pred += 1\n",
        "                        break\n",
        "\n",
        "    total_pred = len(result_list)\n",
        "    accuracy = correct_pred / total_pred\n",
        "\n",
        "    return accuracy\n",
        "\n",
        "\n",
        "def calculate_correlation_acc(result_list):\n",
        "    model_predictions = {\"total\": 0, \"exact_correct\": 0, \"brief_correct\": 0}\n",
        "    positive_correlations = [\"Strong Positive Correlation\", \"Moderate Positive Correlation\"]\n",
        "    negative_correlations = [\"Strong Negative Correlation\", \"Moderate Negative Correlation\"]\n",
        "    for result in result_list:\n",
        "        prediction = result[\"predict\"].strip()\n",
        "        model_predictions[\"total\"] += 1\n",
        "        if prediction == result[\"ground_truth\"]:\n",
        "            model_predictions[\"exact_correct\"] += 1\n",
        "\n",
        "        # Brief accuracy\n",
        "        pred_is_positive = prediction in positive_correlations\n",
        "        pred_is_negative = prediction in negative_correlations\n",
        "        truth_is_positive = result[\"ground_truth\"] in positive_correlations\n",
        "        truth_is_negative = result[\"ground_truth\"] in negative_correlations\n",
        "\n",
        "        if (pred_is_positive and truth_is_positive) or \\\n",
        "            (pred_is_negative and truth_is_negative) or \\\n",
        "            (prediction == result[\"ground_truth\"]):\n",
        "            model_predictions[\"brief_correct\"] += 1\n",
        "\n",
        "    # Calculate and format results\n",
        "    total = model_predictions[\"total\"]\n",
        "    exact_accuracy = (model_predictions[\"exact_correct\"] / total) * 100\n",
        "    brief_accuracy = (model_predictions[\"brief_correct\"] / total) * 100\n",
        "\n",
        "    metric_results = {\n",
        "        \"exact_accuracy\": f\"{round(exact_accuracy, 2)}%\",\n",
        "        \"brief_accuracy\": f\"{round(brief_accuracy, 2)}%\",\n",
        "        \"total_samples\": total\n",
        "    }\n",
        "    return metric_results\n",
        "\n",
        "\n",
        "def calculate_mcqa_acc(result_list):\n",
        "    correct = 0\n",
        "    total = 0\n",
        "    for result in result_list:\n",
        "        predition = result[\"predict\"].strip()\n",
        "        predition = predition[0].upper()\n",
        "        if predition == result[\"ground_truth\"]:\n",
        "            correct += 1\n",
        "\n",
        "        total += 1\n",
        "\n",
        "    accuracy = correct / total\n",
        "\n",
        "    return accuracy * 100"
      ]
    },
    {
      "cell_type": "markdown",
      "metadata": {
        "id": "eygbt3uqV5bd"
      },
      "source": [
        "### 5. Models Code"
      ]
    },
    {
      "cell_type": "code",
      "execution_count": 7,
      "metadata": {
        "id": "VzVqjoWMV9ZJ"
      },
      "outputs": [],
      "source": [
        "class BaseModel(ABC):\n",
        "    @abstractmethod\n",
        "    def inference(self, content: str) -> str:\n",
        "        \"\"\"\n",
        "        Run inference on a given input prompt and return the generated output.\n",
        "        \"\"\"\n",
        "        pass"
      ]
    },
    {
      "cell_type": "code",
      "execution_count": 8,
      "metadata": {
        "id": "J-7-980UWDSQ"
      },
      "outputs": [],
      "source": [
        "class DeepSeekModel(BaseModel):\n",
        "    def __init__(self, model_name: str = \"deepseek-ai/DeepSeek-R1-Distill-Qwen-1.5B\", **kwargs):\n",
        "\n",
        "        # The model is set in eval mode by default by using eval()\n",
        "        # See: https://huggingface.co/docs/transformers/en/main_classes/model#transformers.PreTrainedModel\n",
        "        self.model = AutoModelForCausalLM.from_pretrained(\n",
        "            model_name,\n",
        "            torch_dtype=\"auto\",\n",
        "            device_map=\"auto\",\n",
        "            **kwargs\n",
        "        )\n",
        "        self.tokenizer = AutoTokenizer.from_pretrained(model_name)\n",
        "\n",
        "    def inference(self, content: str) -> str:\n",
        "        messages = [{\"role\": \"user\", \"content\": content}]\n",
        "\n",
        "        chat_prompt = self.tokenizer.apply_chat_template(\n",
        "            messages,\n",
        "            tokenize=False,\n",
        "            add_generation_prompt=True\n",
        "        )\n",
        "        tokenized_input = self.tokenizer([chat_prompt], return_tensors=\"pt\").to(self.model.device)\n",
        "        generated_output = self.model.generate(\n",
        "            **tokenized_input,\n",
        "            max_new_tokens=4096,\n",
        "        )\n",
        "        output_ids = generated_output[0][len(tokenized_input.input_ids[0]):].tolist()\n",
        "\n",
        "        # parsing thinking content\n",
        "        try:\n",
        "            # rindex finding 151649 (</think>)\n",
        "            index = len(output_ids) - output_ids[::-1].index(151649)\n",
        "        except ValueError:\n",
        "            index = 0\n",
        "        outputs = self.tokenizer.decode(output_ids[index:], skip_special_tokens=True).strip(\"\\n\")\n",
        "\n",
        "        return outputs"
      ]
    },
    {
      "cell_type": "code",
      "execution_count": null,
      "metadata": {
        "id": "94Rf3ZLIYCuI"
      },
      "outputs": [],
      "source": [
        "class LLaMAModel(BaseModel):\n",
        "    def __init__(self, model_name: str = \"meta-llama/Llama-3.2-1B-Instruct\", **kwargs):\n",
        "        self.pipeline = pipeline(\n",
        "            \"text-generation\",\n",
        "            model=model_name,\n",
        "            torch_dtype=\"auto\",\n",
        "            device_map=\"auto\",\n",
        "            token=\"\",\n",
        "            **kwargs\n",
        "        )\n",
        "\n",
        "    def inference(self, content: str) -> str:\n",
        "        messages = [{\"role\": \"user\", \"content\": content}]\n",
        "\n",
        "        outputs = self.pipeline(messages, max_new_tokens=1024)\n",
        "\n",
        "        return outputs[0][\"generated_text\"][-1][\"content\"]"
      ]
    },
    {
      "cell_type": "code",
      "execution_count": 10,
      "metadata": {
        "id": "fdC6qVPZYJVs"
      },
      "outputs": [],
      "source": [
        "class ModelFactory:\n",
        "    def __init__(self, config: dict):\n",
        "        self.config = config\n",
        "\n",
        "    @staticmethod\n",
        "    def get_model(model_type: str, model_name: str, **kwargs) -> BaseModel:\n",
        "        if model_type == \"deepseek\":\n",
        "            return DeepSeekModel(model_name=model_name, **kwargs)\n",
        "        elif model_type == \"llama\":\n",
        "            return LLaMAModel(model_name=model_name, **kwargs)\n",
        "        else:\n",
        "            raise ValueError(f\"Unsupported model type: {model_type}\")"
      ]
    },
    {
      "cell_type": "markdown",
      "metadata": {
        "id": "UsKClRUpYK8m"
      },
      "source": [
        "### 6. Experiment Code --"
      ]
    },
    {
      "cell_type": "code",
      "execution_count": 11,
      "metadata": {
        "id": "3Hw8kUS5sd-u"
      },
      "outputs": [],
      "source": [
        "def finance_mse_metaprompt_generation(\n",
        "    text: str,\n",
        "    prices: List[float],\n",
        "    start_datetime: str,\n",
        "    end_datetime: str,\n",
        "    pred_end_datetime: str,\n",
        "    granularity: str,\n",
        "    prediction_length: int,\n",
        "    mode: str,\n",
        ") -> str:\n",
        "    \"\"\"\n",
        "    Generates a meta-prompt for hypothetical stock price trend analysis\n",
        "    based on given inputs.\n",
        "\n",
        "    Args:\n",
        "        text (str): News article content within the input time series range.\n",
        "        prices (List[float]): Historical stock prices.\n",
        "        start_datetime (str): Start datetime of the input time series.\n",
        "        end_datetime (str): End datetime of the input time series.\n",
        "        pred_end_datetime (str): End datetime of the hypothetical projection.\n",
        "        granularity (str): Granularity of the input time series (e.g., daily, hourly).\n",
        "        prediction_length (int): Number of future time steps to estimate.\n",
        "        mode (str): Mode of estimation (\"timeseries_only\", \"text_only\", \"combined\").\n",
        "\n",
        "    Returns:\n",
        "        str: Meta-prompt for ChatGPT.\n",
        "    \"\"\"\n",
        "    prompt = (\n",
        "        f\"You are an AI assistant trained in data analysis and modeling. \"\n",
        "        f\"Your task is to conduct a research-based timeseries estimation for the next {prediction_length} time steps \"\n",
        "        f\"based on provided historical price movements and/or related news articles. \"\n",
        "        f\"This analysis aims to explore patterns in the given dataset and should not be considered financial advice. \"\n",
        "        f\"The input time series spans from {start_datetime} to {end_datetime}, with a granularity of {granularity}. \"\n",
        "        f\"The estimation period extends from {end_datetime} to {pred_end_datetime}, maintaining the same granularity.\"\n",
        "    )\n",
        "\n",
        "    if mode == \"timeseries_only\":\n",
        "        prompt += (\n",
        "            \"You will analyze the numerical patterns in historical prices and extrapolate potential movements. \"\n",
        "            f\"The input prices are: {prices}. \"\n",
        "        )\n",
        "    elif mode == \"text_only\":\n",
        "        prompt += (\n",
        "            \"You will analyze sentiment and potential market impacts from the following news article content: \"\n",
        "            f\"{text}. \"\n",
        "        )\n",
        "    elif mode == \"combined\":\n",
        "        prompt += (\n",
        "            \"You will use both historical price movements and relevant news sentiment analysis \"\n",
        "            f\"to explore hypothetical market trends. The input prices are: {prices}. The news article states: {text}. \"\n",
        "        )\n",
        "    else:\n",
        "        raise ValueError(\n",
        "            \"Invalid mode. Choose from 'timeseries_only', 'text_only', or 'combined'.\"\n",
        "        )\n",
        "\n",
        "    prompt += (\n",
        "        \"\\n\\nPlease return your estimated values in a structured format as a  list of float numbers. \"\n",
        "        \"Ensure the output follows this format strictly: \"\n",
        "        \"\\nPredicted Prices: value1, value2, ..., valueN. \"\n",
        "        f\"The number of estimated values should be exactly {prediction_length}. \"\n",
        "    )\n",
        "\n",
        "    return prompt\n",
        "\n",
        "def finance_macd_metaprompt_generation(\n",
        "    text: str,\n",
        "    prices: List[float],\n",
        "    start_datetime: str,\n",
        "    end_datetime: str,\n",
        "    pred_end_datetime: str,\n",
        "    granularity: str,\n",
        "    prediction_length: int,\n",
        "    mode: str,\n",
        ") -> str:\n",
        "\n",
        "    prompt = (\n",
        "        f\"You are an AI assistant trained in data analysis and modeling. \"\n",
        "        f\"Your task is to Predict the future Moving Average Convergence Divergence (MACD) values for the next {prediction_length} time steps \"\n",
        "        f\"based on provided historical timeseries movements and/or related news articles. \"\n",
        "        # f\"This analysis aims to explore patterns in the given dataset and should not be considered financial advice. \"\n",
        "        f\"The input time series spans from {start_datetime} to {end_datetime}, with a granularity of {granularity}. \"\n",
        "        f\"The estimation period extends from {end_datetime} to {pred_end_datetime}, maintaining the same granularity.\"\n",
        "    )\n",
        "\n",
        "    if mode == \"timeseries_only\":\n",
        "        prompt += (\n",
        "            \"You will analyze the numerical patterns in historical prices. \"\n",
        "            f\"The input prices are: {prices}. \"\n",
        "        )\n",
        "    elif mode == \"text_only\":\n",
        "        prompt += (\n",
        "            \"You will analyze sentiment and potential market impacts from the following news article content: \"\n",
        "            f\"{text}. \"\n",
        "        )\n",
        "    elif mode == \"combined\":\n",
        "        prompt += (\n",
        "            \"You will use both historical price movements and relevant text sentiment analysis \"\n",
        "            f\"The input prices are: {prices}. The news article states: {text}. \"\n",
        "        )\n",
        "    else:\n",
        "        raise ValueError(\n",
        "            \"Invalid mode. Choose from 'timeseries_only', 'text_only', or 'combined'.\"\n",
        "        )\n",
        "\n",
        "    prompt += (\n",
        "        \"\\n\\nPlease return your predicted MACD values in a structured format as a list of float numbers. Please predict the real possible values, do not use the naive linear extrapolation or similar methods\"\n",
        "        \"Ensure the output follows this format strictly: \"\n",
        "        \"\\nPredicted Prices: value1, value2, ..., valueN. \"\n",
        "        f\"The number of predicted values should be exactly {prediction_length}. \"\n",
        "    )\n",
        "\n",
        "    return prompt\n",
        "\n",
        "def finance_bb_metaprompt_generation(\n",
        "    text: str,\n",
        "    prices: List[float],\n",
        "    start_datetime: str,\n",
        "    end_datetime: str,\n",
        "    pred_end_datetime: str,\n",
        "    granularity: str,\n",
        "    prediction_length: int,\n",
        "    mode: str,\n",
        ") -> str:\n",
        "\n",
        "    prompt = (\n",
        "        f\"You are an AI assistant trained in data analysis and modeling. \"\n",
        "        f\"Your task is to Predict the future upper Bollinger Band (BB) values  for the next {prediction_length} time steps \"\n",
        "        f\"based on provided historical price movements and/or related news articles. \"\n",
        "        # f\"This analysis aims to explore patterns in the given dataset and should not be considered financial advice. \"\n",
        "        f\"The input time series spans from {start_datetime} to {end_datetime}, with a granularity of {granularity}. \"\n",
        "        f\"The estimation period extends from {end_datetime} to {pred_end_datetime}, maintaining the same granularity.\"\n",
        "    )\n",
        "\n",
        "    if mode == \"timeseries_only\":\n",
        "        prompt += (\n",
        "            \"You will analyze the numerical patterns in historical prices. \"\n",
        "            f\"The input prices are: {prices}. \"\n",
        "        )\n",
        "    elif mode == \"text_only\":\n",
        "        prompt += (\n",
        "            \"You will analyze sentiment and potential market impacts from the following news article content: \"\n",
        "            f\"{text}. \"\n",
        "        )\n",
        "    elif mode == \"combined\":\n",
        "        prompt += (\n",
        "            \"You will use both historical price movements and relevant news sentiment analysis \"\n",
        "            f\"to explore hypothetical market trends. The input prices are: {prices}. The news article states: {text}. \"\n",
        "        )\n",
        "    else:\n",
        "        raise ValueError(\n",
        "            \"Invalid mode. Choose from 'timeseries_only', 'text_only', or 'combined'.\"\n",
        "        )\n",
        "\n",
        "    prompt += (\n",
        "        \"\\n\\nPlease return your estimated upper Bollinger Band (BB) values values in a structured format as a list of float numbers. \"\n",
        "        \"Ensure the output follows this format strictly: \"\n",
        "        \"\\nPredicted Prices: value1, value2, ..., valueN. \"\n",
        "        f\"The number of estimated values should be exactly {prediction_length}. \"\n",
        "    )\n",
        "\n",
        "    return prompt\n",
        "\n",
        "def parse_val_prediction_response(response: str) -> Union[List[float], None]:\n",
        "    \"\"\"\n",
        "    Decodes the predicted prices from a response string.\n",
        "\n",
        "    Args:\n",
        "        response (str): The response containing the predicted prices.\n",
        "\n",
        "    Returns:\n",
        "        List[float]: A list of float numbers extracted from the response.\n",
        "        None: If extraction fails.\n",
        "    \"\"\"\n",
        "    match = re.search(r\"Predicted Prices:\\s*([-\\d.,\\s]+)\", response)\n",
        "\n",
        "    if match:\n",
        "        try:\n",
        "            price_list = [float(value) for value in match.group(1).split(',')]\n",
        "            return price_list\n",
        "        except ValueError:\n",
        "            pass  # If conversion fails, try another approach\n",
        "\n",
        "    # Alternative approach: Find all potential numbers in the response\n",
        "    possible_numbers = re.findall(r\"-?\\d+\\.\\d+\", response)\n",
        "    if possible_numbers:\n",
        "        try:\n",
        "            return [float(num) for num in possible_numbers]\n",
        "        except ValueError:\n",
        "            pass  # If conversion fails, return None\n",
        "\n",
        "    return None  # Return None if extraction fails\n",
        "\n",
        "def finance_classification_metaprompt_generation(text=None, timestamps=None, prices=None, mode=None):\n",
        "    time_series_data = \", \".join([f\"{price}\" for price in  prices])\n",
        "\n",
        "    if mode == \"combined\":\n",
        "        meta_prompt = f\"\"\"\n",
        "            You are a financial prediction expert with knowledge of advanced machine learning models and time-series analysis.\n",
        "            Your goal is to predict the stock trend (rise, neutral, or fall) based on the following inputs:\n",
        "\n",
        "            1. **Time Series Stock Price Data**:\n",
        "            - This data includes stock prices recorded at 1-hour intervals over the last month from {timestamps[0]} to {timestamps[-1]}.\n",
        "            - Example data format:\n",
        "                {time_series_data}\n",
        "\n",
        "            2. **News Data**:\n",
        "            - This includes news headlines and summaries relevant to the stock's company or sector.\n",
        "            - Example data format:\n",
        "                {text}\n",
        "\n",
        "            ### Task:\n",
        "            Analyze the provided time-series data and news to identify future trends of the stock performance. Ensure that the news data is used to supplement the insights from the time-series analysis, focusing on combining both inputs for a more accurate prediction.\n",
        "\n",
        "            ### Output:\n",
        "            Provide a prediction for the stock trend categorized one of the following labels:\n",
        "            - \"<-4%\"\n",
        "            - \"-2% ~ -4%\"\n",
        "            - \"-2% ~ +2%\"\n",
        "            - \"+2% ~ +4%\"\n",
        "            - \">+4%\"\n",
        "\n",
        "            please think step-by-step and briefly explain how the combination of time-series data and news data led to the prediction;\n",
        "            then wrap your final answer in the final predicted label in the format ^^^label^^^\n",
        "        \"\"\"\n",
        "\n",
        "    elif mode == \"text_only\":\n",
        "        meta_prompt = f\"\"\"\n",
        "            You are a financial prediction expert with knowledge of advanced machine learning models and time-series analysis.\n",
        "            Your goal is to predict the stock trend with given labels based on the following input:\n",
        "\n",
        "            **News Data**:\n",
        "            - This includes news headlines and summaries relevant to the stock's company or sector.\n",
        "            - Example data format:\n",
        "                {text}\n",
        "\n",
        "            ### Output:\n",
        "            Provide a prediction for the stock trend categorized one of the following labels:\n",
        "            - \"<-4%\"\n",
        "            - \"-2% ~ -4%\"\n",
        "            - \"-2% ~ +2%\"\n",
        "            - \"+2% ~ +4%\"\n",
        "            - \">+4%\"\n",
        "\n",
        "            ### Task:\n",
        "            Analyze the news semantics to identify trends and patterns that could impact stock performance.\n",
        "            Then wrap your final answer in the final predicted label in the format ^^^label^^^\n",
        "        \"\"\"\n",
        "\n",
        "    elif mode == \"timeseries_only\":\n",
        "        meta_prompt = f\"\"\"\n",
        "            You are a financial prediction expert with knowledge of advanced machine learning models and time-series analysis.\n",
        "            Your goal is to predict the stock trend with given labels based on the following input:\n",
        "\n",
        "            1. **Time Series Stock Price Data**:\n",
        "            - This data includes stock prices recorded at 1-hour intervals over the last month from {timestamps[0]} to {timestamps[-1]}.\n",
        "            - Example data format:\n",
        "                {time_series_data}\n",
        "\n",
        "            ### Output:\n",
        "            Provide a prediction for the stock trend categorized one of the following labels:\n",
        "            - \"<-4%\"\n",
        "            - \"-2% ~ -4%\"\n",
        "            - \"-2% ~ +2%\"\n",
        "            - \"+2% ~ +4%\"\n",
        "            - \">+4%\"\n",
        "\n",
        "            ### Task:\n",
        "            Analyze the provided time-series data to identify trends and patterns that could impact stock performance. Focus solely on the time-series data for making predictions.\n",
        "             then wrap your final answer in the final predicted label in the format ^^^label^^^\n",
        "        \"\"\"\n",
        "\n",
        "    return meta_prompt\n",
        "\n",
        "def parse_cls_response(answer):\n",
        "    try:\n",
        "        return  re.findall(r'\\^\\^\\^(.*?)\\^\\^\\^', answer)[-1]\n",
        "    except:\n",
        "        return  re.findall(r'\\^+(.*?)\\^+', answer)[-1]\n",
        "\n",
        "\n",
        "\n",
        "def finance_correlation_metaprompt_generation(setting, sticker, time1, time2, in_price, news, time_news):\n",
        "\n",
        "    time_interval = \"1 hour\" if setting == \"long\" else \"5 minutes\"\n",
        "\n",
        "    if setting == \"long\":\n",
        "        system_prompt =\"You are an expert in finance and stock market analysis. Based on the given 30-day historical stock price time series and a financial analysis published at the last timestamp of the time series, your task is to predict the correlation between the stock's price fluctuations in the next 7 days and the analysis sentiment (positive correlation indicates that positive analysis leads to price increase and negative analysis leads to price decrease). Take into account external factors or market conditions that might affect stock price movement.\"\n",
        "    else:\n",
        "        system_prompt = \"You are an expert in finance and stock market analysis. Based on the given 7-day historical stock price time series and a financial analysis published at the last timestamp of the time series, your task is to predict the correlation between the stock's price fluctuations in the next 1 day and the analysis sentiment (positive correlation indicates that positive analysis leads to price increase and negative analysis leads to price decrease). Take into account external factors or market conditions that might affect stock price movement.\"\n",
        "    question = \"Return your answer in one of the following without any other words: Strong Positive Correlation, Moderate Positive Correlation, No Correlation, Moderate Negative Correlation, Strong Negative Correlation.\"\n",
        "    query = f\"stock price of {sticker} between {time1} to {time2}, time interval is {time_interval}: \\\n",
        "            {in_price}\\\n",
        "            News published at {time_news}: \\\n",
        "            {news}\\\n",
        "            {question} Answer:\"\n",
        "    prompt = f\"{system_prompt}\\n\\n{query}\"\n",
        "\n",
        "    return prompt\n",
        "\n",
        "\n",
        "\n",
        "\n",
        "def finance_mcqa_metaprompt_generation(setting, sticker, time1, time2, in_price, news, time_news, question):\n",
        "    time_interval = \"1 hour\" if setting == \"long\" else \"5 minutes\"\n",
        "    if setting  == \"long\":\n",
        "        system_prompt =\"You are an expert in finance and stock market analysis. Your task is to answer the question based on the given 30-day historical stock price time series and a financial analysis published at the last timestamp of the time series. Return your answer only in the letter (A, B, C, or D). \"\n",
        "    else:\n",
        "        system_prompt =\"You are an expert in finance and stock market analysis. Your task is to answer the question based on the given 7-day historical stock price time series and a financial analysis published at the last timestamp of the time series. Return your answer only in the letter (A, B, C, or D). \"\n",
        "    query = f\"stock price of {sticker} between {time1} to {time2}, time interval is {time_interval}: \\\n",
        "            {in_price}\\\n",
        "            News published at {time_news}: \\\n",
        "            {news}\\\n",
        "            Question: {question}. Give your answer in the letter (A, B, C, or D) without any other words. Answer:\"\n",
        "    prompt = f\"{system_prompt}\\n\\n{query}\"\n",
        "    return prompt"
      ]
    },
    {
      "cell_type": "code",
      "execution_count": 12,
      "metadata": {
        "id": "j79ILLkFaWC8"
      },
      "outputs": [],
      "source": [
        "# import sys\n",
        "\n",
        "# sys.argv = [\n",
        "#     \"script_name\",  # Placeholder for script name (ignored by argparse)\n",
        "#     \"--dataset_folder\", \"./MTBench-Test/MTBench_finance_QA_short\",\n",
        "#     \"--save_path\", \"./MTBench-Test/llama/qa_short\",\n",
        "#     \"--model_type\", \"llama\",\n",
        "#     \"--model\", \"meta-llama/Llama-3.2-1B-Instruct\",\n",
        "#     \"--setting\", \"short\"\n",
        "# ]\n",
        "\n",
        "import sys\n",
        "\n",
        "sys.argv = [\n",
        "    \"script_name\",  # Placeholder for script name (ignored by argparse)\n",
        "    \"--dataset_path\", \"./MTBench-Test/MTBench_finance_aligned_pairs_short/train-00000-of-00001.parquet\",\n",
        "    \"--save_path\", \"./MTBench-Test/llama/tsforecast_short_combined\",\n",
        "    \"--model_type\", \"llama\",\n",
        "    \"--model\", \"meta-llama/Llama-3.2-1B-Instruct\",\n",
        "    \"--mode\", \"combined\",\n",
        "    \"--indicator\", \"time\"\n",
        "]"
      ]
    },
    {
      "cell_type": "code",
      "execution_count": 13,
      "metadata": {
        "colab": {
          "base_uri": "https://localhost:8080/",
          "height": 1000,
          "referenced_widgets": [
            "d4959c9fdc2f409da5cbf63f2ba5ba11",
            "6c2ccf03e3b8487bb475bcb0e154354f",
            "70662c17379747d982a9dcba03921966",
            "b10b8bd107144fa4a177f879e184c285",
            "c987c6bc990e45df81d9a81d8b56c2b9",
            "731ba2ae007d4db7bb6a55bf5d60e76c",
            "57c0650176be4d9c8b3cec157d183ac7",
            "23f2548269f840938fca3caddcfb4844",
            "8df28d8607a44d1ba5d43874ce7fbf6a",
            "c3af5f28658047b7a278494e141a6aa5",
            "5d07dee05c6a445ba888bdad0467f437",
            "0a329cd45aa9406691f92867e9fb71c5",
            "2ac93f7cdfa2436d93870cd4f5a53a09",
            "cb7e1bc6d28c4fa3b5a1b1aced3b6602",
            "b4d207e77db5412da6e7f6760190b4bd",
            "4258674fbdd9446eaeb95b08bcf5e041",
            "2d14894363444c68865dc2b2943ae8f5",
            "ffeba1f1e2154df290f52b56539094c6",
            "d965eae8c9894ce4bf596e7fe581500a",
            "529faf65707346d29fa1381c80c46251",
            "0513bf334c34400d88e45855d58ddd90",
            "d9f4f1523aa147b1b598e569b8013247",
            "175d345ca8b44ee48bee89be2c671335",
            "19a91cb74d7d45ec965c4198de151ba6",
            "1728e76bafc34c7c861a2e23fb4d8dd4",
            "4146807d851845d3a6d349e0a21bab43",
            "04001d69a70045cd97e632dba8f92c8b",
            "471ef7e485244325b2d9a80b5411e24d",
            "cfe8bfce490049bdbf03ef4c3930765c",
            "cd295ed7446a4f1cbf337cd81abae941",
            "5e680723648148bea0611350e0498f7f",
            "b29c6b2ab51943d790108eec07aa0f75",
            "72cbe079f4154b61981558f1964ce559",
            "825c7ae56d2c4134b066561e2b2b9df1",
            "8c5907eb6b4e4372970f21383ce5bf16",
            "8b8e90b23e8a417dbf9db664a276b406",
            "6732a8ed354a4f4692e69a610f7c025d",
            "72cf38b240174c1dad9bbeec170f150b",
            "23f9c7b0bf714ec898d5520807007d3b",
            "97029b4396b84e64948a7d0a83640948",
            "7ce48c51b5604ba586aece482acf0dfd",
            "32d59cdf949449079ff7805b0b40234f",
            "befcc4bf54cc4c378d89e135580a60c3",
            "b73db56bf8374609aaed8fca8dd92502",
            "a9945e27c96047e1b4966c5980e97560",
            "60c6d59b777f40859ad8a9fc081df21e",
            "4c68e97879d246178ad06b50ff18310f",
            "3fff25169c0946919797c8ceb1388656",
            "61d71f5992a04c9cacee4d80ddabafdc",
            "57070e16e7624c1191a208be26e5181e",
            "acee3232612f4d8d88d6ec50788eed3a",
            "0b3f8005b7844bbebeea4d16680e56fc",
            "b2767045af9e4c90b9b75df95a58cbd8",
            "d5ce248bfad74132a3c214540560e604",
            "3cb7b6b9d50e4c16804f50c1a1c4a8e6",
            "f83b28d871aa41bf85f802e709f2d626",
            "390fcf7266b74a6ab848543dde3ae399",
            "ded9ebc586c3471696f6a18cb5b596b9",
            "6451332d3b34420e834b7cc13a4ea573",
            "2097546f4dd34befb2fda3f9894c40d0",
            "22c2485a50b444999545b393dfbc83fb",
            "31d5187d347d486bb3e24f18e8f7a19a",
            "735267e4b2cb46eb921b533c01bb0806",
            "7949cfd806684b74ae9863835193c3a7",
            "677dc94d8e2b4a64832af92276db3563",
            "1a9eace482a84e0487ccfda5c801b8be"
          ]
        },
        "id": "XdWvXn4YreWT",
        "outputId": "f77a3f22-d415-420e-8b35-3e75cb150a84"
      },
      "outputs": [
        {
          "data": {
            "application/vnd.jupyter.widget-view+json": {
              "model_id": "d4959c9fdc2f409da5cbf63f2ba5ba11",
              "version_major": 2,
              "version_minor": 0
            },
            "text/plain": [
              "config.json:   0%|          | 0.00/877 [00:00<?, ?B/s]"
            ]
          },
          "metadata": {},
          "output_type": "display_data"
        },
        {
          "data": {
            "application/vnd.jupyter.widget-view+json": {
              "model_id": "0a329cd45aa9406691f92867e9fb71c5",
              "version_major": 2,
              "version_minor": 0
            },
            "text/plain": [
              "model.safetensors:   0%|          | 0.00/2.47G [00:00<?, ?B/s]"
            ]
          },
          "metadata": {},
          "output_type": "display_data"
        },
        {
          "data": {
            "application/vnd.jupyter.widget-view+json": {
              "model_id": "175d345ca8b44ee48bee89be2c671335",
              "version_major": 2,
              "version_minor": 0
            },
            "text/plain": [
              "generation_config.json:   0%|          | 0.00/189 [00:00<?, ?B/s]"
            ]
          },
          "metadata": {},
          "output_type": "display_data"
        },
        {
          "name": "stderr",
          "output_type": "stream",
          "text": [
            "/usr/local/lib/python3.11/dist-packages/huggingface_hub/utils/_auth.py:94: UserWarning: \n",
            "The secret `HF_TOKEN` does not exist in your Colab secrets.\n",
            "To authenticate with the Hugging Face Hub, create a token in your settings tab (https://huggingface.co/settings/tokens), set it as secret in your Google Colab and restart your session.\n",
            "You will be able to reuse this secret in all of your notebooks.\n",
            "Please note that authentication is recommended but still optional to access public models or datasets.\n",
            "  warnings.warn(\n"
          ]
        },
        {
          "data": {
            "application/vnd.jupyter.widget-view+json": {
              "model_id": "825c7ae56d2c4134b066561e2b2b9df1",
              "version_major": 2,
              "version_minor": 0
            },
            "text/plain": [
              "tokenizer_config.json:   0%|          | 0.00/54.5k [00:00<?, ?B/s]"
            ]
          },
          "metadata": {},
          "output_type": "display_data"
        },
        {
          "data": {
            "application/vnd.jupyter.widget-view+json": {
              "model_id": "a9945e27c96047e1b4966c5980e97560",
              "version_major": 2,
              "version_minor": 0
            },
            "text/plain": [
              "tokenizer.json:   0%|          | 0.00/9.09M [00:00<?, ?B/s]"
            ]
          },
          "metadata": {},
          "output_type": "display_data"
        },
        {
          "data": {
            "application/vnd.jupyter.widget-view+json": {
              "model_id": "f83b28d871aa41bf85f802e709f2d626",
              "version_major": 2,
              "version_minor": 0
            },
            "text/plain": [
              "special_tokens_map.json:   0%|          | 0.00/296 [00:00<?, ?B/s]"
            ]
          },
          "metadata": {},
          "output_type": "display_data"
        },
        {
          "name": "stderr",
          "output_type": "stream",
          "text": [
            "Device set to use cuda:0\n"
          ]
        },
        {
          "name": "stdout",
          "output_type": "stream",
          "text": [
            "Evaluating 100 samples...\n"
          ]
        },
        {
          "name": "stderr",
          "output_type": "stream",
          "text": [
            "  0%|          | 0/100 [00:00<?, ?it/s]Setting `pad_token_id` to `eos_token_id`:128001 for open-end generation.\n",
            "  1%|          | 1/100 [00:47<1:19:03, 47.92s/it]Setting `pad_token_id` to `eos_token_id`:128001 for open-end generation.\n"
          ]
        },
        {
          "name": "stdout",
          "output_type": "stream",
          "text": [
            "0/100: mse: 0.8317, mae: 0.8381, rmse: 0.9120\n"
          ]
        },
        {
          "name": "stderr",
          "output_type": "stream",
          "text": [
            "\r  2%|▏         | 2/100 [01:24<1:07:45, 41.48s/it]Setting `pad_token_id` to `eos_token_id`:128001 for open-end generation.\n"
          ]
        },
        {
          "name": "stdout",
          "output_type": "stream",
          "text": [
            "train-00000-of-00001.parquet failed mse  132.52623223535713\n"
          ]
        },
        {
          "name": "stderr",
          "output_type": "stream",
          "text": [
            "\r  3%|▎         | 3/100 [02:03<1:04:55, 40.16s/it]Setting `pad_token_id` to `eos_token_id`:128001 for open-end generation.\n"
          ]
        },
        {
          "name": "stdout",
          "output_type": "stream",
          "text": [
            "2/100: mse: 0.0040, mae: 0.0533, rmse: 0.0633\n"
          ]
        },
        {
          "name": "stderr",
          "output_type": "stream",
          "text": [
            "\r  4%|▍         | 4/100 [02:44<1:04:42, 40.45s/it]Setting `pad_token_id` to `eos_token_id`:128001 for open-end generation.\n"
          ]
        },
        {
          "name": "stdout",
          "output_type": "stream",
          "text": [
            "3/100: mse: 82.8958, mae: 9.0557, rmse: 9.1047\n"
          ]
        },
        {
          "name": "stderr",
          "output_type": "stream",
          "text": [
            "\r  5%|▌         | 5/100 [03:12<57:03, 36.03s/it]  Setting `pad_token_id` to `eos_token_id`:128001 for open-end generation.\n"
          ]
        },
        {
          "name": "stdout",
          "output_type": "stream",
          "text": [
            "train-00000-of-00001.parquet failed mse  10495.158785119746\n"
          ]
        },
        {
          "name": "stderr",
          "output_type": "stream",
          "text": [
            "\r  6%|▌         | 6/100 [03:53<59:01, 37.68s/it]Setting `pad_token_id` to `eos_token_id`:128001 for open-end generation.\n"
          ]
        },
        {
          "name": "stdout",
          "output_type": "stream",
          "text": [
            "5/100: mse: 0.7595, mae: 0.4941, rmse: 0.8715\n"
          ]
        },
        {
          "name": "stderr",
          "output_type": "stream",
          "text": [
            "\r  7%|▋         | 7/100 [04:30<57:50, 37.32s/it]Setting `pad_token_id` to `eos_token_id`:128001 for open-end generation.\n"
          ]
        },
        {
          "name": "stdout",
          "output_type": "stream",
          "text": [
            "6/100: mse: 46.8875, mae: 6.8222, rmse: 6.8474\n"
          ]
        },
        {
          "name": "stderr",
          "output_type": "stream",
          "text": [
            "\r  8%|▊         | 8/100 [05:08<57:40, 37.61s/it]Setting `pad_token_id` to `eos_token_id`:128001 for open-end generation.\n"
          ]
        },
        {
          "name": "stdout",
          "output_type": "stream",
          "text": [
            "train-00000-of-00001.parquet failed mse  1346.8874377098887\n"
          ]
        },
        {
          "name": "stderr",
          "output_type": "stream",
          "text": [
            "\r  9%|▉         | 9/100 [05:34<51:36, 34.03s/it]Setting `pad_token_id` to `eos_token_id`:128001 for open-end generation.\n"
          ]
        },
        {
          "name": "stdout",
          "output_type": "stream",
          "text": [
            "Skipping 8 due to error: object of type 'NoneType' has no len()\n"
          ]
        },
        {
          "name": "stderr",
          "output_type": "stream",
          "text": [
            "\r 10%|█         | 10/100 [06:18<55:36, 37.07s/it]You seem to be using the pipelines sequentially on GPU. In order to maximize efficiency please use a dataset\n",
            "Setting `pad_token_id` to `eos_token_id`:128001 for open-end generation.\n"
          ]
        },
        {
          "name": "stdout",
          "output_type": "stream",
          "text": [
            "9/100: mse: 9.6815, mae: 3.0996, rmse: 3.1115\n"
          ]
        },
        {
          "name": "stderr",
          "output_type": "stream",
          "text": [
            "\r 11%|█         | 11/100 [06:59<57:05, 38.49s/it]Setting `pad_token_id` to `eos_token_id`:128001 for open-end generation.\n"
          ]
        },
        {
          "name": "stdout",
          "output_type": "stream",
          "text": [
            "train-00000-of-00001.parquet failed mse  5182.589717534157\n"
          ]
        },
        {
          "name": "stderr",
          "output_type": "stream",
          "text": [
            "\r 12%|█▏        | 12/100 [07:43<58:39, 39.99s/it]Setting `pad_token_id` to `eos_token_id`:128001 for open-end generation.\n"
          ]
        },
        {
          "name": "stdout",
          "output_type": "stream",
          "text": [
            "11/100: mse: 28.5255, mae: 5.2523, rmse: 5.3409\n"
          ]
        },
        {
          "name": "stderr",
          "output_type": "stream",
          "text": [
            "\r 13%|█▎        | 13/100 [08:04<49:44, 34.31s/it]Setting `pad_token_id` to `eos_token_id`:128001 for open-end generation.\n"
          ]
        },
        {
          "name": "stdout",
          "output_type": "stream",
          "text": [
            "train-00000-of-00001.parquet failed mse  1417.5239369505473\n"
          ]
        },
        {
          "name": "stderr",
          "output_type": "stream",
          "text": [
            "\r 14%|█▍        | 14/100 [08:45<52:11, 36.41s/it]Setting `pad_token_id` to `eos_token_id`:128001 for open-end generation.\n"
          ]
        },
        {
          "name": "stdout",
          "output_type": "stream",
          "text": [
            "train-00000-of-00001.parquet failed mse  3506.452420898866\n"
          ]
        },
        {
          "name": "stderr",
          "output_type": "stream",
          "text": [
            "\r 15%|█▌        | 15/100 [09:23<52:16, 36.90s/it]Setting `pad_token_id` to `eos_token_id`:128001 for open-end generation.\n"
          ]
        },
        {
          "name": "stdout",
          "output_type": "stream",
          "text": [
            "14/100: mse: 12.8349, mae: 3.5248, rmse: 3.5826\n"
          ]
        },
        {
          "name": "stderr",
          "output_type": "stream",
          "text": [
            "\r 16%|█▌        | 16/100 [10:05<53:46, 38.41s/it]Setting `pad_token_id` to `eos_token_id`:128001 for open-end generation.\n"
          ]
        },
        {
          "name": "stdout",
          "output_type": "stream",
          "text": [
            "15/100: mse: 0.0486, mae: 0.1897, rmse: 0.2204\n"
          ]
        },
        {
          "name": "stderr",
          "output_type": "stream",
          "text": [
            "\r 17%|█▋        | 17/100 [10:32<48:07, 34.79s/it]Setting `pad_token_id` to `eos_token_id`:128001 for open-end generation.\n"
          ]
        },
        {
          "name": "stdout",
          "output_type": "stream",
          "text": [
            "16/100: mse: 2.1516, mae: 1.4606, rmse: 1.4668\n"
          ]
        },
        {
          "name": "stderr",
          "output_type": "stream",
          "text": [
            "\r 18%|█▊        | 18/100 [11:13<50:21, 36.85s/it]Setting `pad_token_id` to `eos_token_id`:128001 for open-end generation.\n"
          ]
        },
        {
          "name": "stdout",
          "output_type": "stream",
          "text": [
            "Skipping 17 due to error: object of type 'NoneType' has no len()\n"
          ]
        },
        {
          "name": "stderr",
          "output_type": "stream",
          "text": [
            "\r 19%|█▉        | 19/100 [11:58<52:52, 39.17s/it]Setting `pad_token_id` to `eos_token_id`:128001 for open-end generation.\n"
          ]
        },
        {
          "name": "stdout",
          "output_type": "stream",
          "text": [
            "18/100: mse: 0.1794, mae: 0.3091, rmse: 0.4235\n"
          ]
        },
        {
          "name": "stderr",
          "output_type": "stream",
          "text": [
            "\r 20%|██        | 20/100 [12:39<53:03, 39.79s/it]Setting `pad_token_id` to `eos_token_id`:128001 for open-end generation.\n"
          ]
        },
        {
          "name": "stdout",
          "output_type": "stream",
          "text": [
            "19/100: mse: 8.2179, mae: 2.8434, rmse: 2.8667\n"
          ]
        },
        {
          "name": "stderr",
          "output_type": "stream",
          "text": [
            "\r 21%|██        | 21/100 [13:02<45:43, 34.72s/it]Setting `pad_token_id` to `eos_token_id`:128001 for open-end generation.\n"
          ]
        },
        {
          "name": "stdout",
          "output_type": "stream",
          "text": [
            "20/100: mse: 29.4599, mae: 5.4089, rmse: 5.4277\n"
          ]
        },
        {
          "name": "stderr",
          "output_type": "stream",
          "text": [
            "\r 22%|██▏       | 22/100 [13:45<48:13, 37.09s/it]Setting `pad_token_id` to `eos_token_id`:128001 for open-end generation.\n"
          ]
        },
        {
          "name": "stdout",
          "output_type": "stream",
          "text": [
            "21/100: mse: 4.7735, mae: 2.1715, rmse: 2.1848\n"
          ]
        },
        {
          "name": "stderr",
          "output_type": "stream",
          "text": [
            "\r 23%|██▎       | 23/100 [14:11<43:22, 33.80s/it]Setting `pad_token_id` to `eos_token_id`:128001 for open-end generation.\n"
          ]
        },
        {
          "name": "stdout",
          "output_type": "stream",
          "text": [
            "train-00000-of-00001.parquet failed mse  8553.50335267577\n"
          ]
        },
        {
          "name": "stderr",
          "output_type": "stream",
          "text": [
            "\r 24%|██▍       | 24/100 [14:56<47:17, 37.34s/it]Setting `pad_token_id` to `eos_token_id`:128001 for open-end generation.\n"
          ]
        },
        {
          "name": "stdout",
          "output_type": "stream",
          "text": [
            "23/100: mse: 0.4569, mae: 0.5790, rmse: 0.6759\n"
          ]
        },
        {
          "name": "stderr",
          "output_type": "stream",
          "text": [
            "\r 25%|██▌       | 25/100 [15:36<47:25, 37.94s/it]Setting `pad_token_id` to `eos_token_id`:128001 for open-end generation.\n"
          ]
        },
        {
          "name": "stdout",
          "output_type": "stream",
          "text": [
            "24/100: mse: 19.0573, mae: 3.5000, rmse: 4.3655\n"
          ]
        },
        {
          "name": "stderr",
          "output_type": "stream",
          "text": [
            "\r 26%|██▌       | 26/100 [16:16<47:31, 38.53s/it]Setting `pad_token_id` to `eos_token_id`:128001 for open-end generation.\n"
          ]
        },
        {
          "name": "stdout",
          "output_type": "stream",
          "text": [
            "25/100: mse: 19.7223, mae: 4.3328, rmse: 4.4410\n"
          ]
        },
        {
          "name": "stderr",
          "output_type": "stream",
          "text": [
            "\r 27%|██▋       | 27/100 [17:00<48:49, 40.14s/it]Setting `pad_token_id` to `eos_token_id`:128001 for open-end generation.\n"
          ]
        },
        {
          "name": "stdout",
          "output_type": "stream",
          "text": [
            "26/100: mse: 2.6782, mae: 1.6178, rmse: 1.6365\n"
          ]
        },
        {
          "name": "stderr",
          "output_type": "stream",
          "text": [
            "\r 28%|██▊       | 28/100 [17:40<48:06, 40.09s/it]Setting `pad_token_id` to `eos_token_id`:128001 for open-end generation.\n"
          ]
        },
        {
          "name": "stdout",
          "output_type": "stream",
          "text": [
            "27/100: mse: 10.2812, mae: 3.1997, rmse: 3.2064\n"
          ]
        },
        {
          "name": "stderr",
          "output_type": "stream",
          "text": [
            "\r 29%|██▉       | 29/100 [18:17<46:32, 39.33s/it]Setting `pad_token_id` to `eos_token_id`:128001 for open-end generation.\n"
          ]
        },
        {
          "name": "stdout",
          "output_type": "stream",
          "text": [
            "28/100: mse: 89.7031, mae: 7.7857, rmse: 9.4712\n"
          ]
        },
        {
          "name": "stderr",
          "output_type": "stream",
          "text": [
            "\r 30%|███       | 30/100 [18:58<46:32, 39.89s/it]Setting `pad_token_id` to `eos_token_id`:128001 for open-end generation.\n"
          ]
        },
        {
          "name": "stdout",
          "output_type": "stream",
          "text": [
            "29/100: mse: 0.4823, mae: 0.6705, rmse: 0.6944\n"
          ]
        },
        {
          "name": "stderr",
          "output_type": "stream",
          "text": [
            "\r 31%|███       | 31/100 [19:38<45:44, 39.78s/it]Setting `pad_token_id` to `eos_token_id`:128001 for open-end generation.\n"
          ]
        },
        {
          "name": "stdout",
          "output_type": "stream",
          "text": [
            "30/100: mse: 4.2377, mae: 0.4316, rmse: 2.0586\n"
          ]
        },
        {
          "name": "stderr",
          "output_type": "stream",
          "text": [
            "\r 32%|███▏      | 32/100 [20:17<44:47, 39.52s/it]Setting `pad_token_id` to `eos_token_id`:128001 for open-end generation.\n"
          ]
        },
        {
          "name": "stdout",
          "output_type": "stream",
          "text": [
            "31/100: mse: 1.9357, mae: 1.1872, rmse: 1.3913\n"
          ]
        },
        {
          "name": "stderr",
          "output_type": "stream",
          "text": [
            "\r 33%|███▎      | 33/100 [20:39<38:21, 34.34s/it]Setting `pad_token_id` to `eos_token_id`:128001 for open-end generation.\n"
          ]
        },
        {
          "name": "stdout",
          "output_type": "stream",
          "text": [
            "32/100: mse: 3.9314, mae: 1.9817, rmse: 1.9828\n"
          ]
        },
        {
          "name": "stderr",
          "output_type": "stream",
          "text": [
            "\r 34%|███▍      | 34/100 [21:23<40:53, 37.17s/it]Setting `pad_token_id` to `eos_token_id`:128001 for open-end generation.\n"
          ]
        },
        {
          "name": "stdout",
          "output_type": "stream",
          "text": [
            "33/100: mse: 8.9523, mae: 2.4831, rmse: 2.9920\n"
          ]
        },
        {
          "name": "stderr",
          "output_type": "stream",
          "text": [
            "\r 35%|███▌      | 35/100 [22:05<41:59, 38.77s/it]Setting `pad_token_id` to `eos_token_id`:128001 for open-end generation.\n"
          ]
        },
        {
          "name": "stdout",
          "output_type": "stream",
          "text": [
            "34/100: mse: 1.9321, mae: 1.3900, rmse: 1.3900\n"
          ]
        },
        {
          "name": "stderr",
          "output_type": "stream",
          "text": [
            "\r 36%|███▌      | 36/100 [22:47<42:17, 39.65s/it]Setting `pad_token_id` to `eos_token_id`:128001 for open-end generation.\n"
          ]
        },
        {
          "name": "stdout",
          "output_type": "stream",
          "text": [
            "train-00000-of-00001.parquet failed mse  2835.5907164452246\n"
          ]
        },
        {
          "name": "stderr",
          "output_type": "stream",
          "text": [
            "\r 37%|███▋      | 37/100 [23:25<41:01, 39.07s/it]Setting `pad_token_id` to `eos_token_id`:128001 for open-end generation.\n"
          ]
        },
        {
          "name": "stdout",
          "output_type": "stream",
          "text": [
            "train-00000-of-00001.parquet failed mse  195.15888538841313\n"
          ]
        },
        {
          "name": "stderr",
          "output_type": "stream",
          "text": [
            "\r 38%|███▊      | 38/100 [24:04<40:28, 39.17s/it]Setting `pad_token_id` to `eos_token_id`:128001 for open-end generation.\n"
          ]
        },
        {
          "name": "stdout",
          "output_type": "stream",
          "text": [
            "37/100: mse: 2.2664, mae: 1.3617, rmse: 1.5055\n"
          ]
        },
        {
          "name": "stderr",
          "output_type": "stream",
          "text": [
            "\r 39%|███▉      | 39/100 [24:43<39:48, 39.15s/it]Setting `pad_token_id` to `eos_token_id`:128001 for open-end generation.\n"
          ]
        },
        {
          "name": "stdout",
          "output_type": "stream",
          "text": [
            "38/100: mse: 8.7594, mae: 2.9524, rmse: 2.9596\n"
          ]
        },
        {
          "name": "stderr",
          "output_type": "stream",
          "text": [
            "\r 40%|████      | 40/100 [25:23<39:25, 39.42s/it]Setting `pad_token_id` to `eos_token_id`:128001 for open-end generation.\n"
          ]
        },
        {
          "name": "stdout",
          "output_type": "stream",
          "text": [
            "39/100: mse: 26.9293, mae: 5.0132, rmse: 5.1893\n"
          ]
        },
        {
          "name": "stderr",
          "output_type": "stream",
          "text": [
            "\r 41%|████      | 41/100 [26:01<38:20, 38.99s/it]Setting `pad_token_id` to `eos_token_id`:128001 for open-end generation.\n"
          ]
        },
        {
          "name": "stdout",
          "output_type": "stream",
          "text": [
            "40/100: mse: 2.0365, mae: 1.4159, rmse: 1.4271\n"
          ]
        },
        {
          "name": "stderr",
          "output_type": "stream",
          "text": [
            "\r 42%|████▏     | 42/100 [26:28<34:17, 35.47s/it]Setting `pad_token_id` to `eos_token_id`:128001 for open-end generation.\n"
          ]
        },
        {
          "name": "stdout",
          "output_type": "stream",
          "text": [
            "41/100: mse: 1.5371, mae: 0.9071, rmse: 1.2398\n"
          ]
        },
        {
          "name": "stderr",
          "output_type": "stream",
          "text": [
            "\r 43%|████▎     | 43/100 [27:10<35:22, 37.23s/it]Setting `pad_token_id` to `eos_token_id`:128001 for open-end generation.\n"
          ]
        },
        {
          "name": "stdout",
          "output_type": "stream",
          "text": [
            "train-00000-of-00001.parquet failed mse  104.30171484950066\n"
          ]
        },
        {
          "name": "stderr",
          "output_type": "stream",
          "text": [
            "\r 44%|████▍     | 44/100 [27:53<36:17, 38.88s/it]Setting `pad_token_id` to `eos_token_id`:128001 for open-end generation.\n"
          ]
        },
        {
          "name": "stdout",
          "output_type": "stream",
          "text": [
            "43/100: mse: 25.1894, mae: 1.3744, rmse: 5.0189\n"
          ]
        },
        {
          "name": "stderr",
          "output_type": "stream",
          "text": [
            "\r 45%|████▌     | 45/100 [28:25<33:52, 36.95s/it]Setting `pad_token_id` to `eos_token_id`:128001 for open-end generation.\n"
          ]
        },
        {
          "name": "stdout",
          "output_type": "stream",
          "text": [
            "44/100: mse: 9.8698, mae: 2.7742, rmse: 3.1416\n"
          ]
        },
        {
          "name": "stderr",
          "output_type": "stream",
          "text": [
            "\r 46%|████▌     | 46/100 [29:07<34:35, 38.43s/it]Setting `pad_token_id` to `eos_token_id`:128001 for open-end generation.\n"
          ]
        },
        {
          "name": "stdout",
          "output_type": "stream",
          "text": [
            "45/100: mse: 2.1610, mae: 1.1522, rmse: 1.4700\n"
          ]
        },
        {
          "name": "stderr",
          "output_type": "stream",
          "text": [
            "\r 47%|████▋     | 47/100 [29:45<33:55, 38.42s/it]Setting `pad_token_id` to `eos_token_id`:128001 for open-end generation.\n"
          ]
        },
        {
          "name": "stdout",
          "output_type": "stream",
          "text": [
            "train-00000-of-00001.parquet failed mse  1587.1586423675144\n"
          ]
        },
        {
          "name": "stderr",
          "output_type": "stream",
          "text": [
            "\r 48%|████▊     | 48/100 [30:23<33:05, 38.18s/it]Setting `pad_token_id` to `eos_token_id`:128001 for open-end generation.\n"
          ]
        },
        {
          "name": "stdout",
          "output_type": "stream",
          "text": [
            "train-00000-of-00001.parquet failed mse  1984.3325441276927\n"
          ]
        },
        {
          "name": "stderr",
          "output_type": "stream",
          "text": [
            "\r 49%|████▉     | 49/100 [31:05<33:25, 39.32s/it]Setting `pad_token_id` to `eos_token_id`:128001 for open-end generation.\n"
          ]
        },
        {
          "name": "stdout",
          "output_type": "stream",
          "text": [
            "48/100: mse: 1.9229, mae: 1.2300, rmse: 1.3867\n"
          ]
        },
        {
          "name": "stderr",
          "output_type": "stream",
          "text": [
            "\r 50%|█████     | 50/100 [31:47<33:27, 40.16s/it]Setting `pad_token_id` to `eos_token_id`:128001 for open-end generation.\n"
          ]
        },
        {
          "name": "stdout",
          "output_type": "stream",
          "text": [
            "49/100: mse: 12.1505, mae: 3.1175, rmse: 3.4858\n"
          ]
        },
        {
          "name": "stderr",
          "output_type": "stream",
          "text": [
            "\r 51%|█████     | 51/100 [32:25<32:10, 39.40s/it]Setting `pad_token_id` to `eos_token_id`:128001 for open-end generation.\n"
          ]
        },
        {
          "name": "stdout",
          "output_type": "stream",
          "text": [
            "50/100: mse: 0.1131, mae: 0.3304, rmse: 0.3363\n"
          ]
        },
        {
          "name": "stderr",
          "output_type": "stream",
          "text": [
            "\r 52%|█████▏    | 52/100 [33:05<31:38, 39.56s/it]Setting `pad_token_id` to `eos_token_id`:128001 for open-end generation.\n"
          ]
        },
        {
          "name": "stdout",
          "output_type": "stream",
          "text": [
            "Skipping 51 due to error: object of type 'NoneType' has no len()\n"
          ]
        },
        {
          "name": "stderr",
          "output_type": "stream",
          "text": [
            "\r 53%|█████▎    | 53/100 [33:49<32:12, 41.12s/it]Setting `pad_token_id` to `eos_token_id`:128001 for open-end generation.\n"
          ]
        },
        {
          "name": "stdout",
          "output_type": "stream",
          "text": [
            "52/100: mse: 0.5927, mae: 0.5584, rmse: 0.7699\n"
          ]
        },
        {
          "name": "stderr",
          "output_type": "stream",
          "text": [
            "\r 54%|█████▍    | 54/100 [34:18<28:42, 37.44s/it]Setting `pad_token_id` to `eos_token_id`:128001 for open-end generation.\n"
          ]
        },
        {
          "name": "stdout",
          "output_type": "stream",
          "text": [
            "train-00000-of-00001.parquet failed mse  304.50791432435875\n"
          ]
        },
        {
          "name": "stderr",
          "output_type": "stream",
          "text": [
            "\r 55%|█████▌    | 55/100 [35:03<29:42, 39.61s/it]Setting `pad_token_id` to `eos_token_id`:128001 for open-end generation.\n"
          ]
        },
        {
          "name": "stdout",
          "output_type": "stream",
          "text": [
            "54/100: mse: 11.8564, mae: 1.4658, rmse: 3.4433\n"
          ]
        },
        {
          "name": "stderr",
          "output_type": "stream",
          "text": [
            "\r 56%|█████▌    | 56/100 [35:41<28:40, 39.11s/it]Setting `pad_token_id` to `eos_token_id`:128001 for open-end generation.\n"
          ]
        },
        {
          "name": "stdout",
          "output_type": "stream",
          "text": [
            "55/100: mse: 58.4510, mae: 6.9237, rmse: 7.6453\n"
          ]
        },
        {
          "name": "stderr",
          "output_type": "stream",
          "text": [
            "\r 57%|█████▋    | 57/100 [36:23<28:39, 39.99s/it]Setting `pad_token_id` to `eos_token_id`:128001 for open-end generation.\n"
          ]
        },
        {
          "name": "stdout",
          "output_type": "stream",
          "text": [
            "56/100: mse: 0.0256, mae: 0.1338, rmse: 0.1601\n"
          ]
        },
        {
          "name": "stderr",
          "output_type": "stream",
          "text": [
            "\r 58%|█████▊    | 58/100 [37:08<29:06, 41.59s/it]Setting `pad_token_id` to `eos_token_id`:128001 for open-end generation.\n"
          ]
        },
        {
          "name": "stdout",
          "output_type": "stream",
          "text": [
            "57/100: mse: 0.9845, mae: 0.9721, rmse: 0.9922\n"
          ]
        },
        {
          "name": "stderr",
          "output_type": "stream",
          "text": [
            "\r 59%|█████▉    | 59/100 [37:47<27:57, 40.91s/it]Setting `pad_token_id` to `eos_token_id`:128001 for open-end generation.\n"
          ]
        },
        {
          "name": "stdout",
          "output_type": "stream",
          "text": [
            "train-00000-of-00001.parquet failed mse  509.10155821987047\n"
          ]
        },
        {
          "name": "stderr",
          "output_type": "stream",
          "text": [
            "\r 60%|██████    | 60/100 [38:25<26:39, 39.98s/it]Setting `pad_token_id` to `eos_token_id`:128001 for open-end generation.\n"
          ]
        },
        {
          "name": "stdout",
          "output_type": "stream",
          "text": [
            "59/100: mse: 11.6067, mae: 3.3927, rmse: 3.4069\n"
          ]
        },
        {
          "name": "stderr",
          "output_type": "stream",
          "text": [
            "\r 61%|██████    | 61/100 [39:07<26:17, 40.44s/it]Setting `pad_token_id` to `eos_token_id`:128001 for open-end generation.\n"
          ]
        },
        {
          "name": "stdout",
          "output_type": "stream",
          "text": [
            "60/100: mse: 1.6647, mae: 1.2777, rmse: 1.2902\n"
          ]
        },
        {
          "name": "stderr",
          "output_type": "stream",
          "text": [
            "\r 62%|██████▏   | 62/100 [39:54<26:57, 42.57s/it]Setting `pad_token_id` to `eos_token_id`:128001 for open-end generation.\n"
          ]
        },
        {
          "name": "stdout",
          "output_type": "stream",
          "text": [
            "61/100: mse: 1.8046, mae: 1.2977, rmse: 1.3433\n"
          ]
        },
        {
          "name": "stderr",
          "output_type": "stream",
          "text": [
            "\r 63%|██████▎   | 63/100 [40:36<26:06, 42.34s/it]Setting `pad_token_id` to `eos_token_id`:128001 for open-end generation.\n"
          ]
        },
        {
          "name": "stdout",
          "output_type": "stream",
          "text": [
            "62/100: mse: 72.6891, mae: 8.4636, rmse: 8.5258\n"
          ]
        },
        {
          "name": "stderr",
          "output_type": "stream",
          "text": [
            "\r 64%|██████▍   | 64/100 [41:15<24:43, 41.20s/it]Setting `pad_token_id` to `eos_token_id`:128001 for open-end generation.\n"
          ]
        },
        {
          "name": "stdout",
          "output_type": "stream",
          "text": [
            "Skipping 63 due to error: object of type 'NoneType' has no len()\n"
          ]
        },
        {
          "name": "stderr",
          "output_type": "stream",
          "text": [
            "\r 65%|██████▌   | 65/100 [41:24<18:26, 31.60s/it]Setting `pad_token_id` to `eos_token_id`:128001 for open-end generation.\n"
          ]
        },
        {
          "name": "stdout",
          "output_type": "stream",
          "text": [
            "64/100: mse: 0.0313, mae: 0.1614, rmse: 0.1770\n"
          ]
        },
        {
          "name": "stderr",
          "output_type": "stream",
          "text": [
            "\r 66%|██████▌   | 66/100 [41:49<16:46, 29.61s/it]Setting `pad_token_id` to `eos_token_id`:128001 for open-end generation.\n"
          ]
        },
        {
          "name": "stdout",
          "output_type": "stream",
          "text": [
            "train-00000-of-00001.parquet failed mse  10083.556132718202\n"
          ]
        },
        {
          "name": "stderr",
          "output_type": "stream",
          "text": [
            "\r 67%|██████▋   | 67/100 [42:30<18:13, 33.13s/it]Setting `pad_token_id` to `eos_token_id`:128001 for open-end generation.\n"
          ]
        },
        {
          "name": "stdout",
          "output_type": "stream",
          "text": [
            "66/100: mse: 27.5249, mae: 3.7294, rmse: 5.2464\n"
          ]
        },
        {
          "name": "stderr",
          "output_type": "stream",
          "text": [
            "\r 68%|██████▊   | 68/100 [43:14<19:21, 36.29s/it]Setting `pad_token_id` to `eos_token_id`:128001 for open-end generation.\n"
          ]
        },
        {
          "name": "stdout",
          "output_type": "stream",
          "text": [
            "67/100: mse: 0.1670, mae: 0.3812, rmse: 0.4087\n"
          ]
        },
        {
          "name": "stderr",
          "output_type": "stream",
          "text": [
            "\r 69%|██████▉   | 69/100 [43:54<19:23, 37.53s/it]Setting `pad_token_id` to `eos_token_id`:128001 for open-end generation.\n"
          ]
        },
        {
          "name": "stdout",
          "output_type": "stream",
          "text": [
            "68/100: mse: 0.0390, mae: 0.1884, rmse: 0.1974\n"
          ]
        },
        {
          "name": "stderr",
          "output_type": "stream",
          "text": [
            "\r 70%|███████   | 70/100 [44:41<20:09, 40.33s/it]Setting `pad_token_id` to `eos_token_id`:128001 for open-end generation.\n"
          ]
        },
        {
          "name": "stdout",
          "output_type": "stream",
          "text": [
            "69/100: mse: 0.0063, mae: 0.0785, rmse: 0.0796\n"
          ]
        },
        {
          "name": "stderr",
          "output_type": "stream",
          "text": [
            "\r 71%|███████   | 71/100 [45:23<19:41, 40.73s/it]Setting `pad_token_id` to `eos_token_id`:128001 for open-end generation.\n"
          ]
        },
        {
          "name": "stdout",
          "output_type": "stream",
          "text": [
            "70/100: mse: 6.6517, mae: 1.0787, rmse: 2.5791\n"
          ]
        },
        {
          "name": "stderr",
          "output_type": "stream",
          "text": [
            "\r 72%|███████▏  | 72/100 [46:05<19:10, 41.08s/it]Setting `pad_token_id` to `eos_token_id`:128001 for open-end generation.\n"
          ]
        },
        {
          "name": "stdout",
          "output_type": "stream",
          "text": [
            "train-00000-of-00001.parquet failed mse  58368.00407900641\n"
          ]
        },
        {
          "name": "stderr",
          "output_type": "stream",
          "text": [
            "\r 73%|███████▎  | 73/100 [46:29<16:12, 36.01s/it]Setting `pad_token_id` to `eos_token_id`:128001 for open-end generation.\n"
          ]
        },
        {
          "name": "stdout",
          "output_type": "stream",
          "text": [
            "72/100: mse: 2.2786, mae: 1.4639, rmse: 1.5095\n"
          ]
        },
        {
          "name": "stderr",
          "output_type": "stream",
          "text": [
            "\r 74%|███████▍  | 74/100 [46:55<14:16, 32.96s/it]Setting `pad_token_id` to `eos_token_id`:128001 for open-end generation.\n"
          ]
        },
        {
          "name": "stdout",
          "output_type": "stream",
          "text": [
            "73/100: mse: 0.2169, mae: 0.4113, rmse: 0.4657\n"
          ]
        },
        {
          "name": "stderr",
          "output_type": "stream",
          "text": [
            "\r 75%|███████▌  | 75/100 [47:36<14:48, 35.55s/it]Setting `pad_token_id` to `eos_token_id`:128001 for open-end generation.\n"
          ]
        },
        {
          "name": "stdout",
          "output_type": "stream",
          "text": [
            "train-00000-of-00001.parquet failed mse  171.97207773575266\n"
          ]
        },
        {
          "name": "stderr",
          "output_type": "stream",
          "text": [
            "\r 76%|███████▌  | 76/100 [48:16<14:44, 36.85s/it]Setting `pad_token_id` to `eos_token_id`:128001 for open-end generation.\n"
          ]
        },
        {
          "name": "stdout",
          "output_type": "stream",
          "text": [
            "train-00000-of-00001.parquet failed mse  124.81233964689665\n"
          ]
        },
        {
          "name": "stderr",
          "output_type": "stream",
          "text": [
            "\r 77%|███████▋  | 77/100 [48:56<14:25, 37.62s/it]Setting `pad_token_id` to `eos_token_id`:128001 for open-end generation.\n"
          ]
        },
        {
          "name": "stdout",
          "output_type": "stream",
          "text": [
            "train-00000-of-00001.parquet failed mse  3847.754491830779\n"
          ]
        },
        {
          "name": "stderr",
          "output_type": "stream",
          "text": [
            "\r 78%|███████▊  | 78/100 [49:33<13:45, 37.55s/it]Setting `pad_token_id` to `eos_token_id`:128001 for open-end generation.\n"
          ]
        },
        {
          "name": "stdout",
          "output_type": "stream",
          "text": [
            "Skipping 77 due to error: object of type 'NoneType' has no len()\n"
          ]
        },
        {
          "name": "stderr",
          "output_type": "stream",
          "text": [
            "\r 79%|███████▉  | 79/100 [50:17<13:51, 39.58s/it]Setting `pad_token_id` to `eos_token_id`:128001 for open-end generation.\n"
          ]
        },
        {
          "name": "stdout",
          "output_type": "stream",
          "text": [
            "78/100: mse: 51.7988, mae: 7.0907, rmse: 7.1971\n"
          ]
        },
        {
          "name": "stderr",
          "output_type": "stream",
          "text": [
            "\r 80%|████████  | 80/100 [50:43<11:50, 35.53s/it]Setting `pad_token_id` to `eos_token_id`:128001 for open-end generation.\n"
          ]
        },
        {
          "name": "stdout",
          "output_type": "stream",
          "text": [
            "79/100: mse: 3.8587, mae: 1.6143, rmse: 1.9643\n"
          ]
        },
        {
          "name": "stderr",
          "output_type": "stream",
          "text": [
            "\r 81%|████████  | 81/100 [51:25<11:48, 37.31s/it]Setting `pad_token_id` to `eos_token_id`:128001 for open-end generation.\n"
          ]
        },
        {
          "name": "stdout",
          "output_type": "stream",
          "text": [
            "80/100: mse: 30.4505, mae: 5.5007, rmse: 5.5182\n"
          ]
        },
        {
          "name": "stderr",
          "output_type": "stream",
          "text": [
            "\r 82%|████████▏ | 82/100 [52:07<11:35, 38.63s/it]Setting `pad_token_id` to `eos_token_id`:128001 for open-end generation.\n"
          ]
        },
        {
          "name": "stdout",
          "output_type": "stream",
          "text": [
            "81/100: mse: 6.9347, mae: 2.5974, rmse: 2.6334\n"
          ]
        },
        {
          "name": "stderr",
          "output_type": "stream",
          "text": [
            "\r 83%|████████▎ | 83/100 [52:44<10:50, 38.24s/it]Setting `pad_token_id` to `eos_token_id`:128001 for open-end generation.\n"
          ]
        },
        {
          "name": "stdout",
          "output_type": "stream",
          "text": [
            "82/100: mse: 2.3928, mae: 1.4994, rmse: 1.5469\n"
          ]
        },
        {
          "name": "stderr",
          "output_type": "stream",
          "text": [
            "\r 84%|████████▍ | 84/100 [52:53<07:51, 29.48s/it]Setting `pad_token_id` to `eos_token_id`:128001 for open-end generation.\n"
          ]
        },
        {
          "name": "stdout",
          "output_type": "stream",
          "text": [
            "83/100: mse: 0.5477, mae: 0.7301, rmse: 0.7401\n"
          ]
        },
        {
          "name": "stderr",
          "output_type": "stream",
          "text": [
            "\r 85%|████████▌ | 85/100 [53:18<07:04, 28.29s/it]Setting `pad_token_id` to `eos_token_id`:128001 for open-end generation.\n"
          ]
        },
        {
          "name": "stdout",
          "output_type": "stream",
          "text": [
            "84/100: mse: 1.6107, mae: 1.1292, rmse: 1.2691\n"
          ]
        },
        {
          "name": "stderr",
          "output_type": "stream",
          "text": [
            "\r 86%|████████▌ | 86/100 [53:59<07:26, 31.86s/it]Setting `pad_token_id` to `eos_token_id`:128001 for open-end generation.\n"
          ]
        },
        {
          "name": "stdout",
          "output_type": "stream",
          "text": [
            "85/100: mse: 0.0500, mae: 0.1798, rmse: 0.2236\n"
          ]
        },
        {
          "name": "stderr",
          "output_type": "stream",
          "text": [
            "\r 87%|████████▋ | 87/100 [54:33<07:03, 32.60s/it]Setting `pad_token_id` to `eos_token_id`:128001 for open-end generation.\n"
          ]
        },
        {
          "name": "stdout",
          "output_type": "stream",
          "text": [
            "train-00000-of-00001.parquet failed mse  2109.676266853974\n"
          ]
        },
        {
          "name": "stderr",
          "output_type": "stream",
          "text": [
            "\r 88%|████████▊ | 88/100 [55:17<07:11, 35.99s/it]Setting `pad_token_id` to `eos_token_id`:128001 for open-end generation.\n"
          ]
        },
        {
          "name": "stdout",
          "output_type": "stream",
          "text": [
            "87/100: mse: 0.0194, mae: 0.1175, rmse: 0.1392\n"
          ]
        },
        {
          "name": "stderr",
          "output_type": "stream",
          "text": [
            "\r 89%|████████▉ | 89/100 [56:01<07:02, 38.39s/it]Setting `pad_token_id` to `eos_token_id`:128001 for open-end generation.\n"
          ]
        },
        {
          "name": "stdout",
          "output_type": "stream",
          "text": [
            "88/100: mse: 8.4221, mae: 1.2582, rmse: 2.9021\n"
          ]
        },
        {
          "name": "stderr",
          "output_type": "stream",
          "text": [
            "\r 90%|█████████ | 90/100 [56:43<06:36, 39.63s/it]Setting `pad_token_id` to `eos_token_id`:128001 for open-end generation.\n"
          ]
        },
        {
          "name": "stdout",
          "output_type": "stream",
          "text": [
            "89/100: mse: 0.1323, mae: 0.2969, rmse: 0.3637\n"
          ]
        },
        {
          "name": "stderr",
          "output_type": "stream",
          "text": [
            "\r 91%|█████████ | 91/100 [57:25<06:02, 40.26s/it]Setting `pad_token_id` to `eos_token_id`:128001 for open-end generation.\n"
          ]
        },
        {
          "name": "stdout",
          "output_type": "stream",
          "text": [
            "90/100: mse: 0.1953, mae: 0.3844, rmse: 0.4420\n"
          ]
        },
        {
          "name": "stderr",
          "output_type": "stream",
          "text": [
            "\r 92%|█████████▏| 92/100 [58:06<05:22, 40.36s/it]Setting `pad_token_id` to `eos_token_id`:128001 for open-end generation.\n"
          ]
        },
        {
          "name": "stdout",
          "output_type": "stream",
          "text": [
            "91/100: mse: 26.2574, mae: 4.5819, rmse: 5.1242\n"
          ]
        },
        {
          "name": "stderr",
          "output_type": "stream",
          "text": [
            "\r 93%|█████████▎| 93/100 [58:47<04:44, 40.70s/it]Setting `pad_token_id` to `eos_token_id`:128001 for open-end generation.\n"
          ]
        },
        {
          "name": "stdout",
          "output_type": "stream",
          "text": [
            "92/100: mse: 0.0293, mae: 0.1319, rmse: 0.1711\n"
          ]
        },
        {
          "name": "stderr",
          "output_type": "stream",
          "text": [
            "\r 94%|█████████▍| 94/100 [59:31<04:10, 41.71s/it]Setting `pad_token_id` to `eos_token_id`:128001 for open-end generation.\n"
          ]
        },
        {
          "name": "stdout",
          "output_type": "stream",
          "text": [
            "93/100: mse: 32.0261, mae: 5.6376, rmse: 5.6592\n"
          ]
        },
        {
          "name": "stderr",
          "output_type": "stream",
          "text": [
            "\r 95%|█████████▌| 95/100 [1:00:16<03:32, 42.56s/it]Setting `pad_token_id` to `eos_token_id`:128001 for open-end generation.\n"
          ]
        },
        {
          "name": "stdout",
          "output_type": "stream",
          "text": [
            "94/100: mse: 4.7957, mae: 2.1311, rmse: 2.1899\n"
          ]
        },
        {
          "name": "stderr",
          "output_type": "stream",
          "text": [
            "\r 96%|█████████▌| 96/100 [1:01:02<02:54, 43.55s/it]Setting `pad_token_id` to `eos_token_id`:128001 for open-end generation.\n"
          ]
        },
        {
          "name": "stdout",
          "output_type": "stream",
          "text": [
            "95/100: mse: 5.1713, mae: 2.2739, rmse: 2.2740\n"
          ]
        },
        {
          "name": "stderr",
          "output_type": "stream",
          "text": [
            "\r 97%|█████████▋| 97/100 [1:01:41<02:07, 42.41s/it]Setting `pad_token_id` to `eos_token_id`:128001 for open-end generation.\n"
          ]
        },
        {
          "name": "stdout",
          "output_type": "stream",
          "text": [
            "train-00000-of-00001.parquet failed mse  2155.883636758355\n"
          ]
        },
        {
          "name": "stderr",
          "output_type": "stream",
          "text": [
            "\r 98%|█████████▊| 98/100 [1:02:25<01:25, 42.62s/it]Setting `pad_token_id` to `eos_token_id`:128001 for open-end generation.\n"
          ]
        },
        {
          "name": "stdout",
          "output_type": "stream",
          "text": [
            "97/100: mse: 1.6546, mae: 1.2285, rmse: 1.2863\n"
          ]
        },
        {
          "name": "stderr",
          "output_type": "stream",
          "text": [
            "\r 99%|█████████▉| 99/100 [1:03:06<00:42, 42.37s/it]Setting `pad_token_id` to `eos_token_id`:128001 for open-end generation.\n"
          ]
        },
        {
          "name": "stdout",
          "output_type": "stream",
          "text": [
            "98/100: mse: 2.1290, mae: 1.2360, rmse: 1.4591\n"
          ]
        },
        {
          "name": "stderr",
          "output_type": "stream",
          "text": [
            "100%|██████████| 100/100 [1:03:33<00:00, 38.13s/it]"
          ]
        },
        {
          "name": "stdout",
          "output_type": "stream",
          "text": [
            "99/100: mse: 1.9203, mae: 1.1215, rmse: 1.3857\n",
            "Processing complete. Results saved to MTBench-Test/llama/tsforecast_short_combined/final_results.json\n"
          ]
        },
        {
          "name": "stderr",
          "output_type": "stream",
          "text": [
            "\n"
          ]
        }
      ],
      "source": [
        "parser = argparse.ArgumentParser()\n",
        "parser.add_argument(\"--dataset_path\", type=str, help=\"path to the dataset\")\n",
        "parser.add_argument(\"--save_path\", type=str, help=\"path to save the results\")\n",
        "parser.add_argument(\"--indicator\", default=\"macd\", type=str, help=\"macd, bb, or time\")\n",
        "parser.add_argument(\"--model_type\",  type=str, help=\"deepseek or llama\")\n",
        "parser.add_argument(\"--model\",  type=str, help=\"model name\")\n",
        "parser.add_argument(\n",
        "    \"--mode\",\n",
        "    type=str,\n",
        "    default=\"combined\",\n",
        "    help=\"choose from timeseries_only, text_only, combined\",\n",
        ")\n",
        "args = parser.parse_args()\n",
        "\n",
        "save_path = Path(args.save_path)\n",
        "details_path = save_path / \"output_details\"\n",
        "visualizations_path = save_path / \"visualizations\"\n",
        "details_path.mkdir(parents=True, exist_ok=True)\n",
        "visualizations_path.mkdir(parents=True, exist_ok=True)\n",
        "\n",
        "data_list = []\n",
        "df = pd.read_parquet(args.dataset_path)\n",
        "filename = Path(args.dataset_path).name\n",
        "\n",
        "df[\"text\"] = df[\"text\"].apply(lambda x: json.loads(x) if isinstance(x, str) else x)\n",
        "df[\"technical\"] = df[\"technical\"].apply(lambda x: json.loads(x) if isinstance(x, str) else x)\n",
        "\n",
        "for col in [\"input_window\", \"output_window\", \"input_timestamps\"]:\n",
        "    df[col] = df[col].apply(lambda x: x.tolist() if isinstance(x, np.ndarray) else x)\n",
        "\n",
        "for _, row in df.iterrows():\n",
        "    text = row[\"text\"]\n",
        "    technical = row[\"technical\"]\n",
        "\n",
        "    extracted_data = {\n",
        "        \"filename\": filename,\n",
        "        \"input_window\": row[\"input_window\"],\n",
        "        \"output_window\": row[\"output_window\"],\n",
        "        \"text\": text[\"content\"],\n",
        "        \"input_timestamps\": row[\"input_timestamps\"],\n",
        "        \"in_macd\": technical.get(\"in_macd\"),\n",
        "        \"out_macd\": technical.get(\"out_macd\"),\n",
        "        \"in_upper_bb\": technical.get(\"in_upper_bb\"),\n",
        "        \"out_upper_bb\": technical.get(\"out_upper_bb\"),\n",
        "    }\n",
        "\n",
        "    data_list.append(extracted_data)\n",
        "data_list = data_list[:100]\n",
        "\n",
        "model = ModelFactory.get_model(model_type=args.model_type, model_name=args.model)\n",
        "\n",
        "result_list = []\n",
        "tot_samples = len(data_list)\n",
        "print(f\"Evaluating {tot_samples} samples...\")\n",
        "\n",
        "epoch_results = []\n",
        "cumulative_mse, cumulative_mae, cumulative_rmse, cumulative_mape = [], [], [], []\n",
        "for idx, sample in tqdm(enumerate(data_list), total=tot_samples):\n",
        "    try:\n",
        "        datetime_list = [\n",
        "            datetime.fromtimestamp(s).strftime(\"%Y-%m-%d %H:%M:%S\")\n",
        "            for s in sample[\"input_timestamps\"]\n",
        "        ]\n",
        "        text = sample[\"text\"]\n",
        "        input_ts = sample[\"input_window\"]\n",
        "        granularity_string = format_time_difference(\n",
        "            sample[\"input_timestamps\"][1] - sample[\"input_timestamps\"][0]\n",
        "        )\n",
        "\n",
        "        if args.indicator == \"macd\":\n",
        "            output_ts = sample[\"out_macd\"]\n",
        "            designed_prompt = finance_macd_metaprompt_generation(\n",
        "                text=text,\n",
        "                prices=input_ts,\n",
        "                start_datetime=datetime_list[0],\n",
        "                end_datetime=datetime_list[-1],\n",
        "                pred_end_datetime=output_ts[-1],\n",
        "                granularity=granularity_string,\n",
        "                prediction_length=len(output_ts),\n",
        "                mode=args.mode,\n",
        "            )\n",
        "        elif args.indicator == \"bb\":\n",
        "            output_ts = sample[\"out_upper_bb\"]\n",
        "            designed_prompt = finance_bb_metaprompt_generation(\n",
        "                text=text,\n",
        "                prices=input_ts,\n",
        "                start_datetime=datetime_list[0],\n",
        "                end_datetime=datetime_list[-1],\n",
        "                pred_end_datetime=output_ts[-1],\n",
        "                granularity=granularity_string,\n",
        "                prediction_length=len(output_ts),\n",
        "                mode=args.mode,\n",
        "            )\n",
        "        elif args.indicator == \"time\":\n",
        "            output_ts = sample[\"output_window\"]\n",
        "            designed_prompt = finance_mse_metaprompt_generation(\n",
        "                text=text,\n",
        "                prices=input_ts,\n",
        "                start_datetime=datetime_list[0],\n",
        "                end_datetime=datetime_list[-1],\n",
        "                pred_end_datetime=output_ts[-1],\n",
        "                granularity=granularity_string,\n",
        "                prediction_length=len(output_ts),\n",
        "                mode=args.mode,\n",
        "            )\n",
        "\n",
        "        answer = model.inference(designed_prompt)\n",
        "        answer = answer.strip().replace('\"', '')\n",
        "\n",
        "        predict_ts = parse_val_prediction_response(answer)\n",
        "        predict_ts_orig = predict_ts\n",
        "        predict_ts = np.interp( # type: ignore\n",
        "            np.linspace(0, 1, len(output_ts)),\n",
        "            np.linspace(0, 1, len(predict_ts)),\n",
        "            predict_ts\n",
        "        )\n",
        "\n",
        "        res = {\n",
        "            \"filename\": sample[\"filename\"],\n",
        "            \"response\": answer,\n",
        "            \"ground_truth\": output_ts,\n",
        "            \"predict\": predict_ts.tolist(),\n",
        "        }\n",
        "        result_list.append(res)\n",
        "\n",
        "        save_to_json(res, details_path / sample[\"filename\"])\n",
        "\n",
        "        if args.indicator == \"macd\":\n",
        "            first_half = sample[\"in_macd\"]\n",
        "        elif args.indicator == \"bb\":\n",
        "            first_half = sample[\"in_upper_bb\"]\n",
        "        elif args.indicator == \"time\":\n",
        "            first_half = sample[\"input_window\"]\n",
        "        plot_series(sample[\"filename\"], first_half, output_ts, predict_ts_orig, visualizations_path)\n",
        "\n",
        "        mse = np.mean((np.array(output_ts) - np.array(predict_ts)) ** 2)\n",
        "        mae = np.mean(np.abs(np.array(output_ts) - np.array(predict_ts)))\n",
        "        rmse = np.sqrt(mse)\n",
        "        mape = calculate_mape(output_ts, predict_ts)\n",
        "\n",
        "        if args.indicator == \"macd\" and mse > 10:\n",
        "            print(f\"{sample['filename']} failed mse\", mse)\n",
        "            epoch_results.append({\n",
        "                \"filename\": sample[\"filename\"],\n",
        "                \"failed\": True,\n",
        "                \"epoch\": idx + 1,\n",
        "                \"mse\": mse,\n",
        "                \"mae\": mae,\n",
        "                \"rmse\": rmse,\n",
        "                \"mape\": mape,\n",
        "            })\n",
        "            continue\n",
        "\n",
        "        if args.indicator == \"time\" and mse > 100:\n",
        "            print(f\"{sample['filename']} failed mse \", mse)\n",
        "            epoch_results.append({\n",
        "                \"filename\": sample[\"filename\"],\n",
        "                \"failed\": True,\n",
        "                \"epoch\": idx + 1,\n",
        "                \"mse\": mse,\n",
        "                \"mae\": mae,\n",
        "                \"rmse\": rmse,\n",
        "                \"mape\": mape,\n",
        "            })\n",
        "            continue\n",
        "\n",
        "        if args.indicator == \"bb\" and mse > 100:\n",
        "            print(f\"{sample['filename']} failed mse \", mse)\n",
        "            epoch_results.append({\n",
        "                \"filename\": sample[\"filename\"],\n",
        "                \"failed\": True,\n",
        "                \"epoch\": idx + 1,\n",
        "                \"mse\": mse,\n",
        "                \"mae\": mae,\n",
        "                \"rmse\": rmse,\n",
        "                \"mape\": mape,\n",
        "            })\n",
        "            continue\n",
        "\n",
        "        cumulative_mse.append(mse)\n",
        "        cumulative_mae.append(mae)\n",
        "        cumulative_rmse.append(rmse)\n",
        "        cumulative_mape.append(mape)\n",
        "\n",
        "        epoch_results.append({\n",
        "            \"filename\": sample[\"filename\"],\n",
        "            \"epoch\": idx + 1,\n",
        "            \"mse\": mse,\n",
        "            \"mae\": mae,\n",
        "            \"rmse\": rmse,\n",
        "            \"mape\": mape,\n",
        "            \"mean_mse\": np.mean(cumulative_mse),\n",
        "            \"mean_mae\": np.mean(cumulative_mae),\n",
        "            \"mean_rmse\": np.mean(cumulative_rmse),\n",
        "            \"mean_mape\": np.mean(cumulative_mape),\n",
        "        })\n",
        "        save_to_json(epoch_results, f\"{save_path}/epoch_results.json\")\n",
        "        print(\n",
        "            \"{}/{}: mse: {:.4f}, mae: {:.4f}, rmse: {:.4f}\".format(\n",
        "                idx, tot_samples, mse, mae, rmse\n",
        "            )\n",
        "        )\n",
        "    except Exception as e:\n",
        "        print(f\"Skipping {idx} due to error: {e}\")\n",
        "\n",
        "\n",
        "summary = {\n",
        "    \"total_samples\": len(result_list),\n",
        "    \"mse\": np.mean(cumulative_mse),\n",
        "    \"mae\": np.mean(cumulative_mae),\n",
        "    \"rmse\": np.mean(cumulative_rmse),\n",
        "    \"mape\": np.mean(cumulative_mape),\n",
        "}\n",
        "\n",
        "save_to_json(summary, f\"{save_path}/final_results.json\")\n",
        "print(f\"Processing complete. Results saved to {save_path}/final_results.json\")"
      ]
    }
  ],
  "metadata": {
    "accelerator": "GPU",
    "colab": {
      "gpuType": "T4",
      "provenance": []
    },
    "kernelspec": {
      "display_name": "Python 3",
      "name": "python3"
    },
    "language_info": {
      "name": "python"
    },
    "widgets": {
      "application/vnd.jupyter.widget-state+json": {
        "04001d69a70045cd97e632dba8f92c8b": {
          "model_module": "@jupyter-widgets/base",
          "model_module_version": "1.2.0",
          "model_name": "LayoutModel",
          "state": {
            "_model_module": "@jupyter-widgets/base",
            "_model_module_version": "1.2.0",
            "_model_name": "LayoutModel",
            "_view_count": null,
            "_view_module": "@jupyter-widgets/base",
            "_view_module_version": "1.2.0",
            "_view_name": "LayoutView",
            "align_content": null,
            "align_items": null,
            "align_self": null,
            "border": null,
            "bottom": null,
            "display": null,
            "flex": null,
            "flex_flow": null,
            "grid_area": null,
            "grid_auto_columns": null,
            "grid_auto_flow": null,
            "grid_auto_rows": null,
            "grid_column": null,
            "grid_gap": null,
            "grid_row": null,
            "grid_template_areas": null,
            "grid_template_columns": null,
            "grid_template_rows": null,
            "height": null,
            "justify_content": null,
            "justify_items": null,
            "left": null,
            "margin": null,
            "max_height": null,
            "max_width": null,
            "min_height": null,
            "min_width": null,
            "object_fit": null,
            "object_position": null,
            "order": null,
            "overflow": null,
            "overflow_x": null,
            "overflow_y": null,
            "padding": null,
            "right": null,
            "top": null,
            "visibility": null,
            "width": null
          }
        },
        "0513bf334c34400d88e45855d58ddd90": {
          "model_module": "@jupyter-widgets/base",
          "model_module_version": "1.2.0",
          "model_name": "LayoutModel",
          "state": {
            "_model_module": "@jupyter-widgets/base",
            "_model_module_version": "1.2.0",
            "_model_name": "LayoutModel",
            "_view_count": null,
            "_view_module": "@jupyter-widgets/base",
            "_view_module_version": "1.2.0",
            "_view_name": "LayoutView",
            "align_content": null,
            "align_items": null,
            "align_self": null,
            "border": null,
            "bottom": null,
            "display": null,
            "flex": null,
            "flex_flow": null,
            "grid_area": null,
            "grid_auto_columns": null,
            "grid_auto_flow": null,
            "grid_auto_rows": null,
            "grid_column": null,
            "grid_gap": null,
            "grid_row": null,
            "grid_template_areas": null,
            "grid_template_columns": null,
            "grid_template_rows": null,
            "height": null,
            "justify_content": null,
            "justify_items": null,
            "left": null,
            "margin": null,
            "max_height": null,
            "max_width": null,
            "min_height": null,
            "min_width": null,
            "object_fit": null,
            "object_position": null,
            "order": null,
            "overflow": null,
            "overflow_x": null,
            "overflow_y": null,
            "padding": null,
            "right": null,
            "top": null,
            "visibility": null,
            "width": null
          }
        },
        "0a329cd45aa9406691f92867e9fb71c5": {
          "model_module": "@jupyter-widgets/controls",
          "model_module_version": "1.5.0",
          "model_name": "HBoxModel",
          "state": {
            "_dom_classes": [],
            "_model_module": "@jupyter-widgets/controls",
            "_model_module_version": "1.5.0",
            "_model_name": "HBoxModel",
            "_view_count": null,
            "_view_module": "@jupyter-widgets/controls",
            "_view_module_version": "1.5.0",
            "_view_name": "HBoxView",
            "box_style": "",
            "children": [
              "IPY_MODEL_2ac93f7cdfa2436d93870cd4f5a53a09",
              "IPY_MODEL_cb7e1bc6d28c4fa3b5a1b1aced3b6602",
              "IPY_MODEL_b4d207e77db5412da6e7f6760190b4bd"
            ],
            "layout": "IPY_MODEL_4258674fbdd9446eaeb95b08bcf5e041"
          }
        },
        "0b3f8005b7844bbebeea4d16680e56fc": {
          "model_module": "@jupyter-widgets/base",
          "model_module_version": "1.2.0",
          "model_name": "LayoutModel",
          "state": {
            "_model_module": "@jupyter-widgets/base",
            "_model_module_version": "1.2.0",
            "_model_name": "LayoutModel",
            "_view_count": null,
            "_view_module": "@jupyter-widgets/base",
            "_view_module_version": "1.2.0",
            "_view_name": "LayoutView",
            "align_content": null,
            "align_items": null,
            "align_self": null,
            "border": null,
            "bottom": null,
            "display": null,
            "flex": null,
            "flex_flow": null,
            "grid_area": null,
            "grid_auto_columns": null,
            "grid_auto_flow": null,
            "grid_auto_rows": null,
            "grid_column": null,
            "grid_gap": null,
            "grid_row": null,
            "grid_template_areas": null,
            "grid_template_columns": null,
            "grid_template_rows": null,
            "height": null,
            "justify_content": null,
            "justify_items": null,
            "left": null,
            "margin": null,
            "max_height": null,
            "max_width": null,
            "min_height": null,
            "min_width": null,
            "object_fit": null,
            "object_position": null,
            "order": null,
            "overflow": null,
            "overflow_x": null,
            "overflow_y": null,
            "padding": null,
            "right": null,
            "top": null,
            "visibility": null,
            "width": null
          }
        },
        "1728e76bafc34c7c861a2e23fb4d8dd4": {
          "model_module": "@jupyter-widgets/controls",
          "model_module_version": "1.5.0",
          "model_name": "FloatProgressModel",
          "state": {
            "_dom_classes": [],
            "_model_module": "@jupyter-widgets/controls",
            "_model_module_version": "1.5.0",
            "_model_name": "FloatProgressModel",
            "_view_count": null,
            "_view_module": "@jupyter-widgets/controls",
            "_view_module_version": "1.5.0",
            "_view_name": "ProgressView",
            "bar_style": "success",
            "description": "",
            "description_tooltip": null,
            "layout": "IPY_MODEL_cd295ed7446a4f1cbf337cd81abae941",
            "max": 189,
            "min": 0,
            "orientation": "horizontal",
            "style": "IPY_MODEL_5e680723648148bea0611350e0498f7f",
            "value": 189
          }
        },
        "175d345ca8b44ee48bee89be2c671335": {
          "model_module": "@jupyter-widgets/controls",
          "model_module_version": "1.5.0",
          "model_name": "HBoxModel",
          "state": {
            "_dom_classes": [],
            "_model_module": "@jupyter-widgets/controls",
            "_model_module_version": "1.5.0",
            "_model_name": "HBoxModel",
            "_view_count": null,
            "_view_module": "@jupyter-widgets/controls",
            "_view_module_version": "1.5.0",
            "_view_name": "HBoxView",
            "box_style": "",
            "children": [
              "IPY_MODEL_19a91cb74d7d45ec965c4198de151ba6",
              "IPY_MODEL_1728e76bafc34c7c861a2e23fb4d8dd4",
              "IPY_MODEL_4146807d851845d3a6d349e0a21bab43"
            ],
            "layout": "IPY_MODEL_04001d69a70045cd97e632dba8f92c8b"
          }
        },
        "19a91cb74d7d45ec965c4198de151ba6": {
          "model_module": "@jupyter-widgets/controls",
          "model_module_version": "1.5.0",
          "model_name": "HTMLModel",
          "state": {
            "_dom_classes": [],
            "_model_module": "@jupyter-widgets/controls",
            "_model_module_version": "1.5.0",
            "_model_name": "HTMLModel",
            "_view_count": null,
            "_view_module": "@jupyter-widgets/controls",
            "_view_module_version": "1.5.0",
            "_view_name": "HTMLView",
            "description": "",
            "description_tooltip": null,
            "layout": "IPY_MODEL_471ef7e485244325b2d9a80b5411e24d",
            "placeholder": "​",
            "style": "IPY_MODEL_cfe8bfce490049bdbf03ef4c3930765c",
            "value": "generation_config.json: 100%"
          }
        },
        "1a9eace482a84e0487ccfda5c801b8be": {
          "model_module": "@jupyter-widgets/controls",
          "model_module_version": "1.5.0",
          "model_name": "DescriptionStyleModel",
          "state": {
            "_model_module": "@jupyter-widgets/controls",
            "_model_module_version": "1.5.0",
            "_model_name": "DescriptionStyleModel",
            "_view_count": null,
            "_view_module": "@jupyter-widgets/base",
            "_view_module_version": "1.2.0",
            "_view_name": "StyleView",
            "description_width": ""
          }
        },
        "2097546f4dd34befb2fda3f9894c40d0": {
          "model_module": "@jupyter-widgets/base",
          "model_module_version": "1.2.0",
          "model_name": "LayoutModel",
          "state": {
            "_model_module": "@jupyter-widgets/base",
            "_model_module_version": "1.2.0",
            "_model_name": "LayoutModel",
            "_view_count": null,
            "_view_module": "@jupyter-widgets/base",
            "_view_module_version": "1.2.0",
            "_view_name": "LayoutView",
            "align_content": null,
            "align_items": null,
            "align_self": null,
            "border": null,
            "bottom": null,
            "display": null,
            "flex": null,
            "flex_flow": null,
            "grid_area": null,
            "grid_auto_columns": null,
            "grid_auto_flow": null,
            "grid_auto_rows": null,
            "grid_column": null,
            "grid_gap": null,
            "grid_row": null,
            "grid_template_areas": null,
            "grid_template_columns": null,
            "grid_template_rows": null,
            "height": null,
            "justify_content": null,
            "justify_items": null,
            "left": null,
            "margin": null,
            "max_height": null,
            "max_width": null,
            "min_height": null,
            "min_width": null,
            "object_fit": null,
            "object_position": null,
            "order": null,
            "overflow": null,
            "overflow_x": null,
            "overflow_y": null,
            "padding": null,
            "right": null,
            "top": null,
            "visibility": null,
            "width": null
          }
        },
        "22c2485a50b444999545b393dfbc83fb": {
          "model_module": "@jupyter-widgets/base",
          "model_module_version": "1.2.0",
          "model_name": "LayoutModel",
          "state": {
            "_model_module": "@jupyter-widgets/base",
            "_model_module_version": "1.2.0",
            "_model_name": "LayoutModel",
            "_view_count": null,
            "_view_module": "@jupyter-widgets/base",
            "_view_module_version": "1.2.0",
            "_view_name": "LayoutView",
            "align_content": null,
            "align_items": null,
            "align_self": null,
            "border": null,
            "bottom": null,
            "display": null,
            "flex": null,
            "flex_flow": null,
            "grid_area": null,
            "grid_auto_columns": null,
            "grid_auto_flow": null,
            "grid_auto_rows": null,
            "grid_column": null,
            "grid_gap": null,
            "grid_row": null,
            "grid_template_areas": null,
            "grid_template_columns": null,
            "grid_template_rows": null,
            "height": null,
            "justify_content": null,
            "justify_items": null,
            "left": null,
            "margin": null,
            "max_height": null,
            "max_width": null,
            "min_height": null,
            "min_width": null,
            "object_fit": null,
            "object_position": null,
            "order": null,
            "overflow": null,
            "overflow_x": null,
            "overflow_y": null,
            "padding": null,
            "right": null,
            "top": null,
            "visibility": null,
            "width": null
          }
        },
        "23f2548269f840938fca3caddcfb4844": {
          "model_module": "@jupyter-widgets/base",
          "model_module_version": "1.2.0",
          "model_name": "LayoutModel",
          "state": {
            "_model_module": "@jupyter-widgets/base",
            "_model_module_version": "1.2.0",
            "_model_name": "LayoutModel",
            "_view_count": null,
            "_view_module": "@jupyter-widgets/base",
            "_view_module_version": "1.2.0",
            "_view_name": "LayoutView",
            "align_content": null,
            "align_items": null,
            "align_self": null,
            "border": null,
            "bottom": null,
            "display": null,
            "flex": null,
            "flex_flow": null,
            "grid_area": null,
            "grid_auto_columns": null,
            "grid_auto_flow": null,
            "grid_auto_rows": null,
            "grid_column": null,
            "grid_gap": null,
            "grid_row": null,
            "grid_template_areas": null,
            "grid_template_columns": null,
            "grid_template_rows": null,
            "height": null,
            "justify_content": null,
            "justify_items": null,
            "left": null,
            "margin": null,
            "max_height": null,
            "max_width": null,
            "min_height": null,
            "min_width": null,
            "object_fit": null,
            "object_position": null,
            "order": null,
            "overflow": null,
            "overflow_x": null,
            "overflow_y": null,
            "padding": null,
            "right": null,
            "top": null,
            "visibility": null,
            "width": null
          }
        },
        "23f9c7b0bf714ec898d5520807007d3b": {
          "model_module": "@jupyter-widgets/base",
          "model_module_version": "1.2.0",
          "model_name": "LayoutModel",
          "state": {
            "_model_module": "@jupyter-widgets/base",
            "_model_module_version": "1.2.0",
            "_model_name": "LayoutModel",
            "_view_count": null,
            "_view_module": "@jupyter-widgets/base",
            "_view_module_version": "1.2.0",
            "_view_name": "LayoutView",
            "align_content": null,
            "align_items": null,
            "align_self": null,
            "border": null,
            "bottom": null,
            "display": null,
            "flex": null,
            "flex_flow": null,
            "grid_area": null,
            "grid_auto_columns": null,
            "grid_auto_flow": null,
            "grid_auto_rows": null,
            "grid_column": null,
            "grid_gap": null,
            "grid_row": null,
            "grid_template_areas": null,
            "grid_template_columns": null,
            "grid_template_rows": null,
            "height": null,
            "justify_content": null,
            "justify_items": null,
            "left": null,
            "margin": null,
            "max_height": null,
            "max_width": null,
            "min_height": null,
            "min_width": null,
            "object_fit": null,
            "object_position": null,
            "order": null,
            "overflow": null,
            "overflow_x": null,
            "overflow_y": null,
            "padding": null,
            "right": null,
            "top": null,
            "visibility": null,
            "width": null
          }
        },
        "2ac93f7cdfa2436d93870cd4f5a53a09": {
          "model_module": "@jupyter-widgets/controls",
          "model_module_version": "1.5.0",
          "model_name": "HTMLModel",
          "state": {
            "_dom_classes": [],
            "_model_module": "@jupyter-widgets/controls",
            "_model_module_version": "1.5.0",
            "_model_name": "HTMLModel",
            "_view_count": null,
            "_view_module": "@jupyter-widgets/controls",
            "_view_module_version": "1.5.0",
            "_view_name": "HTMLView",
            "description": "",
            "description_tooltip": null,
            "layout": "IPY_MODEL_2d14894363444c68865dc2b2943ae8f5",
            "placeholder": "​",
            "style": "IPY_MODEL_ffeba1f1e2154df290f52b56539094c6",
            "value": "model.safetensors: 100%"
          }
        },
        "2d14894363444c68865dc2b2943ae8f5": {
          "model_module": "@jupyter-widgets/base",
          "model_module_version": "1.2.0",
          "model_name": "LayoutModel",
          "state": {
            "_model_module": "@jupyter-widgets/base",
            "_model_module_version": "1.2.0",
            "_model_name": "LayoutModel",
            "_view_count": null,
            "_view_module": "@jupyter-widgets/base",
            "_view_module_version": "1.2.0",
            "_view_name": "LayoutView",
            "align_content": null,
            "align_items": null,
            "align_self": null,
            "border": null,
            "bottom": null,
            "display": null,
            "flex": null,
            "flex_flow": null,
            "grid_area": null,
            "grid_auto_columns": null,
            "grid_auto_flow": null,
            "grid_auto_rows": null,
            "grid_column": null,
            "grid_gap": null,
            "grid_row": null,
            "grid_template_areas": null,
            "grid_template_columns": null,
            "grid_template_rows": null,
            "height": null,
            "justify_content": null,
            "justify_items": null,
            "left": null,
            "margin": null,
            "max_height": null,
            "max_width": null,
            "min_height": null,
            "min_width": null,
            "object_fit": null,
            "object_position": null,
            "order": null,
            "overflow": null,
            "overflow_x": null,
            "overflow_y": null,
            "padding": null,
            "right": null,
            "top": null,
            "visibility": null,
            "width": null
          }
        },
        "31d5187d347d486bb3e24f18e8f7a19a": {
          "model_module": "@jupyter-widgets/controls",
          "model_module_version": "1.5.0",
          "model_name": "DescriptionStyleModel",
          "state": {
            "_model_module": "@jupyter-widgets/controls",
            "_model_module_version": "1.5.0",
            "_model_name": "DescriptionStyleModel",
            "_view_count": null,
            "_view_module": "@jupyter-widgets/base",
            "_view_module_version": "1.2.0",
            "_view_name": "StyleView",
            "description_width": ""
          }
        },
        "32d59cdf949449079ff7805b0b40234f": {
          "model_module": "@jupyter-widgets/controls",
          "model_module_version": "1.5.0",
          "model_name": "ProgressStyleModel",
          "state": {
            "_model_module": "@jupyter-widgets/controls",
            "_model_module_version": "1.5.0",
            "_model_name": "ProgressStyleModel",
            "_view_count": null,
            "_view_module": "@jupyter-widgets/base",
            "_view_module_version": "1.2.0",
            "_view_name": "StyleView",
            "bar_color": null,
            "description_width": ""
          }
        },
        "390fcf7266b74a6ab848543dde3ae399": {
          "model_module": "@jupyter-widgets/controls",
          "model_module_version": "1.5.0",
          "model_name": "HTMLModel",
          "state": {
            "_dom_classes": [],
            "_model_module": "@jupyter-widgets/controls",
            "_model_module_version": "1.5.0",
            "_model_name": "HTMLModel",
            "_view_count": null,
            "_view_module": "@jupyter-widgets/controls",
            "_view_module_version": "1.5.0",
            "_view_name": "HTMLView",
            "description": "",
            "description_tooltip": null,
            "layout": "IPY_MODEL_22c2485a50b444999545b393dfbc83fb",
            "placeholder": "​",
            "style": "IPY_MODEL_31d5187d347d486bb3e24f18e8f7a19a",
            "value": "special_tokens_map.json: 100%"
          }
        },
        "3cb7b6b9d50e4c16804f50c1a1c4a8e6": {
          "model_module": "@jupyter-widgets/controls",
          "model_module_version": "1.5.0",
          "model_name": "DescriptionStyleModel",
          "state": {
            "_model_module": "@jupyter-widgets/controls",
            "_model_module_version": "1.5.0",
            "_model_name": "DescriptionStyleModel",
            "_view_count": null,
            "_view_module": "@jupyter-widgets/base",
            "_view_module_version": "1.2.0",
            "_view_name": "StyleView",
            "description_width": ""
          }
        },
        "3fff25169c0946919797c8ceb1388656": {
          "model_module": "@jupyter-widgets/controls",
          "model_module_version": "1.5.0",
          "model_name": "HTMLModel",
          "state": {
            "_dom_classes": [],
            "_model_module": "@jupyter-widgets/controls",
            "_model_module_version": "1.5.0",
            "_model_name": "HTMLModel",
            "_view_count": null,
            "_view_module": "@jupyter-widgets/controls",
            "_view_module_version": "1.5.0",
            "_view_name": "HTMLView",
            "description": "",
            "description_tooltip": null,
            "layout": "IPY_MODEL_d5ce248bfad74132a3c214540560e604",
            "placeholder": "​",
            "style": "IPY_MODEL_3cb7b6b9d50e4c16804f50c1a1c4a8e6",
            "value": " 9.09M/9.09M [00:01&lt;00:00, 8.10MB/s]"
          }
        },
        "4146807d851845d3a6d349e0a21bab43": {
          "model_module": "@jupyter-widgets/controls",
          "model_module_version": "1.5.0",
          "model_name": "HTMLModel",
          "state": {
            "_dom_classes": [],
            "_model_module": "@jupyter-widgets/controls",
            "_model_module_version": "1.5.0",
            "_model_name": "HTMLModel",
            "_view_count": null,
            "_view_module": "@jupyter-widgets/controls",
            "_view_module_version": "1.5.0",
            "_view_name": "HTMLView",
            "description": "",
            "description_tooltip": null,
            "layout": "IPY_MODEL_b29c6b2ab51943d790108eec07aa0f75",
            "placeholder": "​",
            "style": "IPY_MODEL_72cbe079f4154b61981558f1964ce559",
            "value": " 189/189 [00:00&lt;00:00, 16.9kB/s]"
          }
        },
        "4258674fbdd9446eaeb95b08bcf5e041": {
          "model_module": "@jupyter-widgets/base",
          "model_module_version": "1.2.0",
          "model_name": "LayoutModel",
          "state": {
            "_model_module": "@jupyter-widgets/base",
            "_model_module_version": "1.2.0",
            "_model_name": "LayoutModel",
            "_view_count": null,
            "_view_module": "@jupyter-widgets/base",
            "_view_module_version": "1.2.0",
            "_view_name": "LayoutView",
            "align_content": null,
            "align_items": null,
            "align_self": null,
            "border": null,
            "bottom": null,
            "display": null,
            "flex": null,
            "flex_flow": null,
            "grid_area": null,
            "grid_auto_columns": null,
            "grid_auto_flow": null,
            "grid_auto_rows": null,
            "grid_column": null,
            "grid_gap": null,
            "grid_row": null,
            "grid_template_areas": null,
            "grid_template_columns": null,
            "grid_template_rows": null,
            "height": null,
            "justify_content": null,
            "justify_items": null,
            "left": null,
            "margin": null,
            "max_height": null,
            "max_width": null,
            "min_height": null,
            "min_width": null,
            "object_fit": null,
            "object_position": null,
            "order": null,
            "overflow": null,
            "overflow_x": null,
            "overflow_y": null,
            "padding": null,
            "right": null,
            "top": null,
            "visibility": null,
            "width": null
          }
        },
        "471ef7e485244325b2d9a80b5411e24d": {
          "model_module": "@jupyter-widgets/base",
          "model_module_version": "1.2.0",
          "model_name": "LayoutModel",
          "state": {
            "_model_module": "@jupyter-widgets/base",
            "_model_module_version": "1.2.0",
            "_model_name": "LayoutModel",
            "_view_count": null,
            "_view_module": "@jupyter-widgets/base",
            "_view_module_version": "1.2.0",
            "_view_name": "LayoutView",
            "align_content": null,
            "align_items": null,
            "align_self": null,
            "border": null,
            "bottom": null,
            "display": null,
            "flex": null,
            "flex_flow": null,
            "grid_area": null,
            "grid_auto_columns": null,
            "grid_auto_flow": null,
            "grid_auto_rows": null,
            "grid_column": null,
            "grid_gap": null,
            "grid_row": null,
            "grid_template_areas": null,
            "grid_template_columns": null,
            "grid_template_rows": null,
            "height": null,
            "justify_content": null,
            "justify_items": null,
            "left": null,
            "margin": null,
            "max_height": null,
            "max_width": null,
            "min_height": null,
            "min_width": null,
            "object_fit": null,
            "object_position": null,
            "order": null,
            "overflow": null,
            "overflow_x": null,
            "overflow_y": null,
            "padding": null,
            "right": null,
            "top": null,
            "visibility": null,
            "width": null
          }
        },
        "4c68e97879d246178ad06b50ff18310f": {
          "model_module": "@jupyter-widgets/controls",
          "model_module_version": "1.5.0",
          "model_name": "FloatProgressModel",
          "state": {
            "_dom_classes": [],
            "_model_module": "@jupyter-widgets/controls",
            "_model_module_version": "1.5.0",
            "_model_name": "FloatProgressModel",
            "_view_count": null,
            "_view_module": "@jupyter-widgets/controls",
            "_view_module_version": "1.5.0",
            "_view_name": "ProgressView",
            "bar_style": "success",
            "description": "",
            "description_tooltip": null,
            "layout": "IPY_MODEL_0b3f8005b7844bbebeea4d16680e56fc",
            "max": 9085657,
            "min": 0,
            "orientation": "horizontal",
            "style": "IPY_MODEL_b2767045af9e4c90b9b75df95a58cbd8",
            "value": 9085657
          }
        },
        "529faf65707346d29fa1381c80c46251": {
          "model_module": "@jupyter-widgets/controls",
          "model_module_version": "1.5.0",
          "model_name": "ProgressStyleModel",
          "state": {
            "_model_module": "@jupyter-widgets/controls",
            "_model_module_version": "1.5.0",
            "_model_name": "ProgressStyleModel",
            "_view_count": null,
            "_view_module": "@jupyter-widgets/base",
            "_view_module_version": "1.2.0",
            "_view_name": "StyleView",
            "bar_color": null,
            "description_width": ""
          }
        },
        "57070e16e7624c1191a208be26e5181e": {
          "model_module": "@jupyter-widgets/base",
          "model_module_version": "1.2.0",
          "model_name": "LayoutModel",
          "state": {
            "_model_module": "@jupyter-widgets/base",
            "_model_module_version": "1.2.0",
            "_model_name": "LayoutModel",
            "_view_count": null,
            "_view_module": "@jupyter-widgets/base",
            "_view_module_version": "1.2.0",
            "_view_name": "LayoutView",
            "align_content": null,
            "align_items": null,
            "align_self": null,
            "border": null,
            "bottom": null,
            "display": null,
            "flex": null,
            "flex_flow": null,
            "grid_area": null,
            "grid_auto_columns": null,
            "grid_auto_flow": null,
            "grid_auto_rows": null,
            "grid_column": null,
            "grid_gap": null,
            "grid_row": null,
            "grid_template_areas": null,
            "grid_template_columns": null,
            "grid_template_rows": null,
            "height": null,
            "justify_content": null,
            "justify_items": null,
            "left": null,
            "margin": null,
            "max_height": null,
            "max_width": null,
            "min_height": null,
            "min_width": null,
            "object_fit": null,
            "object_position": null,
            "order": null,
            "overflow": null,
            "overflow_x": null,
            "overflow_y": null,
            "padding": null,
            "right": null,
            "top": null,
            "visibility": null,
            "width": null
          }
        },
        "57c0650176be4d9c8b3cec157d183ac7": {
          "model_module": "@jupyter-widgets/controls",
          "model_module_version": "1.5.0",
          "model_name": "DescriptionStyleModel",
          "state": {
            "_model_module": "@jupyter-widgets/controls",
            "_model_module_version": "1.5.0",
            "_model_name": "DescriptionStyleModel",
            "_view_count": null,
            "_view_module": "@jupyter-widgets/base",
            "_view_module_version": "1.2.0",
            "_view_name": "StyleView",
            "description_width": ""
          }
        },
        "5d07dee05c6a445ba888bdad0467f437": {
          "model_module": "@jupyter-widgets/controls",
          "model_module_version": "1.5.0",
          "model_name": "DescriptionStyleModel",
          "state": {
            "_model_module": "@jupyter-widgets/controls",
            "_model_module_version": "1.5.0",
            "_model_name": "DescriptionStyleModel",
            "_view_count": null,
            "_view_module": "@jupyter-widgets/base",
            "_view_module_version": "1.2.0",
            "_view_name": "StyleView",
            "description_width": ""
          }
        },
        "5e680723648148bea0611350e0498f7f": {
          "model_module": "@jupyter-widgets/controls",
          "model_module_version": "1.5.0",
          "model_name": "ProgressStyleModel",
          "state": {
            "_model_module": "@jupyter-widgets/controls",
            "_model_module_version": "1.5.0",
            "_model_name": "ProgressStyleModel",
            "_view_count": null,
            "_view_module": "@jupyter-widgets/base",
            "_view_module_version": "1.2.0",
            "_view_name": "StyleView",
            "bar_color": null,
            "description_width": ""
          }
        },
        "60c6d59b777f40859ad8a9fc081df21e": {
          "model_module": "@jupyter-widgets/controls",
          "model_module_version": "1.5.0",
          "model_name": "HTMLModel",
          "state": {
            "_dom_classes": [],
            "_model_module": "@jupyter-widgets/controls",
            "_model_module_version": "1.5.0",
            "_model_name": "HTMLModel",
            "_view_count": null,
            "_view_module": "@jupyter-widgets/controls",
            "_view_module_version": "1.5.0",
            "_view_name": "HTMLView",
            "description": "",
            "description_tooltip": null,
            "layout": "IPY_MODEL_57070e16e7624c1191a208be26e5181e",
            "placeholder": "​",
            "style": "IPY_MODEL_acee3232612f4d8d88d6ec50788eed3a",
            "value": "tokenizer.json: 100%"
          }
        },
        "61d71f5992a04c9cacee4d80ddabafdc": {
          "model_module": "@jupyter-widgets/base",
          "model_module_version": "1.2.0",
          "model_name": "LayoutModel",
          "state": {
            "_model_module": "@jupyter-widgets/base",
            "_model_module_version": "1.2.0",
            "_model_name": "LayoutModel",
            "_view_count": null,
            "_view_module": "@jupyter-widgets/base",
            "_view_module_version": "1.2.0",
            "_view_name": "LayoutView",
            "align_content": null,
            "align_items": null,
            "align_self": null,
            "border": null,
            "bottom": null,
            "display": null,
            "flex": null,
            "flex_flow": null,
            "grid_area": null,
            "grid_auto_columns": null,
            "grid_auto_flow": null,
            "grid_auto_rows": null,
            "grid_column": null,
            "grid_gap": null,
            "grid_row": null,
            "grid_template_areas": null,
            "grid_template_columns": null,
            "grid_template_rows": null,
            "height": null,
            "justify_content": null,
            "justify_items": null,
            "left": null,
            "margin": null,
            "max_height": null,
            "max_width": null,
            "min_height": null,
            "min_width": null,
            "object_fit": null,
            "object_position": null,
            "order": null,
            "overflow": null,
            "overflow_x": null,
            "overflow_y": null,
            "padding": null,
            "right": null,
            "top": null,
            "visibility": null,
            "width": null
          }
        },
        "6451332d3b34420e834b7cc13a4ea573": {
          "model_module": "@jupyter-widgets/controls",
          "model_module_version": "1.5.0",
          "model_name": "HTMLModel",
          "state": {
            "_dom_classes": [],
            "_model_module": "@jupyter-widgets/controls",
            "_model_module_version": "1.5.0",
            "_model_name": "HTMLModel",
            "_view_count": null,
            "_view_module": "@jupyter-widgets/controls",
            "_view_module_version": "1.5.0",
            "_view_name": "HTMLView",
            "description": "",
            "description_tooltip": null,
            "layout": "IPY_MODEL_677dc94d8e2b4a64832af92276db3563",
            "placeholder": "​",
            "style": "IPY_MODEL_1a9eace482a84e0487ccfda5c801b8be",
            "value": " 296/296 [00:00&lt;00:00, 30.7kB/s]"
          }
        },
        "6732a8ed354a4f4692e69a610f7c025d": {
          "model_module": "@jupyter-widgets/controls",
          "model_module_version": "1.5.0",
          "model_name": "HTMLModel",
          "state": {
            "_dom_classes": [],
            "_model_module": "@jupyter-widgets/controls",
            "_model_module_version": "1.5.0",
            "_model_name": "HTMLModel",
            "_view_count": null,
            "_view_module": "@jupyter-widgets/controls",
            "_view_module_version": "1.5.0",
            "_view_name": "HTMLView",
            "description": "",
            "description_tooltip": null,
            "layout": "IPY_MODEL_befcc4bf54cc4c378d89e135580a60c3",
            "placeholder": "​",
            "style": "IPY_MODEL_b73db56bf8374609aaed8fca8dd92502",
            "value": " 54.5k/54.5k [00:00&lt;00:00, 5.38MB/s]"
          }
        },
        "677dc94d8e2b4a64832af92276db3563": {
          "model_module": "@jupyter-widgets/base",
          "model_module_version": "1.2.0",
          "model_name": "LayoutModel",
          "state": {
            "_model_module": "@jupyter-widgets/base",
            "_model_module_version": "1.2.0",
            "_model_name": "LayoutModel",
            "_view_count": null,
            "_view_module": "@jupyter-widgets/base",
            "_view_module_version": "1.2.0",
            "_view_name": "LayoutView",
            "align_content": null,
            "align_items": null,
            "align_self": null,
            "border": null,
            "bottom": null,
            "display": null,
            "flex": null,
            "flex_flow": null,
            "grid_area": null,
            "grid_auto_columns": null,
            "grid_auto_flow": null,
            "grid_auto_rows": null,
            "grid_column": null,
            "grid_gap": null,
            "grid_row": null,
            "grid_template_areas": null,
            "grid_template_columns": null,
            "grid_template_rows": null,
            "height": null,
            "justify_content": null,
            "justify_items": null,
            "left": null,
            "margin": null,
            "max_height": null,
            "max_width": null,
            "min_height": null,
            "min_width": null,
            "object_fit": null,
            "object_position": null,
            "order": null,
            "overflow": null,
            "overflow_x": null,
            "overflow_y": null,
            "padding": null,
            "right": null,
            "top": null,
            "visibility": null,
            "width": null
          }
        },
        "6c2ccf03e3b8487bb475bcb0e154354f": {
          "model_module": "@jupyter-widgets/controls",
          "model_module_version": "1.5.0",
          "model_name": "HTMLModel",
          "state": {
            "_dom_classes": [],
            "_model_module": "@jupyter-widgets/controls",
            "_model_module_version": "1.5.0",
            "_model_name": "HTMLModel",
            "_view_count": null,
            "_view_module": "@jupyter-widgets/controls",
            "_view_module_version": "1.5.0",
            "_view_name": "HTMLView",
            "description": "",
            "description_tooltip": null,
            "layout": "IPY_MODEL_731ba2ae007d4db7bb6a55bf5d60e76c",
            "placeholder": "​",
            "style": "IPY_MODEL_57c0650176be4d9c8b3cec157d183ac7",
            "value": "config.json: 100%"
          }
        },
        "70662c17379747d982a9dcba03921966": {
          "model_module": "@jupyter-widgets/controls",
          "model_module_version": "1.5.0",
          "model_name": "FloatProgressModel",
          "state": {
            "_dom_classes": [],
            "_model_module": "@jupyter-widgets/controls",
            "_model_module_version": "1.5.0",
            "_model_name": "FloatProgressModel",
            "_view_count": null,
            "_view_module": "@jupyter-widgets/controls",
            "_view_module_version": "1.5.0",
            "_view_name": "ProgressView",
            "bar_style": "success",
            "description": "",
            "description_tooltip": null,
            "layout": "IPY_MODEL_23f2548269f840938fca3caddcfb4844",
            "max": 877,
            "min": 0,
            "orientation": "horizontal",
            "style": "IPY_MODEL_8df28d8607a44d1ba5d43874ce7fbf6a",
            "value": 877
          }
        },
        "72cbe079f4154b61981558f1964ce559": {
          "model_module": "@jupyter-widgets/controls",
          "model_module_version": "1.5.0",
          "model_name": "DescriptionStyleModel",
          "state": {
            "_model_module": "@jupyter-widgets/controls",
            "_model_module_version": "1.5.0",
            "_model_name": "DescriptionStyleModel",
            "_view_count": null,
            "_view_module": "@jupyter-widgets/base",
            "_view_module_version": "1.2.0",
            "_view_name": "StyleView",
            "description_width": ""
          }
        },
        "72cf38b240174c1dad9bbeec170f150b": {
          "model_module": "@jupyter-widgets/base",
          "model_module_version": "1.2.0",
          "model_name": "LayoutModel",
          "state": {
            "_model_module": "@jupyter-widgets/base",
            "_model_module_version": "1.2.0",
            "_model_name": "LayoutModel",
            "_view_count": null,
            "_view_module": "@jupyter-widgets/base",
            "_view_module_version": "1.2.0",
            "_view_name": "LayoutView",
            "align_content": null,
            "align_items": null,
            "align_self": null,
            "border": null,
            "bottom": null,
            "display": null,
            "flex": null,
            "flex_flow": null,
            "grid_area": null,
            "grid_auto_columns": null,
            "grid_auto_flow": null,
            "grid_auto_rows": null,
            "grid_column": null,
            "grid_gap": null,
            "grid_row": null,
            "grid_template_areas": null,
            "grid_template_columns": null,
            "grid_template_rows": null,
            "height": null,
            "justify_content": null,
            "justify_items": null,
            "left": null,
            "margin": null,
            "max_height": null,
            "max_width": null,
            "min_height": null,
            "min_width": null,
            "object_fit": null,
            "object_position": null,
            "order": null,
            "overflow": null,
            "overflow_x": null,
            "overflow_y": null,
            "padding": null,
            "right": null,
            "top": null,
            "visibility": null,
            "width": null
          }
        },
        "731ba2ae007d4db7bb6a55bf5d60e76c": {
          "model_module": "@jupyter-widgets/base",
          "model_module_version": "1.2.0",
          "model_name": "LayoutModel",
          "state": {
            "_model_module": "@jupyter-widgets/base",
            "_model_module_version": "1.2.0",
            "_model_name": "LayoutModel",
            "_view_count": null,
            "_view_module": "@jupyter-widgets/base",
            "_view_module_version": "1.2.0",
            "_view_name": "LayoutView",
            "align_content": null,
            "align_items": null,
            "align_self": null,
            "border": null,
            "bottom": null,
            "display": null,
            "flex": null,
            "flex_flow": null,
            "grid_area": null,
            "grid_auto_columns": null,
            "grid_auto_flow": null,
            "grid_auto_rows": null,
            "grid_column": null,
            "grid_gap": null,
            "grid_row": null,
            "grid_template_areas": null,
            "grid_template_columns": null,
            "grid_template_rows": null,
            "height": null,
            "justify_content": null,
            "justify_items": null,
            "left": null,
            "margin": null,
            "max_height": null,
            "max_width": null,
            "min_height": null,
            "min_width": null,
            "object_fit": null,
            "object_position": null,
            "order": null,
            "overflow": null,
            "overflow_x": null,
            "overflow_y": null,
            "padding": null,
            "right": null,
            "top": null,
            "visibility": null,
            "width": null
          }
        },
        "735267e4b2cb46eb921b533c01bb0806": {
          "model_module": "@jupyter-widgets/base",
          "model_module_version": "1.2.0",
          "model_name": "LayoutModel",
          "state": {
            "_model_module": "@jupyter-widgets/base",
            "_model_module_version": "1.2.0",
            "_model_name": "LayoutModel",
            "_view_count": null,
            "_view_module": "@jupyter-widgets/base",
            "_view_module_version": "1.2.0",
            "_view_name": "LayoutView",
            "align_content": null,
            "align_items": null,
            "align_self": null,
            "border": null,
            "bottom": null,
            "display": null,
            "flex": null,
            "flex_flow": null,
            "grid_area": null,
            "grid_auto_columns": null,
            "grid_auto_flow": null,
            "grid_auto_rows": null,
            "grid_column": null,
            "grid_gap": null,
            "grid_row": null,
            "grid_template_areas": null,
            "grid_template_columns": null,
            "grid_template_rows": null,
            "height": null,
            "justify_content": null,
            "justify_items": null,
            "left": null,
            "margin": null,
            "max_height": null,
            "max_width": null,
            "min_height": null,
            "min_width": null,
            "object_fit": null,
            "object_position": null,
            "order": null,
            "overflow": null,
            "overflow_x": null,
            "overflow_y": null,
            "padding": null,
            "right": null,
            "top": null,
            "visibility": null,
            "width": null
          }
        },
        "7949cfd806684b74ae9863835193c3a7": {
          "model_module": "@jupyter-widgets/controls",
          "model_module_version": "1.5.0",
          "model_name": "ProgressStyleModel",
          "state": {
            "_model_module": "@jupyter-widgets/controls",
            "_model_module_version": "1.5.0",
            "_model_name": "ProgressStyleModel",
            "_view_count": null,
            "_view_module": "@jupyter-widgets/base",
            "_view_module_version": "1.2.0",
            "_view_name": "StyleView",
            "bar_color": null,
            "description_width": ""
          }
        },
        "7ce48c51b5604ba586aece482acf0dfd": {
          "model_module": "@jupyter-widgets/base",
          "model_module_version": "1.2.0",
          "model_name": "LayoutModel",
          "state": {
            "_model_module": "@jupyter-widgets/base",
            "_model_module_version": "1.2.0",
            "_model_name": "LayoutModel",
            "_view_count": null,
            "_view_module": "@jupyter-widgets/base",
            "_view_module_version": "1.2.0",
            "_view_name": "LayoutView",
            "align_content": null,
            "align_items": null,
            "align_self": null,
            "border": null,
            "bottom": null,
            "display": null,
            "flex": null,
            "flex_flow": null,
            "grid_area": null,
            "grid_auto_columns": null,
            "grid_auto_flow": null,
            "grid_auto_rows": null,
            "grid_column": null,
            "grid_gap": null,
            "grid_row": null,
            "grid_template_areas": null,
            "grid_template_columns": null,
            "grid_template_rows": null,
            "height": null,
            "justify_content": null,
            "justify_items": null,
            "left": null,
            "margin": null,
            "max_height": null,
            "max_width": null,
            "min_height": null,
            "min_width": null,
            "object_fit": null,
            "object_position": null,
            "order": null,
            "overflow": null,
            "overflow_x": null,
            "overflow_y": null,
            "padding": null,
            "right": null,
            "top": null,
            "visibility": null,
            "width": null
          }
        },
        "825c7ae56d2c4134b066561e2b2b9df1": {
          "model_module": "@jupyter-widgets/controls",
          "model_module_version": "1.5.0",
          "model_name": "HBoxModel",
          "state": {
            "_dom_classes": [],
            "_model_module": "@jupyter-widgets/controls",
            "_model_module_version": "1.5.0",
            "_model_name": "HBoxModel",
            "_view_count": null,
            "_view_module": "@jupyter-widgets/controls",
            "_view_module_version": "1.5.0",
            "_view_name": "HBoxView",
            "box_style": "",
            "children": [
              "IPY_MODEL_8c5907eb6b4e4372970f21383ce5bf16",
              "IPY_MODEL_8b8e90b23e8a417dbf9db664a276b406",
              "IPY_MODEL_6732a8ed354a4f4692e69a610f7c025d"
            ],
            "layout": "IPY_MODEL_72cf38b240174c1dad9bbeec170f150b"
          }
        },
        "8b8e90b23e8a417dbf9db664a276b406": {
          "model_module": "@jupyter-widgets/controls",
          "model_module_version": "1.5.0",
          "model_name": "FloatProgressModel",
          "state": {
            "_dom_classes": [],
            "_model_module": "@jupyter-widgets/controls",
            "_model_module_version": "1.5.0",
            "_model_name": "FloatProgressModel",
            "_view_count": null,
            "_view_module": "@jupyter-widgets/controls",
            "_view_module_version": "1.5.0",
            "_view_name": "ProgressView",
            "bar_style": "success",
            "description": "",
            "description_tooltip": null,
            "layout": "IPY_MODEL_7ce48c51b5604ba586aece482acf0dfd",
            "max": 54528,
            "min": 0,
            "orientation": "horizontal",
            "style": "IPY_MODEL_32d59cdf949449079ff7805b0b40234f",
            "value": 54528
          }
        },
        "8c5907eb6b4e4372970f21383ce5bf16": {
          "model_module": "@jupyter-widgets/controls",
          "model_module_version": "1.5.0",
          "model_name": "HTMLModel",
          "state": {
            "_dom_classes": [],
            "_model_module": "@jupyter-widgets/controls",
            "_model_module_version": "1.5.0",
            "_model_name": "HTMLModel",
            "_view_count": null,
            "_view_module": "@jupyter-widgets/controls",
            "_view_module_version": "1.5.0",
            "_view_name": "HTMLView",
            "description": "",
            "description_tooltip": null,
            "layout": "IPY_MODEL_23f9c7b0bf714ec898d5520807007d3b",
            "placeholder": "​",
            "style": "IPY_MODEL_97029b4396b84e64948a7d0a83640948",
            "value": "tokenizer_config.json: 100%"
          }
        },
        "8df28d8607a44d1ba5d43874ce7fbf6a": {
          "model_module": "@jupyter-widgets/controls",
          "model_module_version": "1.5.0",
          "model_name": "ProgressStyleModel",
          "state": {
            "_model_module": "@jupyter-widgets/controls",
            "_model_module_version": "1.5.0",
            "_model_name": "ProgressStyleModel",
            "_view_count": null,
            "_view_module": "@jupyter-widgets/base",
            "_view_module_version": "1.2.0",
            "_view_name": "StyleView",
            "bar_color": null,
            "description_width": ""
          }
        },
        "97029b4396b84e64948a7d0a83640948": {
          "model_module": "@jupyter-widgets/controls",
          "model_module_version": "1.5.0",
          "model_name": "DescriptionStyleModel",
          "state": {
            "_model_module": "@jupyter-widgets/controls",
            "_model_module_version": "1.5.0",
            "_model_name": "DescriptionStyleModel",
            "_view_count": null,
            "_view_module": "@jupyter-widgets/base",
            "_view_module_version": "1.2.0",
            "_view_name": "StyleView",
            "description_width": ""
          }
        },
        "a9945e27c96047e1b4966c5980e97560": {
          "model_module": "@jupyter-widgets/controls",
          "model_module_version": "1.5.0",
          "model_name": "HBoxModel",
          "state": {
            "_dom_classes": [],
            "_model_module": "@jupyter-widgets/controls",
            "_model_module_version": "1.5.0",
            "_model_name": "HBoxModel",
            "_view_count": null,
            "_view_module": "@jupyter-widgets/controls",
            "_view_module_version": "1.5.0",
            "_view_name": "HBoxView",
            "box_style": "",
            "children": [
              "IPY_MODEL_60c6d59b777f40859ad8a9fc081df21e",
              "IPY_MODEL_4c68e97879d246178ad06b50ff18310f",
              "IPY_MODEL_3fff25169c0946919797c8ceb1388656"
            ],
            "layout": "IPY_MODEL_61d71f5992a04c9cacee4d80ddabafdc"
          }
        },
        "acee3232612f4d8d88d6ec50788eed3a": {
          "model_module": "@jupyter-widgets/controls",
          "model_module_version": "1.5.0",
          "model_name": "DescriptionStyleModel",
          "state": {
            "_model_module": "@jupyter-widgets/controls",
            "_model_module_version": "1.5.0",
            "_model_name": "DescriptionStyleModel",
            "_view_count": null,
            "_view_module": "@jupyter-widgets/base",
            "_view_module_version": "1.2.0",
            "_view_name": "StyleView",
            "description_width": ""
          }
        },
        "b10b8bd107144fa4a177f879e184c285": {
          "model_module": "@jupyter-widgets/controls",
          "model_module_version": "1.5.0",
          "model_name": "HTMLModel",
          "state": {
            "_dom_classes": [],
            "_model_module": "@jupyter-widgets/controls",
            "_model_module_version": "1.5.0",
            "_model_name": "HTMLModel",
            "_view_count": null,
            "_view_module": "@jupyter-widgets/controls",
            "_view_module_version": "1.5.0",
            "_view_name": "HTMLView",
            "description": "",
            "description_tooltip": null,
            "layout": "IPY_MODEL_c3af5f28658047b7a278494e141a6aa5",
            "placeholder": "​",
            "style": "IPY_MODEL_5d07dee05c6a445ba888bdad0467f437",
            "value": " 877/877 [00:00&lt;00:00, 10.4kB/s]"
          }
        },
        "b2767045af9e4c90b9b75df95a58cbd8": {
          "model_module": "@jupyter-widgets/controls",
          "model_module_version": "1.5.0",
          "model_name": "ProgressStyleModel",
          "state": {
            "_model_module": "@jupyter-widgets/controls",
            "_model_module_version": "1.5.0",
            "_model_name": "ProgressStyleModel",
            "_view_count": null,
            "_view_module": "@jupyter-widgets/base",
            "_view_module_version": "1.2.0",
            "_view_name": "StyleView",
            "bar_color": null,
            "description_width": ""
          }
        },
        "b29c6b2ab51943d790108eec07aa0f75": {
          "model_module": "@jupyter-widgets/base",
          "model_module_version": "1.2.0",
          "model_name": "LayoutModel",
          "state": {
            "_model_module": "@jupyter-widgets/base",
            "_model_module_version": "1.2.0",
            "_model_name": "LayoutModel",
            "_view_count": null,
            "_view_module": "@jupyter-widgets/base",
            "_view_module_version": "1.2.0",
            "_view_name": "LayoutView",
            "align_content": null,
            "align_items": null,
            "align_self": null,
            "border": null,
            "bottom": null,
            "display": null,
            "flex": null,
            "flex_flow": null,
            "grid_area": null,
            "grid_auto_columns": null,
            "grid_auto_flow": null,
            "grid_auto_rows": null,
            "grid_column": null,
            "grid_gap": null,
            "grid_row": null,
            "grid_template_areas": null,
            "grid_template_columns": null,
            "grid_template_rows": null,
            "height": null,
            "justify_content": null,
            "justify_items": null,
            "left": null,
            "margin": null,
            "max_height": null,
            "max_width": null,
            "min_height": null,
            "min_width": null,
            "object_fit": null,
            "object_position": null,
            "order": null,
            "overflow": null,
            "overflow_x": null,
            "overflow_y": null,
            "padding": null,
            "right": null,
            "top": null,
            "visibility": null,
            "width": null
          }
        },
        "b4d207e77db5412da6e7f6760190b4bd": {
          "model_module": "@jupyter-widgets/controls",
          "model_module_version": "1.5.0",
          "model_name": "HTMLModel",
          "state": {
            "_dom_classes": [],
            "_model_module": "@jupyter-widgets/controls",
            "_model_module_version": "1.5.0",
            "_model_name": "HTMLModel",
            "_view_count": null,
            "_view_module": "@jupyter-widgets/controls",
            "_view_module_version": "1.5.0",
            "_view_name": "HTMLView",
            "description": "",
            "description_tooltip": null,
            "layout": "IPY_MODEL_0513bf334c34400d88e45855d58ddd90",
            "placeholder": "​",
            "style": "IPY_MODEL_d9f4f1523aa147b1b598e569b8013247",
            "value": " 2.47G/2.47G [01:26&lt;00:00, 23.4MB/s]"
          }
        },
        "b73db56bf8374609aaed8fca8dd92502": {
          "model_module": "@jupyter-widgets/controls",
          "model_module_version": "1.5.0",
          "model_name": "DescriptionStyleModel",
          "state": {
            "_model_module": "@jupyter-widgets/controls",
            "_model_module_version": "1.5.0",
            "_model_name": "DescriptionStyleModel",
            "_view_count": null,
            "_view_module": "@jupyter-widgets/base",
            "_view_module_version": "1.2.0",
            "_view_name": "StyleView",
            "description_width": ""
          }
        },
        "befcc4bf54cc4c378d89e135580a60c3": {
          "model_module": "@jupyter-widgets/base",
          "model_module_version": "1.2.0",
          "model_name": "LayoutModel",
          "state": {
            "_model_module": "@jupyter-widgets/base",
            "_model_module_version": "1.2.0",
            "_model_name": "LayoutModel",
            "_view_count": null,
            "_view_module": "@jupyter-widgets/base",
            "_view_module_version": "1.2.0",
            "_view_name": "LayoutView",
            "align_content": null,
            "align_items": null,
            "align_self": null,
            "border": null,
            "bottom": null,
            "display": null,
            "flex": null,
            "flex_flow": null,
            "grid_area": null,
            "grid_auto_columns": null,
            "grid_auto_flow": null,
            "grid_auto_rows": null,
            "grid_column": null,
            "grid_gap": null,
            "grid_row": null,
            "grid_template_areas": null,
            "grid_template_columns": null,
            "grid_template_rows": null,
            "height": null,
            "justify_content": null,
            "justify_items": null,
            "left": null,
            "margin": null,
            "max_height": null,
            "max_width": null,
            "min_height": null,
            "min_width": null,
            "object_fit": null,
            "object_position": null,
            "order": null,
            "overflow": null,
            "overflow_x": null,
            "overflow_y": null,
            "padding": null,
            "right": null,
            "top": null,
            "visibility": null,
            "width": null
          }
        },
        "c3af5f28658047b7a278494e141a6aa5": {
          "model_module": "@jupyter-widgets/base",
          "model_module_version": "1.2.0",
          "model_name": "LayoutModel",
          "state": {
            "_model_module": "@jupyter-widgets/base",
            "_model_module_version": "1.2.0",
            "_model_name": "LayoutModel",
            "_view_count": null,
            "_view_module": "@jupyter-widgets/base",
            "_view_module_version": "1.2.0",
            "_view_name": "LayoutView",
            "align_content": null,
            "align_items": null,
            "align_self": null,
            "border": null,
            "bottom": null,
            "display": null,
            "flex": null,
            "flex_flow": null,
            "grid_area": null,
            "grid_auto_columns": null,
            "grid_auto_flow": null,
            "grid_auto_rows": null,
            "grid_column": null,
            "grid_gap": null,
            "grid_row": null,
            "grid_template_areas": null,
            "grid_template_columns": null,
            "grid_template_rows": null,
            "height": null,
            "justify_content": null,
            "justify_items": null,
            "left": null,
            "margin": null,
            "max_height": null,
            "max_width": null,
            "min_height": null,
            "min_width": null,
            "object_fit": null,
            "object_position": null,
            "order": null,
            "overflow": null,
            "overflow_x": null,
            "overflow_y": null,
            "padding": null,
            "right": null,
            "top": null,
            "visibility": null,
            "width": null
          }
        },
        "c987c6bc990e45df81d9a81d8b56c2b9": {
          "model_module": "@jupyter-widgets/base",
          "model_module_version": "1.2.0",
          "model_name": "LayoutModel",
          "state": {
            "_model_module": "@jupyter-widgets/base",
            "_model_module_version": "1.2.0",
            "_model_name": "LayoutModel",
            "_view_count": null,
            "_view_module": "@jupyter-widgets/base",
            "_view_module_version": "1.2.0",
            "_view_name": "LayoutView",
            "align_content": null,
            "align_items": null,
            "align_self": null,
            "border": null,
            "bottom": null,
            "display": null,
            "flex": null,
            "flex_flow": null,
            "grid_area": null,
            "grid_auto_columns": null,
            "grid_auto_flow": null,
            "grid_auto_rows": null,
            "grid_column": null,
            "grid_gap": null,
            "grid_row": null,
            "grid_template_areas": null,
            "grid_template_columns": null,
            "grid_template_rows": null,
            "height": null,
            "justify_content": null,
            "justify_items": null,
            "left": null,
            "margin": null,
            "max_height": null,
            "max_width": null,
            "min_height": null,
            "min_width": null,
            "object_fit": null,
            "object_position": null,
            "order": null,
            "overflow": null,
            "overflow_x": null,
            "overflow_y": null,
            "padding": null,
            "right": null,
            "top": null,
            "visibility": null,
            "width": null
          }
        },
        "cb7e1bc6d28c4fa3b5a1b1aced3b6602": {
          "model_module": "@jupyter-widgets/controls",
          "model_module_version": "1.5.0",
          "model_name": "FloatProgressModel",
          "state": {
            "_dom_classes": [],
            "_model_module": "@jupyter-widgets/controls",
            "_model_module_version": "1.5.0",
            "_model_name": "FloatProgressModel",
            "_view_count": null,
            "_view_module": "@jupyter-widgets/controls",
            "_view_module_version": "1.5.0",
            "_view_name": "ProgressView",
            "bar_style": "success",
            "description": "",
            "description_tooltip": null,
            "layout": "IPY_MODEL_d965eae8c9894ce4bf596e7fe581500a",
            "max": 2471645608,
            "min": 0,
            "orientation": "horizontal",
            "style": "IPY_MODEL_529faf65707346d29fa1381c80c46251",
            "value": 2471645608
          }
        },
        "cd295ed7446a4f1cbf337cd81abae941": {
          "model_module": "@jupyter-widgets/base",
          "model_module_version": "1.2.0",
          "model_name": "LayoutModel",
          "state": {
            "_model_module": "@jupyter-widgets/base",
            "_model_module_version": "1.2.0",
            "_model_name": "LayoutModel",
            "_view_count": null,
            "_view_module": "@jupyter-widgets/base",
            "_view_module_version": "1.2.0",
            "_view_name": "LayoutView",
            "align_content": null,
            "align_items": null,
            "align_self": null,
            "border": null,
            "bottom": null,
            "display": null,
            "flex": null,
            "flex_flow": null,
            "grid_area": null,
            "grid_auto_columns": null,
            "grid_auto_flow": null,
            "grid_auto_rows": null,
            "grid_column": null,
            "grid_gap": null,
            "grid_row": null,
            "grid_template_areas": null,
            "grid_template_columns": null,
            "grid_template_rows": null,
            "height": null,
            "justify_content": null,
            "justify_items": null,
            "left": null,
            "margin": null,
            "max_height": null,
            "max_width": null,
            "min_height": null,
            "min_width": null,
            "object_fit": null,
            "object_position": null,
            "order": null,
            "overflow": null,
            "overflow_x": null,
            "overflow_y": null,
            "padding": null,
            "right": null,
            "top": null,
            "visibility": null,
            "width": null
          }
        },
        "cfe8bfce490049bdbf03ef4c3930765c": {
          "model_module": "@jupyter-widgets/controls",
          "model_module_version": "1.5.0",
          "model_name": "DescriptionStyleModel",
          "state": {
            "_model_module": "@jupyter-widgets/controls",
            "_model_module_version": "1.5.0",
            "_model_name": "DescriptionStyleModel",
            "_view_count": null,
            "_view_module": "@jupyter-widgets/base",
            "_view_module_version": "1.2.0",
            "_view_name": "StyleView",
            "description_width": ""
          }
        },
        "d4959c9fdc2f409da5cbf63f2ba5ba11": {
          "model_module": "@jupyter-widgets/controls",
          "model_module_version": "1.5.0",
          "model_name": "HBoxModel",
          "state": {
            "_dom_classes": [],
            "_model_module": "@jupyter-widgets/controls",
            "_model_module_version": "1.5.0",
            "_model_name": "HBoxModel",
            "_view_count": null,
            "_view_module": "@jupyter-widgets/controls",
            "_view_module_version": "1.5.0",
            "_view_name": "HBoxView",
            "box_style": "",
            "children": [
              "IPY_MODEL_6c2ccf03e3b8487bb475bcb0e154354f",
              "IPY_MODEL_70662c17379747d982a9dcba03921966",
              "IPY_MODEL_b10b8bd107144fa4a177f879e184c285"
            ],
            "layout": "IPY_MODEL_c987c6bc990e45df81d9a81d8b56c2b9"
          }
        },
        "d5ce248bfad74132a3c214540560e604": {
          "model_module": "@jupyter-widgets/base",
          "model_module_version": "1.2.0",
          "model_name": "LayoutModel",
          "state": {
            "_model_module": "@jupyter-widgets/base",
            "_model_module_version": "1.2.0",
            "_model_name": "LayoutModel",
            "_view_count": null,
            "_view_module": "@jupyter-widgets/base",
            "_view_module_version": "1.2.0",
            "_view_name": "LayoutView",
            "align_content": null,
            "align_items": null,
            "align_self": null,
            "border": null,
            "bottom": null,
            "display": null,
            "flex": null,
            "flex_flow": null,
            "grid_area": null,
            "grid_auto_columns": null,
            "grid_auto_flow": null,
            "grid_auto_rows": null,
            "grid_column": null,
            "grid_gap": null,
            "grid_row": null,
            "grid_template_areas": null,
            "grid_template_columns": null,
            "grid_template_rows": null,
            "height": null,
            "justify_content": null,
            "justify_items": null,
            "left": null,
            "margin": null,
            "max_height": null,
            "max_width": null,
            "min_height": null,
            "min_width": null,
            "object_fit": null,
            "object_position": null,
            "order": null,
            "overflow": null,
            "overflow_x": null,
            "overflow_y": null,
            "padding": null,
            "right": null,
            "top": null,
            "visibility": null,
            "width": null
          }
        },
        "d965eae8c9894ce4bf596e7fe581500a": {
          "model_module": "@jupyter-widgets/base",
          "model_module_version": "1.2.0",
          "model_name": "LayoutModel",
          "state": {
            "_model_module": "@jupyter-widgets/base",
            "_model_module_version": "1.2.0",
            "_model_name": "LayoutModel",
            "_view_count": null,
            "_view_module": "@jupyter-widgets/base",
            "_view_module_version": "1.2.0",
            "_view_name": "LayoutView",
            "align_content": null,
            "align_items": null,
            "align_self": null,
            "border": null,
            "bottom": null,
            "display": null,
            "flex": null,
            "flex_flow": null,
            "grid_area": null,
            "grid_auto_columns": null,
            "grid_auto_flow": null,
            "grid_auto_rows": null,
            "grid_column": null,
            "grid_gap": null,
            "grid_row": null,
            "grid_template_areas": null,
            "grid_template_columns": null,
            "grid_template_rows": null,
            "height": null,
            "justify_content": null,
            "justify_items": null,
            "left": null,
            "margin": null,
            "max_height": null,
            "max_width": null,
            "min_height": null,
            "min_width": null,
            "object_fit": null,
            "object_position": null,
            "order": null,
            "overflow": null,
            "overflow_x": null,
            "overflow_y": null,
            "padding": null,
            "right": null,
            "top": null,
            "visibility": null,
            "width": null
          }
        },
        "d9f4f1523aa147b1b598e569b8013247": {
          "model_module": "@jupyter-widgets/controls",
          "model_module_version": "1.5.0",
          "model_name": "DescriptionStyleModel",
          "state": {
            "_model_module": "@jupyter-widgets/controls",
            "_model_module_version": "1.5.0",
            "_model_name": "DescriptionStyleModel",
            "_view_count": null,
            "_view_module": "@jupyter-widgets/base",
            "_view_module_version": "1.2.0",
            "_view_name": "StyleView",
            "description_width": ""
          }
        },
        "ded9ebc586c3471696f6a18cb5b596b9": {
          "model_module": "@jupyter-widgets/controls",
          "model_module_version": "1.5.0",
          "model_name": "FloatProgressModel",
          "state": {
            "_dom_classes": [],
            "_model_module": "@jupyter-widgets/controls",
            "_model_module_version": "1.5.0",
            "_model_name": "FloatProgressModel",
            "_view_count": null,
            "_view_module": "@jupyter-widgets/controls",
            "_view_module_version": "1.5.0",
            "_view_name": "ProgressView",
            "bar_style": "success",
            "description": "",
            "description_tooltip": null,
            "layout": "IPY_MODEL_735267e4b2cb46eb921b533c01bb0806",
            "max": 296,
            "min": 0,
            "orientation": "horizontal",
            "style": "IPY_MODEL_7949cfd806684b74ae9863835193c3a7",
            "value": 296
          }
        },
        "f83b28d871aa41bf85f802e709f2d626": {
          "model_module": "@jupyter-widgets/controls",
          "model_module_version": "1.5.0",
          "model_name": "HBoxModel",
          "state": {
            "_dom_classes": [],
            "_model_module": "@jupyter-widgets/controls",
            "_model_module_version": "1.5.0",
            "_model_name": "HBoxModel",
            "_view_count": null,
            "_view_module": "@jupyter-widgets/controls",
            "_view_module_version": "1.5.0",
            "_view_name": "HBoxView",
            "box_style": "",
            "children": [
              "IPY_MODEL_390fcf7266b74a6ab848543dde3ae399",
              "IPY_MODEL_ded9ebc586c3471696f6a18cb5b596b9",
              "IPY_MODEL_6451332d3b34420e834b7cc13a4ea573"
            ],
            "layout": "IPY_MODEL_2097546f4dd34befb2fda3f9894c40d0"
          }
        },
        "ffeba1f1e2154df290f52b56539094c6": {
          "model_module": "@jupyter-widgets/controls",
          "model_module_version": "1.5.0",
          "model_name": "DescriptionStyleModel",
          "state": {
            "_model_module": "@jupyter-widgets/controls",
            "_model_module_version": "1.5.0",
            "_model_name": "DescriptionStyleModel",
            "_view_count": null,
            "_view_module": "@jupyter-widgets/base",
            "_view_module_version": "1.2.0",
            "_view_name": "StyleView",
            "description_width": ""
          }
        }
      }
    }
  },
  "nbformat": 4,
  "nbformat_minor": 0
}
