{
  "cells": [
    {
      "cell_type": "markdown",
      "metadata": {
        "id": "7B-RWSwCTFUx"
      },
      "source": [
        "### 1. Install Dependencies"
      ]
    },
    {
      "cell_type": "code",
      "execution_count": 1,
      "metadata": {
        "colab": {
          "base_uri": "https://localhost:8080/"
        },
        "id": "CQ6xyR-xS8Zl",
        "outputId": "00cd5139-0df7-41d5-8e07-58d3f9208767"
      },
      "outputs": [
        {
          "name": "stdout",
          "output_type": "stream",
          "text": [
            "Requirement already satisfied: pandas in /usr/local/lib/python3.11/dist-packages (2.2.2)\n",
            "Requirement already satisfied: gdown in /usr/local/lib/python3.11/dist-packages (5.2.0)\n",
            "Requirement already satisfied: huggingface-hub in /usr/local/lib/python3.11/dist-packages (0.33.2)\n",
            "Requirement already satisfied: numpy in /usr/local/lib/python3.11/dist-packages (2.0.2)\n",
            "Requirement already satisfied: matplotlib in /usr/local/lib/python3.11/dist-packages (3.10.0)\n",
            "Requirement already satisfied: scikit-learn in /usr/local/lib/python3.11/dist-packages (1.6.1)\n",
            "Requirement already satisfied: transformers in /usr/local/lib/python3.11/dist-packages (4.53.0)\n",
            "Requirement already satisfied: torch in /usr/local/lib/python3.11/dist-packages (2.6.0+cu124)\n",
            "Requirement already satisfied: tqdm in /usr/local/lib/python3.11/dist-packages (4.67.1)\n",
            "Requirement already satisfied: python-dateutil>=2.8.2 in /usr/local/lib/python3.11/dist-packages (from pandas) (2.9.0.post0)\n",
            "Requirement already satisfied: pytz>=2020.1 in /usr/local/lib/python3.11/dist-packages (from pandas) (2025.2)\n",
            "Requirement already satisfied: tzdata>=2022.7 in /usr/local/lib/python3.11/dist-packages (from pandas) (2025.2)\n",
            "Requirement already satisfied: beautifulsoup4 in /usr/local/lib/python3.11/dist-packages (from gdown) (4.13.4)\n",
            "Requirement already satisfied: filelock in /usr/local/lib/python3.11/dist-packages (from gdown) (3.18.0)\n",
            "Requirement already satisfied: requests[socks] in /usr/local/lib/python3.11/dist-packages (from gdown) (2.32.3)\n",
            "Requirement already satisfied: fsspec>=2023.5.0 in /usr/local/lib/python3.11/dist-packages (from huggingface-hub) (2025.3.2)\n",
            "Requirement already satisfied: packaging>=20.9 in /usr/local/lib/python3.11/dist-packages (from huggingface-hub) (24.2)\n",
            "Requirement already satisfied: pyyaml>=5.1 in /usr/local/lib/python3.11/dist-packages (from huggingface-hub) (6.0.2)\n",
            "Requirement already satisfied: typing-extensions>=3.7.4.3 in /usr/local/lib/python3.11/dist-packages (from huggingface-hub) (4.14.0)\n",
            "Requirement already satisfied: hf-xet<2.0.0,>=1.1.2 in /usr/local/lib/python3.11/dist-packages (from huggingface-hub) (1.1.5)\n",
            "Requirement already satisfied: contourpy>=1.0.1 in /usr/local/lib/python3.11/dist-packages (from matplotlib) (1.3.2)\n",
            "Requirement already satisfied: cycler>=0.10 in /usr/local/lib/python3.11/dist-packages (from matplotlib) (0.12.1)\n",
            "Requirement already satisfied: fonttools>=4.22.0 in /usr/local/lib/python3.11/dist-packages (from matplotlib) (4.58.4)\n",
            "Requirement already satisfied: kiwisolver>=1.3.1 in /usr/local/lib/python3.11/dist-packages (from matplotlib) (1.4.8)\n",
            "Requirement already satisfied: pillow>=8 in /usr/local/lib/python3.11/dist-packages (from matplotlib) (11.2.1)\n",
            "Requirement already satisfied: pyparsing>=2.3.1 in /usr/local/lib/python3.11/dist-packages (from matplotlib) (3.2.3)\n",
            "Requirement already satisfied: scipy>=1.6.0 in /usr/local/lib/python3.11/dist-packages (from scikit-learn) (1.15.3)\n",
            "Requirement already satisfied: joblib>=1.2.0 in /usr/local/lib/python3.11/dist-packages (from scikit-learn) (1.5.1)\n",
            "Requirement already satisfied: threadpoolctl>=3.1.0 in /usr/local/lib/python3.11/dist-packages (from scikit-learn) (3.6.0)\n",
            "Requirement already satisfied: regex!=2019.12.17 in /usr/local/lib/python3.11/dist-packages (from transformers) (2024.11.6)\n",
            "Requirement already satisfied: tokenizers<0.22,>=0.21 in /usr/local/lib/python3.11/dist-packages (from transformers) (0.21.2)\n",
            "Requirement already satisfied: safetensors>=0.4.3 in /usr/local/lib/python3.11/dist-packages (from transformers) (0.5.3)\n",
            "Requirement already satisfied: networkx in /usr/local/lib/python3.11/dist-packages (from torch) (3.5)\n",
            "Requirement already satisfied: jinja2 in /usr/local/lib/python3.11/dist-packages (from torch) (3.1.6)\n",
            "Collecting nvidia-cuda-nvrtc-cu12==12.4.127 (from torch)\n",
            "  Downloading nvidia_cuda_nvrtc_cu12-12.4.127-py3-none-manylinux2014_x86_64.whl.metadata (1.5 kB)\n",
            "Collecting nvidia-cuda-runtime-cu12==12.4.127 (from torch)\n",
            "  Downloading nvidia_cuda_runtime_cu12-12.4.127-py3-none-manylinux2014_x86_64.whl.metadata (1.5 kB)\n",
            "Collecting nvidia-cuda-cupti-cu12==12.4.127 (from torch)\n",
            "  Downloading nvidia_cuda_cupti_cu12-12.4.127-py3-none-manylinux2014_x86_64.whl.metadata (1.6 kB)\n",
            "Collecting nvidia-cudnn-cu12==9.1.0.70 (from torch)\n",
            "  Downloading nvidia_cudnn_cu12-9.1.0.70-py3-none-manylinux2014_x86_64.whl.metadata (1.6 kB)\n",
            "Collecting nvidia-cublas-cu12==12.4.5.8 (from torch)\n",
            "  Downloading nvidia_cublas_cu12-12.4.5.8-py3-none-manylinux2014_x86_64.whl.metadata (1.5 kB)\n",
            "Collecting nvidia-cufft-cu12==11.2.1.3 (from torch)\n",
            "  Downloading nvidia_cufft_cu12-11.2.1.3-py3-none-manylinux2014_x86_64.whl.metadata (1.5 kB)\n",
            "Collecting nvidia-curand-cu12==10.3.5.147 (from torch)\n",
            "  Downloading nvidia_curand_cu12-10.3.5.147-py3-none-manylinux2014_x86_64.whl.metadata (1.5 kB)\n",
            "Collecting nvidia-cusolver-cu12==11.6.1.9 (from torch)\n",
            "  Downloading nvidia_cusolver_cu12-11.6.1.9-py3-none-manylinux2014_x86_64.whl.metadata (1.6 kB)\n",
            "Collecting nvidia-cusparse-cu12==12.3.1.170 (from torch)\n",
            "  Downloading nvidia_cusparse_cu12-12.3.1.170-py3-none-manylinux2014_x86_64.whl.metadata (1.6 kB)\n",
            "Requirement already satisfied: nvidia-cusparselt-cu12==0.6.2 in /usr/local/lib/python3.11/dist-packages (from torch) (0.6.2)\n",
            "Requirement already satisfied: nvidia-nccl-cu12==2.21.5 in /usr/local/lib/python3.11/dist-packages (from torch) (2.21.5)\n",
            "Requirement already satisfied: nvidia-nvtx-cu12==12.4.127 in /usr/local/lib/python3.11/dist-packages (from torch) (12.4.127)\n",
            "Collecting nvidia-nvjitlink-cu12==12.4.127 (from torch)\n",
            "  Downloading nvidia_nvjitlink_cu12-12.4.127-py3-none-manylinux2014_x86_64.whl.metadata (1.5 kB)\n",
            "Requirement already satisfied: triton==3.2.0 in /usr/local/lib/python3.11/dist-packages (from torch) (3.2.0)\n",
            "Requirement already satisfied: sympy==1.13.1 in /usr/local/lib/python3.11/dist-packages (from torch) (1.13.1)\n",
            "Requirement already satisfied: mpmath<1.4,>=1.1.0 in /usr/local/lib/python3.11/dist-packages (from sympy==1.13.1->torch) (1.3.0)\n",
            "Requirement already satisfied: six>=1.5 in /usr/local/lib/python3.11/dist-packages (from python-dateutil>=2.8.2->pandas) (1.17.0)\n",
            "Requirement already satisfied: soupsieve>1.2 in /usr/local/lib/python3.11/dist-packages (from beautifulsoup4->gdown) (2.7)\n",
            "Requirement already satisfied: MarkupSafe>=2.0 in /usr/local/lib/python3.11/dist-packages (from jinja2->torch) (3.0.2)\n",
            "Requirement already satisfied: charset-normalizer<4,>=2 in /usr/local/lib/python3.11/dist-packages (from requests[socks]->gdown) (3.4.2)\n",
            "Requirement already satisfied: idna<4,>=2.5 in /usr/local/lib/python3.11/dist-packages (from requests[socks]->gdown) (3.10)\n",
            "Requirement already satisfied: urllib3<3,>=1.21.1 in /usr/local/lib/python3.11/dist-packages (from requests[socks]->gdown) (2.4.0)\n",
            "Requirement already satisfied: certifi>=2017.4.17 in /usr/local/lib/python3.11/dist-packages (from requests[socks]->gdown) (2025.6.15)\n",
            "Requirement already satisfied: PySocks!=1.5.7,>=1.5.6 in /usr/local/lib/python3.11/dist-packages (from requests[socks]->gdown) (1.7.1)\n",
            "Downloading nvidia_cublas_cu12-12.4.5.8-py3-none-manylinux2014_x86_64.whl (363.4 MB)\n",
            "\u001b[2K   \u001b[90m━━━━━━━━━━━━━━━━━━━━━━━━━━━━━━━━━━━━━━━━\u001b[0m \u001b[32m363.4/363.4 MB\u001b[0m \u001b[31m3.8 MB/s\u001b[0m eta \u001b[36m0:00:00\u001b[0m\n",
            "\u001b[?25hDownloading nvidia_cuda_cupti_cu12-12.4.127-py3-none-manylinux2014_x86_64.whl (13.8 MB)\n",
            "\u001b[2K   \u001b[90m━━━━━━━━━━━━━━━━━━━━━━━━━━━━━━━━━━━━━━━━\u001b[0m \u001b[32m13.8/13.8 MB\u001b[0m \u001b[31m62.5 MB/s\u001b[0m eta \u001b[36m0:00:00\u001b[0m\n",
            "\u001b[?25hDownloading nvidia_cuda_nvrtc_cu12-12.4.127-py3-none-manylinux2014_x86_64.whl (24.6 MB)\n",
            "\u001b[2K   \u001b[90m━━━━━━━━━━━━━━━━━━━━━━━━━━━━━━━━━━━━━━━━\u001b[0m \u001b[32m24.6/24.6 MB\u001b[0m \u001b[31m37.2 MB/s\u001b[0m eta \u001b[36m0:00:00\u001b[0m\n",
            "\u001b[?25hDownloading nvidia_cuda_runtime_cu12-12.4.127-py3-none-manylinux2014_x86_64.whl (883 kB)\n",
            "\u001b[2K   \u001b[90m━━━━━━━━━━━━━━━━━━━━━━━━━━━━━━━━━━━━━━━━\u001b[0m \u001b[32m883.7/883.7 kB\u001b[0m \u001b[31m48.1 MB/s\u001b[0m eta \u001b[36m0:00:00\u001b[0m\n",
            "\u001b[?25hDownloading nvidia_cudnn_cu12-9.1.0.70-py3-none-manylinux2014_x86_64.whl (664.8 MB)\n",
            "\u001b[2K   \u001b[90m━━━━━━━━━━━━━━━━━━━━━━━━━━━━━━━━━━━━━━━━\u001b[0m \u001b[32m664.8/664.8 MB\u001b[0m \u001b[31m1.2 MB/s\u001b[0m eta \u001b[36m0:00:00\u001b[0m\n",
            "\u001b[?25hDownloading nvidia_cufft_cu12-11.2.1.3-py3-none-manylinux2014_x86_64.whl (211.5 MB)\n",
            "\u001b[2K   \u001b[90m━━━━━━━━━━━━━━━━━━━━━━━━━━━━━━━━━━━━━━━━\u001b[0m \u001b[32m211.5/211.5 MB\u001b[0m \u001b[31m5.1 MB/s\u001b[0m eta \u001b[36m0:00:00\u001b[0m\n",
            "\u001b[?25hDownloading nvidia_curand_cu12-10.3.5.147-py3-none-manylinux2014_x86_64.whl (56.3 MB)\n",
            "\u001b[2K   \u001b[90m━━━━━━━━━━━━━━━━━━━━━━━━━━━━━━━━━━━━━━━━\u001b[0m \u001b[32m56.3/56.3 MB\u001b[0m \u001b[31m12.1 MB/s\u001b[0m eta \u001b[36m0:00:00\u001b[0m\n",
            "\u001b[?25hDownloading nvidia_cusolver_cu12-11.6.1.9-py3-none-manylinux2014_x86_64.whl (127.9 MB)\n",
            "\u001b[2K   \u001b[90m━━━━━━━━━━━━━━━━━━━━━━━━━━━━━━━━━━━━━━━━\u001b[0m \u001b[32m127.9/127.9 MB\u001b[0m \u001b[31m8.3 MB/s\u001b[0m eta \u001b[36m0:00:00\u001b[0m\n",
            "\u001b[?25hDownloading nvidia_cusparse_cu12-12.3.1.170-py3-none-manylinux2014_x86_64.whl (207.5 MB)\n",
            "\u001b[2K   \u001b[90m━━━━━━━━━━━━━━━━━━━━━━━━━━━━━━━━━━━━━━━━\u001b[0m \u001b[32m207.5/207.5 MB\u001b[0m \u001b[31m6.1 MB/s\u001b[0m eta \u001b[36m0:00:00\u001b[0m\n",
            "\u001b[?25hDownloading nvidia_nvjitlink_cu12-12.4.127-py3-none-manylinux2014_x86_64.whl (21.1 MB)\n",
            "\u001b[2K   \u001b[90m━━━━━━━━━━━━━━━━━━━━━━━━━━━━━━━━━━━━━━━━\u001b[0m \u001b[32m21.1/21.1 MB\u001b[0m \u001b[31m69.1 MB/s\u001b[0m eta \u001b[36m0:00:00\u001b[0m\n",
            "\u001b[?25hInstalling collected packages: nvidia-nvjitlink-cu12, nvidia-curand-cu12, nvidia-cufft-cu12, nvidia-cuda-runtime-cu12, nvidia-cuda-nvrtc-cu12, nvidia-cuda-cupti-cu12, nvidia-cublas-cu12, nvidia-cusparse-cu12, nvidia-cudnn-cu12, nvidia-cusolver-cu12\n",
            "  Attempting uninstall: nvidia-nvjitlink-cu12\n",
            "    Found existing installation: nvidia-nvjitlink-cu12 12.5.82\n",
            "    Uninstalling nvidia-nvjitlink-cu12-12.5.82:\n",
            "      Successfully uninstalled nvidia-nvjitlink-cu12-12.5.82\n",
            "  Attempting uninstall: nvidia-curand-cu12\n",
            "    Found existing installation: nvidia-curand-cu12 10.3.6.82\n",
            "    Uninstalling nvidia-curand-cu12-10.3.6.82:\n",
            "      Successfully uninstalled nvidia-curand-cu12-10.3.6.82\n",
            "  Attempting uninstall: nvidia-cufft-cu12\n",
            "    Found existing installation: nvidia-cufft-cu12 11.2.3.61\n",
            "    Uninstalling nvidia-cufft-cu12-11.2.3.61:\n",
            "      Successfully uninstalled nvidia-cufft-cu12-11.2.3.61\n",
            "  Attempting uninstall: nvidia-cuda-runtime-cu12\n",
            "    Found existing installation: nvidia-cuda-runtime-cu12 12.5.82\n",
            "    Uninstalling nvidia-cuda-runtime-cu12-12.5.82:\n",
            "      Successfully uninstalled nvidia-cuda-runtime-cu12-12.5.82\n",
            "  Attempting uninstall: nvidia-cuda-nvrtc-cu12\n",
            "    Found existing installation: nvidia-cuda-nvrtc-cu12 12.5.82\n",
            "    Uninstalling nvidia-cuda-nvrtc-cu12-12.5.82:\n",
            "      Successfully uninstalled nvidia-cuda-nvrtc-cu12-12.5.82\n",
            "  Attempting uninstall: nvidia-cuda-cupti-cu12\n",
            "    Found existing installation: nvidia-cuda-cupti-cu12 12.5.82\n",
            "    Uninstalling nvidia-cuda-cupti-cu12-12.5.82:\n",
            "      Successfully uninstalled nvidia-cuda-cupti-cu12-12.5.82\n",
            "  Attempting uninstall: nvidia-cublas-cu12\n",
            "    Found existing installation: nvidia-cublas-cu12 12.5.3.2\n",
            "    Uninstalling nvidia-cublas-cu12-12.5.3.2:\n",
            "      Successfully uninstalled nvidia-cublas-cu12-12.5.3.2\n",
            "  Attempting uninstall: nvidia-cusparse-cu12\n",
            "    Found existing installation: nvidia-cusparse-cu12 12.5.1.3\n",
            "    Uninstalling nvidia-cusparse-cu12-12.5.1.3:\n",
            "      Successfully uninstalled nvidia-cusparse-cu12-12.5.1.3\n",
            "  Attempting uninstall: nvidia-cudnn-cu12\n",
            "    Found existing installation: nvidia-cudnn-cu12 9.3.0.75\n",
            "    Uninstalling nvidia-cudnn-cu12-9.3.0.75:\n",
            "      Successfully uninstalled nvidia-cudnn-cu12-9.3.0.75\n",
            "  Attempting uninstall: nvidia-cusolver-cu12\n",
            "    Found existing installation: nvidia-cusolver-cu12 11.6.3.83\n",
            "    Uninstalling nvidia-cusolver-cu12-11.6.3.83:\n",
            "      Successfully uninstalled nvidia-cusolver-cu12-11.6.3.83\n",
            "Successfully installed nvidia-cublas-cu12-12.4.5.8 nvidia-cuda-cupti-cu12-12.4.127 nvidia-cuda-nvrtc-cu12-12.4.127 nvidia-cuda-runtime-cu12-12.4.127 nvidia-cudnn-cu12-9.1.0.70 nvidia-cufft-cu12-11.2.1.3 nvidia-curand-cu12-10.3.5.147 nvidia-cusolver-cu12-11.6.1.9 nvidia-cusparse-cu12-12.3.1.170 nvidia-nvjitlink-cu12-12.4.127\n"
          ]
        }
      ],
      "source": [
        "!pip install pandas gdown huggingface-hub numpy matplotlib scikit-learn transformers torch tqdm"
      ]
    },
    {
      "cell_type": "code",
      "execution_count": 2,
      "metadata": {
        "colab": {
          "base_uri": "https://localhost:8080/"
        },
        "id": "ImJ21s77uOhW",
        "outputId": "c2a05a21-dfe6-45f4-e6fa-f9d081ee8ad5"
      },
      "outputs": [
        {
          "name": "stdout",
          "output_type": "stream",
          "text": [
            "Requirement already satisfied: datasets in /usr/local/lib/python3.11/dist-packages (2.14.4)\n",
            "Collecting datasets\n",
            "  Downloading datasets-3.6.0-py3-none-any.whl.metadata (19 kB)\n",
            "Requirement already satisfied: filelock in /usr/local/lib/python3.11/dist-packages (from datasets) (3.18.0)\n",
            "Requirement already satisfied: numpy>=1.17 in /usr/local/lib/python3.11/dist-packages (from datasets) (2.0.2)\n",
            "Requirement already satisfied: pyarrow>=15.0.0 in /usr/local/lib/python3.11/dist-packages (from datasets) (18.1.0)\n",
            "Requirement already satisfied: dill<0.3.9,>=0.3.0 in /usr/local/lib/python3.11/dist-packages (from datasets) (0.3.7)\n",
            "Requirement already satisfied: pandas in /usr/local/lib/python3.11/dist-packages (from datasets) (2.2.2)\n",
            "Requirement already satisfied: requests>=2.32.2 in /usr/local/lib/python3.11/dist-packages (from datasets) (2.32.3)\n",
            "Requirement already satisfied: tqdm>=4.66.3 in /usr/local/lib/python3.11/dist-packages (from datasets) (4.67.1)\n",
            "Requirement already satisfied: xxhash in /usr/local/lib/python3.11/dist-packages (from datasets) (3.5.0)\n",
            "Requirement already satisfied: multiprocess<0.70.17 in /usr/local/lib/python3.11/dist-packages (from datasets) (0.70.15)\n",
            "Collecting fsspec<=2025.3.0,>=2023.1.0 (from fsspec[http]<=2025.3.0,>=2023.1.0->datasets)\n",
            "  Downloading fsspec-2025.3.0-py3-none-any.whl.metadata (11 kB)\n",
            "Requirement already satisfied: huggingface-hub>=0.24.0 in /usr/local/lib/python3.11/dist-packages (from datasets) (0.33.2)\n",
            "Requirement already satisfied: packaging in /usr/local/lib/python3.11/dist-packages (from datasets) (24.2)\n",
            "Requirement already satisfied: pyyaml>=5.1 in /usr/local/lib/python3.11/dist-packages (from datasets) (6.0.2)\n",
            "Requirement already satisfied: aiohttp!=4.0.0a0,!=4.0.0a1 in /usr/local/lib/python3.11/dist-packages (from fsspec[http]<=2025.3.0,>=2023.1.0->datasets) (3.11.15)\n",
            "Requirement already satisfied: typing-extensions>=3.7.4.3 in /usr/local/lib/python3.11/dist-packages (from huggingface-hub>=0.24.0->datasets) (4.14.0)\n",
            "Requirement already satisfied: hf-xet<2.0.0,>=1.1.2 in /usr/local/lib/python3.11/dist-packages (from huggingface-hub>=0.24.0->datasets) (1.1.5)\n",
            "Requirement already satisfied: charset-normalizer<4,>=2 in /usr/local/lib/python3.11/dist-packages (from requests>=2.32.2->datasets) (3.4.2)\n",
            "Requirement already satisfied: idna<4,>=2.5 in /usr/local/lib/python3.11/dist-packages (from requests>=2.32.2->datasets) (3.10)\n",
            "Requirement already satisfied: urllib3<3,>=1.21.1 in /usr/local/lib/python3.11/dist-packages (from requests>=2.32.2->datasets) (2.4.0)\n",
            "Requirement already satisfied: certifi>=2017.4.17 in /usr/local/lib/python3.11/dist-packages (from requests>=2.32.2->datasets) (2025.6.15)\n",
            "Requirement already satisfied: python-dateutil>=2.8.2 in /usr/local/lib/python3.11/dist-packages (from pandas->datasets) (2.9.0.post0)\n",
            "Requirement already satisfied: pytz>=2020.1 in /usr/local/lib/python3.11/dist-packages (from pandas->datasets) (2025.2)\n",
            "Requirement already satisfied: tzdata>=2022.7 in /usr/local/lib/python3.11/dist-packages (from pandas->datasets) (2025.2)\n",
            "Requirement already satisfied: aiohappyeyeballs>=2.3.0 in /usr/local/lib/python3.11/dist-packages (from aiohttp!=4.0.0a0,!=4.0.0a1->fsspec[http]<=2025.3.0,>=2023.1.0->datasets) (2.6.1)\n",
            "Requirement already satisfied: aiosignal>=1.1.2 in /usr/local/lib/python3.11/dist-packages (from aiohttp!=4.0.0a0,!=4.0.0a1->fsspec[http]<=2025.3.0,>=2023.1.0->datasets) (1.3.2)\n",
            "Requirement already satisfied: attrs>=17.3.0 in /usr/local/lib/python3.11/dist-packages (from aiohttp!=4.0.0a0,!=4.0.0a1->fsspec[http]<=2025.3.0,>=2023.1.0->datasets) (25.3.0)\n",
            "Requirement already satisfied: frozenlist>=1.1.1 in /usr/local/lib/python3.11/dist-packages (from aiohttp!=4.0.0a0,!=4.0.0a1->fsspec[http]<=2025.3.0,>=2023.1.0->datasets) (1.7.0)\n",
            "Requirement already satisfied: multidict<7.0,>=4.5 in /usr/local/lib/python3.11/dist-packages (from aiohttp!=4.0.0a0,!=4.0.0a1->fsspec[http]<=2025.3.0,>=2023.1.0->datasets) (6.6.3)\n",
            "Requirement already satisfied: propcache>=0.2.0 in /usr/local/lib/python3.11/dist-packages (from aiohttp!=4.0.0a0,!=4.0.0a1->fsspec[http]<=2025.3.0,>=2023.1.0->datasets) (0.3.2)\n",
            "Requirement already satisfied: yarl<2.0,>=1.17.0 in /usr/local/lib/python3.11/dist-packages (from aiohttp!=4.0.0a0,!=4.0.0a1->fsspec[http]<=2025.3.0,>=2023.1.0->datasets) (1.20.1)\n",
            "Requirement already satisfied: six>=1.5 in /usr/local/lib/python3.11/dist-packages (from python-dateutil>=2.8.2->pandas->datasets) (1.17.0)\n",
            "Downloading datasets-3.6.0-py3-none-any.whl (491 kB)\n",
            "\u001b[2K   \u001b[90m━━━━━━━━━━━━━━━━━━━━━━━━━━━━━━━━━━━━━━━━\u001b[0m \u001b[32m491.5/491.5 kB\u001b[0m \u001b[31m23.0 MB/s\u001b[0m eta \u001b[36m0:00:00\u001b[0m\n",
            "\u001b[?25hDownloading fsspec-2025.3.0-py3-none-any.whl (193 kB)\n",
            "\u001b[2K   \u001b[90m━━━━━━━━━━━━━━━━━━━━━━━━━━━━━━━━━━━━━━━━\u001b[0m \u001b[32m193.6/193.6 kB\u001b[0m \u001b[31m15.4 MB/s\u001b[0m eta \u001b[36m0:00:00\u001b[0m\n",
            "\u001b[?25hInstalling collected packages: fsspec, datasets\n",
            "  Attempting uninstall: fsspec\n",
            "    Found existing installation: fsspec 2025.3.2\n",
            "    Uninstalling fsspec-2025.3.2:\n",
            "      Successfully uninstalled fsspec-2025.3.2\n",
            "  Attempting uninstall: datasets\n",
            "    Found existing installation: datasets 2.14.4\n",
            "    Uninstalling datasets-2.14.4:\n",
            "      Successfully uninstalled datasets-2.14.4\n",
            "\u001b[31mERROR: pip's dependency resolver does not currently take into account all the packages that are installed. This behaviour is the source of the following dependency conflicts.\n",
            "gcsfs 2025.3.2 requires fsspec==2025.3.2, but you have fsspec 2025.3.0 which is incompatible.\u001b[0m\u001b[31m\n",
            "\u001b[0mSuccessfully installed datasets-3.6.0 fsspec-2025.3.0\n"
          ]
        }
      ],
      "source": [
        "!pip install -U datasets"
      ]
    },
    {
      "cell_type": "markdown",
      "metadata": {
        "id": "BkGeCoTJVDma"
      },
      "source": [
        "### 2. Imports"
      ]
    },
    {
      "cell_type": "code",
      "execution_count": 3,
      "metadata": {
        "id": "_D7g6b6xVGG9"
      },
      "outputs": [],
      "source": [
        "import os\n",
        "import json\n",
        "import sys\n",
        "import argparse\n",
        "import re\n",
        "from typing import List, Union\n",
        "import pandas as pd\n",
        "from tqdm import tqdm\n",
        "from pathlib import Path\n",
        "from google.colab import drive\n",
        "from datetime import datetime\n",
        "\n",
        "from abc import ABC, abstractmethod\n",
        "\n",
        "import torch\n",
        "import numpy as np\n",
        "import matplotlib.pyplot as plt\n",
        "from datasets import load_dataset\n",
        "from transformers import AutoModelForCausalLM, AutoTokenizer, pipeline"
      ]
    },
    {
      "cell_type": "code",
      "execution_count": 4,
      "metadata": {
        "colab": {
          "base_uri": "https://localhost:8080/"
        },
        "id": "prJZo492paGc",
        "outputId": "7aeb0ada-078b-4f8d-b2d5-0ce8ba5de697"
      },
      "outputs": [
        {
          "data": {
            "text/plain": [
              "True"
            ]
          },
          "execution_count": 4,
          "metadata": {},
          "output_type": "execute_result"
        }
      ],
      "source": [
        "torch.cuda.is_available()"
      ]
    },
    {
      "cell_type": "markdown",
      "metadata": {
        "id": "VgcDALLqVGlu"
      },
      "source": [
        "### 3. Connect to Google Drive"
      ]
    },
    {
      "cell_type": "code",
      "execution_count": 5,
      "metadata": {
        "colab": {
          "base_uri": "https://localhost:8080/"
        },
        "id": "jG2LcXVGVKK_",
        "outputId": "86ad82e3-c306-4049-e51c-f7c913c1fae5"
      },
      "outputs": [
        {
          "name": "stdout",
          "output_type": "stream",
          "text": [
            "Mounted at /content/drive\n"
          ]
        }
      ],
      "source": [
        "drive.mount(\"/content/drive\",force_remount=True)\n",
        "os.chdir(\"/content/drive/My Drive\")"
      ]
    },
    {
      "cell_type": "markdown",
      "metadata": {
        "id": "mLgpzXE5VLXX"
      },
      "source": [
        "### 4. Utils Code"
      ]
    },
    {
      "cell_type": "code",
      "execution_count": 6,
      "metadata": {
        "id": "sk6gL82yVNPo"
      },
      "outputs": [],
      "source": [
        "def format_time_difference(seconds):\n",
        "    minutes = seconds // 60\n",
        "    hours = minutes // 60\n",
        "    days = hours // 24\n",
        "\n",
        "    if days > 0:\n",
        "        if hours % 24 > 0.1:\n",
        "            return f\"{days} days-{hours % 24} hours\"\n",
        "        else:\n",
        "            return f\"{days} days\"\n",
        "    elif hours > 0:\n",
        "        if minutes % 60 > 0.1:\n",
        "            return f\"{hours} hours-{minutes % 60} minutes\"\n",
        "        else:\n",
        "            return f\"{hours} hours\"\n",
        "    elif minutes > 0:\n",
        "        if seconds % 60 > 0.1:\n",
        "            return f\"{minutes} minutes-{seconds % 60} seconds\"\n",
        "        else:\n",
        "            return f\"{minutes} minutes\"\n",
        "    else:\n",
        "        return f\"{seconds} seconds\"\n",
        "\n",
        "def save_to_json(data, save_path):\n",
        "    os.makedirs(os.path.dirname(save_path), exist_ok=True)\n",
        "    with open(save_path, \"w\") as f:\n",
        "        json.dump(data, f, indent=4)\n",
        "\n",
        "def plot_series(filename, input_ts, output_ts, predicted_ts, save_folder):\n",
        "    plt.figure(figsize=(10, 5))\n",
        "    plt.plot(range(len(input_ts)), input_ts, label=\"Input Time Series\", marker='o')\n",
        "    plt.plot(range(len(input_ts), len(input_ts) + len(output_ts)), output_ts, label=\"Ground Truth\", marker='o')\n",
        "    plt.plot(range(len(input_ts), len(input_ts) + len(predicted_ts)), predicted_ts, label=\"Predicted\", linestyle='dashed')\n",
        "    plt.legend()\n",
        "    plt.title(f\"Prediction for {filename}\")\n",
        "    plt.xlabel(\"Time Steps\")\n",
        "    plt.ylabel(\"Value\")\n",
        "    plt.grid()\n",
        "\n",
        "    base_name = os.path.splitext(filename)[0]\n",
        "    save_path = os.path.join(save_folder, base_name + \".png\")\n",
        "    plt.savefig(save_path)\n",
        "\n",
        "    plt.close()\n",
        "\n",
        "def calculate_mape(y_true, y_pred):\n",
        "    y_true, y_pred = np.array(y_true), np.array(y_pred)\n",
        "\n",
        "    # Avoid division by zero\n",
        "    mask = y_true != 0\n",
        "    return np.mean(np.abs((y_true[mask] - y_pred[mask]) / y_true[mask])) * 100\n",
        "\n",
        "\n",
        "def calculate_acc(result_list, regrouped_labels = None):\n",
        "    if regrouped_labels is None:\n",
        "        correct_pred = sum(1 for result in result_list if result[\"ground_truth\"] in result[\"predict\"])\n",
        "    else:\n",
        "        correct_pred = 0\n",
        "        for result in result_list:\n",
        "            gt_group = regrouped_labels[result['ground_truth']]\n",
        "            for original_label in regrouped_labels.keys():\n",
        "                if original_label in result['predict']:\n",
        "                    predict_group = regrouped_labels[original_label]\n",
        "                    if gt_group == predict_group:\n",
        "                        correct_pred += 1\n",
        "                        break\n",
        "\n",
        "    total_pred = len(result_list)\n",
        "    accuracy = correct_pred / total_pred\n",
        "\n",
        "    return accuracy\n",
        "\n",
        "\n",
        "def calculate_correlation_acc(result_list):\n",
        "    model_predictions = {\"total\": 0, \"exact_correct\": 0, \"brief_correct\": 0}\n",
        "    positive_correlations = [\"Strong Positive Correlation\", \"Moderate Positive Correlation\"]\n",
        "    negative_correlations = [\"Strong Negative Correlation\", \"Moderate Negative Correlation\"]\n",
        "    for result in result_list:\n",
        "        prediction = result[\"predict\"].strip()\n",
        "        model_predictions[\"total\"] += 1\n",
        "        if prediction == result[\"ground_truth\"]:\n",
        "            model_predictions[\"exact_correct\"] += 1\n",
        "\n",
        "        # Brief accuracy\n",
        "        pred_is_positive = prediction in positive_correlations\n",
        "        pred_is_negative = prediction in negative_correlations\n",
        "        truth_is_positive = result[\"ground_truth\"] in positive_correlations\n",
        "        truth_is_negative = result[\"ground_truth\"] in negative_correlations\n",
        "\n",
        "        if (pred_is_positive and truth_is_positive) or \\\n",
        "            (pred_is_negative and truth_is_negative) or \\\n",
        "            (prediction == result[\"ground_truth\"]):\n",
        "            model_predictions[\"brief_correct\"] += 1\n",
        "\n",
        "    # Calculate and format results\n",
        "    total = model_predictions[\"total\"]\n",
        "    exact_accuracy = (model_predictions[\"exact_correct\"] / total) * 100\n",
        "    brief_accuracy = (model_predictions[\"brief_correct\"] / total) * 100\n",
        "\n",
        "    metric_results = {\n",
        "        \"exact_accuracy\": f\"{round(exact_accuracy, 2)}%\",\n",
        "        \"brief_accuracy\": f\"{round(brief_accuracy, 2)}%\",\n",
        "        \"total_samples\": total\n",
        "    }\n",
        "    return metric_results\n",
        "\n",
        "\n",
        "def calculate_mcqa_acc(result_list):\n",
        "    correct = 0\n",
        "    total = 0\n",
        "    for result in result_list:\n",
        "        predition = result[\"predict\"].strip()\n",
        "        predition = predition[0].upper()\n",
        "        if predition == result[\"ground_truth\"]:\n",
        "            correct += 1\n",
        "\n",
        "        total += 1\n",
        "\n",
        "    accuracy = correct / total\n",
        "\n",
        "    return accuracy * 100"
      ]
    },
    {
      "cell_type": "markdown",
      "metadata": {
        "id": "eygbt3uqV5bd"
      },
      "source": [
        "### 5. Models Code"
      ]
    },
    {
      "cell_type": "code",
      "execution_count": 7,
      "metadata": {
        "id": "VzVqjoWMV9ZJ"
      },
      "outputs": [],
      "source": [
        "class BaseModel(ABC):\n",
        "    @abstractmethod\n",
        "    def inference(self, content: str) -> str:\n",
        "        \"\"\"\n",
        "        Run inference on a given input prompt and return the generated output.\n",
        "        \"\"\"\n",
        "        pass"
      ]
    },
    {
      "cell_type": "code",
      "execution_count": 8,
      "metadata": {
        "id": "J-7-980UWDSQ"
      },
      "outputs": [],
      "source": [
        "class DeepSeekModel(BaseModel):\n",
        "    def __init__(self, model_name: str = \"deepseek-ai/DeepSeek-R1-Distill-Qwen-1.5B\", **kwargs):\n",
        "\n",
        "        # The model is set in eval mode by default by using eval()\n",
        "        # See: https://huggingface.co/docs/transformers/en/main_classes/model#transformers.PreTrainedModel\n",
        "        self.model = AutoModelForCausalLM.from_pretrained(\n",
        "            model_name,\n",
        "            torch_dtype=\"auto\",\n",
        "            device_map=\"auto\",\n",
        "            **kwargs\n",
        "        )\n",
        "        self.tokenizer = AutoTokenizer.from_pretrained(model_name)\n",
        "\n",
        "    def inference(self, content: str) -> str:\n",
        "        messages = [{\"role\": \"user\", \"content\": content}]\n",
        "\n",
        "        chat_prompt = self.tokenizer.apply_chat_template(\n",
        "            messages,\n",
        "            tokenize=False,\n",
        "            add_generation_prompt=True\n",
        "        )\n",
        "        tokenized_input = self.tokenizer([chat_prompt], return_tensors=\"pt\").to(self.model.device)\n",
        "        generated_output = self.model.generate(\n",
        "            **tokenized_input,\n",
        "            max_new_tokens=4096,\n",
        "        )\n",
        "        output_ids = generated_output[0][len(tokenized_input.input_ids[0]):].tolist()\n",
        "\n",
        "        # parsing thinking content\n",
        "        try:\n",
        "            # rindex finding 151649 (</think>)\n",
        "            index = len(output_ids) - output_ids[::-1].index(151649)\n",
        "        except ValueError:\n",
        "            index = 0\n",
        "        outputs = self.tokenizer.decode(output_ids[index:], skip_special_tokens=True).strip(\"\\n\")\n",
        "\n",
        "        return outputs"
      ]
    },
    {
      "cell_type": "code",
      "execution_count": null,
      "metadata": {
        "id": "94Rf3ZLIYCuI"
      },
      "outputs": [],
      "source": [
        "class LLaMAModel(BaseModel):\n",
        "    def __init__(self, model_name: str = \"meta-llama/Llama-3.2-1B-Instruct\", **kwargs):\n",
        "        self.pipeline = pipeline(\n",
        "            \"text-generation\",\n",
        "            model=model_name,\n",
        "            torch_dtype=\"auto\",\n",
        "            device_map=\"auto\",\n",
        "            token=\"\",\n",
        "            **kwargs\n",
        "        )\n",
        "\n",
        "    def inference(self, content: str) -> str:\n",
        "        messages = [{\"role\": \"user\", \"content\": content}]\n",
        "\n",
        "        outputs = self.pipeline(messages, max_new_tokens=1024)\n",
        "\n",
        "        return outputs[0][\"generated_text\"][-1][\"content\"]"
      ]
    },
    {
      "cell_type": "code",
      "execution_count": 10,
      "metadata": {
        "id": "fdC6qVPZYJVs"
      },
      "outputs": [],
      "source": [
        "class ModelFactory:\n",
        "    def __init__(self, config: dict):\n",
        "        self.config = config\n",
        "\n",
        "    @staticmethod\n",
        "    def get_model(model_type: str, model_name: str, **kwargs) -> BaseModel:\n",
        "        if model_type == \"deepseek\":\n",
        "            return DeepSeekModel(model_name=model_name, **kwargs)\n",
        "        elif model_type == \"llama\":\n",
        "            return LLaMAModel(model_name=model_name, **kwargs)\n",
        "        else:\n",
        "            raise ValueError(f\"Unsupported model type: {model_type}\")"
      ]
    },
    {
      "cell_type": "markdown",
      "metadata": {
        "id": "UsKClRUpYK8m"
      },
      "source": [
        "### 6. Experiment Code --"
      ]
    },
    {
      "cell_type": "code",
      "execution_count": 11,
      "metadata": {
        "id": "3Hw8kUS5sd-u"
      },
      "outputs": [],
      "source": [
        "def finance_mse_metaprompt_generation(\n",
        "    text: str,\n",
        "    prices: List[float],\n",
        "    start_datetime: str,\n",
        "    end_datetime: str,\n",
        "    pred_end_datetime: str,\n",
        "    granularity: str,\n",
        "    prediction_length: int,\n",
        "    mode: str,\n",
        ") -> str:\n",
        "    \"\"\"\n",
        "    Generates a meta-prompt for hypothetical stock price trend analysis\n",
        "    based on given inputs.\n",
        "\n",
        "    Args:\n",
        "        text (str): News article content within the input time series range.\n",
        "        prices (List[float]): Historical stock prices.\n",
        "        start_datetime (str): Start datetime of the input time series.\n",
        "        end_datetime (str): End datetime of the input time series.\n",
        "        pred_end_datetime (str): End datetime of the hypothetical projection.\n",
        "        granularity (str): Granularity of the input time series (e.g., daily, hourly).\n",
        "        prediction_length (int): Number of future time steps to estimate.\n",
        "        mode (str): Mode of estimation (\"timeseries_only\", \"text_only\", \"combined\").\n",
        "\n",
        "    Returns:\n",
        "        str: Meta-prompt for ChatGPT.\n",
        "    \"\"\"\n",
        "    prompt = (\n",
        "        f\"You are an AI assistant trained in data analysis and modeling. \"\n",
        "        f\"Your task is to conduct a research-based timeseries estimation for the next {prediction_length} time steps \"\n",
        "        f\"based on provided historical price movements and/or related news articles. \"\n",
        "        f\"This analysis aims to explore patterns in the given dataset and should not be considered financial advice. \"\n",
        "        f\"The input time series spans from {start_datetime} to {end_datetime}, with a granularity of {granularity}. \"\n",
        "        f\"The estimation period extends from {end_datetime} to {pred_end_datetime}, maintaining the same granularity.\"\n",
        "    )\n",
        "\n",
        "    if mode == \"timeseries_only\":\n",
        "        prompt += (\n",
        "            \"You will analyze the numerical patterns in historical prices and extrapolate potential movements. \"\n",
        "            f\"The input prices are: {prices}. \"\n",
        "        )\n",
        "    elif mode == \"text_only\":\n",
        "        prompt += (\n",
        "            \"You will analyze sentiment and potential market impacts from the following news article content: \"\n",
        "            f\"{text}. \"\n",
        "        )\n",
        "    elif mode == \"combined\":\n",
        "        prompt += (\n",
        "            \"You will use both historical price movements and relevant news sentiment analysis \"\n",
        "            f\"to explore hypothetical market trends. The input prices are: {prices}. The news article states: {text}. \"\n",
        "        )\n",
        "    else:\n",
        "        raise ValueError(\n",
        "            \"Invalid mode. Choose from 'timeseries_only', 'text_only', or 'combined'.\"\n",
        "        )\n",
        "\n",
        "    prompt += (\n",
        "        \"\\n\\nPlease return your estimated values in a structured format as a  list of float numbers. \"\n",
        "        \"Ensure the output follows this format strictly: \"\n",
        "        \"\\nPredicted Prices: value1, value2, ..., valueN. \"\n",
        "        f\"The number of estimated values should be exactly {prediction_length}. \"\n",
        "    )\n",
        "\n",
        "    return prompt\n",
        "\n",
        "def finance_macd_metaprompt_generation(\n",
        "    text: str,\n",
        "    prices: List[float],\n",
        "    start_datetime: str,\n",
        "    end_datetime: str,\n",
        "    pred_end_datetime: str,\n",
        "    granularity: str,\n",
        "    prediction_length: int,\n",
        "    mode: str,\n",
        ") -> str:\n",
        "\n",
        "    prompt = (\n",
        "        f\"You are an AI assistant trained in data analysis and modeling. \"\n",
        "        f\"Your task is to Predict the future Moving Average Convergence Divergence (MACD) values for the next {prediction_length} time steps \"\n",
        "        f\"based on provided historical timeseries movements and/or related news articles. \"\n",
        "        # f\"This analysis aims to explore patterns in the given dataset and should not be considered financial advice. \"\n",
        "        f\"The input time series spans from {start_datetime} to {end_datetime}, with a granularity of {granularity}. \"\n",
        "        f\"The estimation period extends from {end_datetime} to {pred_end_datetime}, maintaining the same granularity.\"\n",
        "    )\n",
        "\n",
        "    if mode == \"timeseries_only\":\n",
        "        prompt += (\n",
        "            \"You will analyze the numerical patterns in historical prices. \"\n",
        "            f\"The input prices are: {prices}. \"\n",
        "        )\n",
        "    elif mode == \"text_only\":\n",
        "        prompt += (\n",
        "            \"You will analyze sentiment and potential market impacts from the following news article content: \"\n",
        "            f\"{text}. \"\n",
        "        )\n",
        "    elif mode == \"combined\":\n",
        "        prompt += (\n",
        "            \"You will use both historical price movements and relevant text sentiment analysis \"\n",
        "            f\"The input prices are: {prices}. The news article states: {text}. \"\n",
        "        )\n",
        "    else:\n",
        "        raise ValueError(\n",
        "            \"Invalid mode. Choose from 'timeseries_only', 'text_only', or 'combined'.\"\n",
        "        )\n",
        "\n",
        "    prompt += (\n",
        "        \"\\n\\nPlease return your predicted MACD values in a structured format as a list of float numbers. Please predict the real possible values, do not use the naive linear extrapolation or similar methods\"\n",
        "        \"Ensure the output follows this format strictly: \"\n",
        "        \"\\nPredicted Prices: value1, value2, ..., valueN. \"\n",
        "        f\"The number of predicted values should be exactly {prediction_length}. \"\n",
        "    )\n",
        "\n",
        "    return prompt\n",
        "\n",
        "def finance_bb_metaprompt_generation(\n",
        "    text: str,\n",
        "    prices: List[float],\n",
        "    start_datetime: str,\n",
        "    end_datetime: str,\n",
        "    pred_end_datetime: str,\n",
        "    granularity: str,\n",
        "    prediction_length: int,\n",
        "    mode: str,\n",
        ") -> str:\n",
        "\n",
        "    prompt = (\n",
        "        f\"You are an AI assistant trained in data analysis and modeling. \"\n",
        "        f\"Your task is to Predict the future upper Bollinger Band (BB) values  for the next {prediction_length} time steps \"\n",
        "        f\"based on provided historical price movements and/or related news articles. \"\n",
        "        # f\"This analysis aims to explore patterns in the given dataset and should not be considered financial advice. \"\n",
        "        f\"The input time series spans from {start_datetime} to {end_datetime}, with a granularity of {granularity}. \"\n",
        "        f\"The estimation period extends from {end_datetime} to {pred_end_datetime}, maintaining the same granularity.\"\n",
        "    )\n",
        "\n",
        "    if mode == \"timeseries_only\":\n",
        "        prompt += (\n",
        "            \"You will analyze the numerical patterns in historical prices. \"\n",
        "            f\"The input prices are: {prices}. \"\n",
        "        )\n",
        "    elif mode == \"text_only\":\n",
        "        prompt += (\n",
        "            \"You will analyze sentiment and potential market impacts from the following news article content: \"\n",
        "            f\"{text}. \"\n",
        "        )\n",
        "    elif mode == \"combined\":\n",
        "        prompt += (\n",
        "            \"You will use both historical price movements and relevant news sentiment analysis \"\n",
        "            f\"to explore hypothetical market trends. The input prices are: {prices}. The news article states: {text}. \"\n",
        "        )\n",
        "    else:\n",
        "        raise ValueError(\n",
        "            \"Invalid mode. Choose from 'timeseries_only', 'text_only', or 'combined'.\"\n",
        "        )\n",
        "\n",
        "    prompt += (\n",
        "        \"\\n\\nPlease return your estimated upper Bollinger Band (BB) values values in a structured format as a list of float numbers. \"\n",
        "        \"Ensure the output follows this format strictly: \"\n",
        "        \"\\nPredicted Prices: value1, value2, ..., valueN. \"\n",
        "        f\"The number of estimated values should be exactly {prediction_length}. \"\n",
        "    )\n",
        "\n",
        "    return prompt\n",
        "\n",
        "def parse_val_prediction_response(response: str) -> Union[List[float], None]:\n",
        "    \"\"\"\n",
        "    Decodes the predicted prices from a response string.\n",
        "\n",
        "    Args:\n",
        "        response (str): The response containing the predicted prices.\n",
        "\n",
        "    Returns:\n",
        "        List[float]: A list of float numbers extracted from the response.\n",
        "        None: If extraction fails.\n",
        "    \"\"\"\n",
        "    match = re.search(r\"Predicted Prices:\\s*([-\\d.,\\s]+)\", response)\n",
        "\n",
        "    if match:\n",
        "        try:\n",
        "            price_list = [float(value) for value in match.group(1).split(',')]\n",
        "            return price_list\n",
        "        except ValueError:\n",
        "            pass  # If conversion fails, try another approach\n",
        "\n",
        "    # Alternative approach: Find all potential numbers in the response\n",
        "    possible_numbers = re.findall(r\"-?\\d+\\.\\d+\", response)\n",
        "    if possible_numbers:\n",
        "        try:\n",
        "            return [float(num) for num in possible_numbers]\n",
        "        except ValueError:\n",
        "            pass  # If conversion fails, return None\n",
        "\n",
        "    return None  # Return None if extraction fails\n",
        "\n",
        "def finance_classification_metaprompt_generation(text=None, timestamps=None, prices=None, mode=None):\n",
        "    time_series_data = \", \".join([f\"{price}\" for price in  prices])\n",
        "\n",
        "    if mode == \"combined\":\n",
        "        meta_prompt = f\"\"\"\n",
        "            You are a financial prediction expert with knowledge of advanced machine learning models and time-series analysis.\n",
        "            Your goal is to predict the stock trend (rise, neutral, or fall) based on the following inputs:\n",
        "\n",
        "            1. **Time Series Stock Price Data**:\n",
        "            - This data includes stock prices recorded at 1-hour intervals over the last month from {timestamps[0]} to {timestamps[-1]}.\n",
        "            - Example data format:\n",
        "                {time_series_data}\n",
        "\n",
        "            2. **News Data**:\n",
        "            - This includes news headlines and summaries relevant to the stock's company or sector.\n",
        "            - Example data format:\n",
        "                {text}\n",
        "\n",
        "            ### Task:\n",
        "            Analyze the provided time-series data and news to identify future trends of the stock performance. Ensure that the news data is used to supplement the insights from the time-series analysis, focusing on combining both inputs for a more accurate prediction.\n",
        "\n",
        "            ### Output:\n",
        "            Provide a prediction for the stock trend categorized one of the following labels:\n",
        "            - \"<-4%\"\n",
        "            - \"-2% ~ -4%\"\n",
        "            - \"-2% ~ +2%\"\n",
        "            - \"+2% ~ +4%\"\n",
        "            - \">+4%\"\n",
        "\n",
        "            please think step-by-step and briefly explain how the combination of time-series data and news data led to the prediction;\n",
        "            then wrap your final answer in the final predicted label in the format ^^^label^^^\n",
        "        \"\"\"\n",
        "\n",
        "    elif mode == \"text_only\":\n",
        "        meta_prompt = f\"\"\"\n",
        "            You are a financial prediction expert with knowledge of advanced machine learning models and time-series analysis.\n",
        "            Your goal is to predict the stock trend with given labels based on the following input:\n",
        "\n",
        "            **News Data**:\n",
        "            - This includes news headlines and summaries relevant to the stock's company or sector.\n",
        "            - Example data format:\n",
        "                {text}\n",
        "\n",
        "            ### Output:\n",
        "            Provide a prediction for the stock trend categorized one of the following labels:\n",
        "            - \"<-4%\"\n",
        "            - \"-2% ~ -4%\"\n",
        "            - \"-2% ~ +2%\"\n",
        "            - \"+2% ~ +4%\"\n",
        "            - \">+4%\"\n",
        "\n",
        "            ### Task:\n",
        "            Analyze the news semantics to identify trends and patterns that could impact stock performance.\n",
        "            Then wrap your final answer in the final predicted label in the format ^^^label^^^\n",
        "        \"\"\"\n",
        "\n",
        "    elif mode == \"timeseries_only\":\n",
        "        meta_prompt = f\"\"\"\n",
        "            You are a financial prediction expert with knowledge of advanced machine learning models and time-series analysis.\n",
        "            Your goal is to predict the stock trend with given labels based on the following input:\n",
        "\n",
        "            1. **Time Series Stock Price Data**:\n",
        "            - This data includes stock prices recorded at 1-hour intervals over the last month from {timestamps[0]} to {timestamps[-1]}.\n",
        "            - Example data format:\n",
        "                {time_series_data}\n",
        "\n",
        "            ### Output:\n",
        "            Provide a prediction for the stock trend categorized one of the following labels:\n",
        "            - \"<-4%\"\n",
        "            - \"-2% ~ -4%\"\n",
        "            - \"-2% ~ +2%\"\n",
        "            - \"+2% ~ +4%\"\n",
        "            - \">+4%\"\n",
        "\n",
        "            ### Task:\n",
        "            Analyze the provided time-series data to identify trends and patterns that could impact stock performance. Focus solely on the time-series data for making predictions.\n",
        "             then wrap your final answer in the final predicted label in the format ^^^label^^^\n",
        "        \"\"\"\n",
        "\n",
        "    return meta_prompt\n",
        "\n",
        "def parse_cls_response(answer):\n",
        "    try:\n",
        "        return  re.findall(r'\\^\\^\\^(.*?)\\^\\^\\^', answer)[-1]\n",
        "    except:\n",
        "        return  re.findall(r'\\^+(.*?)\\^+', answer)[-1]\n",
        "\n",
        "\n",
        "\n",
        "def finance_correlation_metaprompt_generation(setting, sticker, time1, time2, in_price, news, time_news):\n",
        "\n",
        "    time_interval = \"1 hour\" if setting == \"long\" else \"5 minutes\"\n",
        "\n",
        "    if setting == \"long\":\n",
        "        system_prompt =\"You are an expert in finance and stock market analysis. Based on the given 30-day historical stock price time series and a financial analysis published at the last timestamp of the time series, your task is to predict the correlation between the stock's price fluctuations in the next 7 days and the analysis sentiment (positive correlation indicates that positive analysis leads to price increase and negative analysis leads to price decrease). Take into account external factors or market conditions that might affect stock price movement.\"\n",
        "    else:\n",
        "        system_prompt = \"You are an expert in finance and stock market analysis. Based on the given 7-day historical stock price time series and a financial analysis published at the last timestamp of the time series, your task is to predict the correlation between the stock's price fluctuations in the next 1 day and the analysis sentiment (positive correlation indicates that positive analysis leads to price increase and negative analysis leads to price decrease). Take into account external factors or market conditions that might affect stock price movement.\"\n",
        "    question = \"Return your answer in one of the following without any other words: Strong Positive Correlation, Moderate Positive Correlation, No Correlation, Moderate Negative Correlation, Strong Negative Correlation.\"\n",
        "    query = f\"stock price of {sticker} between {time1} to {time2}, time interval is {time_interval}: \\\n",
        "            {in_price}\\\n",
        "            News published at {time_news}: \\\n",
        "            {news}\\\n",
        "            {question} Answer:\"\n",
        "    prompt = f\"{system_prompt}\\n\\n{query}\"\n",
        "\n",
        "    return prompt\n",
        "\n",
        "\n",
        "\n",
        "\n",
        "def finance_mcqa_metaprompt_generation(setting, sticker, time1, time2, in_price, news, time_news, question):\n",
        "    time_interval = \"1 hour\" if setting == \"long\" else \"5 minutes\"\n",
        "    if setting  == \"long\":\n",
        "        system_prompt =\"You are an expert in finance and stock market analysis. Your task is to answer the question based on the given 30-day historical stock price time series and a financial analysis published at the last timestamp of the time series. Return your answer only in the letter (A, B, C, or D). \"\n",
        "    else:\n",
        "        system_prompt =\"You are an expert in finance and stock market analysis. Your task is to answer the question based on the given 7-day historical stock price time series and a financial analysis published at the last timestamp of the time series. Return your answer only in the letter (A, B, C, or D). \"\n",
        "    query = f\"stock price of {sticker} between {time1} to {time2}, time interval is {time_interval}: \\\n",
        "            {in_price}\\\n",
        "            News published at {time_news}: \\\n",
        "            {news}\\\n",
        "            Question: {question}. Give your answer in the letter (A, B, C, or D) without any other words. Answer:\"\n",
        "    prompt = f\"{system_prompt}\\n\\n{query}\"\n",
        "    return prompt"
      ]
    },
    {
      "cell_type": "code",
      "execution_count": 12,
      "metadata": {
        "id": "j79ILLkFaWC8"
      },
      "outputs": [],
      "source": [
        "# import sys\n",
        "\n",
        "# sys.argv = [\n",
        "#     \"script_name\",  # Placeholder for script name (ignored by argparse)\n",
        "#     \"--dataset_folder\", \"./MTBench-Test/MTBench_finance_QA_short\",\n",
        "#     \"--save_path\", \"./MTBench-Test/llama/qa_short\",\n",
        "#     \"--model_type\", \"llama\",\n",
        "#     \"--model\", \"meta-llama/Llama-3.2-1B-Instruct\",\n",
        "#     \"--setting\", \"short\"\n",
        "# ]\n",
        "\n",
        "import sys\n",
        "\n",
        "sys.argv = [\n",
        "    \"script_name\",  # Placeholder for script name (ignored by argparse)\n",
        "    \"--dataset_path\", \"./MTBench-Test/MTBench_finance_aligned_pairs_long/train-00000-of-00001.parquet\",\n",
        "    \"--save_path\", \"./MTBench-Test/llama/tsforecast_long_combined\",\n",
        "    \"--model_type\", \"llama\",\n",
        "    \"--model\", \"meta-llama/Llama-3.2-1B-Instruct\",\n",
        "    \"--mode\", \"combined\",\n",
        "    \"--indicator\", \"time\"\n",
        "]"
      ]
    },
    {
      "cell_type": "code",
      "execution_count": 13,
      "metadata": {
        "colab": {
          "base_uri": "https://localhost:8080/",
          "height": 1000,
          "referenced_widgets": [
            "f22e85a697774b0493bb43765af6f8d1",
            "9b0e5c40aae8428b976f6fd85b4030ca",
            "ad1654400ae94f93be082ec268594b77",
            "cfa2546d7b164154b0eab5340fe092b5",
            "94fc52e56b21442a8a8ad7f69bebfc7b",
            "69a6e416dba4456580cfce648d0f9b5b",
            "1407734e706b40c5b286f6184109e411",
            "0653090032d04323b4e2591be2994294",
            "fd89ee4643af4fbead01d64f839a3277",
            "797598f0171f437ab64c4d8dfde476a8",
            "156693765cd04903b0de478be0cb8767",
            "501e8473e6654591a51d02a5b949c10c",
            "4d6861c9e56640779525733192b98da3",
            "194018e3c5e745529bc08c9675dc3a8b",
            "7f3cb62f5dc14d16a5435cba095c5e26",
            "53ef7fa75a6e45a4a23af9ccd29d5881",
            "d0fa2d106fa54c948e325ab8b028429f",
            "b86d27a598124eb18397876e5736a112",
            "e848e2f9d4c340f192504b063adf81db",
            "b3da123ca89a4e748afab46a71f2b8bf",
            "fd60f64935d646978d08be330d571902",
            "bf354c7504a34e05b7893dac1b8dbe62",
            "c23f525c4f0a4766975610f245ac035e",
            "2727c78ff9404977b007c3738fa1bf5f",
            "2041059f29a34ae9b5c69bf7f7a467be",
            "b609e349c2fe4fe79bfa1bf41d288573",
            "cd45abebfce74c698530cf00cc32b35a",
            "3ef14e4fe3f142d7b541d3c93e37da98",
            "0cf4454fab2448dfa24fcf531d3a426c",
            "50cf812178ff492baa21af0bbd1aff61",
            "7b78da2d810d49b2bd4e1f613fb9d3ab",
            "41761f43919b4daea163767f544e60d9",
            "2f4a8fc4bea34fc7b13b9473c3f91886",
            "f30001ba4ebf4b05bcef32319a396f1a",
            "fc8f7902ff5e4615bc924eb72f621ddd",
            "f5f007041d0e417882952880eda29546",
            "eec6f865dd5e4550acd0e5e5f0d65820",
            "638c8526caee4341b30d42a0fb2115f0",
            "6e85a04e90fa4e90a4fd9a359b91682b",
            "bced727d552a47c0b52d1d62e40dd285",
            "c4990e770df948eda3af4e772f467d1b",
            "b0e24ed5ad52447fa67384b4411d7950",
            "d123f67516ea4a99bf87921f1c665ee8",
            "d6965f2bd54744878064d564500437b3",
            "62317bc56dac450ca9c614c525041f6e",
            "492ae5de9a884b848d4e7b9d66bc676c",
            "67614b125897460cbc992949a14d4275",
            "47f34e7e5e6544c383e65ba246e22512",
            "b1d78059272b40a7bcf7bb8e435efe8d",
            "b7b59de3b8bc42d49b7b2f783df719b4",
            "15dd51ed82364ce38ec9102e8f8d055a",
            "3b848984bf5f45f6ba4403af3441a3bc",
            "63623fd1f54e41b59cba140fa7efcd04",
            "1a3e7d6f7c0d47b590fa99ab75b0cc00",
            "826697cb2032434d8717c69e39ddbf3b",
            "a94246470fe74f7083e77d2a434c51f6",
            "d012d7a1b1e24c5daf9b62c177029627",
            "bad1daf5c9754146ba811cd30468b550",
            "c8f52fd15ad84797babc41ad07f5a454",
            "7c850465420c4d7ab450e6651694def4",
            "d5124b28cc8d4375809ef93a028a5188",
            "5040420bb08a4a33b7b230e85852af99",
            "f7675f63d3634edb8fb4339fb7ab6bda",
            "71bb41965f2240ec8337152add5bb258",
            "8b3ca894fdba42efb8512d948c6fd36b",
            "bc5798cdb9ec478995457f488b96cde6"
          ]
        },
        "id": "XdWvXn4YreWT",
        "outputId": "8b909d60-49f4-4f8a-e55c-4e72216b6e8a"
      },
      "outputs": [
        {
          "data": {
            "application/vnd.jupyter.widget-view+json": {
              "model_id": "f22e85a697774b0493bb43765af6f8d1",
              "version_major": 2,
              "version_minor": 0
            },
            "text/plain": [
              "config.json:   0%|          | 0.00/877 [00:00<?, ?B/s]"
            ]
          },
          "metadata": {},
          "output_type": "display_data"
        },
        {
          "data": {
            "application/vnd.jupyter.widget-view+json": {
              "model_id": "501e8473e6654591a51d02a5b949c10c",
              "version_major": 2,
              "version_minor": 0
            },
            "text/plain": [
              "model.safetensors:   0%|          | 0.00/2.47G [00:00<?, ?B/s]"
            ]
          },
          "metadata": {},
          "output_type": "display_data"
        },
        {
          "data": {
            "application/vnd.jupyter.widget-view+json": {
              "model_id": "c23f525c4f0a4766975610f245ac035e",
              "version_major": 2,
              "version_minor": 0
            },
            "text/plain": [
              "generation_config.json:   0%|          | 0.00/189 [00:00<?, ?B/s]"
            ]
          },
          "metadata": {},
          "output_type": "display_data"
        },
        {
          "name": "stderr",
          "output_type": "stream",
          "text": [
            "/usr/local/lib/python3.11/dist-packages/huggingface_hub/utils/_auth.py:94: UserWarning: \n",
            "The secret `HF_TOKEN` does not exist in your Colab secrets.\n",
            "To authenticate with the Hugging Face Hub, create a token in your settings tab (https://huggingface.co/settings/tokens), set it as secret in your Google Colab and restart your session.\n",
            "You will be able to reuse this secret in all of your notebooks.\n",
            "Please note that authentication is recommended but still optional to access public models or datasets.\n",
            "  warnings.warn(\n"
          ]
        },
        {
          "data": {
            "application/vnd.jupyter.widget-view+json": {
              "model_id": "f30001ba4ebf4b05bcef32319a396f1a",
              "version_major": 2,
              "version_minor": 0
            },
            "text/plain": [
              "tokenizer_config.json:   0%|          | 0.00/54.5k [00:00<?, ?B/s]"
            ]
          },
          "metadata": {},
          "output_type": "display_data"
        },
        {
          "data": {
            "application/vnd.jupyter.widget-view+json": {
              "model_id": "62317bc56dac450ca9c614c525041f6e",
              "version_major": 2,
              "version_minor": 0
            },
            "text/plain": [
              "tokenizer.json:   0%|          | 0.00/9.09M [00:00<?, ?B/s]"
            ]
          },
          "metadata": {},
          "output_type": "display_data"
        },
        {
          "data": {
            "application/vnd.jupyter.widget-view+json": {
              "model_id": "a94246470fe74f7083e77d2a434c51f6",
              "version_major": 2,
              "version_minor": 0
            },
            "text/plain": [
              "special_tokens_map.json:   0%|          | 0.00/296 [00:00<?, ?B/s]"
            ]
          },
          "metadata": {},
          "output_type": "display_data"
        },
        {
          "name": "stderr",
          "output_type": "stream",
          "text": [
            "Device set to use cuda:0\n"
          ]
        },
        {
          "name": "stdout",
          "output_type": "stream",
          "text": [
            "Evaluating 100 samples...\n"
          ]
        },
        {
          "name": "stderr",
          "output_type": "stream",
          "text": [
            "  0%|          | 0/100 [00:00<?, ?it/s]Setting `pad_token_id` to `eos_token_id`:128001 for open-end generation.\n",
            "  1%|          | 1/100 [00:34<56:36, 34.31s/it]Setting `pad_token_id` to `eos_token_id`:128001 for open-end generation.\n"
          ]
        },
        {
          "name": "stdout",
          "output_type": "stream",
          "text": [
            "train-00000-of-00001.parquet failed mse  1400.6330431826182\n"
          ]
        },
        {
          "name": "stderr",
          "output_type": "stream",
          "text": [
            "\r  2%|▏         | 2/100 [01:07<54:50, 33.58s/it]Setting `pad_token_id` to `eos_token_id`:128001 for open-end generation.\n"
          ]
        },
        {
          "name": "stdout",
          "output_type": "stream",
          "text": [
            "train-00000-of-00001.parquet failed mse  1002.7979566102273\n"
          ]
        },
        {
          "name": "stderr",
          "output_type": "stream",
          "text": [
            "\r  3%|▎         | 3/100 [01:39<53:01, 32.79s/it]Setting `pad_token_id` to `eos_token_id`:128001 for open-end generation.\n"
          ]
        },
        {
          "name": "stdout",
          "output_type": "stream",
          "text": [
            "Skipping 2 due to error: object of type 'NoneType' has no len()\n"
          ]
        },
        {
          "name": "stderr",
          "output_type": "stream",
          "text": [
            "\r  4%|▍         | 4/100 [02:11<51:57, 32.48s/it]Setting `pad_token_id` to `eos_token_id`:128001 for open-end generation.\n"
          ]
        },
        {
          "name": "stdout",
          "output_type": "stream",
          "text": [
            "3/100: mse: 88.7224, mae: 8.9228, rmse: 9.4193\n"
          ]
        },
        {
          "name": "stderr",
          "output_type": "stream",
          "text": [
            "\r  5%|▌         | 5/100 [02:32<45:16, 28.60s/it]Setting `pad_token_id` to `eos_token_id`:128001 for open-end generation.\n"
          ]
        },
        {
          "name": "stdout",
          "output_type": "stream",
          "text": [
            "4/100: mse: 2.7209, mae: 1.0864, rmse: 1.6495\n"
          ]
        },
        {
          "name": "stderr",
          "output_type": "stream",
          "text": [
            "\r  6%|▌         | 6/100 [03:06<47:10, 30.11s/it]Setting `pad_token_id` to `eos_token_id`:128001 for open-end generation.\n"
          ]
        },
        {
          "name": "stdout",
          "output_type": "stream",
          "text": [
            "train-00000-of-00001.parquet failed mse  585.5353986691936\n"
          ]
        },
        {
          "name": "stderr",
          "output_type": "stream",
          "text": [
            "\r  7%|▋         | 7/100 [03:41<49:23, 31.87s/it]Setting `pad_token_id` to `eos_token_id`:128001 for open-end generation.\n"
          ]
        },
        {
          "name": "stdout",
          "output_type": "stream",
          "text": [
            "train-00000-of-00001.parquet failed mse  3244.739074440171\n"
          ]
        },
        {
          "name": "stderr",
          "output_type": "stream",
          "text": [
            "\r  8%|▊         | 8/100 [04:15<49:48, 32.49s/it]Setting `pad_token_id` to `eos_token_id`:128001 for open-end generation.\n"
          ]
        },
        {
          "name": "stdout",
          "output_type": "stream",
          "text": [
            "7/100: mse: 0.0552, mae: 0.1817, rmse: 0.2350\n"
          ]
        },
        {
          "name": "stderr",
          "output_type": "stream",
          "text": [
            "\r  9%|▉         | 9/100 [04:48<49:43, 32.78s/it]Setting `pad_token_id` to `eos_token_id`:128001 for open-end generation.\n"
          ]
        },
        {
          "name": "stdout",
          "output_type": "stream",
          "text": [
            "8/100: mse: 46.7785, mae: 3.5977, rmse: 6.8395\n"
          ]
        },
        {
          "name": "stderr",
          "output_type": "stream",
          "text": [
            "\r 10%|█         | 10/100 [05:22<49:41, 33.13s/it]You seem to be using the pipelines sequentially on GPU. In order to maximize efficiency please use a dataset\n",
            "Setting `pad_token_id` to `eos_token_id`:128001 for open-end generation.\n"
          ]
        },
        {
          "name": "stdout",
          "output_type": "stream",
          "text": [
            "9/100: mse: 9.3114, mae: 2.8013, rmse: 3.0515\n"
          ]
        },
        {
          "name": "stderr",
          "output_type": "stream",
          "text": [
            "\r 11%|█         | 11/100 [05:59<50:36, 34.12s/it]Setting `pad_token_id` to `eos_token_id`:128001 for open-end generation.\n"
          ]
        },
        {
          "name": "stdout",
          "output_type": "stream",
          "text": [
            "10/100: mse: 5.2583, mae: 1.2802, rmse: 2.2931\n"
          ]
        },
        {
          "name": "stderr",
          "output_type": "stream",
          "text": [
            "\r 12%|█▏        | 12/100 [06:29<48:17, 32.93s/it]Setting `pad_token_id` to `eos_token_id`:128001 for open-end generation.\n"
          ]
        },
        {
          "name": "stdout",
          "output_type": "stream",
          "text": [
            "train-00000-of-00001.parquet failed mse  197.15605362249278\n"
          ]
        },
        {
          "name": "stderr",
          "output_type": "stream",
          "text": [
            "\r 13%|█▎        | 13/100 [07:01<47:24, 32.69s/it]Setting `pad_token_id` to `eos_token_id`:128001 for open-end generation.\n"
          ]
        },
        {
          "name": "stdout",
          "output_type": "stream",
          "text": [
            "12/100: mse: 90.9549, mae: 9.0936, rmse: 9.5370\n"
          ]
        },
        {
          "name": "stderr",
          "output_type": "stream",
          "text": [
            "\r 14%|█▍        | 14/100 [07:27<43:58, 30.69s/it]Setting `pad_token_id` to `eos_token_id`:128001 for open-end generation.\n"
          ]
        },
        {
          "name": "stdout",
          "output_type": "stream",
          "text": [
            "13/100: mse: 8.1351, mae: 0.8774, rmse: 2.8522\n"
          ]
        },
        {
          "name": "stderr",
          "output_type": "stream",
          "text": [
            "\r 15%|█▌        | 15/100 [07:55<42:18, 29.87s/it]Setting `pad_token_id` to `eos_token_id`:128001 for open-end generation.\n"
          ]
        },
        {
          "name": "stdout",
          "output_type": "stream",
          "text": [
            "14/100: mse: 1.5456, mae: 1.0272, rmse: 1.2432\n"
          ]
        },
        {
          "name": "stderr",
          "output_type": "stream",
          "text": [
            "\r 16%|█▌        | 16/100 [08:31<44:25, 31.73s/it]Setting `pad_token_id` to `eos_token_id`:128001 for open-end generation.\n"
          ]
        },
        {
          "name": "stdout",
          "output_type": "stream",
          "text": [
            "15/100: mse: 4.1732, mae: 1.8485, rmse: 2.0428\n"
          ]
        },
        {
          "name": "stderr",
          "output_type": "stream",
          "text": [
            "\r 17%|█▋        | 17/100 [09:07<45:39, 33.00s/it]Setting `pad_token_id` to `eos_token_id`:128001 for open-end generation.\n"
          ]
        },
        {
          "name": "stdout",
          "output_type": "stream",
          "text": [
            "16/100: mse: 9.3846, mae: 2.7018, rmse: 3.0634\n"
          ]
        },
        {
          "name": "stderr",
          "output_type": "stream",
          "text": [
            "\r 18%|█▊        | 18/100 [09:37<44:02, 32.22s/it]Setting `pad_token_id` to `eos_token_id`:128001 for open-end generation.\n"
          ]
        },
        {
          "name": "stdout",
          "output_type": "stream",
          "text": [
            "17/100: mse: 39.3548, mae: 5.1435, rmse: 6.2733\n"
          ]
        },
        {
          "name": "stderr",
          "output_type": "stream",
          "text": [
            "\r 19%|█▉        | 19/100 [10:09<43:23, 32.14s/it]Setting `pad_token_id` to `eos_token_id`:128001 for open-end generation.\n"
          ]
        },
        {
          "name": "stdout",
          "output_type": "stream",
          "text": [
            "train-00000-of-00001.parquet failed mse  22479.359834747032\n"
          ]
        },
        {
          "name": "stderr",
          "output_type": "stream",
          "text": [
            "\r 20%|██        | 20/100 [10:43<43:36, 32.71s/it]Setting `pad_token_id` to `eos_token_id`:128001 for open-end generation.\n"
          ]
        },
        {
          "name": "stdout",
          "output_type": "stream",
          "text": [
            "19/100: mse: 40.2887, mae: 5.3029, rmse: 6.3473\n"
          ]
        },
        {
          "name": "stderr",
          "output_type": "stream",
          "text": [
            "\r 21%|██        | 21/100 [11:16<43:07, 32.75s/it]Setting `pad_token_id` to `eos_token_id`:128001 for open-end generation.\n"
          ]
        },
        {
          "name": "stdout",
          "output_type": "stream",
          "text": [
            "20/100: mse: 3.4429, mae: 1.5924, rmse: 1.8555\n"
          ]
        },
        {
          "name": "stderr",
          "output_type": "stream",
          "text": [
            "\r 22%|██▏       | 22/100 [11:47<41:59, 32.30s/it]Setting `pad_token_id` to `eos_token_id`:128001 for open-end generation.\n"
          ]
        },
        {
          "name": "stdout",
          "output_type": "stream",
          "text": [
            "21/100: mse: 3.8622, mae: 1.5520, rmse: 1.9653\n"
          ]
        },
        {
          "name": "stderr",
          "output_type": "stream",
          "text": [
            "\r 23%|██▎       | 23/100 [12:27<44:17, 34.51s/it]Setting `pad_token_id` to `eos_token_id`:128001 for open-end generation.\n"
          ]
        },
        {
          "name": "stdout",
          "output_type": "stream",
          "text": [
            "22/100: mse: 3.0686, mae: 1.4812, rmse: 1.7518\n"
          ]
        },
        {
          "name": "stderr",
          "output_type": "stream",
          "text": [
            "\r 24%|██▍       | 24/100 [12:53<40:23, 31.89s/it]Setting `pad_token_id` to `eos_token_id`:128001 for open-end generation.\n"
          ]
        },
        {
          "name": "stdout",
          "output_type": "stream",
          "text": [
            "23/100: mse: 7.9168, mae: 2.3635, rmse: 2.8137\n"
          ]
        },
        {
          "name": "stderr",
          "output_type": "stream",
          "text": [
            "\r 25%|██▌       | 25/100 [13:27<40:35, 32.47s/it]Setting `pad_token_id` to `eos_token_id`:128001 for open-end generation.\n"
          ]
        },
        {
          "name": "stdout",
          "output_type": "stream",
          "text": [
            "train-00000-of-00001.parquet failed mse  7256.109980469615\n"
          ]
        },
        {
          "name": "stderr",
          "output_type": "stream",
          "text": [
            "\r 26%|██▌       | 26/100 [14:02<41:04, 33.30s/it]Setting `pad_token_id` to `eos_token_id`:128001 for open-end generation.\n"
          ]
        },
        {
          "name": "stdout",
          "output_type": "stream",
          "text": [
            "train-00000-of-00001.parquet failed mse  172.80279551090908\n"
          ]
        },
        {
          "name": "stderr",
          "output_type": "stream",
          "text": [
            "\r 27%|██▋       | 27/100 [14:36<40:38, 33.40s/it]Setting `pad_token_id` to `eos_token_id`:128001 for open-end generation.\n"
          ]
        },
        {
          "name": "stdout",
          "output_type": "stream",
          "text": [
            "26/100: mse: 22.3142, mae: 3.8818, rmse: 4.7238\n"
          ]
        },
        {
          "name": "stderr",
          "output_type": "stream",
          "text": [
            "\r 28%|██▊       | 28/100 [15:09<39:59, 33.32s/it]Setting `pad_token_id` to `eos_token_id`:128001 for open-end generation.\n"
          ]
        },
        {
          "name": "stdout",
          "output_type": "stream",
          "text": [
            "train-00000-of-00001.parquet failed mse  188.14753514888963\n"
          ]
        },
        {
          "name": "stderr",
          "output_type": "stream",
          "text": [
            "\r 29%|██▉       | 29/100 [15:43<39:40, 33.53s/it]Setting `pad_token_id` to `eos_token_id`:128001 for open-end generation.\n"
          ]
        },
        {
          "name": "stdout",
          "output_type": "stream",
          "text": [
            "train-00000-of-00001.parquet failed mse  164.58103531704472\n"
          ]
        },
        {
          "name": "stderr",
          "output_type": "stream",
          "text": [
            "\r 30%|███       | 30/100 [16:14<38:16, 32.80s/it]Setting `pad_token_id` to `eos_token_id`:128001 for open-end generation.\n"
          ]
        },
        {
          "name": "stdout",
          "output_type": "stream",
          "text": [
            "29/100: mse: 31.2723, mae: 3.4225, rmse: 5.5922\n"
          ]
        },
        {
          "name": "stderr",
          "output_type": "stream",
          "text": [
            "\r 31%|███       | 31/100 [16:50<38:50, 33.77s/it]Setting `pad_token_id` to `eos_token_id`:128001 for open-end generation.\n"
          ]
        },
        {
          "name": "stdout",
          "output_type": "stream",
          "text": [
            "train-00000-of-00001.parquet failed mse  187.04616668067226\n"
          ]
        },
        {
          "name": "stderr",
          "output_type": "stream",
          "text": [
            "\r 32%|███▏      | 32/100 [17:16<35:52, 31.65s/it]Setting `pad_token_id` to `eos_token_id`:128001 for open-end generation.\n"
          ]
        },
        {
          "name": "stdout",
          "output_type": "stream",
          "text": [
            "train-00000-of-00001.parquet failed mse  517.4252362351515\n"
          ]
        },
        {
          "name": "stderr",
          "output_type": "stream",
          "text": [
            "\r 33%|███▎      | 33/100 [17:45<34:25, 30.83s/it]Setting `pad_token_id` to `eos_token_id`:128001 for open-end generation.\n"
          ]
        },
        {
          "name": "stdout",
          "output_type": "stream",
          "text": [
            "train-00000-of-00001.parquet failed mse  3758.457752621641\n"
          ]
        },
        {
          "name": "stderr",
          "output_type": "stream",
          "text": [
            "\r 34%|███▍      | 34/100 [18:19<34:40, 31.52s/it]Setting `pad_token_id` to `eos_token_id`:128001 for open-end generation.\n"
          ]
        },
        {
          "name": "stdout",
          "output_type": "stream",
          "text": [
            "33/100: mse: 72.9103, mae: 3.3091, rmse: 8.5388\n"
          ]
        },
        {
          "name": "stderr",
          "output_type": "stream",
          "text": [
            "\r 35%|███▌      | 35/100 [18:53<34:56, 32.25s/it]Setting `pad_token_id` to `eos_token_id`:128001 for open-end generation.\n"
          ]
        },
        {
          "name": "stdout",
          "output_type": "stream",
          "text": [
            "train-00000-of-00001.parquet failed mse  3816.9415915266613\n"
          ]
        },
        {
          "name": "stderr",
          "output_type": "stream",
          "text": [
            "\r 36%|███▌      | 36/100 [19:20<32:45, 30.70s/it]Setting `pad_token_id` to `eos_token_id`:128001 for open-end generation.\n"
          ]
        },
        {
          "name": "stdout",
          "output_type": "stream",
          "text": [
            "35/100: mse: 0.0951, mae: 0.2647, rmse: 0.3083\n"
          ]
        },
        {
          "name": "stderr",
          "output_type": "stream",
          "text": [
            "\r 37%|███▋      | 37/100 [20:05<36:58, 35.22s/it]Setting `pad_token_id` to `eos_token_id`:128001 for open-end generation.\n"
          ]
        },
        {
          "name": "stdout",
          "output_type": "stream",
          "text": [
            "36/100: mse: 2.6228, mae: 1.5130, rmse: 1.6195\n"
          ]
        },
        {
          "name": "stderr",
          "output_type": "stream",
          "text": [
            "\r 38%|███▊      | 38/100 [20:30<33:08, 32.08s/it]Setting `pad_token_id` to `eos_token_id`:128001 for open-end generation.\n"
          ]
        },
        {
          "name": "stdout",
          "output_type": "stream",
          "text": [
            "train-00000-of-00001.parquet failed mse  1957.7005196969694\n"
          ]
        },
        {
          "name": "stderr",
          "output_type": "stream",
          "text": [
            "\r 39%|███▉      | 39/100 [21:04<33:04, 32.54s/it]Setting `pad_token_id` to `eos_token_id`:128001 for open-end generation.\n"
          ]
        },
        {
          "name": "stdout",
          "output_type": "stream",
          "text": [
            "38/100: mse: 50.4256, mae: 2.9369, rmse: 7.1011\n"
          ]
        },
        {
          "name": "stderr",
          "output_type": "stream",
          "text": [
            "\r 40%|████      | 40/100 [21:38<32:58, 32.98s/it]Setting `pad_token_id` to `eos_token_id`:128001 for open-end generation.\n"
          ]
        },
        {
          "name": "stdout",
          "output_type": "stream",
          "text": [
            "39/100: mse: 6.2227, mae: 2.3655, rmse: 2.4945\n"
          ]
        },
        {
          "name": "stderr",
          "output_type": "stream",
          "text": [
            "\r 41%|████      | 41/100 [22:03<30:13, 30.73s/it]Setting `pad_token_id` to `eos_token_id`:128001 for open-end generation.\n"
          ]
        },
        {
          "name": "stdout",
          "output_type": "stream",
          "text": [
            "train-00000-of-00001.parquet failed mse  1472.9647834698865\n"
          ]
        },
        {
          "name": "stderr",
          "output_type": "stream",
          "text": [
            "\r 42%|████▏     | 42/100 [22:36<30:13, 31.27s/it]Setting `pad_token_id` to `eos_token_id`:128001 for open-end generation.\n"
          ]
        },
        {
          "name": "stdout",
          "output_type": "stream",
          "text": [
            "train-00000-of-00001.parquet failed mse  1515.7005251045728\n"
          ]
        },
        {
          "name": "stderr",
          "output_type": "stream",
          "text": [
            "\r 43%|████▎     | 43/100 [23:00<27:38, 29.10s/it]Setting `pad_token_id` to `eos_token_id`:128001 for open-end generation.\n"
          ]
        },
        {
          "name": "stdout",
          "output_type": "stream",
          "text": [
            "train-00000-of-00001.parquet failed mse  309.93225860128854\n"
          ]
        },
        {
          "name": "stderr",
          "output_type": "stream",
          "text": [
            "\r 44%|████▍     | 44/100 [23:12<22:25, 24.02s/it]Setting `pad_token_id` to `eos_token_id`:128001 for open-end generation.\n"
          ]
        },
        {
          "name": "stdout",
          "output_type": "stream",
          "text": [
            "43/100: mse: 89.1060, mae: 9.3092, rmse: 9.4396\n"
          ]
        },
        {
          "name": "stderr",
          "output_type": "stream",
          "text": [
            "\r 45%|████▌     | 45/100 [23:48<25:21, 27.66s/it]Setting `pad_token_id` to `eos_token_id`:128001 for open-end generation.\n"
          ]
        },
        {
          "name": "stdout",
          "output_type": "stream",
          "text": [
            "44/100: mse: 8.3656, mae: 2.6435, rmse: 2.8923\n"
          ]
        },
        {
          "name": "stderr",
          "output_type": "stream",
          "text": [
            "\r 46%|████▌     | 46/100 [24:22<26:40, 29.64s/it]Setting `pad_token_id` to `eos_token_id`:128001 for open-end generation.\n"
          ]
        },
        {
          "name": "stdout",
          "output_type": "stream",
          "text": [
            "train-00000-of-00001.parquet failed mse  441.33449201329057\n"
          ]
        },
        {
          "name": "stderr",
          "output_type": "stream",
          "text": [
            "\r 47%|████▋     | 47/100 [24:49<25:19, 28.68s/it]Setting `pad_token_id` to `eos_token_id`:128001 for open-end generation.\n"
          ]
        },
        {
          "name": "stdout",
          "output_type": "stream",
          "text": [
            "train-00000-of-00001.parquet failed mse  9989.734688884088\n"
          ]
        },
        {
          "name": "stderr",
          "output_type": "stream",
          "text": [
            "\r 48%|████▊     | 48/100 [25:26<27:03, 31.23s/it]Setting `pad_token_id` to `eos_token_id`:128001 for open-end generation.\n"
          ]
        },
        {
          "name": "stdout",
          "output_type": "stream",
          "text": [
            "47/100: mse: 6.4404, mae: 2.3879, rmse: 2.5378\n"
          ]
        },
        {
          "name": "stderr",
          "output_type": "stream",
          "text": [
            "\r 49%|████▉     | 49/100 [26:01<27:25, 32.26s/it]Setting `pad_token_id` to `eos_token_id`:128001 for open-end generation.\n"
          ]
        },
        {
          "name": "stdout",
          "output_type": "stream",
          "text": [
            "48/100: mse: 30.2643, mae: 2.2075, rmse: 5.5013\n"
          ]
        },
        {
          "name": "stderr",
          "output_type": "stream",
          "text": [
            "\r 50%|█████     | 50/100 [26:23<24:17, 29.15s/it]Setting `pad_token_id` to `eos_token_id`:128001 for open-end generation.\n"
          ]
        },
        {
          "name": "stdout",
          "output_type": "stream",
          "text": [
            "49/100: mse: 16.3477, mae: 3.2261, rmse: 4.0432\n"
          ]
        },
        {
          "name": "stderr",
          "output_type": "stream",
          "text": [
            "\r 51%|█████     | 51/100 [26:58<25:27, 31.18s/it]Setting `pad_token_id` to `eos_token_id`:128001 for open-end generation.\n"
          ]
        },
        {
          "name": "stdout",
          "output_type": "stream",
          "text": [
            "50/100: mse: 59.8194, mae: 3.6894, rmse: 7.7343\n"
          ]
        },
        {
          "name": "stderr",
          "output_type": "stream",
          "text": [
            "\r 52%|█████▏    | 52/100 [27:36<26:25, 33.03s/it]Setting `pad_token_id` to `eos_token_id`:128001 for open-end generation.\n"
          ]
        },
        {
          "name": "stdout",
          "output_type": "stream",
          "text": [
            "51/100: mse: 0.0337, mae: 0.1465, rmse: 0.1837\n"
          ]
        },
        {
          "name": "stderr",
          "output_type": "stream",
          "text": [
            "\r 53%|█████▎    | 53/100 [28:12<26:34, 33.92s/it]Setting `pad_token_id` to `eos_token_id`:128001 for open-end generation.\n"
          ]
        },
        {
          "name": "stdout",
          "output_type": "stream",
          "text": [
            "train-00000-of-00001.parquet failed mse  2300.0141545961346\n"
          ]
        },
        {
          "name": "stderr",
          "output_type": "stream",
          "text": [
            "\r 54%|█████▍    | 54/100 [28:24<20:54, 27.28s/it]Setting `pad_token_id` to `eos_token_id`:128001 for open-end generation.\n"
          ]
        },
        {
          "name": "stdout",
          "output_type": "stream",
          "text": [
            "53/100: mse: 8.6349, mae: 2.8937, rmse: 2.9385\n"
          ]
        },
        {
          "name": "stderr",
          "output_type": "stream",
          "text": [
            "\r 55%|█████▌    | 55/100 [28:50<20:21, 27.14s/it]Setting `pad_token_id` to `eos_token_id`:128001 for open-end generation.\n"
          ]
        },
        {
          "name": "stdout",
          "output_type": "stream",
          "text": [
            "train-00000-of-00001.parquet failed mse  227.36920663900602\n"
          ]
        },
        {
          "name": "stderr",
          "output_type": "stream",
          "text": [
            "\r 56%|█████▌    | 56/100 [29:21<20:44, 28.29s/it]Setting `pad_token_id` to `eos_token_id`:128001 for open-end generation.\n"
          ]
        },
        {
          "name": "stdout",
          "output_type": "stream",
          "text": [
            "train-00000-of-00001.parquet failed mse  616.4535876820884\n"
          ]
        },
        {
          "name": "stderr",
          "output_type": "stream",
          "text": [
            "\r 57%|█████▋    | 57/100 [29:58<22:05, 30.84s/it]Setting `pad_token_id` to `eos_token_id`:128001 for open-end generation.\n"
          ]
        },
        {
          "name": "stdout",
          "output_type": "stream",
          "text": [
            "56/100: mse: 51.6161, mae: 3.5094, rmse: 7.1844\n"
          ]
        },
        {
          "name": "stderr",
          "output_type": "stream",
          "text": [
            "\r 58%|█████▊    | 58/100 [30:32<22:16, 31.81s/it]Setting `pad_token_id` to `eos_token_id`:128001 for open-end generation.\n"
          ]
        },
        {
          "name": "stdout",
          "output_type": "stream",
          "text": [
            "train-00000-of-00001.parquet failed mse  1132.731405458363\n"
          ]
        },
        {
          "name": "stderr",
          "output_type": "stream",
          "text": [
            "\r 59%|█████▉    | 59/100 [31:08<22:38, 33.15s/it]Setting `pad_token_id` to `eos_token_id`:128001 for open-end generation.\n"
          ]
        },
        {
          "name": "stdout",
          "output_type": "stream",
          "text": [
            "58/100: mse: 0.7345, mae: 0.7787, rmse: 0.8570\n"
          ]
        },
        {
          "name": "stderr",
          "output_type": "stream",
          "text": [
            "\r 60%|██████    | 60/100 [31:47<23:12, 34.82s/it]Setting `pad_token_id` to `eos_token_id`:128001 for open-end generation.\n"
          ]
        },
        {
          "name": "stdout",
          "output_type": "stream",
          "text": [
            "59/100: mse: 41.7700, mae: 6.4504, rmse: 6.4630\n"
          ]
        },
        {
          "name": "stderr",
          "output_type": "stream",
          "text": [
            "\r 61%|██████    | 61/100 [32:22<22:33, 34.71s/it]Setting `pad_token_id` to `eos_token_id`:128001 for open-end generation.\n"
          ]
        },
        {
          "name": "stdout",
          "output_type": "stream",
          "text": [
            "60/100: mse: 21.4395, mae: 3.8904, rmse: 4.6303\n"
          ]
        },
        {
          "name": "stderr",
          "output_type": "stream",
          "text": [
            "\r 62%|██████▏   | 62/100 [32:54<21:31, 33.98s/it]Setting `pad_token_id` to `eos_token_id`:128001 for open-end generation.\n"
          ]
        },
        {
          "name": "stdout",
          "output_type": "stream",
          "text": [
            "61/100: mse: 5.7162, mae: 2.1545, rmse: 2.3909\n"
          ]
        },
        {
          "name": "stderr",
          "output_type": "stream",
          "text": [
            "\r 63%|██████▎   | 63/100 [33:34<22:07, 35.89s/it]Setting `pad_token_id` to `eos_token_id`:128001 for open-end generation.\n"
          ]
        },
        {
          "name": "stdout",
          "output_type": "stream",
          "text": [
            "62/100: mse: 0.1650, mae: 0.4036, rmse: 0.4062\n"
          ]
        },
        {
          "name": "stderr",
          "output_type": "stream",
          "text": [
            "\r 64%|██████▍   | 64/100 [34:10<21:34, 35.95s/it]Setting `pad_token_id` to `eos_token_id`:128001 for open-end generation.\n"
          ]
        },
        {
          "name": "stdout",
          "output_type": "stream",
          "text": [
            "Skipping 63 due to error: object of type 'NoneType' has no len()\n"
          ]
        },
        {
          "name": "stderr",
          "output_type": "stream",
          "text": [
            "\r 65%|██████▌   | 65/100 [34:41<20:05, 34.45s/it]Setting `pad_token_id` to `eos_token_id`:128001 for open-end generation.\n"
          ]
        },
        {
          "name": "stdout",
          "output_type": "stream",
          "text": [
            "64/100: mse: 2.5106, mae: 1.2651, rmse: 1.5845\n"
          ]
        },
        {
          "name": "stderr",
          "output_type": "stream",
          "text": [
            "\r 66%|██████▌   | 66/100 [35:15<19:22, 34.20s/it]Setting `pad_token_id` to `eos_token_id`:128001 for open-end generation.\n"
          ]
        },
        {
          "name": "stdout",
          "output_type": "stream",
          "text": [
            "train-00000-of-00001.parquet failed mse  7041.680117304395\n"
          ]
        },
        {
          "name": "stderr",
          "output_type": "stream",
          "text": [
            "\r 67%|██████▋   | 67/100 [35:49<18:47, 34.18s/it]Setting `pad_token_id` to `eos_token_id`:128001 for open-end generation.\n"
          ]
        },
        {
          "name": "stdout",
          "output_type": "stream",
          "text": [
            "66/100: mse: 11.2316, mae: 3.0837, rmse: 3.3514\n"
          ]
        },
        {
          "name": "stderr",
          "output_type": "stream",
          "text": [
            "\r 68%|██████▊   | 68/100 [36:19<17:37, 33.04s/it]Setting `pad_token_id` to `eos_token_id`:128001 for open-end generation.\n"
          ]
        },
        {
          "name": "stdout",
          "output_type": "stream",
          "text": [
            "67/100: mse: 36.9718, mae: 3.1043, rmse: 6.0804\n"
          ]
        },
        {
          "name": "stderr",
          "output_type": "stream",
          "text": [
            "\r 69%|██████▉   | 69/100 [36:46<16:01, 31.00s/it]Setting `pad_token_id` to `eos_token_id`:128001 for open-end generation.\n"
          ]
        },
        {
          "name": "stdout",
          "output_type": "stream",
          "text": [
            "Skipping 68 due to error: object of type 'NoneType' has no len()\n"
          ]
        },
        {
          "name": "stderr",
          "output_type": "stream",
          "text": [
            "\r 70%|███████   | 70/100 [37:20<15:56, 31.89s/it]Setting `pad_token_id` to `eos_token_id`:128001 for open-end generation.\n"
          ]
        },
        {
          "name": "stdout",
          "output_type": "stream",
          "text": [
            "69/100: mse: 55.1274, mae: 7.3072, rmse: 7.4248\n"
          ]
        },
        {
          "name": "stderr",
          "output_type": "stream",
          "text": [
            "\r 71%|███████   | 71/100 [37:50<15:09, 31.35s/it]Setting `pad_token_id` to `eos_token_id`:128001 for open-end generation.\n"
          ]
        },
        {
          "name": "stdout",
          "output_type": "stream",
          "text": [
            "70/100: mse: 4.1037, mae: 1.7101, rmse: 2.0258\n"
          ]
        },
        {
          "name": "stderr",
          "output_type": "stream",
          "text": [
            "\r 72%|███████▏  | 72/100 [38:17<14:05, 30.21s/it]Setting `pad_token_id` to `eos_token_id`:128001 for open-end generation.\n"
          ]
        },
        {
          "name": "stdout",
          "output_type": "stream",
          "text": [
            "71/100: mse: 21.2292, mae: 4.5680, rmse: 4.6075\n"
          ]
        },
        {
          "name": "stderr",
          "output_type": "stream",
          "text": [
            "\r 73%|███████▎  | 73/100 [38:49<13:44, 30.53s/it]Setting `pad_token_id` to `eos_token_id`:128001 for open-end generation.\n"
          ]
        },
        {
          "name": "stdout",
          "output_type": "stream",
          "text": [
            "train-00000-of-00001.parquet failed mse  530.1788382917922\n"
          ]
        },
        {
          "name": "stderr",
          "output_type": "stream",
          "text": [
            "\r 74%|███████▍  | 74/100 [39:19<13:13, 30.52s/it]Setting `pad_token_id` to `eos_token_id`:128001 for open-end generation.\n"
          ]
        },
        {
          "name": "stdout",
          "output_type": "stream",
          "text": [
            "73/100: mse: 36.8317, mae: 5.7296, rmse: 6.0689\n"
          ]
        },
        {
          "name": "stderr",
          "output_type": "stream",
          "text": [
            "\r 75%|███████▌  | 75/100 [39:52<12:57, 31.10s/it]Setting `pad_token_id` to `eos_token_id`:128001 for open-end generation.\n"
          ]
        },
        {
          "name": "stdout",
          "output_type": "stream",
          "text": [
            "74/100: mse: 32.7677, mae: 5.5852, rmse: 5.7243\n"
          ]
        },
        {
          "name": "stderr",
          "output_type": "stream",
          "text": [
            "\r 76%|███████▌  | 76/100 [40:31<13:28, 33.68s/it]Setting `pad_token_id` to `eos_token_id`:128001 for open-end generation.\n"
          ]
        },
        {
          "name": "stdout",
          "output_type": "stream",
          "text": [
            "train-00000-of-00001.parquet failed mse  142.08894413131281\n"
          ]
        },
        {
          "name": "stderr",
          "output_type": "stream",
          "text": [
            "\r 77%|███████▋  | 77/100 [41:01<12:30, 32.65s/it]Setting `pad_token_id` to `eos_token_id`:128001 for open-end generation.\n"
          ]
        },
        {
          "name": "stdout",
          "output_type": "stream",
          "text": [
            "train-00000-of-00001.parquet failed mse  394.8768473800725\n"
          ]
        },
        {
          "name": "stderr",
          "output_type": "stream",
          "text": [
            "\r 78%|███████▊  | 78/100 [41:35<12:04, 32.94s/it]Setting `pad_token_id` to `eos_token_id`:128001 for open-end generation.\n"
          ]
        },
        {
          "name": "stdout",
          "output_type": "stream",
          "text": [
            "train-00000-of-00001.parquet failed mse  2382.8822828687084\n"
          ]
        },
        {
          "name": "stderr",
          "output_type": "stream",
          "text": [
            "\r 79%|███████▉  | 79/100 [42:09<11:40, 33.36s/it]Setting `pad_token_id` to `eos_token_id`:128001 for open-end generation.\n"
          ]
        },
        {
          "name": "stdout",
          "output_type": "stream",
          "text": [
            "train-00000-of-00001.parquet failed mse  3857.781577147652\n"
          ]
        },
        {
          "name": "stderr",
          "output_type": "stream",
          "text": [
            "\r 80%|████████  | 80/100 [42:39<10:43, 32.18s/it]Setting `pad_token_id` to `eos_token_id`:128001 for open-end generation.\n"
          ]
        },
        {
          "name": "stdout",
          "output_type": "stream",
          "text": [
            "train-00000-of-00001.parquet failed mse  22297.364297731157\n"
          ]
        },
        {
          "name": "stderr",
          "output_type": "stream",
          "text": [
            "\r 81%|████████  | 81/100 [43:09<09:58, 31.52s/it]Setting `pad_token_id` to `eos_token_id`:128001 for open-end generation.\n"
          ]
        },
        {
          "name": "stdout",
          "output_type": "stream",
          "text": [
            "train-00000-of-00001.parquet failed mse  14070.155232165482\n"
          ]
        },
        {
          "name": "stderr",
          "output_type": "stream",
          "text": [
            "\r 82%|████████▏ | 82/100 [43:43<09:39, 32.22s/it]Setting `pad_token_id` to `eos_token_id`:128001 for open-end generation.\n"
          ]
        },
        {
          "name": "stdout",
          "output_type": "stream",
          "text": [
            "train-00000-of-00001.parquet failed mse  347.5001875446154\n"
          ]
        },
        {
          "name": "stderr",
          "output_type": "stream",
          "text": [
            "\r 83%|████████▎ | 83/100 [43:57<07:34, 26.75s/it]Setting `pad_token_id` to `eos_token_id`:128001 for open-end generation.\n"
          ]
        },
        {
          "name": "stdout",
          "output_type": "stream",
          "text": [
            "82/100: mse: 39.7973, mae: 3.7402, rmse: 6.3085\n"
          ]
        },
        {
          "name": "stderr",
          "output_type": "stream",
          "text": [
            "\r 84%|████████▍ | 84/100 [44:29<07:33, 28.32s/it]Setting `pad_token_id` to `eos_token_id`:128001 for open-end generation.\n"
          ]
        },
        {
          "name": "stdout",
          "output_type": "stream",
          "text": [
            "83/100: mse: 82.5262, mae: 3.4887, rmse: 9.0844\n"
          ]
        },
        {
          "name": "stderr",
          "output_type": "stream",
          "text": [
            "\r 85%|████████▌ | 85/100 [45:03<07:32, 30.19s/it]Setting `pad_token_id` to `eos_token_id`:128001 for open-end generation.\n"
          ]
        },
        {
          "name": "stdout",
          "output_type": "stream",
          "text": [
            "train-00000-of-00001.parquet failed mse  814.8793695412134\n"
          ]
        },
        {
          "name": "stderr",
          "output_type": "stream",
          "text": [
            "\r 86%|████████▌ | 86/100 [45:38<07:21, 31.50s/it]Setting `pad_token_id` to `eos_token_id`:128001 for open-end generation.\n"
          ]
        },
        {
          "name": "stdout",
          "output_type": "stream",
          "text": [
            "train-00000-of-00001.parquet failed mse  1990.6978358676297\n"
          ]
        },
        {
          "name": "stderr",
          "output_type": "stream",
          "text": [
            "\r 87%|████████▋ | 87/100 [46:12<07:01, 32.42s/it]Setting `pad_token_id` to `eos_token_id`:128001 for open-end generation.\n"
          ]
        },
        {
          "name": "stdout",
          "output_type": "stream",
          "text": [
            "86/100: mse: 2.9597, mae: 1.6059, rmse: 1.7204\n"
          ]
        },
        {
          "name": "stderr",
          "output_type": "stream",
          "text": [
            "\r 88%|████████▊ | 88/100 [46:28<05:29, 27.50s/it]Setting `pad_token_id` to `eos_token_id`:128001 for open-end generation.\n"
          ]
        },
        {
          "name": "stdout",
          "output_type": "stream",
          "text": [
            "train-00000-of-00001.parquet failed mse  162.57694877446926\n"
          ]
        },
        {
          "name": "stderr",
          "output_type": "stream",
          "text": [
            "\r 89%|████████▉ | 89/100 [47:05<05:32, 30.21s/it]Setting `pad_token_id` to `eos_token_id`:128001 for open-end generation.\n"
          ]
        },
        {
          "name": "stdout",
          "output_type": "stream",
          "text": [
            "88/100: mse: 51.0191, mae: 6.8553, rmse: 7.1428\n"
          ]
        },
        {
          "name": "stderr",
          "output_type": "stream",
          "text": [
            "\r 90%|█████████ | 90/100 [47:41<05:20, 32.04s/it]Setting `pad_token_id` to `eos_token_id`:128001 for open-end generation.\n"
          ]
        },
        {
          "name": "stdout",
          "output_type": "stream",
          "text": [
            "train-00000-of-00001.parquet failed mse  1073.6665959243728\n"
          ]
        },
        {
          "name": "stderr",
          "output_type": "stream",
          "text": [
            "\r 91%|█████████ | 91/100 [47:53<03:54, 26.04s/it]Setting `pad_token_id` to `eos_token_id`:128001 for open-end generation.\n"
          ]
        },
        {
          "name": "stdout",
          "output_type": "stream",
          "text": [
            "90/100: mse: 10.8069, mae: 2.8656, rmse: 3.2874\n"
          ]
        },
        {
          "name": "stderr",
          "output_type": "stream",
          "text": [
            "\r 92%|█████████▏| 92/100 [48:04<02:52, 21.58s/it]Setting `pad_token_id` to `eos_token_id`:128001 for open-end generation.\n"
          ]
        },
        {
          "name": "stdout",
          "output_type": "stream",
          "text": [
            "91/100: mse: 0.8414, mae: 0.6991, rmse: 0.9173\n"
          ]
        },
        {
          "name": "stderr",
          "output_type": "stream",
          "text": [
            "\r 93%|█████████▎| 93/100 [48:40<03:00, 25.82s/it]Setting `pad_token_id` to `eos_token_id`:128001 for open-end generation.\n"
          ]
        },
        {
          "name": "stdout",
          "output_type": "stream",
          "text": [
            "92/100: mse: 0.7620, mae: 0.8683, rmse: 0.8729\n"
          ]
        },
        {
          "name": "stderr",
          "output_type": "stream",
          "text": [
            "\r 94%|█████████▍| 94/100 [49:14<02:49, 28.27s/it]Setting `pad_token_id` to `eos_token_id`:128001 for open-end generation.\n"
          ]
        },
        {
          "name": "stdout",
          "output_type": "stream",
          "text": [
            "93/100: mse: 2.0777, mae: 1.4342, rmse: 1.4414\n"
          ]
        },
        {
          "name": "stderr",
          "output_type": "stream",
          "text": [
            "\r 95%|█████████▌| 95/100 [49:50<02:33, 30.67s/it]Setting `pad_token_id` to `eos_token_id`:128001 for open-end generation.\n"
          ]
        },
        {
          "name": "stdout",
          "output_type": "stream",
          "text": [
            "train-00000-of-00001.parquet failed mse  279.7078887483428\n"
          ]
        },
        {
          "name": "stderr",
          "output_type": "stream",
          "text": [
            "\r 96%|█████████▌| 96/100 [50:33<02:16, 34.13s/it]Setting `pad_token_id` to `eos_token_id`:128001 for open-end generation.\n"
          ]
        },
        {
          "name": "stdout",
          "output_type": "stream",
          "text": [
            "95/100: mse: 35.8003, mae: 5.4427, rmse: 5.9833\n"
          ]
        },
        {
          "name": "stderr",
          "output_type": "stream",
          "text": [
            "\r 97%|█████████▋| 97/100 [51:09<01:44, 34.94s/it]Setting `pad_token_id` to `eos_token_id`:128001 for open-end generation.\n"
          ]
        },
        {
          "name": "stdout",
          "output_type": "stream",
          "text": [
            "train-00000-of-00001.parquet failed mse  169.7513770421698\n"
          ]
        },
        {
          "name": "stderr",
          "output_type": "stream",
          "text": [
            "\r 98%|█████████▊| 98/100 [51:38<01:05, 32.95s/it]Setting `pad_token_id` to `eos_token_id`:128001 for open-end generation.\n"
          ]
        },
        {
          "name": "stdout",
          "output_type": "stream",
          "text": [
            "97/100: mse: 12.9530, mae: 2.8181, rmse: 3.5990\n"
          ]
        },
        {
          "name": "stderr",
          "output_type": "stream",
          "text": [
            "\r 99%|█████████▉| 99/100 [52:09<00:32, 32.33s/it]Setting `pad_token_id` to `eos_token_id`:128001 for open-end generation.\n"
          ]
        },
        {
          "name": "stdout",
          "output_type": "stream",
          "text": [
            "98/100: mse: 5.3204, mae: 1.9373, rmse: 2.3066\n"
          ]
        },
        {
          "name": "stderr",
          "output_type": "stream",
          "text": [
            "100%|██████████| 100/100 [52:38<00:00, 31.59s/it]"
          ]
        },
        {
          "name": "stdout",
          "output_type": "stream",
          "text": [
            "train-00000-of-00001.parquet failed mse  7915.408537178479\n",
            "Processing complete. Results saved to MTBench-Test/llama/tsforecast_long_combined/final_results.json\n"
          ]
        },
        {
          "name": "stderr",
          "output_type": "stream",
          "text": [
            "\n"
          ]
        }
      ],
      "source": [
        "parser = argparse.ArgumentParser()\n",
        "parser.add_argument(\"--dataset_path\", type=str, help=\"path to the dataset\")\n",
        "parser.add_argument(\"--save_path\", type=str, help=\"path to save the results\")\n",
        "parser.add_argument(\"--indicator\", default=\"macd\", type=str, help=\"macd, bb, or time\")\n",
        "parser.add_argument(\"--model_type\",  type=str, help=\"deepseek or llama\")\n",
        "parser.add_argument(\"--model\",  type=str, help=\"model name\")\n",
        "parser.add_argument(\n",
        "    \"--mode\",\n",
        "    type=str,\n",
        "    default=\"combined\",\n",
        "    help=\"choose from timeseries_only, text_only, combined\",\n",
        ")\n",
        "args = parser.parse_args()\n",
        "\n",
        "save_path = Path(args.save_path)\n",
        "details_path = save_path / \"output_details\"\n",
        "visualizations_path = save_path / \"visualizations\"\n",
        "details_path.mkdir(parents=True, exist_ok=True)\n",
        "visualizations_path.mkdir(parents=True, exist_ok=True)\n",
        "\n",
        "data_list = []\n",
        "df = pd.read_parquet(args.dataset_path)\n",
        "filename = Path(args.dataset_path).name\n",
        "\n",
        "df[\"text\"] = df[\"text\"].apply(lambda x: json.loads(x) if isinstance(x, str) else x)\n",
        "df[\"technical\"] = df[\"technical\"].apply(lambda x: json.loads(x) if isinstance(x, str) else x)\n",
        "\n",
        "for col in [\"input_window\", \"output_window\", \"input_timestamps\"]:\n",
        "    df[col] = df[col].apply(lambda x: x.tolist() if isinstance(x, np.ndarray) else x)\n",
        "\n",
        "for _, row in df.iterrows():\n",
        "    text = row[\"text\"]\n",
        "    technical = row[\"technical\"]\n",
        "\n",
        "    extracted_data = {\n",
        "        \"filename\": filename,\n",
        "        \"input_window\": row[\"input_window\"],\n",
        "        \"output_window\": row[\"output_window\"],\n",
        "        \"text\": text[\"content\"],\n",
        "        \"input_timestamps\": row[\"input_timestamps\"],\n",
        "        \"in_macd\": technical.get(\"in_macd\"),\n",
        "        \"out_macd\": technical.get(\"out_macd\"),\n",
        "        \"in_upper_bb\": technical.get(\"in_upper_bb\"),\n",
        "        \"out_upper_bb\": technical.get(\"out_upper_bb\"),\n",
        "    }\n",
        "\n",
        "    data_list.append(extracted_data)\n",
        "data_list = data_list[:100]\n",
        "\n",
        "model = ModelFactory.get_model(model_type=args.model_type, model_name=args.model)\n",
        "\n",
        "result_list = []\n",
        "tot_samples = len(data_list)\n",
        "print(f\"Evaluating {tot_samples} samples...\")\n",
        "\n",
        "epoch_results = []\n",
        "cumulative_mse, cumulative_mae, cumulative_rmse, cumulative_mape = [], [], [], []\n",
        "for idx, sample in tqdm(enumerate(data_list), total=tot_samples):\n",
        "    try:\n",
        "        datetime_list = [\n",
        "            datetime.fromtimestamp(s).strftime(\"%Y-%m-%d %H:%M:%S\")\n",
        "            for s in sample[\"input_timestamps\"]\n",
        "        ]\n",
        "        text = sample[\"text\"]\n",
        "        input_ts = sample[\"input_window\"]\n",
        "        granularity_string = format_time_difference(\n",
        "            sample[\"input_timestamps\"][1] - sample[\"input_timestamps\"][0]\n",
        "        )\n",
        "\n",
        "        if args.indicator == \"macd\":\n",
        "            output_ts = sample[\"out_macd\"]\n",
        "            designed_prompt = finance_macd_metaprompt_generation(\n",
        "                text=text,\n",
        "                prices=input_ts,\n",
        "                start_datetime=datetime_list[0],\n",
        "                end_datetime=datetime_list[-1],\n",
        "                pred_end_datetime=output_ts[-1],\n",
        "                granularity=granularity_string,\n",
        "                prediction_length=len(output_ts),\n",
        "                mode=args.mode,\n",
        "            )\n",
        "        elif args.indicator == \"bb\":\n",
        "            output_ts = sample[\"out_upper_bb\"]\n",
        "            designed_prompt = finance_bb_metaprompt_generation(\n",
        "                text=text,\n",
        "                prices=input_ts,\n",
        "                start_datetime=datetime_list[0],\n",
        "                end_datetime=datetime_list[-1],\n",
        "                pred_end_datetime=output_ts[-1],\n",
        "                granularity=granularity_string,\n",
        "                prediction_length=len(output_ts),\n",
        "                mode=args.mode,\n",
        "            )\n",
        "        elif args.indicator == \"time\":\n",
        "            output_ts = sample[\"output_window\"]\n",
        "            designed_prompt = finance_mse_metaprompt_generation(\n",
        "                text=text,\n",
        "                prices=input_ts,\n",
        "                start_datetime=datetime_list[0],\n",
        "                end_datetime=datetime_list[-1],\n",
        "                pred_end_datetime=output_ts[-1],\n",
        "                granularity=granularity_string,\n",
        "                prediction_length=len(output_ts),\n",
        "                mode=args.mode,\n",
        "            )\n",
        "\n",
        "        answer = model.inference(designed_prompt)\n",
        "        answer = answer.strip().replace('\"', '')\n",
        "\n",
        "        predict_ts = parse_val_prediction_response(answer)\n",
        "        predict_ts_orig = predict_ts\n",
        "        predict_ts = np.interp( # type: ignore\n",
        "            np.linspace(0, 1, len(output_ts)),\n",
        "            np.linspace(0, 1, len(predict_ts)),\n",
        "            predict_ts\n",
        "        )\n",
        "\n",
        "        res = {\n",
        "            \"filename\": sample[\"filename\"],\n",
        "            \"response\": answer,\n",
        "            \"ground_truth\": output_ts,\n",
        "            \"predict\": predict_ts.tolist(),\n",
        "        }\n",
        "        result_list.append(res)\n",
        "\n",
        "        save_to_json(res, details_path / sample[\"filename\"])\n",
        "\n",
        "        if args.indicator == \"macd\":\n",
        "            first_half = sample[\"in_macd\"]\n",
        "        elif args.indicator == \"bb\":\n",
        "            first_half = sample[\"in_upper_bb\"]\n",
        "        elif args.indicator == \"time\":\n",
        "            first_half = sample[\"input_window\"]\n",
        "        plot_series(sample[\"filename\"], first_half, output_ts, predict_ts_orig, visualizations_path)\n",
        "\n",
        "        mse = np.mean((np.array(output_ts) - np.array(predict_ts)) ** 2)\n",
        "        mae = np.mean(np.abs(np.array(output_ts) - np.array(predict_ts)))\n",
        "        rmse = np.sqrt(mse)\n",
        "        mape = calculate_mape(output_ts, predict_ts)\n",
        "\n",
        "        if args.indicator == \"macd\" and mse > 10:\n",
        "            print(f\"{sample['filename']} failed mse\", mse)\n",
        "            epoch_results.append({\n",
        "                \"filename\": sample[\"filename\"],\n",
        "                \"failed\": True,\n",
        "                \"epoch\": idx + 1,\n",
        "                \"mse\": mse,\n",
        "                \"mae\": mae,\n",
        "                \"rmse\": rmse,\n",
        "                \"mape\": mape,\n",
        "            })\n",
        "            continue\n",
        "\n",
        "        if args.indicator == \"time\" and mse > 100:\n",
        "            print(f\"{sample['filename']} failed mse \", mse)\n",
        "            epoch_results.append({\n",
        "                \"filename\": sample[\"filename\"],\n",
        "                \"failed\": True,\n",
        "                \"epoch\": idx + 1,\n",
        "                \"mse\": mse,\n",
        "                \"mae\": mae,\n",
        "                \"rmse\": rmse,\n",
        "                \"mape\": mape,\n",
        "            })\n",
        "            continue\n",
        "\n",
        "        if args.indicator == \"bb\" and mse > 100:\n",
        "            print(f\"{sample['filename']} failed mse \", mse)\n",
        "            epoch_results.append({\n",
        "                \"filename\": sample[\"filename\"],\n",
        "                \"failed\": True,\n",
        "                \"epoch\": idx + 1,\n",
        "                \"mse\": mse,\n",
        "                \"mae\": mae,\n",
        "                \"rmse\": rmse,\n",
        "                \"mape\": mape,\n",
        "            })\n",
        "            continue\n",
        "\n",
        "        cumulative_mse.append(mse)\n",
        "        cumulative_mae.append(mae)\n",
        "        cumulative_rmse.append(rmse)\n",
        "        cumulative_mape.append(mape)\n",
        "\n",
        "        epoch_results.append({\n",
        "            \"filename\": sample[\"filename\"],\n",
        "            \"epoch\": idx + 1,\n",
        "            \"mse\": mse,\n",
        "            \"mae\": mae,\n",
        "            \"rmse\": rmse,\n",
        "            \"mape\": mape,\n",
        "            \"mean_mse\": np.mean(cumulative_mse),\n",
        "            \"mean_mae\": np.mean(cumulative_mae),\n",
        "            \"mean_rmse\": np.mean(cumulative_rmse),\n",
        "            \"mean_mape\": np.mean(cumulative_mape),\n",
        "        })\n",
        "        save_to_json(epoch_results, f\"{save_path}/epoch_results.json\")\n",
        "        print(\n",
        "            \"{}/{}: mse: {:.4f}, mae: {:.4f}, rmse: {:.4f}\".format(\n",
        "                idx, tot_samples, mse, mae, rmse\n",
        "            )\n",
        "        )\n",
        "    except Exception as e:\n",
        "        print(f\"Skipping {idx} due to error: {e}\")\n",
        "\n",
        "\n",
        "summary = {\n",
        "    \"total_samples\": len(result_list),\n",
        "    \"mse\": np.mean(cumulative_mse),\n",
        "    \"mae\": np.mean(cumulative_mae),\n",
        "    \"rmse\": np.mean(cumulative_rmse),\n",
        "    \"mape\": np.mean(cumulative_mape),\n",
        "}\n",
        "\n",
        "save_to_json(summary, f\"{save_path}/final_results.json\")\n",
        "print(f\"Processing complete. Results saved to {save_path}/final_results.json\")"
      ]
    }
  ],
  "metadata": {
    "accelerator": "GPU",
    "colab": {
      "gpuType": "T4",
      "provenance": []
    },
    "kernelspec": {
      "display_name": "Python 3",
      "name": "python3"
    },
    "language_info": {
      "name": "python"
    },
    "widgets": {
      "application/vnd.jupyter.widget-state+json": {
        "0653090032d04323b4e2591be2994294": {
          "model_module": "@jupyter-widgets/base",
          "model_module_version": "1.2.0",
          "model_name": "LayoutModel",
          "state": {
            "_model_module": "@jupyter-widgets/base",
            "_model_module_version": "1.2.0",
            "_model_name": "LayoutModel",
            "_view_count": null,
            "_view_module": "@jupyter-widgets/base",
            "_view_module_version": "1.2.0",
            "_view_name": "LayoutView",
            "align_content": null,
            "align_items": null,
            "align_self": null,
            "border": null,
            "bottom": null,
            "display": null,
            "flex": null,
            "flex_flow": null,
            "grid_area": null,
            "grid_auto_columns": null,
            "grid_auto_flow": null,
            "grid_auto_rows": null,
            "grid_column": null,
            "grid_gap": null,
            "grid_row": null,
            "grid_template_areas": null,
            "grid_template_columns": null,
            "grid_template_rows": null,
            "height": null,
            "justify_content": null,
            "justify_items": null,
            "left": null,
            "margin": null,
            "max_height": null,
            "max_width": null,
            "min_height": null,
            "min_width": null,
            "object_fit": null,
            "object_position": null,
            "order": null,
            "overflow": null,
            "overflow_x": null,
            "overflow_y": null,
            "padding": null,
            "right": null,
            "top": null,
            "visibility": null,
            "width": null
          }
        },
        "0cf4454fab2448dfa24fcf531d3a426c": {
          "model_module": "@jupyter-widgets/controls",
          "model_module_version": "1.5.0",
          "model_name": "DescriptionStyleModel",
          "state": {
            "_model_module": "@jupyter-widgets/controls",
            "_model_module_version": "1.5.0",
            "_model_name": "DescriptionStyleModel",
            "_view_count": null,
            "_view_module": "@jupyter-widgets/base",
            "_view_module_version": "1.2.0",
            "_view_name": "StyleView",
            "description_width": ""
          }
        },
        "1407734e706b40c5b286f6184109e411": {
          "model_module": "@jupyter-widgets/controls",
          "model_module_version": "1.5.0",
          "model_name": "DescriptionStyleModel",
          "state": {
            "_model_module": "@jupyter-widgets/controls",
            "_model_module_version": "1.5.0",
            "_model_name": "DescriptionStyleModel",
            "_view_count": null,
            "_view_module": "@jupyter-widgets/base",
            "_view_module_version": "1.2.0",
            "_view_name": "StyleView",
            "description_width": ""
          }
        },
        "156693765cd04903b0de478be0cb8767": {
          "model_module": "@jupyter-widgets/controls",
          "model_module_version": "1.5.0",
          "model_name": "DescriptionStyleModel",
          "state": {
            "_model_module": "@jupyter-widgets/controls",
            "_model_module_version": "1.5.0",
            "_model_name": "DescriptionStyleModel",
            "_view_count": null,
            "_view_module": "@jupyter-widgets/base",
            "_view_module_version": "1.2.0",
            "_view_name": "StyleView",
            "description_width": ""
          }
        },
        "15dd51ed82364ce38ec9102e8f8d055a": {
          "model_module": "@jupyter-widgets/controls",
          "model_module_version": "1.5.0",
          "model_name": "DescriptionStyleModel",
          "state": {
            "_model_module": "@jupyter-widgets/controls",
            "_model_module_version": "1.5.0",
            "_model_name": "DescriptionStyleModel",
            "_view_count": null,
            "_view_module": "@jupyter-widgets/base",
            "_view_module_version": "1.2.0",
            "_view_name": "StyleView",
            "description_width": ""
          }
        },
        "194018e3c5e745529bc08c9675dc3a8b": {
          "model_module": "@jupyter-widgets/controls",
          "model_module_version": "1.5.0",
          "model_name": "FloatProgressModel",
          "state": {
            "_dom_classes": [],
            "_model_module": "@jupyter-widgets/controls",
            "_model_module_version": "1.5.0",
            "_model_name": "FloatProgressModel",
            "_view_count": null,
            "_view_module": "@jupyter-widgets/controls",
            "_view_module_version": "1.5.0",
            "_view_name": "ProgressView",
            "bar_style": "success",
            "description": "",
            "description_tooltip": null,
            "layout": "IPY_MODEL_e848e2f9d4c340f192504b063adf81db",
            "max": 2471645608,
            "min": 0,
            "orientation": "horizontal",
            "style": "IPY_MODEL_b3da123ca89a4e748afab46a71f2b8bf",
            "value": 2471645608
          }
        },
        "1a3e7d6f7c0d47b590fa99ab75b0cc00": {
          "model_module": "@jupyter-widgets/base",
          "model_module_version": "1.2.0",
          "model_name": "LayoutModel",
          "state": {
            "_model_module": "@jupyter-widgets/base",
            "_model_module_version": "1.2.0",
            "_model_name": "LayoutModel",
            "_view_count": null,
            "_view_module": "@jupyter-widgets/base",
            "_view_module_version": "1.2.0",
            "_view_name": "LayoutView",
            "align_content": null,
            "align_items": null,
            "align_self": null,
            "border": null,
            "bottom": null,
            "display": null,
            "flex": null,
            "flex_flow": null,
            "grid_area": null,
            "grid_auto_columns": null,
            "grid_auto_flow": null,
            "grid_auto_rows": null,
            "grid_column": null,
            "grid_gap": null,
            "grid_row": null,
            "grid_template_areas": null,
            "grid_template_columns": null,
            "grid_template_rows": null,
            "height": null,
            "justify_content": null,
            "justify_items": null,
            "left": null,
            "margin": null,
            "max_height": null,
            "max_width": null,
            "min_height": null,
            "min_width": null,
            "object_fit": null,
            "object_position": null,
            "order": null,
            "overflow": null,
            "overflow_x": null,
            "overflow_y": null,
            "padding": null,
            "right": null,
            "top": null,
            "visibility": null,
            "width": null
          }
        },
        "2041059f29a34ae9b5c69bf7f7a467be": {
          "model_module": "@jupyter-widgets/controls",
          "model_module_version": "1.5.0",
          "model_name": "FloatProgressModel",
          "state": {
            "_dom_classes": [],
            "_model_module": "@jupyter-widgets/controls",
            "_model_module_version": "1.5.0",
            "_model_name": "FloatProgressModel",
            "_view_count": null,
            "_view_module": "@jupyter-widgets/controls",
            "_view_module_version": "1.5.0",
            "_view_name": "ProgressView",
            "bar_style": "success",
            "description": "",
            "description_tooltip": null,
            "layout": "IPY_MODEL_50cf812178ff492baa21af0bbd1aff61",
            "max": 189,
            "min": 0,
            "orientation": "horizontal",
            "style": "IPY_MODEL_7b78da2d810d49b2bd4e1f613fb9d3ab",
            "value": 189
          }
        },
        "2727c78ff9404977b007c3738fa1bf5f": {
          "model_module": "@jupyter-widgets/controls",
          "model_module_version": "1.5.0",
          "model_name": "HTMLModel",
          "state": {
            "_dom_classes": [],
            "_model_module": "@jupyter-widgets/controls",
            "_model_module_version": "1.5.0",
            "_model_name": "HTMLModel",
            "_view_count": null,
            "_view_module": "@jupyter-widgets/controls",
            "_view_module_version": "1.5.0",
            "_view_name": "HTMLView",
            "description": "",
            "description_tooltip": null,
            "layout": "IPY_MODEL_3ef14e4fe3f142d7b541d3c93e37da98",
            "placeholder": "​",
            "style": "IPY_MODEL_0cf4454fab2448dfa24fcf531d3a426c",
            "value": "generation_config.json: 100%"
          }
        },
        "2f4a8fc4bea34fc7b13b9473c3f91886": {
          "model_module": "@jupyter-widgets/controls",
          "model_module_version": "1.5.0",
          "model_name": "DescriptionStyleModel",
          "state": {
            "_model_module": "@jupyter-widgets/controls",
            "_model_module_version": "1.5.0",
            "_model_name": "DescriptionStyleModel",
            "_view_count": null,
            "_view_module": "@jupyter-widgets/base",
            "_view_module_version": "1.2.0",
            "_view_name": "StyleView",
            "description_width": ""
          }
        },
        "3b848984bf5f45f6ba4403af3441a3bc": {
          "model_module": "@jupyter-widgets/base",
          "model_module_version": "1.2.0",
          "model_name": "LayoutModel",
          "state": {
            "_model_module": "@jupyter-widgets/base",
            "_model_module_version": "1.2.0",
            "_model_name": "LayoutModel",
            "_view_count": null,
            "_view_module": "@jupyter-widgets/base",
            "_view_module_version": "1.2.0",
            "_view_name": "LayoutView",
            "align_content": null,
            "align_items": null,
            "align_self": null,
            "border": null,
            "bottom": null,
            "display": null,
            "flex": null,
            "flex_flow": null,
            "grid_area": null,
            "grid_auto_columns": null,
            "grid_auto_flow": null,
            "grid_auto_rows": null,
            "grid_column": null,
            "grid_gap": null,
            "grid_row": null,
            "grid_template_areas": null,
            "grid_template_columns": null,
            "grid_template_rows": null,
            "height": null,
            "justify_content": null,
            "justify_items": null,
            "left": null,
            "margin": null,
            "max_height": null,
            "max_width": null,
            "min_height": null,
            "min_width": null,
            "object_fit": null,
            "object_position": null,
            "order": null,
            "overflow": null,
            "overflow_x": null,
            "overflow_y": null,
            "padding": null,
            "right": null,
            "top": null,
            "visibility": null,
            "width": null
          }
        },
        "3ef14e4fe3f142d7b541d3c93e37da98": {
          "model_module": "@jupyter-widgets/base",
          "model_module_version": "1.2.0",
          "model_name": "LayoutModel",
          "state": {
            "_model_module": "@jupyter-widgets/base",
            "_model_module_version": "1.2.0",
            "_model_name": "LayoutModel",
            "_view_count": null,
            "_view_module": "@jupyter-widgets/base",
            "_view_module_version": "1.2.0",
            "_view_name": "LayoutView",
            "align_content": null,
            "align_items": null,
            "align_self": null,
            "border": null,
            "bottom": null,
            "display": null,
            "flex": null,
            "flex_flow": null,
            "grid_area": null,
            "grid_auto_columns": null,
            "grid_auto_flow": null,
            "grid_auto_rows": null,
            "grid_column": null,
            "grid_gap": null,
            "grid_row": null,
            "grid_template_areas": null,
            "grid_template_columns": null,
            "grid_template_rows": null,
            "height": null,
            "justify_content": null,
            "justify_items": null,
            "left": null,
            "margin": null,
            "max_height": null,
            "max_width": null,
            "min_height": null,
            "min_width": null,
            "object_fit": null,
            "object_position": null,
            "order": null,
            "overflow": null,
            "overflow_x": null,
            "overflow_y": null,
            "padding": null,
            "right": null,
            "top": null,
            "visibility": null,
            "width": null
          }
        },
        "41761f43919b4daea163767f544e60d9": {
          "model_module": "@jupyter-widgets/base",
          "model_module_version": "1.2.0",
          "model_name": "LayoutModel",
          "state": {
            "_model_module": "@jupyter-widgets/base",
            "_model_module_version": "1.2.0",
            "_model_name": "LayoutModel",
            "_view_count": null,
            "_view_module": "@jupyter-widgets/base",
            "_view_module_version": "1.2.0",
            "_view_name": "LayoutView",
            "align_content": null,
            "align_items": null,
            "align_self": null,
            "border": null,
            "bottom": null,
            "display": null,
            "flex": null,
            "flex_flow": null,
            "grid_area": null,
            "grid_auto_columns": null,
            "grid_auto_flow": null,
            "grid_auto_rows": null,
            "grid_column": null,
            "grid_gap": null,
            "grid_row": null,
            "grid_template_areas": null,
            "grid_template_columns": null,
            "grid_template_rows": null,
            "height": null,
            "justify_content": null,
            "justify_items": null,
            "left": null,
            "margin": null,
            "max_height": null,
            "max_width": null,
            "min_height": null,
            "min_width": null,
            "object_fit": null,
            "object_position": null,
            "order": null,
            "overflow": null,
            "overflow_x": null,
            "overflow_y": null,
            "padding": null,
            "right": null,
            "top": null,
            "visibility": null,
            "width": null
          }
        },
        "47f34e7e5e6544c383e65ba246e22512": {
          "model_module": "@jupyter-widgets/controls",
          "model_module_version": "1.5.0",
          "model_name": "HTMLModel",
          "state": {
            "_dom_classes": [],
            "_model_module": "@jupyter-widgets/controls",
            "_model_module_version": "1.5.0",
            "_model_name": "HTMLModel",
            "_view_count": null,
            "_view_module": "@jupyter-widgets/controls",
            "_view_module_version": "1.5.0",
            "_view_name": "HTMLView",
            "description": "",
            "description_tooltip": null,
            "layout": "IPY_MODEL_1a3e7d6f7c0d47b590fa99ab75b0cc00",
            "placeholder": "​",
            "style": "IPY_MODEL_826697cb2032434d8717c69e39ddbf3b",
            "value": " 9.09M/9.09M [00:01&lt;00:00, 5.23MB/s]"
          }
        },
        "492ae5de9a884b848d4e7b9d66bc676c": {
          "model_module": "@jupyter-widgets/controls",
          "model_module_version": "1.5.0",
          "model_name": "HTMLModel",
          "state": {
            "_dom_classes": [],
            "_model_module": "@jupyter-widgets/controls",
            "_model_module_version": "1.5.0",
            "_model_name": "HTMLModel",
            "_view_count": null,
            "_view_module": "@jupyter-widgets/controls",
            "_view_module_version": "1.5.0",
            "_view_name": "HTMLView",
            "description": "",
            "description_tooltip": null,
            "layout": "IPY_MODEL_b7b59de3b8bc42d49b7b2f783df719b4",
            "placeholder": "​",
            "style": "IPY_MODEL_15dd51ed82364ce38ec9102e8f8d055a",
            "value": "tokenizer.json: 100%"
          }
        },
        "4d6861c9e56640779525733192b98da3": {
          "model_module": "@jupyter-widgets/controls",
          "model_module_version": "1.5.0",
          "model_name": "HTMLModel",
          "state": {
            "_dom_classes": [],
            "_model_module": "@jupyter-widgets/controls",
            "_model_module_version": "1.5.0",
            "_model_name": "HTMLModel",
            "_view_count": null,
            "_view_module": "@jupyter-widgets/controls",
            "_view_module_version": "1.5.0",
            "_view_name": "HTMLView",
            "description": "",
            "description_tooltip": null,
            "layout": "IPY_MODEL_d0fa2d106fa54c948e325ab8b028429f",
            "placeholder": "​",
            "style": "IPY_MODEL_b86d27a598124eb18397876e5736a112",
            "value": "model.safetensors: 100%"
          }
        },
        "501e8473e6654591a51d02a5b949c10c": {
          "model_module": "@jupyter-widgets/controls",
          "model_module_version": "1.5.0",
          "model_name": "HBoxModel",
          "state": {
            "_dom_classes": [],
            "_model_module": "@jupyter-widgets/controls",
            "_model_module_version": "1.5.0",
            "_model_name": "HBoxModel",
            "_view_count": null,
            "_view_module": "@jupyter-widgets/controls",
            "_view_module_version": "1.5.0",
            "_view_name": "HBoxView",
            "box_style": "",
            "children": [
              "IPY_MODEL_4d6861c9e56640779525733192b98da3",
              "IPY_MODEL_194018e3c5e745529bc08c9675dc3a8b",
              "IPY_MODEL_7f3cb62f5dc14d16a5435cba095c5e26"
            ],
            "layout": "IPY_MODEL_53ef7fa75a6e45a4a23af9ccd29d5881"
          }
        },
        "5040420bb08a4a33b7b230e85852af99": {
          "model_module": "@jupyter-widgets/controls",
          "model_module_version": "1.5.0",
          "model_name": "DescriptionStyleModel",
          "state": {
            "_model_module": "@jupyter-widgets/controls",
            "_model_module_version": "1.5.0",
            "_model_name": "DescriptionStyleModel",
            "_view_count": null,
            "_view_module": "@jupyter-widgets/base",
            "_view_module_version": "1.2.0",
            "_view_name": "StyleView",
            "description_width": ""
          }
        },
        "50cf812178ff492baa21af0bbd1aff61": {
          "model_module": "@jupyter-widgets/base",
          "model_module_version": "1.2.0",
          "model_name": "LayoutModel",
          "state": {
            "_model_module": "@jupyter-widgets/base",
            "_model_module_version": "1.2.0",
            "_model_name": "LayoutModel",
            "_view_count": null,
            "_view_module": "@jupyter-widgets/base",
            "_view_module_version": "1.2.0",
            "_view_name": "LayoutView",
            "align_content": null,
            "align_items": null,
            "align_self": null,
            "border": null,
            "bottom": null,
            "display": null,
            "flex": null,
            "flex_flow": null,
            "grid_area": null,
            "grid_auto_columns": null,
            "grid_auto_flow": null,
            "grid_auto_rows": null,
            "grid_column": null,
            "grid_gap": null,
            "grid_row": null,
            "grid_template_areas": null,
            "grid_template_columns": null,
            "grid_template_rows": null,
            "height": null,
            "justify_content": null,
            "justify_items": null,
            "left": null,
            "margin": null,
            "max_height": null,
            "max_width": null,
            "min_height": null,
            "min_width": null,
            "object_fit": null,
            "object_position": null,
            "order": null,
            "overflow": null,
            "overflow_x": null,
            "overflow_y": null,
            "padding": null,
            "right": null,
            "top": null,
            "visibility": null,
            "width": null
          }
        },
        "53ef7fa75a6e45a4a23af9ccd29d5881": {
          "model_module": "@jupyter-widgets/base",
          "model_module_version": "1.2.0",
          "model_name": "LayoutModel",
          "state": {
            "_model_module": "@jupyter-widgets/base",
            "_model_module_version": "1.2.0",
            "_model_name": "LayoutModel",
            "_view_count": null,
            "_view_module": "@jupyter-widgets/base",
            "_view_module_version": "1.2.0",
            "_view_name": "LayoutView",
            "align_content": null,
            "align_items": null,
            "align_self": null,
            "border": null,
            "bottom": null,
            "display": null,
            "flex": null,
            "flex_flow": null,
            "grid_area": null,
            "grid_auto_columns": null,
            "grid_auto_flow": null,
            "grid_auto_rows": null,
            "grid_column": null,
            "grid_gap": null,
            "grid_row": null,
            "grid_template_areas": null,
            "grid_template_columns": null,
            "grid_template_rows": null,
            "height": null,
            "justify_content": null,
            "justify_items": null,
            "left": null,
            "margin": null,
            "max_height": null,
            "max_width": null,
            "min_height": null,
            "min_width": null,
            "object_fit": null,
            "object_position": null,
            "order": null,
            "overflow": null,
            "overflow_x": null,
            "overflow_y": null,
            "padding": null,
            "right": null,
            "top": null,
            "visibility": null,
            "width": null
          }
        },
        "62317bc56dac450ca9c614c525041f6e": {
          "model_module": "@jupyter-widgets/controls",
          "model_module_version": "1.5.0",
          "model_name": "HBoxModel",
          "state": {
            "_dom_classes": [],
            "_model_module": "@jupyter-widgets/controls",
            "_model_module_version": "1.5.0",
            "_model_name": "HBoxModel",
            "_view_count": null,
            "_view_module": "@jupyter-widgets/controls",
            "_view_module_version": "1.5.0",
            "_view_name": "HBoxView",
            "box_style": "",
            "children": [
              "IPY_MODEL_492ae5de9a884b848d4e7b9d66bc676c",
              "IPY_MODEL_67614b125897460cbc992949a14d4275",
              "IPY_MODEL_47f34e7e5e6544c383e65ba246e22512"
            ],
            "layout": "IPY_MODEL_b1d78059272b40a7bcf7bb8e435efe8d"
          }
        },
        "63623fd1f54e41b59cba140fa7efcd04": {
          "model_module": "@jupyter-widgets/controls",
          "model_module_version": "1.5.0",
          "model_name": "ProgressStyleModel",
          "state": {
            "_model_module": "@jupyter-widgets/controls",
            "_model_module_version": "1.5.0",
            "_model_name": "ProgressStyleModel",
            "_view_count": null,
            "_view_module": "@jupyter-widgets/base",
            "_view_module_version": "1.2.0",
            "_view_name": "StyleView",
            "bar_color": null,
            "description_width": ""
          }
        },
        "638c8526caee4341b30d42a0fb2115f0": {
          "model_module": "@jupyter-widgets/base",
          "model_module_version": "1.2.0",
          "model_name": "LayoutModel",
          "state": {
            "_model_module": "@jupyter-widgets/base",
            "_model_module_version": "1.2.0",
            "_model_name": "LayoutModel",
            "_view_count": null,
            "_view_module": "@jupyter-widgets/base",
            "_view_module_version": "1.2.0",
            "_view_name": "LayoutView",
            "align_content": null,
            "align_items": null,
            "align_self": null,
            "border": null,
            "bottom": null,
            "display": null,
            "flex": null,
            "flex_flow": null,
            "grid_area": null,
            "grid_auto_columns": null,
            "grid_auto_flow": null,
            "grid_auto_rows": null,
            "grid_column": null,
            "grid_gap": null,
            "grid_row": null,
            "grid_template_areas": null,
            "grid_template_columns": null,
            "grid_template_rows": null,
            "height": null,
            "justify_content": null,
            "justify_items": null,
            "left": null,
            "margin": null,
            "max_height": null,
            "max_width": null,
            "min_height": null,
            "min_width": null,
            "object_fit": null,
            "object_position": null,
            "order": null,
            "overflow": null,
            "overflow_x": null,
            "overflow_y": null,
            "padding": null,
            "right": null,
            "top": null,
            "visibility": null,
            "width": null
          }
        },
        "67614b125897460cbc992949a14d4275": {
          "model_module": "@jupyter-widgets/controls",
          "model_module_version": "1.5.0",
          "model_name": "FloatProgressModel",
          "state": {
            "_dom_classes": [],
            "_model_module": "@jupyter-widgets/controls",
            "_model_module_version": "1.5.0",
            "_model_name": "FloatProgressModel",
            "_view_count": null,
            "_view_module": "@jupyter-widgets/controls",
            "_view_module_version": "1.5.0",
            "_view_name": "ProgressView",
            "bar_style": "success",
            "description": "",
            "description_tooltip": null,
            "layout": "IPY_MODEL_3b848984bf5f45f6ba4403af3441a3bc",
            "max": 9085657,
            "min": 0,
            "orientation": "horizontal",
            "style": "IPY_MODEL_63623fd1f54e41b59cba140fa7efcd04",
            "value": 9085657
          }
        },
        "69a6e416dba4456580cfce648d0f9b5b": {
          "model_module": "@jupyter-widgets/base",
          "model_module_version": "1.2.0",
          "model_name": "LayoutModel",
          "state": {
            "_model_module": "@jupyter-widgets/base",
            "_model_module_version": "1.2.0",
            "_model_name": "LayoutModel",
            "_view_count": null,
            "_view_module": "@jupyter-widgets/base",
            "_view_module_version": "1.2.0",
            "_view_name": "LayoutView",
            "align_content": null,
            "align_items": null,
            "align_self": null,
            "border": null,
            "bottom": null,
            "display": null,
            "flex": null,
            "flex_flow": null,
            "grid_area": null,
            "grid_auto_columns": null,
            "grid_auto_flow": null,
            "grid_auto_rows": null,
            "grid_column": null,
            "grid_gap": null,
            "grid_row": null,
            "grid_template_areas": null,
            "grid_template_columns": null,
            "grid_template_rows": null,
            "height": null,
            "justify_content": null,
            "justify_items": null,
            "left": null,
            "margin": null,
            "max_height": null,
            "max_width": null,
            "min_height": null,
            "min_width": null,
            "object_fit": null,
            "object_position": null,
            "order": null,
            "overflow": null,
            "overflow_x": null,
            "overflow_y": null,
            "padding": null,
            "right": null,
            "top": null,
            "visibility": null,
            "width": null
          }
        },
        "6e85a04e90fa4e90a4fd9a359b91682b": {
          "model_module": "@jupyter-widgets/base",
          "model_module_version": "1.2.0",
          "model_name": "LayoutModel",
          "state": {
            "_model_module": "@jupyter-widgets/base",
            "_model_module_version": "1.2.0",
            "_model_name": "LayoutModel",
            "_view_count": null,
            "_view_module": "@jupyter-widgets/base",
            "_view_module_version": "1.2.0",
            "_view_name": "LayoutView",
            "align_content": null,
            "align_items": null,
            "align_self": null,
            "border": null,
            "bottom": null,
            "display": null,
            "flex": null,
            "flex_flow": null,
            "grid_area": null,
            "grid_auto_columns": null,
            "grid_auto_flow": null,
            "grid_auto_rows": null,
            "grid_column": null,
            "grid_gap": null,
            "grid_row": null,
            "grid_template_areas": null,
            "grid_template_columns": null,
            "grid_template_rows": null,
            "height": null,
            "justify_content": null,
            "justify_items": null,
            "left": null,
            "margin": null,
            "max_height": null,
            "max_width": null,
            "min_height": null,
            "min_width": null,
            "object_fit": null,
            "object_position": null,
            "order": null,
            "overflow": null,
            "overflow_x": null,
            "overflow_y": null,
            "padding": null,
            "right": null,
            "top": null,
            "visibility": null,
            "width": null
          }
        },
        "71bb41965f2240ec8337152add5bb258": {
          "model_module": "@jupyter-widgets/controls",
          "model_module_version": "1.5.0",
          "model_name": "ProgressStyleModel",
          "state": {
            "_model_module": "@jupyter-widgets/controls",
            "_model_module_version": "1.5.0",
            "_model_name": "ProgressStyleModel",
            "_view_count": null,
            "_view_module": "@jupyter-widgets/base",
            "_view_module_version": "1.2.0",
            "_view_name": "StyleView",
            "bar_color": null,
            "description_width": ""
          }
        },
        "797598f0171f437ab64c4d8dfde476a8": {
          "model_module": "@jupyter-widgets/base",
          "model_module_version": "1.2.0",
          "model_name": "LayoutModel",
          "state": {
            "_model_module": "@jupyter-widgets/base",
            "_model_module_version": "1.2.0",
            "_model_name": "LayoutModel",
            "_view_count": null,
            "_view_module": "@jupyter-widgets/base",
            "_view_module_version": "1.2.0",
            "_view_name": "LayoutView",
            "align_content": null,
            "align_items": null,
            "align_self": null,
            "border": null,
            "bottom": null,
            "display": null,
            "flex": null,
            "flex_flow": null,
            "grid_area": null,
            "grid_auto_columns": null,
            "grid_auto_flow": null,
            "grid_auto_rows": null,
            "grid_column": null,
            "grid_gap": null,
            "grid_row": null,
            "grid_template_areas": null,
            "grid_template_columns": null,
            "grid_template_rows": null,
            "height": null,
            "justify_content": null,
            "justify_items": null,
            "left": null,
            "margin": null,
            "max_height": null,
            "max_width": null,
            "min_height": null,
            "min_width": null,
            "object_fit": null,
            "object_position": null,
            "order": null,
            "overflow": null,
            "overflow_x": null,
            "overflow_y": null,
            "padding": null,
            "right": null,
            "top": null,
            "visibility": null,
            "width": null
          }
        },
        "7b78da2d810d49b2bd4e1f613fb9d3ab": {
          "model_module": "@jupyter-widgets/controls",
          "model_module_version": "1.5.0",
          "model_name": "ProgressStyleModel",
          "state": {
            "_model_module": "@jupyter-widgets/controls",
            "_model_module_version": "1.5.0",
            "_model_name": "ProgressStyleModel",
            "_view_count": null,
            "_view_module": "@jupyter-widgets/base",
            "_view_module_version": "1.2.0",
            "_view_name": "StyleView",
            "bar_color": null,
            "description_width": ""
          }
        },
        "7c850465420c4d7ab450e6651694def4": {
          "model_module": "@jupyter-widgets/base",
          "model_module_version": "1.2.0",
          "model_name": "LayoutModel",
          "state": {
            "_model_module": "@jupyter-widgets/base",
            "_model_module_version": "1.2.0",
            "_model_name": "LayoutModel",
            "_view_count": null,
            "_view_module": "@jupyter-widgets/base",
            "_view_module_version": "1.2.0",
            "_view_name": "LayoutView",
            "align_content": null,
            "align_items": null,
            "align_self": null,
            "border": null,
            "bottom": null,
            "display": null,
            "flex": null,
            "flex_flow": null,
            "grid_area": null,
            "grid_auto_columns": null,
            "grid_auto_flow": null,
            "grid_auto_rows": null,
            "grid_column": null,
            "grid_gap": null,
            "grid_row": null,
            "grid_template_areas": null,
            "grid_template_columns": null,
            "grid_template_rows": null,
            "height": null,
            "justify_content": null,
            "justify_items": null,
            "left": null,
            "margin": null,
            "max_height": null,
            "max_width": null,
            "min_height": null,
            "min_width": null,
            "object_fit": null,
            "object_position": null,
            "order": null,
            "overflow": null,
            "overflow_x": null,
            "overflow_y": null,
            "padding": null,
            "right": null,
            "top": null,
            "visibility": null,
            "width": null
          }
        },
        "7f3cb62f5dc14d16a5435cba095c5e26": {
          "model_module": "@jupyter-widgets/controls",
          "model_module_version": "1.5.0",
          "model_name": "HTMLModel",
          "state": {
            "_dom_classes": [],
            "_model_module": "@jupyter-widgets/controls",
            "_model_module_version": "1.5.0",
            "_model_name": "HTMLModel",
            "_view_count": null,
            "_view_module": "@jupyter-widgets/controls",
            "_view_module_version": "1.5.0",
            "_view_name": "HTMLView",
            "description": "",
            "description_tooltip": null,
            "layout": "IPY_MODEL_fd60f64935d646978d08be330d571902",
            "placeholder": "​",
            "style": "IPY_MODEL_bf354c7504a34e05b7893dac1b8dbe62",
            "value": " 2.47G/2.47G [00:31&lt;00:00, 106MB/s]"
          }
        },
        "826697cb2032434d8717c69e39ddbf3b": {
          "model_module": "@jupyter-widgets/controls",
          "model_module_version": "1.5.0",
          "model_name": "DescriptionStyleModel",
          "state": {
            "_model_module": "@jupyter-widgets/controls",
            "_model_module_version": "1.5.0",
            "_model_name": "DescriptionStyleModel",
            "_view_count": null,
            "_view_module": "@jupyter-widgets/base",
            "_view_module_version": "1.2.0",
            "_view_name": "StyleView",
            "description_width": ""
          }
        },
        "8b3ca894fdba42efb8512d948c6fd36b": {
          "model_module": "@jupyter-widgets/base",
          "model_module_version": "1.2.0",
          "model_name": "LayoutModel",
          "state": {
            "_model_module": "@jupyter-widgets/base",
            "_model_module_version": "1.2.0",
            "_model_name": "LayoutModel",
            "_view_count": null,
            "_view_module": "@jupyter-widgets/base",
            "_view_module_version": "1.2.0",
            "_view_name": "LayoutView",
            "align_content": null,
            "align_items": null,
            "align_self": null,
            "border": null,
            "bottom": null,
            "display": null,
            "flex": null,
            "flex_flow": null,
            "grid_area": null,
            "grid_auto_columns": null,
            "grid_auto_flow": null,
            "grid_auto_rows": null,
            "grid_column": null,
            "grid_gap": null,
            "grid_row": null,
            "grid_template_areas": null,
            "grid_template_columns": null,
            "grid_template_rows": null,
            "height": null,
            "justify_content": null,
            "justify_items": null,
            "left": null,
            "margin": null,
            "max_height": null,
            "max_width": null,
            "min_height": null,
            "min_width": null,
            "object_fit": null,
            "object_position": null,
            "order": null,
            "overflow": null,
            "overflow_x": null,
            "overflow_y": null,
            "padding": null,
            "right": null,
            "top": null,
            "visibility": null,
            "width": null
          }
        },
        "94fc52e56b21442a8a8ad7f69bebfc7b": {
          "model_module": "@jupyter-widgets/base",
          "model_module_version": "1.2.0",
          "model_name": "LayoutModel",
          "state": {
            "_model_module": "@jupyter-widgets/base",
            "_model_module_version": "1.2.0",
            "_model_name": "LayoutModel",
            "_view_count": null,
            "_view_module": "@jupyter-widgets/base",
            "_view_module_version": "1.2.0",
            "_view_name": "LayoutView",
            "align_content": null,
            "align_items": null,
            "align_self": null,
            "border": null,
            "bottom": null,
            "display": null,
            "flex": null,
            "flex_flow": null,
            "grid_area": null,
            "grid_auto_columns": null,
            "grid_auto_flow": null,
            "grid_auto_rows": null,
            "grid_column": null,
            "grid_gap": null,
            "grid_row": null,
            "grid_template_areas": null,
            "grid_template_columns": null,
            "grid_template_rows": null,
            "height": null,
            "justify_content": null,
            "justify_items": null,
            "left": null,
            "margin": null,
            "max_height": null,
            "max_width": null,
            "min_height": null,
            "min_width": null,
            "object_fit": null,
            "object_position": null,
            "order": null,
            "overflow": null,
            "overflow_x": null,
            "overflow_y": null,
            "padding": null,
            "right": null,
            "top": null,
            "visibility": null,
            "width": null
          }
        },
        "9b0e5c40aae8428b976f6fd85b4030ca": {
          "model_module": "@jupyter-widgets/controls",
          "model_module_version": "1.5.0",
          "model_name": "HTMLModel",
          "state": {
            "_dom_classes": [],
            "_model_module": "@jupyter-widgets/controls",
            "_model_module_version": "1.5.0",
            "_model_name": "HTMLModel",
            "_view_count": null,
            "_view_module": "@jupyter-widgets/controls",
            "_view_module_version": "1.5.0",
            "_view_name": "HTMLView",
            "description": "",
            "description_tooltip": null,
            "layout": "IPY_MODEL_69a6e416dba4456580cfce648d0f9b5b",
            "placeholder": "​",
            "style": "IPY_MODEL_1407734e706b40c5b286f6184109e411",
            "value": "config.json: 100%"
          }
        },
        "a94246470fe74f7083e77d2a434c51f6": {
          "model_module": "@jupyter-widgets/controls",
          "model_module_version": "1.5.0",
          "model_name": "HBoxModel",
          "state": {
            "_dom_classes": [],
            "_model_module": "@jupyter-widgets/controls",
            "_model_module_version": "1.5.0",
            "_model_name": "HBoxModel",
            "_view_count": null,
            "_view_module": "@jupyter-widgets/controls",
            "_view_module_version": "1.5.0",
            "_view_name": "HBoxView",
            "box_style": "",
            "children": [
              "IPY_MODEL_d012d7a1b1e24c5daf9b62c177029627",
              "IPY_MODEL_bad1daf5c9754146ba811cd30468b550",
              "IPY_MODEL_c8f52fd15ad84797babc41ad07f5a454"
            ],
            "layout": "IPY_MODEL_7c850465420c4d7ab450e6651694def4"
          }
        },
        "ad1654400ae94f93be082ec268594b77": {
          "model_module": "@jupyter-widgets/controls",
          "model_module_version": "1.5.0",
          "model_name": "FloatProgressModel",
          "state": {
            "_dom_classes": [],
            "_model_module": "@jupyter-widgets/controls",
            "_model_module_version": "1.5.0",
            "_model_name": "FloatProgressModel",
            "_view_count": null,
            "_view_module": "@jupyter-widgets/controls",
            "_view_module_version": "1.5.0",
            "_view_name": "ProgressView",
            "bar_style": "success",
            "description": "",
            "description_tooltip": null,
            "layout": "IPY_MODEL_0653090032d04323b4e2591be2994294",
            "max": 877,
            "min": 0,
            "orientation": "horizontal",
            "style": "IPY_MODEL_fd89ee4643af4fbead01d64f839a3277",
            "value": 877
          }
        },
        "b0e24ed5ad52447fa67384b4411d7950": {
          "model_module": "@jupyter-widgets/controls",
          "model_module_version": "1.5.0",
          "model_name": "ProgressStyleModel",
          "state": {
            "_model_module": "@jupyter-widgets/controls",
            "_model_module_version": "1.5.0",
            "_model_name": "ProgressStyleModel",
            "_view_count": null,
            "_view_module": "@jupyter-widgets/base",
            "_view_module_version": "1.2.0",
            "_view_name": "StyleView",
            "bar_color": null,
            "description_width": ""
          }
        },
        "b1d78059272b40a7bcf7bb8e435efe8d": {
          "model_module": "@jupyter-widgets/base",
          "model_module_version": "1.2.0",
          "model_name": "LayoutModel",
          "state": {
            "_model_module": "@jupyter-widgets/base",
            "_model_module_version": "1.2.0",
            "_model_name": "LayoutModel",
            "_view_count": null,
            "_view_module": "@jupyter-widgets/base",
            "_view_module_version": "1.2.0",
            "_view_name": "LayoutView",
            "align_content": null,
            "align_items": null,
            "align_self": null,
            "border": null,
            "bottom": null,
            "display": null,
            "flex": null,
            "flex_flow": null,
            "grid_area": null,
            "grid_auto_columns": null,
            "grid_auto_flow": null,
            "grid_auto_rows": null,
            "grid_column": null,
            "grid_gap": null,
            "grid_row": null,
            "grid_template_areas": null,
            "grid_template_columns": null,
            "grid_template_rows": null,
            "height": null,
            "justify_content": null,
            "justify_items": null,
            "left": null,
            "margin": null,
            "max_height": null,
            "max_width": null,
            "min_height": null,
            "min_width": null,
            "object_fit": null,
            "object_position": null,
            "order": null,
            "overflow": null,
            "overflow_x": null,
            "overflow_y": null,
            "padding": null,
            "right": null,
            "top": null,
            "visibility": null,
            "width": null
          }
        },
        "b3da123ca89a4e748afab46a71f2b8bf": {
          "model_module": "@jupyter-widgets/controls",
          "model_module_version": "1.5.0",
          "model_name": "ProgressStyleModel",
          "state": {
            "_model_module": "@jupyter-widgets/controls",
            "_model_module_version": "1.5.0",
            "_model_name": "ProgressStyleModel",
            "_view_count": null,
            "_view_module": "@jupyter-widgets/base",
            "_view_module_version": "1.2.0",
            "_view_name": "StyleView",
            "bar_color": null,
            "description_width": ""
          }
        },
        "b609e349c2fe4fe79bfa1bf41d288573": {
          "model_module": "@jupyter-widgets/controls",
          "model_module_version": "1.5.0",
          "model_name": "HTMLModel",
          "state": {
            "_dom_classes": [],
            "_model_module": "@jupyter-widgets/controls",
            "_model_module_version": "1.5.0",
            "_model_name": "HTMLModel",
            "_view_count": null,
            "_view_module": "@jupyter-widgets/controls",
            "_view_module_version": "1.5.0",
            "_view_name": "HTMLView",
            "description": "",
            "description_tooltip": null,
            "layout": "IPY_MODEL_41761f43919b4daea163767f544e60d9",
            "placeholder": "​",
            "style": "IPY_MODEL_2f4a8fc4bea34fc7b13b9473c3f91886",
            "value": " 189/189 [00:00&lt;00:00, 19.6kB/s]"
          }
        },
        "b7b59de3b8bc42d49b7b2f783df719b4": {
          "model_module": "@jupyter-widgets/base",
          "model_module_version": "1.2.0",
          "model_name": "LayoutModel",
          "state": {
            "_model_module": "@jupyter-widgets/base",
            "_model_module_version": "1.2.0",
            "_model_name": "LayoutModel",
            "_view_count": null,
            "_view_module": "@jupyter-widgets/base",
            "_view_module_version": "1.2.0",
            "_view_name": "LayoutView",
            "align_content": null,
            "align_items": null,
            "align_self": null,
            "border": null,
            "bottom": null,
            "display": null,
            "flex": null,
            "flex_flow": null,
            "grid_area": null,
            "grid_auto_columns": null,
            "grid_auto_flow": null,
            "grid_auto_rows": null,
            "grid_column": null,
            "grid_gap": null,
            "grid_row": null,
            "grid_template_areas": null,
            "grid_template_columns": null,
            "grid_template_rows": null,
            "height": null,
            "justify_content": null,
            "justify_items": null,
            "left": null,
            "margin": null,
            "max_height": null,
            "max_width": null,
            "min_height": null,
            "min_width": null,
            "object_fit": null,
            "object_position": null,
            "order": null,
            "overflow": null,
            "overflow_x": null,
            "overflow_y": null,
            "padding": null,
            "right": null,
            "top": null,
            "visibility": null,
            "width": null
          }
        },
        "b86d27a598124eb18397876e5736a112": {
          "model_module": "@jupyter-widgets/controls",
          "model_module_version": "1.5.0",
          "model_name": "DescriptionStyleModel",
          "state": {
            "_model_module": "@jupyter-widgets/controls",
            "_model_module_version": "1.5.0",
            "_model_name": "DescriptionStyleModel",
            "_view_count": null,
            "_view_module": "@jupyter-widgets/base",
            "_view_module_version": "1.2.0",
            "_view_name": "StyleView",
            "description_width": ""
          }
        },
        "bad1daf5c9754146ba811cd30468b550": {
          "model_module": "@jupyter-widgets/controls",
          "model_module_version": "1.5.0",
          "model_name": "FloatProgressModel",
          "state": {
            "_dom_classes": [],
            "_model_module": "@jupyter-widgets/controls",
            "_model_module_version": "1.5.0",
            "_model_name": "FloatProgressModel",
            "_view_count": null,
            "_view_module": "@jupyter-widgets/controls",
            "_view_module_version": "1.5.0",
            "_view_name": "ProgressView",
            "bar_style": "success",
            "description": "",
            "description_tooltip": null,
            "layout": "IPY_MODEL_f7675f63d3634edb8fb4339fb7ab6bda",
            "max": 296,
            "min": 0,
            "orientation": "horizontal",
            "style": "IPY_MODEL_71bb41965f2240ec8337152add5bb258",
            "value": 296
          }
        },
        "bc5798cdb9ec478995457f488b96cde6": {
          "model_module": "@jupyter-widgets/controls",
          "model_module_version": "1.5.0",
          "model_name": "DescriptionStyleModel",
          "state": {
            "_model_module": "@jupyter-widgets/controls",
            "_model_module_version": "1.5.0",
            "_model_name": "DescriptionStyleModel",
            "_view_count": null,
            "_view_module": "@jupyter-widgets/base",
            "_view_module_version": "1.2.0",
            "_view_name": "StyleView",
            "description_width": ""
          }
        },
        "bced727d552a47c0b52d1d62e40dd285": {
          "model_module": "@jupyter-widgets/controls",
          "model_module_version": "1.5.0",
          "model_name": "DescriptionStyleModel",
          "state": {
            "_model_module": "@jupyter-widgets/controls",
            "_model_module_version": "1.5.0",
            "_model_name": "DescriptionStyleModel",
            "_view_count": null,
            "_view_module": "@jupyter-widgets/base",
            "_view_module_version": "1.2.0",
            "_view_name": "StyleView",
            "description_width": ""
          }
        },
        "bf354c7504a34e05b7893dac1b8dbe62": {
          "model_module": "@jupyter-widgets/controls",
          "model_module_version": "1.5.0",
          "model_name": "DescriptionStyleModel",
          "state": {
            "_model_module": "@jupyter-widgets/controls",
            "_model_module_version": "1.5.0",
            "_model_name": "DescriptionStyleModel",
            "_view_count": null,
            "_view_module": "@jupyter-widgets/base",
            "_view_module_version": "1.2.0",
            "_view_name": "StyleView",
            "description_width": ""
          }
        },
        "c23f525c4f0a4766975610f245ac035e": {
          "model_module": "@jupyter-widgets/controls",
          "model_module_version": "1.5.0",
          "model_name": "HBoxModel",
          "state": {
            "_dom_classes": [],
            "_model_module": "@jupyter-widgets/controls",
            "_model_module_version": "1.5.0",
            "_model_name": "HBoxModel",
            "_view_count": null,
            "_view_module": "@jupyter-widgets/controls",
            "_view_module_version": "1.5.0",
            "_view_name": "HBoxView",
            "box_style": "",
            "children": [
              "IPY_MODEL_2727c78ff9404977b007c3738fa1bf5f",
              "IPY_MODEL_2041059f29a34ae9b5c69bf7f7a467be",
              "IPY_MODEL_b609e349c2fe4fe79bfa1bf41d288573"
            ],
            "layout": "IPY_MODEL_cd45abebfce74c698530cf00cc32b35a"
          }
        },
        "c4990e770df948eda3af4e772f467d1b": {
          "model_module": "@jupyter-widgets/base",
          "model_module_version": "1.2.0",
          "model_name": "LayoutModel",
          "state": {
            "_model_module": "@jupyter-widgets/base",
            "_model_module_version": "1.2.0",
            "_model_name": "LayoutModel",
            "_view_count": null,
            "_view_module": "@jupyter-widgets/base",
            "_view_module_version": "1.2.0",
            "_view_name": "LayoutView",
            "align_content": null,
            "align_items": null,
            "align_self": null,
            "border": null,
            "bottom": null,
            "display": null,
            "flex": null,
            "flex_flow": null,
            "grid_area": null,
            "grid_auto_columns": null,
            "grid_auto_flow": null,
            "grid_auto_rows": null,
            "grid_column": null,
            "grid_gap": null,
            "grid_row": null,
            "grid_template_areas": null,
            "grid_template_columns": null,
            "grid_template_rows": null,
            "height": null,
            "justify_content": null,
            "justify_items": null,
            "left": null,
            "margin": null,
            "max_height": null,
            "max_width": null,
            "min_height": null,
            "min_width": null,
            "object_fit": null,
            "object_position": null,
            "order": null,
            "overflow": null,
            "overflow_x": null,
            "overflow_y": null,
            "padding": null,
            "right": null,
            "top": null,
            "visibility": null,
            "width": null
          }
        },
        "c8f52fd15ad84797babc41ad07f5a454": {
          "model_module": "@jupyter-widgets/controls",
          "model_module_version": "1.5.0",
          "model_name": "HTMLModel",
          "state": {
            "_dom_classes": [],
            "_model_module": "@jupyter-widgets/controls",
            "_model_module_version": "1.5.0",
            "_model_name": "HTMLModel",
            "_view_count": null,
            "_view_module": "@jupyter-widgets/controls",
            "_view_module_version": "1.5.0",
            "_view_name": "HTMLView",
            "description": "",
            "description_tooltip": null,
            "layout": "IPY_MODEL_8b3ca894fdba42efb8512d948c6fd36b",
            "placeholder": "​",
            "style": "IPY_MODEL_bc5798cdb9ec478995457f488b96cde6",
            "value": " 296/296 [00:00&lt;00:00, 30.3kB/s]"
          }
        },
        "cd45abebfce74c698530cf00cc32b35a": {
          "model_module": "@jupyter-widgets/base",
          "model_module_version": "1.2.0",
          "model_name": "LayoutModel",
          "state": {
            "_model_module": "@jupyter-widgets/base",
            "_model_module_version": "1.2.0",
            "_model_name": "LayoutModel",
            "_view_count": null,
            "_view_module": "@jupyter-widgets/base",
            "_view_module_version": "1.2.0",
            "_view_name": "LayoutView",
            "align_content": null,
            "align_items": null,
            "align_self": null,
            "border": null,
            "bottom": null,
            "display": null,
            "flex": null,
            "flex_flow": null,
            "grid_area": null,
            "grid_auto_columns": null,
            "grid_auto_flow": null,
            "grid_auto_rows": null,
            "grid_column": null,
            "grid_gap": null,
            "grid_row": null,
            "grid_template_areas": null,
            "grid_template_columns": null,
            "grid_template_rows": null,
            "height": null,
            "justify_content": null,
            "justify_items": null,
            "left": null,
            "margin": null,
            "max_height": null,
            "max_width": null,
            "min_height": null,
            "min_width": null,
            "object_fit": null,
            "object_position": null,
            "order": null,
            "overflow": null,
            "overflow_x": null,
            "overflow_y": null,
            "padding": null,
            "right": null,
            "top": null,
            "visibility": null,
            "width": null
          }
        },
        "cfa2546d7b164154b0eab5340fe092b5": {
          "model_module": "@jupyter-widgets/controls",
          "model_module_version": "1.5.0",
          "model_name": "HTMLModel",
          "state": {
            "_dom_classes": [],
            "_model_module": "@jupyter-widgets/controls",
            "_model_module_version": "1.5.0",
            "_model_name": "HTMLModel",
            "_view_count": null,
            "_view_module": "@jupyter-widgets/controls",
            "_view_module_version": "1.5.0",
            "_view_name": "HTMLView",
            "description": "",
            "description_tooltip": null,
            "layout": "IPY_MODEL_797598f0171f437ab64c4d8dfde476a8",
            "placeholder": "​",
            "style": "IPY_MODEL_156693765cd04903b0de478be0cb8767",
            "value": " 877/877 [00:00&lt;00:00, 32.7kB/s]"
          }
        },
        "d012d7a1b1e24c5daf9b62c177029627": {
          "model_module": "@jupyter-widgets/controls",
          "model_module_version": "1.5.0",
          "model_name": "HTMLModel",
          "state": {
            "_dom_classes": [],
            "_model_module": "@jupyter-widgets/controls",
            "_model_module_version": "1.5.0",
            "_model_name": "HTMLModel",
            "_view_count": null,
            "_view_module": "@jupyter-widgets/controls",
            "_view_module_version": "1.5.0",
            "_view_name": "HTMLView",
            "description": "",
            "description_tooltip": null,
            "layout": "IPY_MODEL_d5124b28cc8d4375809ef93a028a5188",
            "placeholder": "​",
            "style": "IPY_MODEL_5040420bb08a4a33b7b230e85852af99",
            "value": "special_tokens_map.json: 100%"
          }
        },
        "d0fa2d106fa54c948e325ab8b028429f": {
          "model_module": "@jupyter-widgets/base",
          "model_module_version": "1.2.0",
          "model_name": "LayoutModel",
          "state": {
            "_model_module": "@jupyter-widgets/base",
            "_model_module_version": "1.2.0",
            "_model_name": "LayoutModel",
            "_view_count": null,
            "_view_module": "@jupyter-widgets/base",
            "_view_module_version": "1.2.0",
            "_view_name": "LayoutView",
            "align_content": null,
            "align_items": null,
            "align_self": null,
            "border": null,
            "bottom": null,
            "display": null,
            "flex": null,
            "flex_flow": null,
            "grid_area": null,
            "grid_auto_columns": null,
            "grid_auto_flow": null,
            "grid_auto_rows": null,
            "grid_column": null,
            "grid_gap": null,
            "grid_row": null,
            "grid_template_areas": null,
            "grid_template_columns": null,
            "grid_template_rows": null,
            "height": null,
            "justify_content": null,
            "justify_items": null,
            "left": null,
            "margin": null,
            "max_height": null,
            "max_width": null,
            "min_height": null,
            "min_width": null,
            "object_fit": null,
            "object_position": null,
            "order": null,
            "overflow": null,
            "overflow_x": null,
            "overflow_y": null,
            "padding": null,
            "right": null,
            "top": null,
            "visibility": null,
            "width": null
          }
        },
        "d123f67516ea4a99bf87921f1c665ee8": {
          "model_module": "@jupyter-widgets/base",
          "model_module_version": "1.2.0",
          "model_name": "LayoutModel",
          "state": {
            "_model_module": "@jupyter-widgets/base",
            "_model_module_version": "1.2.0",
            "_model_name": "LayoutModel",
            "_view_count": null,
            "_view_module": "@jupyter-widgets/base",
            "_view_module_version": "1.2.0",
            "_view_name": "LayoutView",
            "align_content": null,
            "align_items": null,
            "align_self": null,
            "border": null,
            "bottom": null,
            "display": null,
            "flex": null,
            "flex_flow": null,
            "grid_area": null,
            "grid_auto_columns": null,
            "grid_auto_flow": null,
            "grid_auto_rows": null,
            "grid_column": null,
            "grid_gap": null,
            "grid_row": null,
            "grid_template_areas": null,
            "grid_template_columns": null,
            "grid_template_rows": null,
            "height": null,
            "justify_content": null,
            "justify_items": null,
            "left": null,
            "margin": null,
            "max_height": null,
            "max_width": null,
            "min_height": null,
            "min_width": null,
            "object_fit": null,
            "object_position": null,
            "order": null,
            "overflow": null,
            "overflow_x": null,
            "overflow_y": null,
            "padding": null,
            "right": null,
            "top": null,
            "visibility": null,
            "width": null
          }
        },
        "d5124b28cc8d4375809ef93a028a5188": {
          "model_module": "@jupyter-widgets/base",
          "model_module_version": "1.2.0",
          "model_name": "LayoutModel",
          "state": {
            "_model_module": "@jupyter-widgets/base",
            "_model_module_version": "1.2.0",
            "_model_name": "LayoutModel",
            "_view_count": null,
            "_view_module": "@jupyter-widgets/base",
            "_view_module_version": "1.2.0",
            "_view_name": "LayoutView",
            "align_content": null,
            "align_items": null,
            "align_self": null,
            "border": null,
            "bottom": null,
            "display": null,
            "flex": null,
            "flex_flow": null,
            "grid_area": null,
            "grid_auto_columns": null,
            "grid_auto_flow": null,
            "grid_auto_rows": null,
            "grid_column": null,
            "grid_gap": null,
            "grid_row": null,
            "grid_template_areas": null,
            "grid_template_columns": null,
            "grid_template_rows": null,
            "height": null,
            "justify_content": null,
            "justify_items": null,
            "left": null,
            "margin": null,
            "max_height": null,
            "max_width": null,
            "min_height": null,
            "min_width": null,
            "object_fit": null,
            "object_position": null,
            "order": null,
            "overflow": null,
            "overflow_x": null,
            "overflow_y": null,
            "padding": null,
            "right": null,
            "top": null,
            "visibility": null,
            "width": null
          }
        },
        "d6965f2bd54744878064d564500437b3": {
          "model_module": "@jupyter-widgets/controls",
          "model_module_version": "1.5.0",
          "model_name": "DescriptionStyleModel",
          "state": {
            "_model_module": "@jupyter-widgets/controls",
            "_model_module_version": "1.5.0",
            "_model_name": "DescriptionStyleModel",
            "_view_count": null,
            "_view_module": "@jupyter-widgets/base",
            "_view_module_version": "1.2.0",
            "_view_name": "StyleView",
            "description_width": ""
          }
        },
        "e848e2f9d4c340f192504b063adf81db": {
          "model_module": "@jupyter-widgets/base",
          "model_module_version": "1.2.0",
          "model_name": "LayoutModel",
          "state": {
            "_model_module": "@jupyter-widgets/base",
            "_model_module_version": "1.2.0",
            "_model_name": "LayoutModel",
            "_view_count": null,
            "_view_module": "@jupyter-widgets/base",
            "_view_module_version": "1.2.0",
            "_view_name": "LayoutView",
            "align_content": null,
            "align_items": null,
            "align_self": null,
            "border": null,
            "bottom": null,
            "display": null,
            "flex": null,
            "flex_flow": null,
            "grid_area": null,
            "grid_auto_columns": null,
            "grid_auto_flow": null,
            "grid_auto_rows": null,
            "grid_column": null,
            "grid_gap": null,
            "grid_row": null,
            "grid_template_areas": null,
            "grid_template_columns": null,
            "grid_template_rows": null,
            "height": null,
            "justify_content": null,
            "justify_items": null,
            "left": null,
            "margin": null,
            "max_height": null,
            "max_width": null,
            "min_height": null,
            "min_width": null,
            "object_fit": null,
            "object_position": null,
            "order": null,
            "overflow": null,
            "overflow_x": null,
            "overflow_y": null,
            "padding": null,
            "right": null,
            "top": null,
            "visibility": null,
            "width": null
          }
        },
        "eec6f865dd5e4550acd0e5e5f0d65820": {
          "model_module": "@jupyter-widgets/controls",
          "model_module_version": "1.5.0",
          "model_name": "HTMLModel",
          "state": {
            "_dom_classes": [],
            "_model_module": "@jupyter-widgets/controls",
            "_model_module_version": "1.5.0",
            "_model_name": "HTMLModel",
            "_view_count": null,
            "_view_module": "@jupyter-widgets/controls",
            "_view_module_version": "1.5.0",
            "_view_name": "HTMLView",
            "description": "",
            "description_tooltip": null,
            "layout": "IPY_MODEL_d123f67516ea4a99bf87921f1c665ee8",
            "placeholder": "​",
            "style": "IPY_MODEL_d6965f2bd54744878064d564500437b3",
            "value": " 54.5k/54.5k [00:00&lt;00:00, 5.38MB/s]"
          }
        },
        "f22e85a697774b0493bb43765af6f8d1": {
          "model_module": "@jupyter-widgets/controls",
          "model_module_version": "1.5.0",
          "model_name": "HBoxModel",
          "state": {
            "_dom_classes": [],
            "_model_module": "@jupyter-widgets/controls",
            "_model_module_version": "1.5.0",
            "_model_name": "HBoxModel",
            "_view_count": null,
            "_view_module": "@jupyter-widgets/controls",
            "_view_module_version": "1.5.0",
            "_view_name": "HBoxView",
            "box_style": "",
            "children": [
              "IPY_MODEL_9b0e5c40aae8428b976f6fd85b4030ca",
              "IPY_MODEL_ad1654400ae94f93be082ec268594b77",
              "IPY_MODEL_cfa2546d7b164154b0eab5340fe092b5"
            ],
            "layout": "IPY_MODEL_94fc52e56b21442a8a8ad7f69bebfc7b"
          }
        },
        "f30001ba4ebf4b05bcef32319a396f1a": {
          "model_module": "@jupyter-widgets/controls",
          "model_module_version": "1.5.0",
          "model_name": "HBoxModel",
          "state": {
            "_dom_classes": [],
            "_model_module": "@jupyter-widgets/controls",
            "_model_module_version": "1.5.0",
            "_model_name": "HBoxModel",
            "_view_count": null,
            "_view_module": "@jupyter-widgets/controls",
            "_view_module_version": "1.5.0",
            "_view_name": "HBoxView",
            "box_style": "",
            "children": [
              "IPY_MODEL_fc8f7902ff5e4615bc924eb72f621ddd",
              "IPY_MODEL_f5f007041d0e417882952880eda29546",
              "IPY_MODEL_eec6f865dd5e4550acd0e5e5f0d65820"
            ],
            "layout": "IPY_MODEL_638c8526caee4341b30d42a0fb2115f0"
          }
        },
        "f5f007041d0e417882952880eda29546": {
          "model_module": "@jupyter-widgets/controls",
          "model_module_version": "1.5.0",
          "model_name": "FloatProgressModel",
          "state": {
            "_dom_classes": [],
            "_model_module": "@jupyter-widgets/controls",
            "_model_module_version": "1.5.0",
            "_model_name": "FloatProgressModel",
            "_view_count": null,
            "_view_module": "@jupyter-widgets/controls",
            "_view_module_version": "1.5.0",
            "_view_name": "ProgressView",
            "bar_style": "success",
            "description": "",
            "description_tooltip": null,
            "layout": "IPY_MODEL_c4990e770df948eda3af4e772f467d1b",
            "max": 54528,
            "min": 0,
            "orientation": "horizontal",
            "style": "IPY_MODEL_b0e24ed5ad52447fa67384b4411d7950",
            "value": 54528
          }
        },
        "f7675f63d3634edb8fb4339fb7ab6bda": {
          "model_module": "@jupyter-widgets/base",
          "model_module_version": "1.2.0",
          "model_name": "LayoutModel",
          "state": {
            "_model_module": "@jupyter-widgets/base",
            "_model_module_version": "1.2.0",
            "_model_name": "LayoutModel",
            "_view_count": null,
            "_view_module": "@jupyter-widgets/base",
            "_view_module_version": "1.2.0",
            "_view_name": "LayoutView",
            "align_content": null,
            "align_items": null,
            "align_self": null,
            "border": null,
            "bottom": null,
            "display": null,
            "flex": null,
            "flex_flow": null,
            "grid_area": null,
            "grid_auto_columns": null,
            "grid_auto_flow": null,
            "grid_auto_rows": null,
            "grid_column": null,
            "grid_gap": null,
            "grid_row": null,
            "grid_template_areas": null,
            "grid_template_columns": null,
            "grid_template_rows": null,
            "height": null,
            "justify_content": null,
            "justify_items": null,
            "left": null,
            "margin": null,
            "max_height": null,
            "max_width": null,
            "min_height": null,
            "min_width": null,
            "object_fit": null,
            "object_position": null,
            "order": null,
            "overflow": null,
            "overflow_x": null,
            "overflow_y": null,
            "padding": null,
            "right": null,
            "top": null,
            "visibility": null,
            "width": null
          }
        },
        "fc8f7902ff5e4615bc924eb72f621ddd": {
          "model_module": "@jupyter-widgets/controls",
          "model_module_version": "1.5.0",
          "model_name": "HTMLModel",
          "state": {
            "_dom_classes": [],
            "_model_module": "@jupyter-widgets/controls",
            "_model_module_version": "1.5.0",
            "_model_name": "HTMLModel",
            "_view_count": null,
            "_view_module": "@jupyter-widgets/controls",
            "_view_module_version": "1.5.0",
            "_view_name": "HTMLView",
            "description": "",
            "description_tooltip": null,
            "layout": "IPY_MODEL_6e85a04e90fa4e90a4fd9a359b91682b",
            "placeholder": "​",
            "style": "IPY_MODEL_bced727d552a47c0b52d1d62e40dd285",
            "value": "tokenizer_config.json: 100%"
          }
        },
        "fd60f64935d646978d08be330d571902": {
          "model_module": "@jupyter-widgets/base",
          "model_module_version": "1.2.0",
          "model_name": "LayoutModel",
          "state": {
            "_model_module": "@jupyter-widgets/base",
            "_model_module_version": "1.2.0",
            "_model_name": "LayoutModel",
            "_view_count": null,
            "_view_module": "@jupyter-widgets/base",
            "_view_module_version": "1.2.0",
            "_view_name": "LayoutView",
            "align_content": null,
            "align_items": null,
            "align_self": null,
            "border": null,
            "bottom": null,
            "display": null,
            "flex": null,
            "flex_flow": null,
            "grid_area": null,
            "grid_auto_columns": null,
            "grid_auto_flow": null,
            "grid_auto_rows": null,
            "grid_column": null,
            "grid_gap": null,
            "grid_row": null,
            "grid_template_areas": null,
            "grid_template_columns": null,
            "grid_template_rows": null,
            "height": null,
            "justify_content": null,
            "justify_items": null,
            "left": null,
            "margin": null,
            "max_height": null,
            "max_width": null,
            "min_height": null,
            "min_width": null,
            "object_fit": null,
            "object_position": null,
            "order": null,
            "overflow": null,
            "overflow_x": null,
            "overflow_y": null,
            "padding": null,
            "right": null,
            "top": null,
            "visibility": null,
            "width": null
          }
        },
        "fd89ee4643af4fbead01d64f839a3277": {
          "model_module": "@jupyter-widgets/controls",
          "model_module_version": "1.5.0",
          "model_name": "ProgressStyleModel",
          "state": {
            "_model_module": "@jupyter-widgets/controls",
            "_model_module_version": "1.5.0",
            "_model_name": "ProgressStyleModel",
            "_view_count": null,
            "_view_module": "@jupyter-widgets/base",
            "_view_module_version": "1.2.0",
            "_view_name": "StyleView",
            "bar_color": null,
            "description_width": ""
          }
        }
      }
    }
  },
  "nbformat": 4,
  "nbformat_minor": 0
}
