{
  "cells": [
    {
      "cell_type": "markdown",
      "metadata": {
        "id": "7B-RWSwCTFUx"
      },
      "source": [
        "### 1. Install Dependencies"
      ]
    },
    {
      "cell_type": "code",
      "execution_count": 1,
      "metadata": {
        "colab": {
          "base_uri": "https://localhost:8080/"
        },
        "id": "CQ6xyR-xS8Zl",
        "outputId": "0f64e169-be67-498e-ec01-9b2ae73148a7"
      },
      "outputs": [
        {
          "name": "stdout",
          "output_type": "stream",
          "text": [
            "Requirement already satisfied: pandas in /usr/local/lib/python3.11/dist-packages (2.2.2)\n",
            "Requirement already satisfied: gdown in /usr/local/lib/python3.11/dist-packages (5.2.0)\n",
            "Requirement already satisfied: huggingface-hub in /usr/local/lib/python3.11/dist-packages (0.33.2)\n",
            "Requirement already satisfied: numpy in /usr/local/lib/python3.11/dist-packages (2.0.2)\n",
            "Requirement already satisfied: matplotlib in /usr/local/lib/python3.11/dist-packages (3.10.0)\n",
            "Requirement already satisfied: scikit-learn in /usr/local/lib/python3.11/dist-packages (1.6.1)\n",
            "Requirement already satisfied: transformers in /usr/local/lib/python3.11/dist-packages (4.53.0)\n",
            "Requirement already satisfied: torch in /usr/local/lib/python3.11/dist-packages (2.6.0+cu124)\n",
            "Requirement already satisfied: tqdm in /usr/local/lib/python3.11/dist-packages (4.67.1)\n",
            "Requirement already satisfied: python-dateutil>=2.8.2 in /usr/local/lib/python3.11/dist-packages (from pandas) (2.9.0.post0)\n",
            "Requirement already satisfied: pytz>=2020.1 in /usr/local/lib/python3.11/dist-packages (from pandas) (2025.2)\n",
            "Requirement already satisfied: tzdata>=2022.7 in /usr/local/lib/python3.11/dist-packages (from pandas) (2025.2)\n",
            "Requirement already satisfied: beautifulsoup4 in /usr/local/lib/python3.11/dist-packages (from gdown) (4.13.4)\n",
            "Requirement already satisfied: filelock in /usr/local/lib/python3.11/dist-packages (from gdown) (3.18.0)\n",
            "Requirement already satisfied: requests[socks] in /usr/local/lib/python3.11/dist-packages (from gdown) (2.32.3)\n",
            "Requirement already satisfied: fsspec>=2023.5.0 in /usr/local/lib/python3.11/dist-packages (from huggingface-hub) (2025.3.2)\n",
            "Requirement already satisfied: packaging>=20.9 in /usr/local/lib/python3.11/dist-packages (from huggingface-hub) (24.2)\n",
            "Requirement already satisfied: pyyaml>=5.1 in /usr/local/lib/python3.11/dist-packages (from huggingface-hub) (6.0.2)\n",
            "Requirement already satisfied: typing-extensions>=3.7.4.3 in /usr/local/lib/python3.11/dist-packages (from huggingface-hub) (4.14.0)\n",
            "Requirement already satisfied: hf-xet<2.0.0,>=1.1.2 in /usr/local/lib/python3.11/dist-packages (from huggingface-hub) (1.1.5)\n",
            "Requirement already satisfied: contourpy>=1.0.1 in /usr/local/lib/python3.11/dist-packages (from matplotlib) (1.3.2)\n",
            "Requirement already satisfied: cycler>=0.10 in /usr/local/lib/python3.11/dist-packages (from matplotlib) (0.12.1)\n",
            "Requirement already satisfied: fonttools>=4.22.0 in /usr/local/lib/python3.11/dist-packages (from matplotlib) (4.58.4)\n",
            "Requirement already satisfied: kiwisolver>=1.3.1 in /usr/local/lib/python3.11/dist-packages (from matplotlib) (1.4.8)\n",
            "Requirement already satisfied: pillow>=8 in /usr/local/lib/python3.11/dist-packages (from matplotlib) (11.2.1)\n",
            "Requirement already satisfied: pyparsing>=2.3.1 in /usr/local/lib/python3.11/dist-packages (from matplotlib) (3.2.3)\n",
            "Requirement already satisfied: scipy>=1.6.0 in /usr/local/lib/python3.11/dist-packages (from scikit-learn) (1.15.3)\n",
            "Requirement already satisfied: joblib>=1.2.0 in /usr/local/lib/python3.11/dist-packages (from scikit-learn) (1.5.1)\n",
            "Requirement already satisfied: threadpoolctl>=3.1.0 in /usr/local/lib/python3.11/dist-packages (from scikit-learn) (3.6.0)\n",
            "Requirement already satisfied: regex!=2019.12.17 in /usr/local/lib/python3.11/dist-packages (from transformers) (2024.11.6)\n",
            "Requirement already satisfied: tokenizers<0.22,>=0.21 in /usr/local/lib/python3.11/dist-packages (from transformers) (0.21.2)\n",
            "Requirement already satisfied: safetensors>=0.4.3 in /usr/local/lib/python3.11/dist-packages (from transformers) (0.5.3)\n",
            "Requirement already satisfied: networkx in /usr/local/lib/python3.11/dist-packages (from torch) (3.5)\n",
            "Requirement already satisfied: jinja2 in /usr/local/lib/python3.11/dist-packages (from torch) (3.1.6)\n",
            "Collecting nvidia-cuda-nvrtc-cu12==12.4.127 (from torch)\n",
            "  Downloading nvidia_cuda_nvrtc_cu12-12.4.127-py3-none-manylinux2014_x86_64.whl.metadata (1.5 kB)\n",
            "Collecting nvidia-cuda-runtime-cu12==12.4.127 (from torch)\n",
            "  Downloading nvidia_cuda_runtime_cu12-12.4.127-py3-none-manylinux2014_x86_64.whl.metadata (1.5 kB)\n",
            "Collecting nvidia-cuda-cupti-cu12==12.4.127 (from torch)\n",
            "  Downloading nvidia_cuda_cupti_cu12-12.4.127-py3-none-manylinux2014_x86_64.whl.metadata (1.6 kB)\n",
            "Collecting nvidia-cudnn-cu12==9.1.0.70 (from torch)\n",
            "  Downloading nvidia_cudnn_cu12-9.1.0.70-py3-none-manylinux2014_x86_64.whl.metadata (1.6 kB)\n",
            "Collecting nvidia-cublas-cu12==12.4.5.8 (from torch)\n",
            "  Downloading nvidia_cublas_cu12-12.4.5.8-py3-none-manylinux2014_x86_64.whl.metadata (1.5 kB)\n",
            "Collecting nvidia-cufft-cu12==11.2.1.3 (from torch)\n",
            "  Downloading nvidia_cufft_cu12-11.2.1.3-py3-none-manylinux2014_x86_64.whl.metadata (1.5 kB)\n",
            "Collecting nvidia-curand-cu12==10.3.5.147 (from torch)\n",
            "  Downloading nvidia_curand_cu12-10.3.5.147-py3-none-manylinux2014_x86_64.whl.metadata (1.5 kB)\n",
            "Collecting nvidia-cusolver-cu12==11.6.1.9 (from torch)\n",
            "  Downloading nvidia_cusolver_cu12-11.6.1.9-py3-none-manylinux2014_x86_64.whl.metadata (1.6 kB)\n",
            "Collecting nvidia-cusparse-cu12==12.3.1.170 (from torch)\n",
            "  Downloading nvidia_cusparse_cu12-12.3.1.170-py3-none-manylinux2014_x86_64.whl.metadata (1.6 kB)\n",
            "Requirement already satisfied: nvidia-cusparselt-cu12==0.6.2 in /usr/local/lib/python3.11/dist-packages (from torch) (0.6.2)\n",
            "Requirement already satisfied: nvidia-nccl-cu12==2.21.5 in /usr/local/lib/python3.11/dist-packages (from torch) (2.21.5)\n",
            "Requirement already satisfied: nvidia-nvtx-cu12==12.4.127 in /usr/local/lib/python3.11/dist-packages (from torch) (12.4.127)\n",
            "Collecting nvidia-nvjitlink-cu12==12.4.127 (from torch)\n",
            "  Downloading nvidia_nvjitlink_cu12-12.4.127-py3-none-manylinux2014_x86_64.whl.metadata (1.5 kB)\n",
            "Requirement already satisfied: triton==3.2.0 in /usr/local/lib/python3.11/dist-packages (from torch) (3.2.0)\n",
            "Requirement already satisfied: sympy==1.13.1 in /usr/local/lib/python3.11/dist-packages (from torch) (1.13.1)\n",
            "Requirement already satisfied: mpmath<1.4,>=1.1.0 in /usr/local/lib/python3.11/dist-packages (from sympy==1.13.1->torch) (1.3.0)\n",
            "Requirement already satisfied: six>=1.5 in /usr/local/lib/python3.11/dist-packages (from python-dateutil>=2.8.2->pandas) (1.17.0)\n",
            "Requirement already satisfied: soupsieve>1.2 in /usr/local/lib/python3.11/dist-packages (from beautifulsoup4->gdown) (2.7)\n",
            "Requirement already satisfied: MarkupSafe>=2.0 in /usr/local/lib/python3.11/dist-packages (from jinja2->torch) (3.0.2)\n",
            "Requirement already satisfied: charset-normalizer<4,>=2 in /usr/local/lib/python3.11/dist-packages (from requests[socks]->gdown) (3.4.2)\n",
            "Requirement already satisfied: idna<4,>=2.5 in /usr/local/lib/python3.11/dist-packages (from requests[socks]->gdown) (3.10)\n",
            "Requirement already satisfied: urllib3<3,>=1.21.1 in /usr/local/lib/python3.11/dist-packages (from requests[socks]->gdown) (2.4.0)\n",
            "Requirement already satisfied: certifi>=2017.4.17 in /usr/local/lib/python3.11/dist-packages (from requests[socks]->gdown) (2025.6.15)\n",
            "Requirement already satisfied: PySocks!=1.5.7,>=1.5.6 in /usr/local/lib/python3.11/dist-packages (from requests[socks]->gdown) (1.7.1)\n",
            "Downloading nvidia_cublas_cu12-12.4.5.8-py3-none-manylinux2014_x86_64.whl (363.4 MB)\n",
            "\u001b[2K   \u001b[90m━━━━━━━━━━━━━━━━━━━━━━━━━━━━━━━━━━━━━━━━\u001b[0m \u001b[32m363.4/363.4 MB\u001b[0m \u001b[31m1.3 MB/s\u001b[0m eta \u001b[36m0:00:00\u001b[0m\n",
            "\u001b[?25hDownloading nvidia_cuda_cupti_cu12-12.4.127-py3-none-manylinux2014_x86_64.whl (13.8 MB)\n",
            "\u001b[2K   \u001b[90m━━━━━━━━━━━━━━━━━━━━━━━━━━━━━━━━━━━━━━━━\u001b[0m \u001b[32m13.8/13.8 MB\u001b[0m \u001b[31m59.6 MB/s\u001b[0m eta \u001b[36m0:00:00\u001b[0m\n",
            "\u001b[?25hDownloading nvidia_cuda_nvrtc_cu12-12.4.127-py3-none-manylinux2014_x86_64.whl (24.6 MB)\n",
            "\u001b[2K   \u001b[90m━━━━━━━━━━━━━━━━━━━━━━━━━━━━━━━━━━━━━━━━\u001b[0m \u001b[32m24.6/24.6 MB\u001b[0m \u001b[31m66.5 MB/s\u001b[0m eta \u001b[36m0:00:00\u001b[0m\n",
            "\u001b[?25hDownloading nvidia_cuda_runtime_cu12-12.4.127-py3-none-manylinux2014_x86_64.whl (883 kB)\n",
            "\u001b[2K   \u001b[90m━━━━━━━━━━━━━━━━━━━━━━━━━━━━━━━━━━━━━━━━\u001b[0m \u001b[32m883.7/883.7 kB\u001b[0m \u001b[31m50.4 MB/s\u001b[0m eta \u001b[36m0:00:00\u001b[0m\n",
            "\u001b[?25hDownloading nvidia_cudnn_cu12-9.1.0.70-py3-none-manylinux2014_x86_64.whl (664.8 MB)\n",
            "\u001b[2K   \u001b[90m━━━━━━━━━━━━━━━━━━━━━━━━━━━━━━━━━━━━━━━━\u001b[0m \u001b[32m664.8/664.8 MB\u001b[0m \u001b[31m2.9 MB/s\u001b[0m eta \u001b[36m0:00:00\u001b[0m\n",
            "\u001b[?25hDownloading nvidia_cufft_cu12-11.2.1.3-py3-none-manylinux2014_x86_64.whl (211.5 MB)\n",
            "\u001b[2K   \u001b[90m━━━━━━━━━━━━━━━━━━━━━━━━━━━━━━━━━━━━━━━━\u001b[0m \u001b[32m211.5/211.5 MB\u001b[0m \u001b[31m5.5 MB/s\u001b[0m eta \u001b[36m0:00:00\u001b[0m\n",
            "\u001b[?25hDownloading nvidia_curand_cu12-10.3.5.147-py3-none-manylinux2014_x86_64.whl (56.3 MB)\n",
            "\u001b[2K   \u001b[90m━━━━━━━━━━━━━━━━━━━━━━━━━━━━━━━━━━━━━━━━\u001b[0m \u001b[32m56.3/56.3 MB\u001b[0m \u001b[31m12.7 MB/s\u001b[0m eta \u001b[36m0:00:00\u001b[0m\n",
            "\u001b[?25hDownloading nvidia_cusolver_cu12-11.6.1.9-py3-none-manylinux2014_x86_64.whl (127.9 MB)\n",
            "\u001b[2K   \u001b[90m━━━━━━━━━━━━━━━━━━━━━━━━━━━━━━━━━━━━━━━━\u001b[0m \u001b[32m127.9/127.9 MB\u001b[0m \u001b[31m6.5 MB/s\u001b[0m eta \u001b[36m0:00:00\u001b[0m\n",
            "\u001b[?25hDownloading nvidia_cusparse_cu12-12.3.1.170-py3-none-manylinux2014_x86_64.whl (207.5 MB)\n",
            "\u001b[2K   \u001b[90m━━━━━━━━━━━━━━━━━━━━━━━━━━━━━━━━━━━━━━━━\u001b[0m \u001b[32m207.5/207.5 MB\u001b[0m \u001b[31m2.5 MB/s\u001b[0m eta \u001b[36m0:00:00\u001b[0m\n",
            "\u001b[?25hDownloading nvidia_nvjitlink_cu12-12.4.127-py3-none-manylinux2014_x86_64.whl (21.1 MB)\n",
            "\u001b[2K   \u001b[90m━━━━━━━━━━━━━━━━━━━━━━━━━━━━━━━━━━━━━━━━\u001b[0m \u001b[32m21.1/21.1 MB\u001b[0m \u001b[31m107.2 MB/s\u001b[0m eta \u001b[36m0:00:00\u001b[0m\n",
            "\u001b[?25hInstalling collected packages: nvidia-nvjitlink-cu12, nvidia-curand-cu12, nvidia-cufft-cu12, nvidia-cuda-runtime-cu12, nvidia-cuda-nvrtc-cu12, nvidia-cuda-cupti-cu12, nvidia-cublas-cu12, nvidia-cusparse-cu12, nvidia-cudnn-cu12, nvidia-cusolver-cu12\n",
            "  Attempting uninstall: nvidia-nvjitlink-cu12\n",
            "    Found existing installation: nvidia-nvjitlink-cu12 12.5.82\n",
            "    Uninstalling nvidia-nvjitlink-cu12-12.5.82:\n",
            "      Successfully uninstalled nvidia-nvjitlink-cu12-12.5.82\n",
            "  Attempting uninstall: nvidia-curand-cu12\n",
            "    Found existing installation: nvidia-curand-cu12 10.3.6.82\n",
            "    Uninstalling nvidia-curand-cu12-10.3.6.82:\n",
            "      Successfully uninstalled nvidia-curand-cu12-10.3.6.82\n",
            "  Attempting uninstall: nvidia-cufft-cu12\n",
            "    Found existing installation: nvidia-cufft-cu12 11.2.3.61\n",
            "    Uninstalling nvidia-cufft-cu12-11.2.3.61:\n",
            "      Successfully uninstalled nvidia-cufft-cu12-11.2.3.61\n",
            "  Attempting uninstall: nvidia-cuda-runtime-cu12\n",
            "    Found existing installation: nvidia-cuda-runtime-cu12 12.5.82\n",
            "    Uninstalling nvidia-cuda-runtime-cu12-12.5.82:\n",
            "      Successfully uninstalled nvidia-cuda-runtime-cu12-12.5.82\n",
            "  Attempting uninstall: nvidia-cuda-nvrtc-cu12\n",
            "    Found existing installation: nvidia-cuda-nvrtc-cu12 12.5.82\n",
            "    Uninstalling nvidia-cuda-nvrtc-cu12-12.5.82:\n",
            "      Successfully uninstalled nvidia-cuda-nvrtc-cu12-12.5.82\n",
            "  Attempting uninstall: nvidia-cuda-cupti-cu12\n",
            "    Found existing installation: nvidia-cuda-cupti-cu12 12.5.82\n",
            "    Uninstalling nvidia-cuda-cupti-cu12-12.5.82:\n",
            "      Successfully uninstalled nvidia-cuda-cupti-cu12-12.5.82\n",
            "  Attempting uninstall: nvidia-cublas-cu12\n",
            "    Found existing installation: nvidia-cublas-cu12 12.5.3.2\n",
            "    Uninstalling nvidia-cublas-cu12-12.5.3.2:\n",
            "      Successfully uninstalled nvidia-cublas-cu12-12.5.3.2\n",
            "  Attempting uninstall: nvidia-cusparse-cu12\n",
            "    Found existing installation: nvidia-cusparse-cu12 12.5.1.3\n",
            "    Uninstalling nvidia-cusparse-cu12-12.5.1.3:\n",
            "      Successfully uninstalled nvidia-cusparse-cu12-12.5.1.3\n",
            "  Attempting uninstall: nvidia-cudnn-cu12\n",
            "    Found existing installation: nvidia-cudnn-cu12 9.3.0.75\n",
            "    Uninstalling nvidia-cudnn-cu12-9.3.0.75:\n",
            "      Successfully uninstalled nvidia-cudnn-cu12-9.3.0.75\n",
            "  Attempting uninstall: nvidia-cusolver-cu12\n",
            "    Found existing installation: nvidia-cusolver-cu12 11.6.3.83\n",
            "    Uninstalling nvidia-cusolver-cu12-11.6.3.83:\n",
            "      Successfully uninstalled nvidia-cusolver-cu12-11.6.3.83\n",
            "Successfully installed nvidia-cublas-cu12-12.4.5.8 nvidia-cuda-cupti-cu12-12.4.127 nvidia-cuda-nvrtc-cu12-12.4.127 nvidia-cuda-runtime-cu12-12.4.127 nvidia-cudnn-cu12-9.1.0.70 nvidia-cufft-cu12-11.2.1.3 nvidia-curand-cu12-10.3.5.147 nvidia-cusolver-cu12-11.6.1.9 nvidia-cusparse-cu12-12.3.1.170 nvidia-nvjitlink-cu12-12.4.127\n"
          ]
        }
      ],
      "source": [
        "!pip install pandas gdown huggingface-hub numpy matplotlib scikit-learn transformers torch tqdm"
      ]
    },
    {
      "cell_type": "code",
      "execution_count": 2,
      "metadata": {
        "colab": {
          "base_uri": "https://localhost:8080/"
        },
        "id": "ImJ21s77uOhW",
        "outputId": "f7bd4479-1d90-4252-e102-b8a9c6e78d9c"
      },
      "outputs": [
        {
          "name": "stdout",
          "output_type": "stream",
          "text": [
            "Requirement already satisfied: datasets in /usr/local/lib/python3.11/dist-packages (2.14.4)\n",
            "Collecting datasets\n",
            "  Downloading datasets-3.6.0-py3-none-any.whl.metadata (19 kB)\n",
            "Requirement already satisfied: filelock in /usr/local/lib/python3.11/dist-packages (from datasets) (3.18.0)\n",
            "Requirement already satisfied: numpy>=1.17 in /usr/local/lib/python3.11/dist-packages (from datasets) (2.0.2)\n",
            "Requirement already satisfied: pyarrow>=15.0.0 in /usr/local/lib/python3.11/dist-packages (from datasets) (18.1.0)\n",
            "Requirement already satisfied: dill<0.3.9,>=0.3.0 in /usr/local/lib/python3.11/dist-packages (from datasets) (0.3.7)\n",
            "Requirement already satisfied: pandas in /usr/local/lib/python3.11/dist-packages (from datasets) (2.2.2)\n",
            "Requirement already satisfied: requests>=2.32.2 in /usr/local/lib/python3.11/dist-packages (from datasets) (2.32.3)\n",
            "Requirement already satisfied: tqdm>=4.66.3 in /usr/local/lib/python3.11/dist-packages (from datasets) (4.67.1)\n",
            "Requirement already satisfied: xxhash in /usr/local/lib/python3.11/dist-packages (from datasets) (3.5.0)\n",
            "Requirement already satisfied: multiprocess<0.70.17 in /usr/local/lib/python3.11/dist-packages (from datasets) (0.70.15)\n",
            "Collecting fsspec<=2025.3.0,>=2023.1.0 (from fsspec[http]<=2025.3.0,>=2023.1.0->datasets)\n",
            "  Downloading fsspec-2025.3.0-py3-none-any.whl.metadata (11 kB)\n",
            "Requirement already satisfied: huggingface-hub>=0.24.0 in /usr/local/lib/python3.11/dist-packages (from datasets) (0.33.2)\n",
            "Requirement already satisfied: packaging in /usr/local/lib/python3.11/dist-packages (from datasets) (24.2)\n",
            "Requirement already satisfied: pyyaml>=5.1 in /usr/local/lib/python3.11/dist-packages (from datasets) (6.0.2)\n",
            "Requirement already satisfied: aiohttp!=4.0.0a0,!=4.0.0a1 in /usr/local/lib/python3.11/dist-packages (from fsspec[http]<=2025.3.0,>=2023.1.0->datasets) (3.11.15)\n",
            "Requirement already satisfied: typing-extensions>=3.7.4.3 in /usr/local/lib/python3.11/dist-packages (from huggingface-hub>=0.24.0->datasets) (4.14.0)\n",
            "Requirement already satisfied: hf-xet<2.0.0,>=1.1.2 in /usr/local/lib/python3.11/dist-packages (from huggingface-hub>=0.24.0->datasets) (1.1.5)\n",
            "Requirement already satisfied: charset-normalizer<4,>=2 in /usr/local/lib/python3.11/dist-packages (from requests>=2.32.2->datasets) (3.4.2)\n",
            "Requirement already satisfied: idna<4,>=2.5 in /usr/local/lib/python3.11/dist-packages (from requests>=2.32.2->datasets) (3.10)\n",
            "Requirement already satisfied: urllib3<3,>=1.21.1 in /usr/local/lib/python3.11/dist-packages (from requests>=2.32.2->datasets) (2.4.0)\n",
            "Requirement already satisfied: certifi>=2017.4.17 in /usr/local/lib/python3.11/dist-packages (from requests>=2.32.2->datasets) (2025.6.15)\n",
            "Requirement already satisfied: python-dateutil>=2.8.2 in /usr/local/lib/python3.11/dist-packages (from pandas->datasets) (2.9.0.post0)\n",
            "Requirement already satisfied: pytz>=2020.1 in /usr/local/lib/python3.11/dist-packages (from pandas->datasets) (2025.2)\n",
            "Requirement already satisfied: tzdata>=2022.7 in /usr/local/lib/python3.11/dist-packages (from pandas->datasets) (2025.2)\n",
            "Requirement already satisfied: aiohappyeyeballs>=2.3.0 in /usr/local/lib/python3.11/dist-packages (from aiohttp!=4.0.0a0,!=4.0.0a1->fsspec[http]<=2025.3.0,>=2023.1.0->datasets) (2.6.1)\n",
            "Requirement already satisfied: aiosignal>=1.1.2 in /usr/local/lib/python3.11/dist-packages (from aiohttp!=4.0.0a0,!=4.0.0a1->fsspec[http]<=2025.3.0,>=2023.1.0->datasets) (1.3.2)\n",
            "Requirement already satisfied: attrs>=17.3.0 in /usr/local/lib/python3.11/dist-packages (from aiohttp!=4.0.0a0,!=4.0.0a1->fsspec[http]<=2025.3.0,>=2023.1.0->datasets) (25.3.0)\n",
            "Requirement already satisfied: frozenlist>=1.1.1 in /usr/local/lib/python3.11/dist-packages (from aiohttp!=4.0.0a0,!=4.0.0a1->fsspec[http]<=2025.3.0,>=2023.1.0->datasets) (1.7.0)\n",
            "Requirement already satisfied: multidict<7.0,>=4.5 in /usr/local/lib/python3.11/dist-packages (from aiohttp!=4.0.0a0,!=4.0.0a1->fsspec[http]<=2025.3.0,>=2023.1.0->datasets) (6.6.3)\n",
            "Requirement already satisfied: propcache>=0.2.0 in /usr/local/lib/python3.11/dist-packages (from aiohttp!=4.0.0a0,!=4.0.0a1->fsspec[http]<=2025.3.0,>=2023.1.0->datasets) (0.3.2)\n",
            "Requirement already satisfied: yarl<2.0,>=1.17.0 in /usr/local/lib/python3.11/dist-packages (from aiohttp!=4.0.0a0,!=4.0.0a1->fsspec[http]<=2025.3.0,>=2023.1.0->datasets) (1.20.1)\n",
            "Requirement already satisfied: six>=1.5 in /usr/local/lib/python3.11/dist-packages (from python-dateutil>=2.8.2->pandas->datasets) (1.17.0)\n",
            "Downloading datasets-3.6.0-py3-none-any.whl (491 kB)\n",
            "\u001b[2K   \u001b[90m━━━━━━━━━━━━━━━━━━━━━━━━━━━━━━━━━━━━━━━━\u001b[0m \u001b[32m491.5/491.5 kB\u001b[0m \u001b[31m13.1 MB/s\u001b[0m eta \u001b[36m0:00:00\u001b[0m\n",
            "\u001b[?25hDownloading fsspec-2025.3.0-py3-none-any.whl (193 kB)\n",
            "\u001b[2K   \u001b[90m━━━━━━━━━━━━━━━━━━━━━━━━━━━━━━━━━━━━━━━━\u001b[0m \u001b[32m193.6/193.6 kB\u001b[0m \u001b[31m17.9 MB/s\u001b[0m eta \u001b[36m0:00:00\u001b[0m\n",
            "\u001b[?25hInstalling collected packages: fsspec, datasets\n",
            "  Attempting uninstall: fsspec\n",
            "    Found existing installation: fsspec 2025.3.2\n",
            "    Uninstalling fsspec-2025.3.2:\n",
            "      Successfully uninstalled fsspec-2025.3.2\n",
            "  Attempting uninstall: datasets\n",
            "    Found existing installation: datasets 2.14.4\n",
            "    Uninstalling datasets-2.14.4:\n",
            "      Successfully uninstalled datasets-2.14.4\n",
            "\u001b[31mERROR: pip's dependency resolver does not currently take into account all the packages that are installed. This behaviour is the source of the following dependency conflicts.\n",
            "gcsfs 2025.3.2 requires fsspec==2025.3.2, but you have fsspec 2025.3.0 which is incompatible.\u001b[0m\u001b[31m\n",
            "\u001b[0mSuccessfully installed datasets-3.6.0 fsspec-2025.3.0\n"
          ]
        }
      ],
      "source": [
        "!pip install -U datasets"
      ]
    },
    {
      "cell_type": "markdown",
      "metadata": {
        "id": "BkGeCoTJVDma"
      },
      "source": [
        "### 2. Imports"
      ]
    },
    {
      "cell_type": "code",
      "execution_count": 3,
      "metadata": {
        "id": "_D7g6b6xVGG9"
      },
      "outputs": [],
      "source": [
        "import os\n",
        "import json\n",
        "import sys\n",
        "import argparse\n",
        "import re\n",
        "from typing import List, Union\n",
        "import pandas as pd\n",
        "from tqdm import tqdm\n",
        "from pathlib import Path\n",
        "from google.colab import drive\n",
        "from datetime import datetime\n",
        "\n",
        "from abc import ABC, abstractmethod\n",
        "\n",
        "import torch\n",
        "import numpy as np\n",
        "import matplotlib.pyplot as plt\n",
        "from datasets import load_dataset\n",
        "from transformers import AutoModelForCausalLM, AutoTokenizer, pipeline"
      ]
    },
    {
      "cell_type": "code",
      "execution_count": 4,
      "metadata": {
        "colab": {
          "base_uri": "https://localhost:8080/"
        },
        "id": "prJZo492paGc",
        "outputId": "81008ab0-5fe0-4e48-c932-b713c1895ded"
      },
      "outputs": [
        {
          "data": {
            "text/plain": [
              "True"
            ]
          },
          "execution_count": 4,
          "metadata": {},
          "output_type": "execute_result"
        }
      ],
      "source": [
        "torch.cuda.is_available()"
      ]
    },
    {
      "cell_type": "markdown",
      "metadata": {
        "id": "VgcDALLqVGlu"
      },
      "source": [
        "### 3. Connect to Google Drive"
      ]
    },
    {
      "cell_type": "code",
      "execution_count": 5,
      "metadata": {
        "colab": {
          "base_uri": "https://localhost:8080/"
        },
        "id": "jG2LcXVGVKK_",
        "outputId": "6bf11abe-17b0-4140-e492-775cdfd1adbd"
      },
      "outputs": [
        {
          "name": "stdout",
          "output_type": "stream",
          "text": [
            "Mounted at /content/drive\n"
          ]
        }
      ],
      "source": [
        "drive.mount(\"/content/drive\",force_remount=True)\n",
        "os.chdir(\"/content/drive/My Drive\")"
      ]
    },
    {
      "cell_type": "markdown",
      "metadata": {
        "id": "mLgpzXE5VLXX"
      },
      "source": [
        "### 4. Utils Code"
      ]
    },
    {
      "cell_type": "code",
      "execution_count": 6,
      "metadata": {
        "id": "sk6gL82yVNPo"
      },
      "outputs": [],
      "source": [
        "def format_time_difference(seconds):\n",
        "    minutes = seconds // 60\n",
        "    hours = minutes // 60\n",
        "    days = hours // 24\n",
        "\n",
        "    if days > 0:\n",
        "        if hours % 24 > 0.1:\n",
        "            return f\"{days} days-{hours % 24} hours\"\n",
        "        else:\n",
        "            return f\"{days} days\"\n",
        "    elif hours > 0:\n",
        "        if minutes % 60 > 0.1:\n",
        "            return f\"{hours} hours-{minutes % 60} minutes\"\n",
        "        else:\n",
        "            return f\"{hours} hours\"\n",
        "    elif minutes > 0:\n",
        "        if seconds % 60 > 0.1:\n",
        "            return f\"{minutes} minutes-{seconds % 60} seconds\"\n",
        "        else:\n",
        "            return f\"{minutes} minutes\"\n",
        "    else:\n",
        "        return f\"{seconds} seconds\"\n",
        "\n",
        "def save_to_json(data, save_path):\n",
        "    os.makedirs(os.path.dirname(save_path), exist_ok=True)\n",
        "    with open(save_path, \"w\") as f:\n",
        "        json.dump(data, f, indent=4)\n",
        "\n",
        "def plot_series(filename, input_ts, output_ts, predicted_ts, save_folder):\n",
        "    plt.figure(figsize=(10, 5))\n",
        "    plt.plot(range(len(input_ts)), input_ts, label=\"Input Time Series\", marker='o')\n",
        "    plt.plot(range(len(input_ts), len(input_ts) + len(output_ts)), output_ts, label=\"Ground Truth\", marker='o')\n",
        "    plt.plot(range(len(input_ts), len(input_ts) + len(predicted_ts)), predicted_ts, label=\"Predicted\", linestyle='dashed')\n",
        "    plt.legend()\n",
        "    plt.title(f\"Prediction for {filename}\")\n",
        "    plt.xlabel(\"Time Steps\")\n",
        "    plt.ylabel(\"Value\")\n",
        "    plt.grid()\n",
        "\n",
        "    base_name = os.path.splitext(filename)[0]\n",
        "    save_path = os.path.join(save_folder, base_name + \".png\")\n",
        "    plt.savefig(save_path)\n",
        "\n",
        "    plt.close()\n",
        "\n",
        "def calculate_mape(y_true, y_pred):\n",
        "    y_true, y_pred = np.array(y_true), np.array(y_pred)\n",
        "\n",
        "    # Avoid division by zero\n",
        "    mask = y_true != 0\n",
        "    return np.mean(np.abs((y_true[mask] - y_pred[mask]) / y_true[mask])) * 100\n",
        "\n",
        "\n",
        "def calculate_acc(result_list, regrouped_labels = None):\n",
        "    if regrouped_labels is None:\n",
        "        correct_pred = sum(1 for result in result_list if result[\"ground_truth\"] in result[\"predict\"])\n",
        "    else:\n",
        "        correct_pred = 0\n",
        "        for result in result_list:\n",
        "            gt_group = regrouped_labels[result['ground_truth']]\n",
        "            for original_label in regrouped_labels.keys():\n",
        "                if original_label in result['predict']:\n",
        "                    predict_group = regrouped_labels[original_label]\n",
        "                    if gt_group == predict_group:\n",
        "                        correct_pred += 1\n",
        "                        break\n",
        "\n",
        "    total_pred = len(result_list)\n",
        "    accuracy = correct_pred / total_pred\n",
        "\n",
        "    return accuracy\n",
        "\n",
        "\n",
        "def calculate_correlation_acc(result_list):\n",
        "    model_predictions = {\"total\": 0, \"exact_correct\": 0, \"brief_correct\": 0}\n",
        "    positive_correlations = [\"Strong Positive Correlation\", \"Moderate Positive Correlation\"]\n",
        "    negative_correlations = [\"Strong Negative Correlation\", \"Moderate Negative Correlation\"]\n",
        "    for result in result_list:\n",
        "        prediction = result[\"predict\"].strip()\n",
        "        model_predictions[\"total\"] += 1\n",
        "        if prediction == result[\"ground_truth\"]:\n",
        "            model_predictions[\"exact_correct\"] += 1\n",
        "\n",
        "        # Brief accuracy\n",
        "        pred_is_positive = prediction in positive_correlations\n",
        "        pred_is_negative = prediction in negative_correlations\n",
        "        truth_is_positive = result[\"ground_truth\"] in positive_correlations\n",
        "        truth_is_negative = result[\"ground_truth\"] in negative_correlations\n",
        "\n",
        "        if (pred_is_positive and truth_is_positive) or \\\n",
        "            (pred_is_negative and truth_is_negative) or \\\n",
        "            (prediction == result[\"ground_truth\"]):\n",
        "            model_predictions[\"brief_correct\"] += 1\n",
        "\n",
        "    # Calculate and format results\n",
        "    total = model_predictions[\"total\"]\n",
        "    exact_accuracy = (model_predictions[\"exact_correct\"] / total) * 100\n",
        "    brief_accuracy = (model_predictions[\"brief_correct\"] / total) * 100\n",
        "\n",
        "    metric_results = {\n",
        "        \"exact_accuracy\": f\"{round(exact_accuracy, 2)}%\",\n",
        "        \"brief_accuracy\": f\"{round(brief_accuracy, 2)}%\",\n",
        "        \"total_samples\": total\n",
        "    }\n",
        "    return metric_results\n",
        "\n",
        "\n",
        "def calculate_mcqa_acc(result_list):\n",
        "    correct = 0\n",
        "    total = 0\n",
        "    for result in result_list:\n",
        "        predition = result[\"predict\"].strip()\n",
        "        predition = predition[0].upper()\n",
        "        if predition == result[\"ground_truth\"]:\n",
        "            correct += 1\n",
        "\n",
        "        total += 1\n",
        "\n",
        "    accuracy = correct / total\n",
        "\n",
        "    return accuracy * 100"
      ]
    },
    {
      "cell_type": "markdown",
      "metadata": {
        "id": "eygbt3uqV5bd"
      },
      "source": [
        "### 5. Models Code"
      ]
    },
    {
      "cell_type": "code",
      "execution_count": 7,
      "metadata": {
        "id": "VzVqjoWMV9ZJ"
      },
      "outputs": [],
      "source": [
        "class BaseModel(ABC):\n",
        "    @abstractmethod\n",
        "    def inference(self, content: str) -> str:\n",
        "        \"\"\"\n",
        "        Run inference on a given input prompt and return the generated output.\n",
        "        \"\"\"\n",
        "        pass"
      ]
    },
    {
      "cell_type": "code",
      "execution_count": 8,
      "metadata": {
        "id": "J-7-980UWDSQ"
      },
      "outputs": [],
      "source": [
        "class DeepSeekModel(BaseModel):\n",
        "    def __init__(self, model_name: str = \"deepseek-ai/DeepSeek-R1-Distill-Qwen-1.5B\", **kwargs):\n",
        "\n",
        "        # The model is set in eval mode by default by using eval()\n",
        "        # See: https://huggingface.co/docs/transformers/en/main_classes/model#transformers.PreTrainedModel\n",
        "        self.model = AutoModelForCausalLM.from_pretrained(\n",
        "            model_name,\n",
        "            torch_dtype=\"auto\",\n",
        "            device_map=\"auto\",\n",
        "            **kwargs\n",
        "        )\n",
        "        self.tokenizer = AutoTokenizer.from_pretrained(model_name)\n",
        "\n",
        "    def inference(self, content: str) -> str:\n",
        "        messages = [{\"role\": \"user\", \"content\": content}]\n",
        "\n",
        "        chat_prompt = self.tokenizer.apply_chat_template(\n",
        "            messages,\n",
        "            tokenize=False,\n",
        "            add_generation_prompt=True\n",
        "        )\n",
        "        tokenized_input = self.tokenizer([chat_prompt], return_tensors=\"pt\").to(self.model.device)\n",
        "        generated_output = self.model.generate(\n",
        "            **tokenized_input,\n",
        "            max_new_tokens=4096,\n",
        "        )\n",
        "        output_ids = generated_output[0][len(tokenized_input.input_ids[0]):].tolist()\n",
        "\n",
        "        # parsing thinking content\n",
        "        try:\n",
        "            # rindex finding 151649 (</think>)\n",
        "            index = len(output_ids) - output_ids[::-1].index(151649)\n",
        "        except ValueError:\n",
        "            index = 0\n",
        "        outputs = self.tokenizer.decode(output_ids[index:], skip_special_tokens=True).strip(\"\\n\")\n",
        "\n",
        "        return outputs"
      ]
    },
    {
      "cell_type": "code",
      "execution_count": null,
      "metadata": {
        "id": "94Rf3ZLIYCuI"
      },
      "outputs": [],
      "source": [
        "class LLaMAModel(BaseModel):\n",
        "    def __init__(self, model_name: str = \"meta-llama/Llama-3.2-1B-Instruct\", **kwargs):\n",
        "        self.pipeline = pipeline(\n",
        "            \"text-generation\",\n",
        "            model=model_name,\n",
        "            torch_dtype=\"auto\",\n",
        "            device_map=\"auto\",\n",
        "            token=\"\",\n",
        "            **kwargs\n",
        "        )\n",
        "\n",
        "    def inference(self, content: str) -> str:\n",
        "        messages = [{\"role\": \"user\", \"content\": content}]\n",
        "\n",
        "        outputs = self.pipeline(messages, max_new_tokens=1024)\n",
        "\n",
        "        return outputs[0][\"generated_text\"][-1][\"content\"]"
      ]
    },
    {
      "cell_type": "code",
      "execution_count": 10,
      "metadata": {
        "id": "fdC6qVPZYJVs"
      },
      "outputs": [],
      "source": [
        "class ModelFactory:\n",
        "    def __init__(self, config: dict):\n",
        "        self.config = config\n",
        "\n",
        "    @staticmethod\n",
        "    def get_model(model_type: str, model_name: str, **kwargs) -> BaseModel:\n",
        "        if model_type == \"deepseek\":\n",
        "            return DeepSeekModel(model_name=model_name, **kwargs)\n",
        "        elif model_type == \"llama\":\n",
        "            return LLaMAModel(model_name=model_name, **kwargs)\n",
        "        else:\n",
        "            raise ValueError(f\"Unsupported model type: {model_type}\")"
      ]
    },
    {
      "cell_type": "markdown",
      "metadata": {
        "id": "UsKClRUpYK8m"
      },
      "source": [
        "### 6. Experiment Code --"
      ]
    },
    {
      "cell_type": "code",
      "execution_count": 11,
      "metadata": {
        "id": "3Hw8kUS5sd-u"
      },
      "outputs": [],
      "source": [
        "def finance_mse_metaprompt_generation(\n",
        "    text: str,\n",
        "    prices: List[float],\n",
        "    start_datetime: str,\n",
        "    end_datetime: str,\n",
        "    pred_end_datetime: str,\n",
        "    granularity: str,\n",
        "    prediction_length: int,\n",
        "    mode: str,\n",
        ") -> str:\n",
        "    \"\"\"\n",
        "    Generates a meta-prompt for hypothetical stock price trend analysis\n",
        "    based on given inputs.\n",
        "\n",
        "    Args:\n",
        "        text (str): News article content within the input time series range.\n",
        "        prices (List[float]): Historical stock prices.\n",
        "        start_datetime (str): Start datetime of the input time series.\n",
        "        end_datetime (str): End datetime of the input time series.\n",
        "        pred_end_datetime (str): End datetime of the hypothetical projection.\n",
        "        granularity (str): Granularity of the input time series (e.g., daily, hourly).\n",
        "        prediction_length (int): Number of future time steps to estimate.\n",
        "        mode (str): Mode of estimation (\"timeseries_only\", \"text_only\", \"combined\").\n",
        "\n",
        "    Returns:\n",
        "        str: Meta-prompt for ChatGPT.\n",
        "    \"\"\"\n",
        "    prompt = (\n",
        "        f\"You are an AI assistant trained in data analysis and modeling. \"\n",
        "        f\"Your task is to conduct a research-based timeseries estimation for the next {prediction_length} time steps \"\n",
        "        f\"based on provided historical price movements and/or related news articles. \"\n",
        "        f\"This analysis aims to explore patterns in the given dataset and should not be considered financial advice. \"\n",
        "        f\"The input time series spans from {start_datetime} to {end_datetime}, with a granularity of {granularity}. \"\n",
        "        f\"The estimation period extends from {end_datetime} to {pred_end_datetime}, maintaining the same granularity.\"\n",
        "    )\n",
        "\n",
        "    if mode == \"timeseries_only\":\n",
        "        prompt += (\n",
        "            \"You will analyze the numerical patterns in historical prices and extrapolate potential movements. \"\n",
        "            f\"The input prices are: {prices}. \"\n",
        "        )\n",
        "    elif mode == \"text_only\":\n",
        "        prompt += (\n",
        "            \"You will analyze sentiment and potential market impacts from the following news article content: \"\n",
        "            f\"{text}. \"\n",
        "        )\n",
        "    elif mode == \"combined\":\n",
        "        prompt += (\n",
        "            \"You will use both historical price movements and relevant news sentiment analysis \"\n",
        "            f\"to explore hypothetical market trends. The input prices are: {prices}. The news article states: {text}. \"\n",
        "        )\n",
        "    else:\n",
        "        raise ValueError(\n",
        "            \"Invalid mode. Choose from 'timeseries_only', 'text_only', or 'combined'.\"\n",
        "        )\n",
        "\n",
        "    prompt += (\n",
        "        \"\\n\\nPlease return your estimated values in a structured format as a  list of float numbers. \"\n",
        "        \"Ensure the output follows this format strictly: \"\n",
        "        \"\\nPredicted Prices: value1, value2, ..., valueN. \"\n",
        "        f\"The number of estimated values should be exactly {prediction_length}. \"\n",
        "    )\n",
        "\n",
        "    return prompt\n",
        "\n",
        "def finance_macd_metaprompt_generation(\n",
        "    text: str,\n",
        "    prices: List[float],\n",
        "    start_datetime: str,\n",
        "    end_datetime: str,\n",
        "    pred_end_datetime: str,\n",
        "    granularity: str,\n",
        "    prediction_length: int,\n",
        "    mode: str,\n",
        ") -> str:\n",
        "\n",
        "    prompt = (\n",
        "        f\"You are an AI assistant trained in data analysis and modeling. \"\n",
        "        f\"Your task is to Predict the future Moving Average Convergence Divergence (MACD) values for the next {prediction_length} time steps \"\n",
        "        f\"based on provided historical timeseries movements and/or related news articles. \"\n",
        "        # f\"This analysis aims to explore patterns in the given dataset and should not be considered financial advice. \"\n",
        "        f\"The input time series spans from {start_datetime} to {end_datetime}, with a granularity of {granularity}. \"\n",
        "        f\"The estimation period extends from {end_datetime} to {pred_end_datetime}, maintaining the same granularity.\"\n",
        "    )\n",
        "\n",
        "    if mode == \"timeseries_only\":\n",
        "        prompt += (\n",
        "            \"You will analyze the numerical patterns in historical prices. \"\n",
        "            f\"The input prices are: {prices}. \"\n",
        "        )\n",
        "    elif mode == \"text_only\":\n",
        "        prompt += (\n",
        "            \"You will analyze sentiment and potential market impacts from the following news article content: \"\n",
        "            f\"{text}. \"\n",
        "        )\n",
        "    elif mode == \"combined\":\n",
        "        prompt += (\n",
        "            \"You will use both historical price movements and relevant text sentiment analysis \"\n",
        "            f\"The input prices are: {prices}. The news article states: {text}. \"\n",
        "        )\n",
        "    else:\n",
        "        raise ValueError(\n",
        "            \"Invalid mode. Choose from 'timeseries_only', 'text_only', or 'combined'.\"\n",
        "        )\n",
        "\n",
        "    prompt += (\n",
        "        \"\\n\\nPlease return your predicted MACD values in a structured format as a list of float numbers. Please predict the real possible values, do not use the naive linear extrapolation or similar methods\"\n",
        "        \"Ensure the output follows this format strictly: \"\n",
        "        \"\\nPredicted Prices: value1, value2, ..., valueN. \"\n",
        "        f\"The number of predicted values should be exactly {prediction_length}. \"\n",
        "    )\n",
        "\n",
        "    return prompt\n",
        "\n",
        "def finance_bb_metaprompt_generation(\n",
        "    text: str,\n",
        "    prices: List[float],\n",
        "    start_datetime: str,\n",
        "    end_datetime: str,\n",
        "    pred_end_datetime: str,\n",
        "    granularity: str,\n",
        "    prediction_length: int,\n",
        "    mode: str,\n",
        ") -> str:\n",
        "\n",
        "    prompt = (\n",
        "        f\"You are an AI assistant trained in data analysis and modeling. \"\n",
        "        f\"Your task is to Predict the future upper Bollinger Band (BB) values  for the next {prediction_length} time steps \"\n",
        "        f\"based on provided historical price movements and/or related news articles. \"\n",
        "        # f\"This analysis aims to explore patterns in the given dataset and should not be considered financial advice. \"\n",
        "        f\"The input time series spans from {start_datetime} to {end_datetime}, with a granularity of {granularity}. \"\n",
        "        f\"The estimation period extends from {end_datetime} to {pred_end_datetime}, maintaining the same granularity.\"\n",
        "    )\n",
        "\n",
        "    if mode == \"timeseries_only\":\n",
        "        prompt += (\n",
        "            \"You will analyze the numerical patterns in historical prices. \"\n",
        "            f\"The input prices are: {prices}. \"\n",
        "        )\n",
        "    elif mode == \"text_only\":\n",
        "        prompt += (\n",
        "            \"You will analyze sentiment and potential market impacts from the following news article content: \"\n",
        "            f\"{text}. \"\n",
        "        )\n",
        "    elif mode == \"combined\":\n",
        "        prompt += (\n",
        "            \"You will use both historical price movements and relevant news sentiment analysis \"\n",
        "            f\"to explore hypothetical market trends. The input prices are: {prices}. The news article states: {text}. \"\n",
        "        )\n",
        "    else:\n",
        "        raise ValueError(\n",
        "            \"Invalid mode. Choose from 'timeseries_only', 'text_only', or 'combined'.\"\n",
        "        )\n",
        "\n",
        "    prompt += (\n",
        "        \"\\n\\nPlease return your estimated upper Bollinger Band (BB) values values in a structured format as a list of float numbers. \"\n",
        "        \"Ensure the output follows this format strictly: \"\n",
        "        \"\\nPredicted Prices: value1, value2, ..., valueN. \"\n",
        "        f\"The number of estimated values should be exactly {prediction_length}. \"\n",
        "    )\n",
        "\n",
        "    return prompt\n",
        "\n",
        "def parse_val_prediction_response(response: str) -> Union[List[float], None]:\n",
        "    \"\"\"\n",
        "    Decodes the predicted prices from a response string.\n",
        "\n",
        "    Args:\n",
        "        response (str): The response containing the predicted prices.\n",
        "\n",
        "    Returns:\n",
        "        List[float]: A list of float numbers extracted from the response.\n",
        "        None: If extraction fails.\n",
        "    \"\"\"\n",
        "    match = re.search(r\"Predicted Prices:\\s*([-\\d.,\\s]+)\", response)\n",
        "\n",
        "    if match:\n",
        "        try:\n",
        "            price_list = [float(value) for value in match.group(1).split(',')]\n",
        "            return price_list\n",
        "        except ValueError:\n",
        "            pass  # If conversion fails, try another approach\n",
        "\n",
        "    # Alternative approach: Find all potential numbers in the response\n",
        "    possible_numbers = re.findall(r\"-?\\d+\\.\\d+\", response)\n",
        "    if possible_numbers:\n",
        "        try:\n",
        "            return [float(num) for num in possible_numbers]\n",
        "        except ValueError:\n",
        "            pass  # If conversion fails, return None\n",
        "\n",
        "    return None  # Return None if extraction fails\n",
        "\n",
        "def finance_classification_metaprompt_generation(text=None, timestamps=None, prices=None, mode=None):\n",
        "    time_series_data = \", \".join([f\"{price}\" for price in  prices])\n",
        "\n",
        "    if mode == \"combined\":\n",
        "        meta_prompt = f\"\"\"\n",
        "            You are a financial prediction expert with knowledge of advanced machine learning models and time-series analysis.\n",
        "            Your goal is to predict the stock trend (rise, neutral, or fall) based on the following inputs:\n",
        "\n",
        "            1. **Time Series Stock Price Data**:\n",
        "            - This data includes stock prices recorded at 1-hour intervals over the last month from {timestamps[0]} to {timestamps[-1]}.\n",
        "            - Example data format:\n",
        "                {time_series_data}\n",
        "\n",
        "            2. **News Data**:\n",
        "            - This includes news headlines and summaries relevant to the stock's company or sector.\n",
        "            - Example data format:\n",
        "                {text}\n",
        "\n",
        "            ### Task:\n",
        "            Analyze the provided time-series data and news to identify future trends of the stock performance. Ensure that the news data is used to supplement the insights from the time-series analysis, focusing on combining both inputs for a more accurate prediction.\n",
        "\n",
        "            ### Output:\n",
        "            Provide a prediction for the stock trend categorized one of the following labels:\n",
        "            - \"<-4%\"\n",
        "            - \"-2% ~ -4%\"\n",
        "            - \"-2% ~ +2%\"\n",
        "            - \"+2% ~ +4%\"\n",
        "            - \">+4%\"\n",
        "\n",
        "            please think step-by-step and briefly explain how the combination of time-series data and news data led to the prediction;\n",
        "            then wrap your final answer in the final predicted label in the format ^^^label^^^\n",
        "        \"\"\"\n",
        "\n",
        "    elif mode == \"text_only\":\n",
        "        meta_prompt = f\"\"\"\n",
        "            You are a financial prediction expert with knowledge of advanced machine learning models and time-series analysis.\n",
        "            Your goal is to predict the stock trend with given labels based on the following input:\n",
        "\n",
        "            **News Data**:\n",
        "            - This includes news headlines and summaries relevant to the stock's company or sector.\n",
        "            - Example data format:\n",
        "                {text}\n",
        "\n",
        "            ### Output:\n",
        "            Provide a prediction for the stock trend categorized one of the following labels:\n",
        "            - \"<-4%\"\n",
        "            - \"-2% ~ -4%\"\n",
        "            - \"-2% ~ +2%\"\n",
        "            - \"+2% ~ +4%\"\n",
        "            - \">+4%\"\n",
        "\n",
        "            ### Task:\n",
        "            Analyze the news semantics to identify trends and patterns that could impact stock performance.\n",
        "            Then wrap your final answer in the final predicted label in the format ^^^label^^^\n",
        "        \"\"\"\n",
        "\n",
        "    elif mode == \"timeseries_only\":\n",
        "        meta_prompt = f\"\"\"\n",
        "            You are a financial prediction expert with knowledge of advanced machine learning models and time-series analysis.\n",
        "            Your goal is to predict the stock trend with given labels based on the following input:\n",
        "\n",
        "            1. **Time Series Stock Price Data**:\n",
        "            - This data includes stock prices recorded at 1-hour intervals over the last month from {timestamps[0]} to {timestamps[-1]}.\n",
        "            - Example data format:\n",
        "                {time_series_data}\n",
        "\n",
        "            ### Output:\n",
        "            Provide a prediction for the stock trend categorized one of the following labels:\n",
        "            - \"<-4%\"\n",
        "            - \"-2% ~ -4%\"\n",
        "            - \"-2% ~ +2%\"\n",
        "            - \"+2% ~ +4%\"\n",
        "            - \">+4%\"\n",
        "\n",
        "            ### Task:\n",
        "            Analyze the provided time-series data to identify trends and patterns that could impact stock performance. Focus solely on the time-series data for making predictions.\n",
        "             then wrap your final answer in the final predicted label in the format ^^^label^^^\n",
        "        \"\"\"\n",
        "\n",
        "    return meta_prompt\n",
        "\n",
        "def parse_cls_response(answer):\n",
        "    try:\n",
        "        return  re.findall(r'\\^\\^\\^(.*?)\\^\\^\\^', answer)[-1]\n",
        "    except:\n",
        "        return  re.findall(r'\\^+(.*?)\\^+', answer)[-1]\n",
        "\n",
        "\n",
        "\n",
        "def finance_correlation_metaprompt_generation(setting, sticker, time1, time2, in_price, news, time_news):\n",
        "\n",
        "    time_interval = \"1 hour\" if setting == \"long\" else \"5 minutes\"\n",
        "\n",
        "    if setting == \"long\":\n",
        "        system_prompt =\"You are an expert in finance and stock market analysis. Based on the given 30-day historical stock price time series and a financial analysis published at the last timestamp of the time series, your task is to predict the correlation between the stock's price fluctuations in the next 7 days and the analysis sentiment (positive correlation indicates that positive analysis leads to price increase and negative analysis leads to price decrease). Take into account external factors or market conditions that might affect stock price movement.\"\n",
        "    else:\n",
        "        system_prompt = \"You are an expert in finance and stock market analysis. Based on the given 7-day historical stock price time series and a financial analysis published at the last timestamp of the time series, your task is to predict the correlation between the stock's price fluctuations in the next 1 day and the analysis sentiment (positive correlation indicates that positive analysis leads to price increase and negative analysis leads to price decrease). Take into account external factors or market conditions that might affect stock price movement.\"\n",
        "    question = \"Return your answer in one of the following without any other words: Strong Positive Correlation, Moderate Positive Correlation, No Correlation, Moderate Negative Correlation, Strong Negative Correlation.\"\n",
        "    query = f\"stock price of {sticker} between {time1} to {time2}, time interval is {time_interval}: \\\n",
        "            {in_price}\\\n",
        "            News published at {time_news}: \\\n",
        "            {news}\\\n",
        "            {question} Answer:\"\n",
        "    prompt = f\"{system_prompt}\\n\\n{query}\"\n",
        "\n",
        "    return prompt\n",
        "\n",
        "\n",
        "\n",
        "\n",
        "def finance_mcqa_metaprompt_generation(setting, sticker, time1, time2, in_price, news, time_news, question):\n",
        "    time_interval = \"1 hour\" if setting == \"long\" else \"5 minutes\"\n",
        "    if setting  == \"long\":\n",
        "        system_prompt =\"You are an expert in finance and stock market analysis. Your task is to answer the question based on the given 30-day historical stock price time series and a financial analysis published at the last timestamp of the time series. Return your answer only in the letter (A, B, C, or D). \"\n",
        "    else:\n",
        "        system_prompt =\"You are an expert in finance and stock market analysis. Your task is to answer the question based on the given 7-day historical stock price time series and a financial analysis published at the last timestamp of the time series. Return your answer only in the letter (A, B, C, or D). \"\n",
        "    query = f\"stock price of {sticker} between {time1} to {time2}, time interval is {time_interval}: \\\n",
        "            {in_price}\\\n",
        "            News published at {time_news}: \\\n",
        "            {news}\\\n",
        "            Question: {question}. Give your answer in the letter (A, B, C, or D) without any other words. Answer:\"\n",
        "    prompt = f\"{system_prompt}\\n\\n{query}\"\n",
        "    return prompt"
      ]
    },
    {
      "cell_type": "code",
      "execution_count": 12,
      "metadata": {
        "id": "j79ILLkFaWC8"
      },
      "outputs": [],
      "source": [
        "# import sys\n",
        "\n",
        "# sys.argv = [\n",
        "#     \"script_name\",  # Placeholder for script name (ignored by argparse)\n",
        "#     \"--dataset_folder\", \"./MTBench-Test/MTBench_finance_QA_short\",\n",
        "#     \"--save_path\", \"./MTBench-Test/llama/qa_short\",\n",
        "#     \"--model_type\", \"llama\",\n",
        "#     \"--model\", \"meta-llama/Llama-3.2-1B-Instruct\",\n",
        "#     \"--setting\", \"short\"\n",
        "# ]\n",
        "\n",
        "import sys\n",
        "\n",
        "sys.argv = [\n",
        "    \"script_name\",  # Placeholder for script name (ignored by argparse)\n",
        "    \"--dataset_path\", \"./MTBench-Test/MTBench_finance_aligned_pairs_long/train-00000-of-00001.parquet\",\n",
        "    \"--save_path\", \"./MTBench-Test/llama/tsforecast_long\",\n",
        "    \"--model_type\", \"llama\",\n",
        "    \"--model\", \"meta-llama/Llama-3.2-1B-Instruct\",\n",
        "    \"--mode\", \"timeseries_only\",\n",
        "    \"--indicator\", \"time\"\n",
        "]"
      ]
    },
    {
      "cell_type": "code",
      "execution_count": 13,
      "metadata": {
        "colab": {
          "base_uri": "https://localhost:8080/",
          "height": 1000,
          "referenced_widgets": [
            "e02b10668111492db3f7ed9ac94270bb",
            "e56412e9efcb487c98d07003549e42fe",
            "415364c279cd4b47a7fa35c675192ba9",
            "e44b0ebcf2bc4819a2290b7012d85e60",
            "1075e6a050244b9d8fed8e5b36972ec3",
            "181a2f33d3134ac4aaa2843cdfa71507",
            "2c0eeb4622134fc888766b02989e472c",
            "6e40b250944748af9c6dc74585c21081",
            "71513df3257b46159afc36f78ee21ca1",
            "c75c910291d64bd4b9e8020014bb44f0",
            "e5c184b3e7674829ad82efa3e413d69a",
            "26094b0abdbb426c8787a25c9133d388",
            "46dd2126e754400fb00474f2a2c4b805",
            "3d9073799f40431f9f01efc26bafd3a9",
            "a1daf5092b544df0ad4f0e17a9ef7449",
            "8efdc1617ea4491eb39a3aadcef6b1fd",
            "27581f47076744f983e3b0102402e08d",
            "8e4b7145a3ba4788aba68548678f5676",
            "ac13a2635ed6413db917151a50f817b2",
            "dd72d234cace4a5aa092d2d9e82bf783",
            "5320d57be21c4dc3b8c78dd508217bff",
            "a9c9748361e44bebb625060eea4cb4c2",
            "2d81c88e34d142bfb55dde2c2664c004",
            "54b02dab61c24acfa167cbbf35377c60",
            "5c8662cc9c5146b8ae8fee755c0cd04b",
            "6b59c57007fb4a1cb43003c4a947a116",
            "de44e0b3cdf949f096bb7e60e75abf38",
            "d67815b43a624473b8e9c0758f6baffe",
            "423090f4d8e54c0b9fa461a934bd9675",
            "171eab9402dc49bc8b605844a9cd273d",
            "e94c950126b543caa8a6892a41f1d806",
            "4b921487bf8549cca8b9bba4194021df",
            "06c6b4ba17fd439ea13b11e2bc6b0625",
            "40044c7ccc7c475e95bfca8902f49e8b",
            "87df60008f4c4f518f202254153e4756",
            "a71804dfa1484efca97b8d27bae6e69f",
            "15d2ca9ba9c24407ae33c3ffbd2b4d5a",
            "1b7ac453757a49d5851082556be115b4",
            "050ee3c389fa4a48ab6fa210e3e4d9b9",
            "b9e3c587a82542d6af0ec289aeff6083",
            "7ef8b95eca8444dab35f0eae647aa66d",
            "fb1064fbb22b4afd8e85e0f3fafc8608",
            "aaa25438c1cb4e978b3511ab96effbb4",
            "a9c2a38e59d84d228d287bcf5debe1b7",
            "19b8ab839d124b03bdb229a95756ca3b",
            "69d4de399c55448398355bca0687a431",
            "abc37cdcf5884598a17b13f59a7ce642",
            "7d9185819d264dce97672315b254f231",
            "9f96570071f7448caed411c2fedc5f28",
            "183a6d9eac0b4ced9bf537661540426a",
            "ade8c70d4d3f413a997a970671fb9563",
            "ad95bfea92d142fdb6f8f95bb88f3b15",
            "9cd37b7aebf841a2b0541cd21a23af2e",
            "3affdfb49a29428d91679f7df65c0aea",
            "18a14555b65b4145bae61dde26fd3943",
            "6c38dc7521764c70b2df2aad4dfe665c",
            "c396334410b9415784bbabee6249112a",
            "a912edc764954e2d9d93770e748a1181",
            "94256edfe14b41608f9f39b3793b5b24",
            "54d92e913c2c41d6a3642070e4b28341",
            "4f9944a068c042d28a49c1cf89f7d5ad",
            "582586f5c1ad48fc8a15cab257f84648",
            "3f1548c71cdb4a4ab377b593f1b3b587",
            "5d9883fa554d44c293b6af4c43acf300",
            "fb3c8a68d87a499990c7d51aaaa87916",
            "c3201fa93f344489b3ef3d70449c8c74"
          ]
        },
        "id": "XdWvXn4YreWT",
        "outputId": "57875cf0-ad48-49de-e92e-6585f1f37968"
      },
      "outputs": [
        {
          "data": {
            "application/vnd.jupyter.widget-view+json": {
              "model_id": "e02b10668111492db3f7ed9ac94270bb",
              "version_major": 2,
              "version_minor": 0
            },
            "text/plain": [
              "config.json:   0%|          | 0.00/877 [00:00<?, ?B/s]"
            ]
          },
          "metadata": {},
          "output_type": "display_data"
        },
        {
          "data": {
            "application/vnd.jupyter.widget-view+json": {
              "model_id": "26094b0abdbb426c8787a25c9133d388",
              "version_major": 2,
              "version_minor": 0
            },
            "text/plain": [
              "model.safetensors:   0%|          | 0.00/2.47G [00:00<?, ?B/s]"
            ]
          },
          "metadata": {},
          "output_type": "display_data"
        },
        {
          "data": {
            "application/vnd.jupyter.widget-view+json": {
              "model_id": "2d81c88e34d142bfb55dde2c2664c004",
              "version_major": 2,
              "version_minor": 0
            },
            "text/plain": [
              "generation_config.json:   0%|          | 0.00/189 [00:00<?, ?B/s]"
            ]
          },
          "metadata": {},
          "output_type": "display_data"
        },
        {
          "name": "stderr",
          "output_type": "stream",
          "text": [
            "/usr/local/lib/python3.11/dist-packages/huggingface_hub/utils/_auth.py:94: UserWarning: \n",
            "The secret `HF_TOKEN` does not exist in your Colab secrets.\n",
            "To authenticate with the Hugging Face Hub, create a token in your settings tab (https://huggingface.co/settings/tokens), set it as secret in your Google Colab and restart your session.\n",
            "You will be able to reuse this secret in all of your notebooks.\n",
            "Please note that authentication is recommended but still optional to access public models or datasets.\n",
            "  warnings.warn(\n"
          ]
        },
        {
          "data": {
            "application/vnd.jupyter.widget-view+json": {
              "model_id": "40044c7ccc7c475e95bfca8902f49e8b",
              "version_major": 2,
              "version_minor": 0
            },
            "text/plain": [
              "tokenizer_config.json:   0%|          | 0.00/54.5k [00:00<?, ?B/s]"
            ]
          },
          "metadata": {},
          "output_type": "display_data"
        },
        {
          "data": {
            "application/vnd.jupyter.widget-view+json": {
              "model_id": "19b8ab839d124b03bdb229a95756ca3b",
              "version_major": 2,
              "version_minor": 0
            },
            "text/plain": [
              "tokenizer.json:   0%|          | 0.00/9.09M [00:00<?, ?B/s]"
            ]
          },
          "metadata": {},
          "output_type": "display_data"
        },
        {
          "data": {
            "application/vnd.jupyter.widget-view+json": {
              "model_id": "6c38dc7521764c70b2df2aad4dfe665c",
              "version_major": 2,
              "version_minor": 0
            },
            "text/plain": [
              "special_tokens_map.json:   0%|          | 0.00/296 [00:00<?, ?B/s]"
            ]
          },
          "metadata": {},
          "output_type": "display_data"
        },
        {
          "name": "stderr",
          "output_type": "stream",
          "text": [
            "Device set to use cuda:0\n"
          ]
        },
        {
          "name": "stdout",
          "output_type": "stream",
          "text": [
            "Evaluating 150 samples...\n"
          ]
        },
        {
          "name": "stderr",
          "output_type": "stream",
          "text": [
            "  0%|          | 0/150 [00:00<?, ?it/s]Setting `pad_token_id` to `eos_token_id`:128001 for open-end generation.\n",
            "  1%|          | 1/150 [00:29<1:13:08, 29.45s/it]Setting `pad_token_id` to `eos_token_id`:128001 for open-end generation.\n"
          ]
        },
        {
          "name": "stdout",
          "output_type": "stream",
          "text": [
            "train-00000-of-00001.parquet failed mse  554.9856573633517\n"
          ]
        },
        {
          "name": "stderr",
          "output_type": "stream",
          "text": [
            "\r  1%|▏         | 2/150 [00:57<1:10:59, 28.78s/it]Setting `pad_token_id` to `eos_token_id`:128001 for open-end generation.\n"
          ]
        },
        {
          "name": "stdout",
          "output_type": "stream",
          "text": [
            "train-00000-of-00001.parquet failed mse  1004.7537458964395\n"
          ]
        },
        {
          "name": "stderr",
          "output_type": "stream",
          "text": [
            "\r  2%|▏         | 3/150 [01:26<1:10:29, 28.77s/it]Setting `pad_token_id` to `eos_token_id`:128001 for open-end generation.\n"
          ]
        },
        {
          "name": "stdout",
          "output_type": "stream",
          "text": [
            "2/150: mse: 2.0893, mae: 1.4015, rmse: 1.4454\n"
          ]
        },
        {
          "name": "stderr",
          "output_type": "stream",
          "text": [
            "\r  3%|▎         | 4/150 [01:54<1:09:26, 28.54s/it]Setting `pad_token_id` to `eos_token_id`:128001 for open-end generation.\n"
          ]
        },
        {
          "name": "stdout",
          "output_type": "stream",
          "text": [
            "train-00000-of-00001.parquet failed mse  148.49677839155927\n"
          ]
        },
        {
          "name": "stderr",
          "output_type": "stream",
          "text": [
            "\r  3%|▎         | 5/150 [02:23<1:09:24, 28.72s/it]Setting `pad_token_id` to `eos_token_id`:128001 for open-end generation.\n"
          ]
        },
        {
          "name": "stdout",
          "output_type": "stream",
          "text": [
            "4/150: mse: 50.1731, mae: 6.6053, rmse: 7.0833\n"
          ]
        },
        {
          "name": "stderr",
          "output_type": "stream",
          "text": [
            "\r  4%|▍         | 6/150 [02:51<1:08:22, 28.49s/it]Setting `pad_token_id` to `eos_token_id`:128001 for open-end generation.\n"
          ]
        },
        {
          "name": "stdout",
          "output_type": "stream",
          "text": [
            "5/150: mse: 40.0711, mae: 5.4988, rmse: 6.3302\n"
          ]
        },
        {
          "name": "stderr",
          "output_type": "stream",
          "text": [
            "\r  5%|▍         | 7/150 [03:15<1:04:23, 27.02s/it]Setting `pad_token_id` to `eos_token_id`:128001 for open-end generation.\n"
          ]
        },
        {
          "name": "stdout",
          "output_type": "stream",
          "text": [
            "train-00000-of-00001.parquet failed mse  54187.57957559879\n"
          ]
        },
        {
          "name": "stderr",
          "output_type": "stream",
          "text": [
            "\r  5%|▌         | 8/150 [03:43<1:04:48, 27.38s/it]Setting `pad_token_id` to `eos_token_id`:128001 for open-end generation.\n"
          ]
        },
        {
          "name": "stdout",
          "output_type": "stream",
          "text": [
            "7/150: mse: 0.8566, mae: 0.8004, rmse: 0.9255\n"
          ]
        },
        {
          "name": "stderr",
          "output_type": "stream",
          "text": [
            "\r  6%|▌         | 9/150 [04:12<1:04:55, 27.63s/it]Setting `pad_token_id` to `eos_token_id`:128001 for open-end generation.\n"
          ]
        },
        {
          "name": "stdout",
          "output_type": "stream",
          "text": [
            "8/150: mse: 21.3337, mae: 2.2578, rmse: 4.6188\n"
          ]
        },
        {
          "name": "stderr",
          "output_type": "stream",
          "text": [
            "\r  7%|▋         | 10/150 [04:26<54:59, 23.57s/it] You seem to be using the pipelines sequentially on GPU. In order to maximize efficiency please use a dataset\n",
            "Setting `pad_token_id` to `eos_token_id`:128001 for open-end generation.\n"
          ]
        },
        {
          "name": "stdout",
          "output_type": "stream",
          "text": [
            "Skipping 9 due to error: object of type 'NoneType' has no len()\n"
          ]
        },
        {
          "name": "stderr",
          "output_type": "stream",
          "text": [
            "\r  7%|▋         | 11/150 [04:54<57:59, 25.03s/it]Setting `pad_token_id` to `eos_token_id`:128001 for open-end generation.\n"
          ]
        },
        {
          "name": "stdout",
          "output_type": "stream",
          "text": [
            "10/150: mse: 2.3550, mae: 1.0039, rmse: 1.5346\n"
          ]
        },
        {
          "name": "stderr",
          "output_type": "stream",
          "text": [
            "\r  8%|▊         | 12/150 [05:23<59:45, 25.98s/it]Setting `pad_token_id` to `eos_token_id`:128001 for open-end generation.\n"
          ]
        },
        {
          "name": "stdout",
          "output_type": "stream",
          "text": [
            "train-00000-of-00001.parquet failed mse  3327.440589030089\n"
          ]
        },
        {
          "name": "stderr",
          "output_type": "stream",
          "text": [
            "\r  9%|▊         | 13/150 [05:50<1:00:37, 26.55s/it]Setting `pad_token_id` to `eos_token_id`:128001 for open-end generation.\n"
          ]
        },
        {
          "name": "stdout",
          "output_type": "stream",
          "text": [
            "12/150: mse: 92.3363, mae: 9.1951, rmse: 9.6092\n"
          ]
        },
        {
          "name": "stderr",
          "output_type": "stream",
          "text": [
            "\r  9%|▉         | 14/150 [06:05<51:38, 22.79s/it]  Setting `pad_token_id` to `eos_token_id`:128001 for open-end generation.\n"
          ]
        },
        {
          "name": "stdout",
          "output_type": "stream",
          "text": [
            "13/150: mse: 16.6932, mae: 1.3369, rmse: 4.0857\n"
          ]
        },
        {
          "name": "stderr",
          "output_type": "stream",
          "text": [
            "\r 10%|█         | 15/150 [06:33<54:50, 24.38s/it]Setting `pad_token_id` to `eos_token_id`:128001 for open-end generation.\n"
          ]
        },
        {
          "name": "stdout",
          "output_type": "stream",
          "text": [
            "14/150: mse: 2.0654, mae: 1.2145, rmse: 1.4372\n"
          ]
        },
        {
          "name": "stderr",
          "output_type": "stream",
          "text": [
            "\r 11%|█         | 16/150 [07:02<57:38, 25.81s/it]Setting `pad_token_id` to `eos_token_id`:128001 for open-end generation.\n"
          ]
        },
        {
          "name": "stdout",
          "output_type": "stream",
          "text": [
            "15/150: mse: 4.0195, mae: 1.7634, rmse: 2.0049\n"
          ]
        },
        {
          "name": "stderr",
          "output_type": "stream",
          "text": [
            "\r 11%|█▏        | 17/150 [07:30<58:37, 26.45s/it]Setting `pad_token_id` to `eos_token_id`:128001 for open-end generation.\n"
          ]
        },
        {
          "name": "stdout",
          "output_type": "stream",
          "text": [
            "train-00000-of-00001.parquet failed mse  2599.221221199091\n"
          ]
        },
        {
          "name": "stderr",
          "output_type": "stream",
          "text": [
            "\r 12%|█▏        | 18/150 [07:58<59:26, 27.02s/it]Setting `pad_token_id` to `eos_token_id`:128001 for open-end generation.\n"
          ]
        },
        {
          "name": "stdout",
          "output_type": "stream",
          "text": [
            "17/150: mse: 45.4325, mae: 5.4707, rmse: 6.7404\n"
          ]
        },
        {
          "name": "stderr",
          "output_type": "stream",
          "text": [
            "\r 13%|█▎        | 19/150 [08:26<59:31, 27.27s/it]Setting `pad_token_id` to `eos_token_id`:128001 for open-end generation.\n"
          ]
        },
        {
          "name": "stdout",
          "output_type": "stream",
          "text": [
            "18/150: mse: 16.0611, mae: 3.7905, rmse: 4.0076\n"
          ]
        },
        {
          "name": "stderr",
          "output_type": "stream",
          "text": [
            "\r 13%|█▎        | 20/150 [08:54<59:30, 27.47s/it]Setting `pad_token_id` to `eos_token_id`:128001 for open-end generation.\n"
          ]
        },
        {
          "name": "stdout",
          "output_type": "stream",
          "text": [
            "train-00000-of-00001.parquet failed mse  175.03547511096056\n"
          ]
        },
        {
          "name": "stderr",
          "output_type": "stream",
          "text": [
            "\r 14%|█▍        | 21/150 [09:20<57:59, 26.97s/it]Setting `pad_token_id` to `eos_token_id`:128001 for open-end generation.\n"
          ]
        },
        {
          "name": "stdout",
          "output_type": "stream",
          "text": [
            "20/150: mse: 89.0576, mae: 7.2895, rmse: 9.4370\n"
          ]
        },
        {
          "name": "stderr",
          "output_type": "stream",
          "text": [
            "\r 15%|█▍        | 22/150 [09:48<58:15, 27.30s/it]Setting `pad_token_id` to `eos_token_id`:128001 for open-end generation.\n"
          ]
        },
        {
          "name": "stdout",
          "output_type": "stream",
          "text": [
            "21/150: mse: 20.0921, mae: 2.1591, rmse: 4.4824\n"
          ]
        },
        {
          "name": "stderr",
          "output_type": "stream",
          "text": [
            "\r 15%|█▌        | 23/150 [10:11<55:22, 26.16s/it]Setting `pad_token_id` to `eos_token_id`:128001 for open-end generation.\n"
          ]
        },
        {
          "name": "stdout",
          "output_type": "stream",
          "text": [
            "22/150: mse: 1.5233, mae: 1.1642, rmse: 1.2342\n"
          ]
        },
        {
          "name": "stderr",
          "output_type": "stream",
          "text": [
            "\r 16%|█▌        | 24/150 [10:29<49:34, 23.61s/it]Setting `pad_token_id` to `eos_token_id`:128001 for open-end generation.\n"
          ]
        },
        {
          "name": "stdout",
          "output_type": "stream",
          "text": [
            "23/150: mse: 5.8604, mae: 2.1558, rmse: 2.4208\n"
          ]
        },
        {
          "name": "stderr",
          "output_type": "stream",
          "text": [
            "\r 17%|█▋        | 25/150 [10:57<51:54, 24.91s/it]Setting `pad_token_id` to `eos_token_id`:128001 for open-end generation.\n"
          ]
        },
        {
          "name": "stdout",
          "output_type": "stream",
          "text": [
            "train-00000-of-00001.parquet failed mse  6792.845413255894\n"
          ]
        },
        {
          "name": "stderr",
          "output_type": "stream",
          "text": [
            "\r 17%|█▋        | 26/150 [11:26<54:14, 26.25s/it]Setting `pad_token_id` to `eos_token_id`:128001 for open-end generation.\n"
          ]
        },
        {
          "name": "stdout",
          "output_type": "stream",
          "text": [
            "25/150: mse: 47.5036, mae: 6.3679, rmse: 6.8923\n"
          ]
        },
        {
          "name": "stderr",
          "output_type": "stream",
          "text": [
            "\r 18%|█▊        | 27/150 [11:55<55:12, 26.93s/it]Setting `pad_token_id` to `eos_token_id`:128001 for open-end generation.\n"
          ]
        },
        {
          "name": "stdout",
          "output_type": "stream",
          "text": [
            "train-00000-of-00001.parquet failed mse  538.2987472507675\n"
          ]
        },
        {
          "name": "stderr",
          "output_type": "stream",
          "text": [
            "\r 19%|█▊        | 28/150 [12:23<55:17, 27.20s/it]Setting `pad_token_id` to `eos_token_id`:128001 for open-end generation.\n"
          ]
        },
        {
          "name": "stdout",
          "output_type": "stream",
          "text": [
            "27/150: mse: 24.6575, mae: 4.5681, rmse: 4.9656\n"
          ]
        },
        {
          "name": "stderr",
          "output_type": "stream",
          "text": [
            "\r 19%|█▉        | 29/150 [12:43<50:50, 25.21s/it]Setting `pad_token_id` to `eos_token_id`:128001 for open-end generation.\n"
          ]
        },
        {
          "name": "stdout",
          "output_type": "stream",
          "text": [
            "28/150: mse: 25.3923, mae: 4.9425, rmse: 5.0391\n"
          ]
        },
        {
          "name": "stderr",
          "output_type": "stream",
          "text": [
            "\r 20%|██        | 30/150 [13:12<52:25, 26.22s/it]Setting `pad_token_id` to `eos_token_id`:128001 for open-end generation.\n"
          ]
        },
        {
          "name": "stdout",
          "output_type": "stream",
          "text": [
            "29/150: mse: 10.2441, mae: 2.8220, rmse: 3.2006\n"
          ]
        },
        {
          "name": "stderr",
          "output_type": "stream",
          "text": [
            "\r 21%|██        | 31/150 [13:40<53:14, 26.85s/it]Setting `pad_token_id` to `eos_token_id`:128001 for open-end generation.\n"
          ]
        },
        {
          "name": "stdout",
          "output_type": "stream",
          "text": [
            "30/150: mse: 42.7948, mae: 2.7691, rmse: 6.5418\n"
          ]
        },
        {
          "name": "stderr",
          "output_type": "stream",
          "text": [
            "\r 21%|██▏       | 32/150 [14:08<53:34, 27.24s/it]Setting `pad_token_id` to `eos_token_id`:128001 for open-end generation.\n"
          ]
        },
        {
          "name": "stdout",
          "output_type": "stream",
          "text": [
            "31/150: mse: 2.6821, mae: 1.4047, rmse: 1.6377\n"
          ]
        },
        {
          "name": "stderr",
          "output_type": "stream",
          "text": [
            "\r 22%|██▏       | 33/150 [14:36<53:29, 27.43s/it]Setting `pad_token_id` to `eos_token_id`:128001 for open-end generation.\n"
          ]
        },
        {
          "name": "stdout",
          "output_type": "stream",
          "text": [
            "train-00000-of-00001.parquet failed mse  2999.07443606324\n"
          ]
        },
        {
          "name": "stderr",
          "output_type": "stream",
          "text": [
            "\r 23%|██▎       | 34/150 [15:04<53:21, 27.60s/it]Setting `pad_token_id` to `eos_token_id`:128001 for open-end generation.\n"
          ]
        },
        {
          "name": "stdout",
          "output_type": "stream",
          "text": [
            "train-00000-of-00001.parquet failed mse  100.72492425113961\n"
          ]
        },
        {
          "name": "stderr",
          "output_type": "stream",
          "text": [
            "\r 23%|██▎       | 35/150 [15:32<53:23, 27.86s/it]Setting `pad_token_id` to `eos_token_id`:128001 for open-end generation.\n"
          ]
        },
        {
          "name": "stdout",
          "output_type": "stream",
          "text": [
            "train-00000-of-00001.parquet failed mse  494.32607649999994\n"
          ]
        },
        {
          "name": "stderr",
          "output_type": "stream",
          "text": [
            "\r 24%|██▍       | 36/150 [16:01<53:30, 28.16s/it]Setting `pad_token_id` to `eos_token_id`:128001 for open-end generation.\n"
          ]
        },
        {
          "name": "stdout",
          "output_type": "stream",
          "text": [
            "35/150: mse: 0.6978, mae: 0.8091, rmse: 0.8353\n"
          ]
        },
        {
          "name": "stderr",
          "output_type": "stream",
          "text": [
            "\r 25%|██▍       | 37/150 [16:29<52:51, 28.07s/it]Setting `pad_token_id` to `eos_token_id`:128001 for open-end generation.\n"
          ]
        },
        {
          "name": "stdout",
          "output_type": "stream",
          "text": [
            "train-00000-of-00001.parquet failed mse  100.9430144291554\n"
          ]
        },
        {
          "name": "stderr",
          "output_type": "stream",
          "text": [
            "\r 25%|██▌       | 38/150 [16:57<52:21, 28.05s/it]Setting `pad_token_id` to `eos_token_id`:128001 for open-end generation.\n"
          ]
        },
        {
          "name": "stdout",
          "output_type": "stream",
          "text": [
            "37/150: mse: 12.4715, mae: 3.3984, rmse: 3.5315\n"
          ]
        },
        {
          "name": "stderr",
          "output_type": "stream",
          "text": [
            "\r 26%|██▌       | 39/150 [17:24<51:05, 27.62s/it]Setting `pad_token_id` to `eos_token_id`:128001 for open-end generation.\n"
          ]
        },
        {
          "name": "stdout",
          "output_type": "stream",
          "text": [
            "train-00000-of-00001.parquet failed mse  1816.7239235372726\n"
          ]
        },
        {
          "name": "stderr",
          "output_type": "stream",
          "text": [
            "\r 27%|██▋       | 40/150 [17:52<50:48, 27.72s/it]Setting `pad_token_id` to `eos_token_id`:128001 for open-end generation.\n"
          ]
        },
        {
          "name": "stdout",
          "output_type": "stream",
          "text": [
            "train-00000-of-00001.parquet failed mse  117.43063304690804\n"
          ]
        },
        {
          "name": "stderr",
          "output_type": "stream",
          "text": [
            "\r 27%|██▋       | 41/150 [18:17<48:54, 26.92s/it]Setting `pad_token_id` to `eos_token_id`:128001 for open-end generation.\n"
          ]
        },
        {
          "name": "stdout",
          "output_type": "stream",
          "text": [
            "Skipping 40 due to error: object of type 'NoneType' has no len()\n"
          ]
        },
        {
          "name": "stderr",
          "output_type": "stream",
          "text": [
            "\r 28%|██▊       | 42/150 [18:43<48:10, 26.76s/it]Setting `pad_token_id` to `eos_token_id`:128001 for open-end generation.\n"
          ]
        },
        {
          "name": "stdout",
          "output_type": "stream",
          "text": [
            "train-00000-of-00001.parquet failed mse  1506.9920734743182\n"
          ]
        },
        {
          "name": "stderr",
          "output_type": "stream",
          "text": [
            "\r 29%|██▊       | 43/150 [19:11<48:21, 27.12s/it]Setting `pad_token_id` to `eos_token_id`:128001 for open-end generation.\n"
          ]
        },
        {
          "name": "stdout",
          "output_type": "stream",
          "text": [
            "42/150: mse: 4.6562, mae: 1.7085, rmse: 2.1578\n"
          ]
        },
        {
          "name": "stderr",
          "output_type": "stream",
          "text": [
            "\r 29%|██▉       | 44/150 [19:39<48:31, 27.47s/it]Setting `pad_token_id` to `eos_token_id`:128001 for open-end generation.\n"
          ]
        },
        {
          "name": "stdout",
          "output_type": "stream",
          "text": [
            "train-00000-of-00001.parquet failed mse  478.41980692148763\n"
          ]
        },
        {
          "name": "stderr",
          "output_type": "stream",
          "text": [
            "\r 30%|███       | 45/150 [20:07<48:21, 27.63s/it]Setting `pad_token_id` to `eos_token_id`:128001 for open-end generation.\n"
          ]
        },
        {
          "name": "stdout",
          "output_type": "stream",
          "text": [
            "44/150: mse: 5.9121, mae: 2.2761, rmse: 2.4315\n"
          ]
        },
        {
          "name": "stderr",
          "output_type": "stream",
          "text": [
            "\r 31%|███       | 46/150 [20:36<48:32, 28.00s/it]Setting `pad_token_id` to `eos_token_id`:128001 for open-end generation.\n"
          ]
        },
        {
          "name": "stdout",
          "output_type": "stream",
          "text": [
            "45/150: mse: 0.7843, mae: 0.7272, rmse: 0.8856\n"
          ]
        },
        {
          "name": "stderr",
          "output_type": "stream",
          "text": [
            "\r 31%|███▏      | 47/150 [20:58<44:52, 26.14s/it]Setting `pad_token_id` to `eos_token_id`:128001 for open-end generation.\n"
          ]
        },
        {
          "name": "stdout",
          "output_type": "stream",
          "text": [
            "train-00000-of-00001.parquet failed mse  653.3595175519412\n"
          ]
        },
        {
          "name": "stderr",
          "output_type": "stream",
          "text": [
            "\r 32%|███▏      | 48/150 [21:24<44:26, 26.14s/it]Setting `pad_token_id` to `eos_token_id`:128001 for open-end generation.\n"
          ]
        },
        {
          "name": "stdout",
          "output_type": "stream",
          "text": [
            "47/150: mse: 3.0700, mae: 1.3636, rmse: 1.7521\n"
          ]
        },
        {
          "name": "stderr",
          "output_type": "stream",
          "text": [
            "\r 33%|███▎      | 49/150 [21:52<44:49, 26.62s/it]Setting `pad_token_id` to `eos_token_id`:128001 for open-end generation.\n"
          ]
        },
        {
          "name": "stdout",
          "output_type": "stream",
          "text": [
            "48/150: mse: 19.9902, mae: 1.5139, rmse: 4.4710\n"
          ]
        },
        {
          "name": "stderr",
          "output_type": "stream",
          "text": [
            "\r 33%|███▎      | 50/150 [22:20<44:52, 26.92s/it]Setting `pad_token_id` to `eos_token_id`:128001 for open-end generation.\n"
          ]
        },
        {
          "name": "stdout",
          "output_type": "stream",
          "text": [
            "49/150: mse: 12.6388, mae: 2.6671, rmse: 3.5551\n"
          ]
        },
        {
          "name": "stderr",
          "output_type": "stream",
          "text": [
            "\r 34%|███▍      | 51/150 [22:43<42:54, 26.01s/it]Setting `pad_token_id` to `eos_token_id`:128001 for open-end generation.\n"
          ]
        },
        {
          "name": "stdout",
          "output_type": "stream",
          "text": [
            "train-00000-of-00001.parquet failed mse  896.0716890766666\n"
          ]
        },
        {
          "name": "stderr",
          "output_type": "stream",
          "text": [
            "\r 35%|███▍      | 52/150 [23:15<45:10, 27.65s/it]Setting `pad_token_id` to `eos_token_id`:128001 for open-end generation.\n"
          ]
        },
        {
          "name": "stdout",
          "output_type": "stream",
          "text": [
            "51/150: mse: 0.0362, mae: 0.1523, rmse: 0.1903\n"
          ]
        },
        {
          "name": "stderr",
          "output_type": "stream",
          "text": [
            "\r 35%|███▌      | 53/150 [23:44<45:13, 27.97s/it]Setting `pad_token_id` to `eos_token_id`:128001 for open-end generation.\n"
          ]
        },
        {
          "name": "stdout",
          "output_type": "stream",
          "text": [
            "train-00000-of-00001.parquet failed mse  131.2303582965091\n"
          ]
        },
        {
          "name": "stderr",
          "output_type": "stream",
          "text": [
            "\r 36%|███▌      | 54/150 [24:12<44:55, 28.08s/it]Setting `pad_token_id` to `eos_token_id`:128001 for open-end generation.\n"
          ]
        },
        {
          "name": "stdout",
          "output_type": "stream",
          "text": [
            "53/150: mse: 13.9674, mae: 2.3027, rmse: 3.7373\n"
          ]
        },
        {
          "name": "stderr",
          "output_type": "stream",
          "text": [
            "\r 37%|███▋      | 55/150 [24:40<44:31, 28.12s/it]Setting `pad_token_id` to `eos_token_id`:128001 for open-end generation.\n"
          ]
        },
        {
          "name": "stdout",
          "output_type": "stream",
          "text": [
            "train-00000-of-00001.parquet failed mse  5216.458579544615\n"
          ]
        },
        {
          "name": "stderr",
          "output_type": "stream",
          "text": [
            "\r 37%|███▋      | 56/150 [25:09<44:19, 28.29s/it]Setting `pad_token_id` to `eos_token_id`:128001 for open-end generation.\n"
          ]
        },
        {
          "name": "stdout",
          "output_type": "stream",
          "text": [
            "train-00000-of-00001.parquet failed mse  4489.482486815626\n"
          ]
        },
        {
          "name": "stderr",
          "output_type": "stream",
          "text": [
            "\r 38%|███▊      | 57/150 [25:37<43:43, 28.21s/it]Setting `pad_token_id` to `eos_token_id`:128001 for open-end generation.\n"
          ]
        },
        {
          "name": "stdout",
          "output_type": "stream",
          "text": [
            "56/150: mse: 6.2647, mae: 2.3648, rmse: 2.5029\n"
          ]
        },
        {
          "name": "stderr",
          "output_type": "stream",
          "text": [
            "\r 39%|███▊      | 58/150 [26:05<43:06, 28.11s/it]Setting `pad_token_id` to `eos_token_id`:128001 for open-end generation.\n"
          ]
        },
        {
          "name": "stdout",
          "output_type": "stream",
          "text": [
            "train-00000-of-00001.parquet failed mse  132.71278206792616\n"
          ]
        },
        {
          "name": "stderr",
          "output_type": "stream",
          "text": [
            "\r 39%|███▉      | 59/150 [26:33<42:37, 28.11s/it]Setting `pad_token_id` to `eos_token_id`:128001 for open-end generation.\n"
          ]
        },
        {
          "name": "stdout",
          "output_type": "stream",
          "text": [
            "train-00000-of-00001.parquet failed mse  1988.885164378046\n"
          ]
        },
        {
          "name": "stderr",
          "output_type": "stream",
          "text": [
            "\r 40%|████      | 60/150 [27:00<41:37, 27.75s/it]Setting `pad_token_id` to `eos_token_id`:128001 for open-end generation.\n"
          ]
        },
        {
          "name": "stdout",
          "output_type": "stream",
          "text": [
            "59/150: mse: 12.6660, mae: 2.8832, rmse: 3.5589\n"
          ]
        },
        {
          "name": "stderr",
          "output_type": "stream",
          "text": [
            "\r 41%|████      | 61/150 [27:19<37:25, 25.23s/it]Setting `pad_token_id` to `eos_token_id`:128001 for open-end generation.\n"
          ]
        },
        {
          "name": "stdout",
          "output_type": "stream",
          "text": [
            "train-00000-of-00001.parquet failed mse  1767.384915471212\n"
          ]
        },
        {
          "name": "stderr",
          "output_type": "stream",
          "text": [
            "\r 41%|████▏     | 62/150 [27:47<38:09, 26.01s/it]Setting `pad_token_id` to `eos_token_id`:128001 for open-end generation.\n"
          ]
        },
        {
          "name": "stdout",
          "output_type": "stream",
          "text": [
            "61/150: mse: 6.4336, mae: 2.2537, rmse: 2.5365\n"
          ]
        },
        {
          "name": "stderr",
          "output_type": "stream",
          "text": [
            "\r 42%|████▏     | 63/150 [28:10<36:12, 24.97s/it]Setting `pad_token_id` to `eos_token_id`:128001 for open-end generation.\n"
          ]
        },
        {
          "name": "stdout",
          "output_type": "stream",
          "text": [
            "62/150: mse: 14.2011, mae: 3.7681, rmse: 3.7684\n"
          ]
        },
        {
          "name": "stderr",
          "output_type": "stream",
          "text": [
            "\r 43%|████▎     | 64/150 [28:37<37:02, 25.84s/it]Setting `pad_token_id` to `eos_token_id`:128001 for open-end generation.\n"
          ]
        },
        {
          "name": "stdout",
          "output_type": "stream",
          "text": [
            "63/150: mse: 41.2825, mae: 5.9475, rmse: 6.4251\n"
          ]
        },
        {
          "name": "stderr",
          "output_type": "stream",
          "text": [
            "\r 43%|████▎     | 65/150 [29:05<37:22, 26.38s/it]Setting `pad_token_id` to `eos_token_id`:128001 for open-end generation.\n"
          ]
        },
        {
          "name": "stdout",
          "output_type": "stream",
          "text": [
            "64/150: mse: 3.6213, mae: 1.6565, rmse: 1.9030\n"
          ]
        },
        {
          "name": "stderr",
          "output_type": "stream",
          "text": [
            "\r 44%|████▍     | 66/150 [29:34<37:52, 27.05s/it]Setting `pad_token_id` to `eos_token_id`:128001 for open-end generation.\n"
          ]
        },
        {
          "name": "stdout",
          "output_type": "stream",
          "text": [
            "train-00000-of-00001.parquet failed mse  5349.769323168761\n"
          ]
        },
        {
          "name": "stderr",
          "output_type": "stream",
          "text": [
            "\r 45%|████▍     | 67/150 [30:02<37:50, 27.36s/it]Setting `pad_token_id` to `eos_token_id`:128001 for open-end generation.\n"
          ]
        },
        {
          "name": "stdout",
          "output_type": "stream",
          "text": [
            "66/150: mse: 9.9288, mae: 2.9453, rmse: 3.1510\n"
          ]
        },
        {
          "name": "stderr",
          "output_type": "stream",
          "text": [
            "\r 45%|████▌     | 68/150 [30:30<37:41, 27.58s/it]Setting `pad_token_id` to `eos_token_id`:128001 for open-end generation.\n"
          ]
        },
        {
          "name": "stdout",
          "output_type": "stream",
          "text": [
            "67/150: mse: 3.7932, mae: 1.5146, rmse: 1.9476\n"
          ]
        },
        {
          "name": "stderr",
          "output_type": "stream",
          "text": [
            "\r 46%|████▌     | 69/150 [30:58<37:15, 27.60s/it]Setting `pad_token_id` to `eos_token_id`:128001 for open-end generation.\n"
          ]
        },
        {
          "name": "stdout",
          "output_type": "stream",
          "text": [
            "Skipping 68 due to error: object of type 'NoneType' has no len()\n"
          ]
        },
        {
          "name": "stderr",
          "output_type": "stream",
          "text": [
            "\r 47%|████▋     | 70/150 [31:15<32:39, 24.50s/it]Setting `pad_token_id` to `eos_token_id`:128001 for open-end generation.\n"
          ]
        },
        {
          "name": "stdout",
          "output_type": "stream",
          "text": [
            "train-00000-of-00001.parquet failed mse  1813.3320495175758\n"
          ]
        },
        {
          "name": "stderr",
          "output_type": "stream",
          "text": [
            "\r 47%|████▋     | 71/150 [31:43<33:37, 25.54s/it]Setting `pad_token_id` to `eos_token_id`:128001 for open-end generation.\n"
          ]
        },
        {
          "name": "stdout",
          "output_type": "stream",
          "text": [
            "70/150: mse: 63.0379, mae: 2.8695, rmse: 7.9396\n"
          ]
        },
        {
          "name": "stderr",
          "output_type": "stream",
          "text": [
            "\r 48%|████▊     | 72/150 [32:11<34:07, 26.26s/it]Setting `pad_token_id` to `eos_token_id`:128001 for open-end generation.\n"
          ]
        },
        {
          "name": "stdout",
          "output_type": "stream",
          "text": [
            "71/150: mse: 24.6150, mae: 4.6623, rmse: 4.9614\n"
          ]
        },
        {
          "name": "stderr",
          "output_type": "stream",
          "text": [
            "\r 49%|████▊     | 73/150 [32:34<32:35, 25.40s/it]Setting `pad_token_id` to `eos_token_id`:128001 for open-end generation.\n"
          ]
        },
        {
          "name": "stdout",
          "output_type": "stream",
          "text": [
            "train-00000-of-00001.parquet failed mse  106689.17966284849\n"
          ]
        },
        {
          "name": "stderr",
          "output_type": "stream",
          "text": [
            "\r 49%|████▉     | 74/150 [33:02<33:06, 26.14s/it]Setting `pad_token_id` to `eos_token_id`:128001 for open-end generation.\n"
          ]
        },
        {
          "name": "stdout",
          "output_type": "stream",
          "text": [
            "73/150: mse: 28.4854, mae: 5.0295, rmse: 5.3372\n"
          ]
        },
        {
          "name": "stderr",
          "output_type": "stream",
          "text": [
            "\r 50%|█████     | 75/150 [33:30<33:29, 26.80s/it]Setting `pad_token_id` to `eos_token_id`:128001 for open-end generation.\n"
          ]
        },
        {
          "name": "stdout",
          "output_type": "stream",
          "text": [
            "74/150: mse: 39.4700, mae: 3.1732, rmse: 6.2825\n"
          ]
        },
        {
          "name": "stderr",
          "output_type": "stream",
          "text": [
            "\r 51%|█████     | 76/150 [34:00<34:13, 27.74s/it]Setting `pad_token_id` to `eos_token_id`:128001 for open-end generation.\n"
          ]
        },
        {
          "name": "stdout",
          "output_type": "stream",
          "text": [
            "train-00000-of-00001.parquet failed mse  342.4664802884776\n"
          ]
        },
        {
          "name": "stderr",
          "output_type": "stream",
          "text": [
            "\r 51%|█████▏    | 77/150 [34:28<33:41, 27.69s/it]Setting `pad_token_id` to `eos_token_id`:128001 for open-end generation.\n"
          ]
        },
        {
          "name": "stdout",
          "output_type": "stream",
          "text": [
            "train-00000-of-00001.parquet failed mse  395.1210828784967\n"
          ]
        },
        {
          "name": "stderr",
          "output_type": "stream",
          "text": [
            "\r 52%|█████▏    | 78/150 [34:56<33:14, 27.70s/it]Setting `pad_token_id` to `eos_token_id`:128001 for open-end generation.\n"
          ]
        },
        {
          "name": "stdout",
          "output_type": "stream",
          "text": [
            "train-00000-of-00001.parquet failed mse  2327.898584507576\n"
          ]
        },
        {
          "name": "stderr",
          "output_type": "stream",
          "text": [
            "\r 53%|█████▎    | 79/150 [35:23<32:50, 27.75s/it]Setting `pad_token_id` to `eos_token_id`:128001 for open-end generation.\n"
          ]
        },
        {
          "name": "stdout",
          "output_type": "stream",
          "text": [
            "train-00000-of-00001.parquet failed mse  3873.4118421579847\n"
          ]
        },
        {
          "name": "stderr",
          "output_type": "stream",
          "text": [
            "\r 53%|█████▎    | 80/150 [35:51<32:23, 27.77s/it]Setting `pad_token_id` to `eos_token_id`:128001 for open-end generation.\n"
          ]
        },
        {
          "name": "stdout",
          "output_type": "stream",
          "text": [
            "train-00000-of-00001.parquet failed mse  893.7233093415422\n"
          ]
        },
        {
          "name": "stderr",
          "output_type": "stream",
          "text": [
            "\r 54%|█████▍    | 81/150 [36:19<32:03, 27.87s/it]Setting `pad_token_id` to `eos_token_id`:128001 for open-end generation.\n"
          ]
        },
        {
          "name": "stdout",
          "output_type": "stream",
          "text": [
            "train-00000-of-00001.parquet failed mse  2516.5860911134296\n"
          ]
        },
        {
          "name": "stderr",
          "output_type": "stream",
          "text": [
            "\r 55%|█████▍    | 82/150 [36:47<31:37, 27.90s/it]Setting `pad_token_id` to `eos_token_id`:128001 for open-end generation.\n"
          ]
        },
        {
          "name": "stdout",
          "output_type": "stream",
          "text": [
            "train-00000-of-00001.parquet failed mse  11745.983334356923\n"
          ]
        },
        {
          "name": "stderr",
          "output_type": "stream",
          "text": [
            "\r 55%|█████▌    | 83/150 [37:15<31:02, 27.80s/it]Setting `pad_token_id` to `eos_token_id`:128001 for open-end generation.\n"
          ]
        },
        {
          "name": "stdout",
          "output_type": "stream",
          "text": [
            "82/150: mse: 67.3572, mae: 5.3455, rmse: 8.2071\n"
          ]
        },
        {
          "name": "stderr",
          "output_type": "stream",
          "text": [
            "\r 56%|█████▌    | 84/150 [37:43<30:39, 27.87s/it]Setting `pad_token_id` to `eos_token_id`:128001 for open-end generation.\n"
          ]
        },
        {
          "name": "stdout",
          "output_type": "stream",
          "text": [
            "83/150: mse: 77.9353, mae: 2.0924, rmse: 8.8281\n"
          ]
        },
        {
          "name": "stderr",
          "output_type": "stream",
          "text": [
            "\r 57%|█████▋    | 85/150 [38:11<30:06, 27.80s/it]Setting `pad_token_id` to `eos_token_id`:128001 for open-end generation.\n"
          ]
        },
        {
          "name": "stdout",
          "output_type": "stream",
          "text": [
            "84/150: mse: 22.7083, mae: 4.2998, rmse: 4.7653\n"
          ]
        },
        {
          "name": "stderr",
          "output_type": "stream",
          "text": [
            "\r 57%|█████▋    | 86/150 [38:40<30:04, 28.20s/it]Setting `pad_token_id` to `eos_token_id`:128001 for open-end generation.\n"
          ]
        },
        {
          "name": "stdout",
          "output_type": "stream",
          "text": [
            "train-00000-of-00001.parquet failed mse  1940.8538811696255\n"
          ]
        },
        {
          "name": "stderr",
          "output_type": "stream",
          "text": [
            "\r 58%|█████▊    | 87/150 [39:07<29:27, 28.05s/it]Setting `pad_token_id` to `eos_token_id`:128001 for open-end generation.\n"
          ]
        },
        {
          "name": "stdout",
          "output_type": "stream",
          "text": [
            "86/150: mse: 3.3225, mae: 1.7570, rmse: 1.8228\n"
          ]
        },
        {
          "name": "stderr",
          "output_type": "stream",
          "text": [
            "\r 59%|█████▊    | 88/150 [39:35<28:59, 28.06s/it]Setting `pad_token_id` to `eos_token_id`:128001 for open-end generation.\n"
          ]
        },
        {
          "name": "stdout",
          "output_type": "stream",
          "text": [
            "train-00000-of-00001.parquet failed mse  873.7231936586792\n"
          ]
        },
        {
          "name": "stderr",
          "output_type": "stream",
          "text": [
            "\r 59%|█████▉    | 89/150 [40:04<28:33, 28.08s/it]Setting `pad_token_id` to `eos_token_id`:128001 for open-end generation.\n"
          ]
        },
        {
          "name": "stdout",
          "output_type": "stream",
          "text": [
            "88/150: mse: 17.5323, mae: 3.8165, rmse: 4.1872\n"
          ]
        },
        {
          "name": "stderr",
          "output_type": "stream",
          "text": [
            "\r 60%|██████    | 90/150 [40:32<28:02, 28.04s/it]Setting `pad_token_id` to `eos_token_id`:128001 for open-end generation.\n"
          ]
        },
        {
          "name": "stdout",
          "output_type": "stream",
          "text": [
            "train-00000-of-00001.parquet failed mse  3051.7845608187595\n"
          ]
        },
        {
          "name": "stderr",
          "output_type": "stream",
          "text": [
            "\r 61%|██████    | 91/150 [40:59<27:30, 27.97s/it]Setting `pad_token_id` to `eos_token_id`:128001 for open-end generation.\n"
          ]
        },
        {
          "name": "stdout",
          "output_type": "stream",
          "text": [
            "train-00000-of-00001.parquet failed mse  691.7236203538462\n"
          ]
        },
        {
          "name": "stderr",
          "output_type": "stream",
          "text": [
            "\r 61%|██████▏   | 92/150 [41:27<26:57, 27.90s/it]Setting `pad_token_id` to `eos_token_id`:128001 for open-end generation.\n"
          ]
        },
        {
          "name": "stdout",
          "output_type": "stream",
          "text": [
            "91/150: mse: 9.0096, mae: 2.6830, rmse: 3.0016\n"
          ]
        },
        {
          "name": "stderr",
          "output_type": "stream",
          "text": [
            "\r 62%|██████▏   | 93/150 [41:55<26:29, 27.88s/it]Setting `pad_token_id` to `eos_token_id`:128001 for open-end generation.\n"
          ]
        },
        {
          "name": "stdout",
          "output_type": "stream",
          "text": [
            "92/150: mse: 70.6825, mae: 8.4032, rmse: 8.4073\n"
          ]
        },
        {
          "name": "stderr",
          "output_type": "stream",
          "text": [
            "\r 63%|██████▎   | 94/150 [42:23<26:11, 28.07s/it]Setting `pad_token_id` to `eos_token_id`:128001 for open-end generation.\n"
          ]
        },
        {
          "name": "stdout",
          "output_type": "stream",
          "text": [
            "93/150: mse: 3.7051, mae: 1.2292, rmse: 1.9249\n"
          ]
        },
        {
          "name": "stderr",
          "output_type": "stream",
          "text": [
            "\r 63%|██████▎   | 95/150 [42:53<26:01, 28.39s/it]Setting `pad_token_id` to `eos_token_id`:128001 for open-end generation.\n"
          ]
        },
        {
          "name": "stdout",
          "output_type": "stream",
          "text": [
            "94/150: mse: 2.6893, mae: 1.4234, rmse: 1.6399\n"
          ]
        },
        {
          "name": "stderr",
          "output_type": "stream",
          "text": [
            "\r 64%|██████▍   | 96/150 [43:21<25:28, 28.30s/it]Setting `pad_token_id` to `eos_token_id`:128001 for open-end generation.\n"
          ]
        },
        {
          "name": "stdout",
          "output_type": "stream",
          "text": [
            "train-00000-of-00001.parquet failed mse  446.3002101455143\n"
          ]
        },
        {
          "name": "stderr",
          "output_type": "stream",
          "text": [
            "\r 65%|██████▍   | 97/150 [43:46<24:08, 27.33s/it]Setting `pad_token_id` to `eos_token_id`:128001 for open-end generation.\n"
          ]
        },
        {
          "name": "stdout",
          "output_type": "stream",
          "text": [
            "train-00000-of-00001.parquet failed mse  133.5210801609848\n"
          ]
        },
        {
          "name": "stderr",
          "output_type": "stream",
          "text": [
            "\r 65%|██████▌   | 98/150 [44:11<23:08, 26.70s/it]Setting `pad_token_id` to `eos_token_id`:128001 for open-end generation.\n"
          ]
        },
        {
          "name": "stdout",
          "output_type": "stream",
          "text": [
            "97/150: mse: 12.9530, mae: 2.8181, rmse: 3.5990\n"
          ]
        },
        {
          "name": "stderr",
          "output_type": "stream",
          "text": [
            "\r 66%|██████▌   | 99/150 [44:39<22:59, 27.06s/it]Setting `pad_token_id` to `eos_token_id`:128001 for open-end generation.\n"
          ]
        },
        {
          "name": "stdout",
          "output_type": "stream",
          "text": [
            "98/150: mse: 5.9595, mae: 2.0238, rmse: 2.4412\n"
          ]
        },
        {
          "name": "stderr",
          "output_type": "stream",
          "text": [
            "\r 67%|██████▋   | 100/150 [45:07<22:43, 27.27s/it]Setting `pad_token_id` to `eos_token_id`:128001 for open-end generation.\n"
          ]
        },
        {
          "name": "stdout",
          "output_type": "stream",
          "text": [
            "99/150: mse: 93.7726, mae: 8.7211, rmse: 9.6836\n"
          ]
        },
        {
          "name": "stderr",
          "output_type": "stream",
          "text": [
            "\r 67%|██████▋   | 101/150 [45:35<22:32, 27.60s/it]Setting `pad_token_id` to `eos_token_id`:128001 for open-end generation.\n"
          ]
        },
        {
          "name": "stdout",
          "output_type": "stream",
          "text": [
            "100/150: mse: 20.3827, mae: 1.5590, rmse: 4.5147\n"
          ]
        },
        {
          "name": "stderr",
          "output_type": "stream",
          "text": [
            "\r 68%|██████▊   | 102/150 [46:03<22:08, 27.69s/it]Setting `pad_token_id` to `eos_token_id`:128001 for open-end generation.\n"
          ]
        },
        {
          "name": "stdout",
          "output_type": "stream",
          "text": [
            "101/150: mse: 40.9044, mae: 5.4384, rmse: 6.3957\n"
          ]
        },
        {
          "name": "stderr",
          "output_type": "stream",
          "text": [
            "\r 69%|██████▊   | 103/150 [46:15<17:57, 22.93s/it]Setting `pad_token_id` to `eos_token_id`:128001 for open-end generation.\n"
          ]
        },
        {
          "name": "stdout",
          "output_type": "stream",
          "text": [
            "train-00000-of-00001.parquet failed mse  9148.049170498183\n"
          ]
        },
        {
          "name": "stderr",
          "output_type": "stream",
          "text": [
            "\r 69%|██████▉   | 104/150 [46:42<18:40, 24.36s/it]Setting `pad_token_id` to `eos_token_id`:128001 for open-end generation.\n"
          ]
        },
        {
          "name": "stdout",
          "output_type": "stream",
          "text": [
            "103/150: mse: 0.5954, mae: 0.5903, rmse: 0.7716\n"
          ]
        },
        {
          "name": "stderr",
          "output_type": "stream",
          "text": [
            "\r 70%|███████   | 105/150 [47:16<20:27, 27.27s/it]Setting `pad_token_id` to `eos_token_id`:128001 for open-end generation.\n"
          ]
        },
        {
          "name": "stdout",
          "output_type": "stream",
          "text": [
            "train-00000-of-00001.parquet failed mse  1207.7537746710527\n"
          ]
        },
        {
          "name": "stderr",
          "output_type": "stream",
          "text": [
            "\r 71%|███████   | 106/150 [47:45<20:15, 27.62s/it]Setting `pad_token_id` to `eos_token_id`:128001 for open-end generation.\n"
          ]
        },
        {
          "name": "stdout",
          "output_type": "stream",
          "text": [
            "train-00000-of-00001.parquet failed mse  644.8205859917093\n"
          ]
        },
        {
          "name": "stderr",
          "output_type": "stream",
          "text": [
            "\r 71%|███████▏  | 107/150 [48:13<19:49, 27.66s/it]Setting `pad_token_id` to `eos_token_id`:128001 for open-end generation.\n"
          ]
        },
        {
          "name": "stdout",
          "output_type": "stream",
          "text": [
            "106/150: mse: 0.6433, mae: 0.6187, rmse: 0.8020\n"
          ]
        },
        {
          "name": "stderr",
          "output_type": "stream",
          "text": [
            "\r 72%|███████▏  | 108/150 [48:40<19:24, 27.73s/it]Setting `pad_token_id` to `eos_token_id`:128001 for open-end generation.\n"
          ]
        },
        {
          "name": "stdout",
          "output_type": "stream",
          "text": [
            "train-00000-of-00001.parquet failed mse  1051.1250527047225\n"
          ]
        },
        {
          "name": "stderr",
          "output_type": "stream",
          "text": [
            "\r 73%|███████▎  | 109/150 [49:09<19:04, 27.91s/it]Setting `pad_token_id` to `eos_token_id`:128001 for open-end generation.\n"
          ]
        },
        {
          "name": "stdout",
          "output_type": "stream",
          "text": [
            "108/150: mse: 33.5731, mae: 5.1079, rmse: 5.7942\n"
          ]
        },
        {
          "name": "stderr",
          "output_type": "stream",
          "text": [
            "\r 73%|███████▎  | 110/150 [49:36<18:32, 27.81s/it]Setting `pad_token_id` to `eos_token_id`:128001 for open-end generation.\n"
          ]
        },
        {
          "name": "stdout",
          "output_type": "stream",
          "text": [
            "train-00000-of-00001.parquet failed mse  663.0371408470942\n"
          ]
        },
        {
          "name": "stderr",
          "output_type": "stream",
          "text": [
            "\r 74%|███████▍  | 111/150 [50:04<18:07, 27.87s/it]Setting `pad_token_id` to `eos_token_id`:128001 for open-end generation.\n"
          ]
        },
        {
          "name": "stdout",
          "output_type": "stream",
          "text": [
            "110/150: mse: 92.4870, mae: 3.5709, rmse: 9.6170\n"
          ]
        },
        {
          "name": "stderr",
          "output_type": "stream",
          "text": [
            "\r 75%|███████▍  | 112/150 [50:33<17:42, 27.97s/it]Setting `pad_token_id` to `eos_token_id`:128001 for open-end generation.\n"
          ]
        },
        {
          "name": "stdout",
          "output_type": "stream",
          "text": [
            "111/150: mse: 27.2814, mae: 4.5470, rmse: 5.2232\n"
          ]
        },
        {
          "name": "stderr",
          "output_type": "stream",
          "text": [
            "\r 75%|███████▌  | 113/150 [51:01<17:15, 27.98s/it]Setting `pad_token_id` to `eos_token_id`:128001 for open-end generation.\n"
          ]
        },
        {
          "name": "stdout",
          "output_type": "stream",
          "text": [
            "Skipping 112 due to error: object of type 'NoneType' has no len()\n"
          ]
        },
        {
          "name": "stderr",
          "output_type": "stream",
          "text": [
            "\r 76%|███████▌  | 114/150 [51:28<16:46, 27.95s/it]Setting `pad_token_id` to `eos_token_id`:128001 for open-end generation.\n"
          ]
        },
        {
          "name": "stdout",
          "output_type": "stream",
          "text": [
            "113/150: mse: 19.9797, mae: 3.9087, rmse: 4.4699\n"
          ]
        },
        {
          "name": "stderr",
          "output_type": "stream",
          "text": [
            "\r 77%|███████▋  | 115/150 [51:58<16:29, 28.27s/it]Setting `pad_token_id` to `eos_token_id`:128001 for open-end generation.\n"
          ]
        },
        {
          "name": "stdout",
          "output_type": "stream",
          "text": [
            "train-00000-of-00001.parquet failed mse  338.1035854019697\n"
          ]
        },
        {
          "name": "stderr",
          "output_type": "stream",
          "text": [
            "\r 77%|███████▋  | 116/150 [52:23<15:37, 27.57s/it]Setting `pad_token_id` to `eos_token_id`:128001 for open-end generation.\n"
          ]
        },
        {
          "name": "stdout",
          "output_type": "stream",
          "text": [
            "Skipping 115 due to error: object of type 'NoneType' has no len()\n"
          ]
        },
        {
          "name": "stderr",
          "output_type": "stream",
          "text": [
            "\r 78%|███████▊  | 117/150 [52:52<15:17, 27.80s/it]Setting `pad_token_id` to `eos_token_id`:128001 for open-end generation.\n"
          ]
        },
        {
          "name": "stdout",
          "output_type": "stream",
          "text": [
            "train-00000-of-00001.parquet failed mse  219.8781310984061\n"
          ]
        },
        {
          "name": "stderr",
          "output_type": "stream",
          "text": [
            "\r 79%|███████▊  | 118/150 [53:20<14:51, 27.87s/it]Setting `pad_token_id` to `eos_token_id`:128001 for open-end generation.\n"
          ]
        },
        {
          "name": "stdout",
          "output_type": "stream",
          "text": [
            "train-00000-of-00001.parquet failed mse  3579.8896608500563\n"
          ]
        },
        {
          "name": "stderr",
          "output_type": "stream",
          "text": [
            "\r 79%|███████▉  | 119/150 [53:46<14:11, 27.46s/it]Setting `pad_token_id` to `eos_token_id`:128001 for open-end generation.\n"
          ]
        },
        {
          "name": "stdout",
          "output_type": "stream",
          "text": [
            "118/150: mse: 3.5021, mae: 1.4187, rmse: 1.8714\n"
          ]
        },
        {
          "name": "stderr",
          "output_type": "stream",
          "text": [
            "\r 80%|████████  | 120/150 [54:14<13:46, 27.54s/it]Setting `pad_token_id` to `eos_token_id`:128001 for open-end generation.\n"
          ]
        },
        {
          "name": "stdout",
          "output_type": "stream",
          "text": [
            "train-00000-of-00001.parquet failed mse  179.2076245704261\n"
          ]
        },
        {
          "name": "stderr",
          "output_type": "stream",
          "text": [
            "\r 81%|████████  | 121/150 [54:42<13:20, 27.60s/it]Setting `pad_token_id` to `eos_token_id`:128001 for open-end generation.\n"
          ]
        },
        {
          "name": "stdout",
          "output_type": "stream",
          "text": [
            "120/150: mse: 85.9113, mae: 7.0847, rmse: 9.2688\n"
          ]
        },
        {
          "name": "stderr",
          "output_type": "stream",
          "text": [
            "\r 81%|████████▏ | 122/150 [55:10<12:55, 27.68s/it]Setting `pad_token_id` to `eos_token_id`:128001 for open-end generation.\n"
          ]
        },
        {
          "name": "stdout",
          "output_type": "stream",
          "text": [
            "121/150: mse: 2.0894, mae: 1.3316, rmse: 1.4455\n"
          ]
        },
        {
          "name": "stderr",
          "output_type": "stream",
          "text": [
            "\r 82%|████████▏ | 123/150 [55:38<12:30, 27.79s/it]Setting `pad_token_id` to `eos_token_id`:128001 for open-end generation.\n"
          ]
        },
        {
          "name": "stdout",
          "output_type": "stream",
          "text": [
            "122/150: mse: 8.0080, mae: 2.1023, rmse: 2.8298\n"
          ]
        },
        {
          "name": "stderr",
          "output_type": "stream",
          "text": [
            "\r 83%|████████▎ | 124/150 [56:06<12:05, 27.91s/it]Setting `pad_token_id` to `eos_token_id`:128001 for open-end generation.\n"
          ]
        },
        {
          "name": "stdout",
          "output_type": "stream",
          "text": [
            "123/150: mse: 12.3415, mae: 3.3754, rmse: 3.5130\n"
          ]
        },
        {
          "name": "stderr",
          "output_type": "stream",
          "text": [
            "\r 83%|████████▎ | 125/150 [56:35<11:46, 28.24s/it]Setting `pad_token_id` to `eos_token_id`:128001 for open-end generation.\n"
          ]
        },
        {
          "name": "stdout",
          "output_type": "stream",
          "text": [
            "train-00000-of-00001.parquet failed mse  272.6779384761562\n"
          ]
        },
        {
          "name": "stderr",
          "output_type": "stream",
          "text": [
            "\r 84%|████████▍ | 126/150 [57:03<11:15, 28.13s/it]Setting `pad_token_id` to `eos_token_id`:128001 for open-end generation.\n"
          ]
        },
        {
          "name": "stdout",
          "output_type": "stream",
          "text": [
            "125/150: mse: 17.2226, mae: 3.1693, rmse: 4.1500\n"
          ]
        },
        {
          "name": "stderr",
          "output_type": "stream",
          "text": [
            "\r 85%|████████▍ | 127/150 [57:31<10:45, 28.05s/it]Setting `pad_token_id` to `eos_token_id`:128001 for open-end generation.\n"
          ]
        },
        {
          "name": "stdout",
          "output_type": "stream",
          "text": [
            "train-00000-of-00001.parquet failed mse  1573.7036577926074\n"
          ]
        },
        {
          "name": "stderr",
          "output_type": "stream",
          "text": [
            "\r 85%|████████▌ | 128/150 [58:02<10:40, 29.10s/it]Setting `pad_token_id` to `eos_token_id`:128001 for open-end generation.\n"
          ]
        },
        {
          "name": "stdout",
          "output_type": "stream",
          "text": [
            "train-00000-of-00001.parquet failed mse  406.6179944681128\n"
          ]
        },
        {
          "name": "stderr",
          "output_type": "stream",
          "text": [
            "\r 86%|████████▌ | 129/150 [58:30<10:02, 28.67s/it]Setting `pad_token_id` to `eos_token_id`:128001 for open-end generation.\n"
          ]
        },
        {
          "name": "stdout",
          "output_type": "stream",
          "text": [
            "128/150: mse: 0.2135, mae: 0.3252, rmse: 0.4621\n"
          ]
        },
        {
          "name": "stderr",
          "output_type": "stream",
          "text": [
            "\r 87%|████████▋ | 130/150 [58:58<09:28, 28.41s/it]Setting `pad_token_id` to `eos_token_id`:128001 for open-end generation.\n"
          ]
        },
        {
          "name": "stdout",
          "output_type": "stream",
          "text": [
            "train-00000-of-00001.parquet failed mse  277.02397109281196\n"
          ]
        },
        {
          "name": "stderr",
          "output_type": "stream",
          "text": [
            "\r 87%|████████▋ | 131/150 [59:38<10:05, 31.87s/it]Setting `pad_token_id` to `eos_token_id`:128001 for open-end generation.\n"
          ]
        },
        {
          "name": "stdout",
          "output_type": "stream",
          "text": [
            "train-00000-of-00001.parquet failed mse  363.4323458281116\n"
          ]
        },
        {
          "name": "stderr",
          "output_type": "stream",
          "text": [
            "\r 88%|████████▊ | 132/150 [1:00:05<09:11, 30.66s/it]Setting `pad_token_id` to `eos_token_id`:128001 for open-end generation.\n"
          ]
        },
        {
          "name": "stdout",
          "output_type": "stream",
          "text": [
            "131/150: mse: 1.5894, mae: 1.2334, rmse: 1.2607\n"
          ]
        },
        {
          "name": "stderr",
          "output_type": "stream",
          "text": [
            "\r 89%|████████▊ | 133/150 [1:00:33<08:26, 29.77s/it]Setting `pad_token_id` to `eos_token_id`:128001 for open-end generation.\n"
          ]
        },
        {
          "name": "stdout",
          "output_type": "stream",
          "text": [
            "132/150: mse: 99.4569, mae: 8.1858, rmse: 9.9728\n"
          ]
        },
        {
          "name": "stderr",
          "output_type": "stream",
          "text": [
            "\r 89%|████████▉ | 134/150 [1:01:02<07:53, 29.58s/it]Setting `pad_token_id` to `eos_token_id`:128001 for open-end generation.\n"
          ]
        },
        {
          "name": "stdout",
          "output_type": "stream",
          "text": [
            "133/150: mse: 0.0304, mae: 0.1220, rmse: 0.1744\n"
          ]
        },
        {
          "name": "stderr",
          "output_type": "stream",
          "text": [
            "\r 90%|█████████ | 135/150 [1:01:31<07:17, 29.18s/it]Setting `pad_token_id` to `eos_token_id`:128001 for open-end generation.\n"
          ]
        },
        {
          "name": "stdout",
          "output_type": "stream",
          "text": [
            "train-00000-of-00001.parquet failed mse  585.9681008264472\n"
          ]
        },
        {
          "name": "stderr",
          "output_type": "stream",
          "text": [
            "\r 91%|█████████ | 136/150 [1:01:58<06:42, 28.75s/it]Setting `pad_token_id` to `eos_token_id`:128001 for open-end generation.\n"
          ]
        },
        {
          "name": "stdout",
          "output_type": "stream",
          "text": [
            "train-00000-of-00001.parquet failed mse  16140.022078809929\n"
          ]
        },
        {
          "name": "stderr",
          "output_type": "stream",
          "text": [
            "\r 91%|█████████▏| 137/150 [1:02:26<06:09, 28.44s/it]Setting `pad_token_id` to `eos_token_id`:128001 for open-end generation.\n"
          ]
        },
        {
          "name": "stdout",
          "output_type": "stream",
          "text": [
            "train-00000-of-00001.parquet failed mse  577.971669872184\n"
          ]
        },
        {
          "name": "stderr",
          "output_type": "stream",
          "text": [
            "\r 92%|█████████▏| 138/150 [1:02:54<05:39, 28.25s/it]Setting `pad_token_id` to `eos_token_id`:128001 for open-end generation.\n"
          ]
        },
        {
          "name": "stdout",
          "output_type": "stream",
          "text": [
            "train-00000-of-00001.parquet failed mse  182.06169871299247\n"
          ]
        },
        {
          "name": "stderr",
          "output_type": "stream",
          "text": [
            "\r 93%|█████████▎| 139/150 [1:03:20<05:05, 27.76s/it]Setting `pad_token_id` to `eos_token_id`:128001 for open-end generation.\n"
          ]
        },
        {
          "name": "stdout",
          "output_type": "stream",
          "text": [
            "138/150: mse: 5.3058, mae: 2.1408, rmse: 2.3034\n"
          ]
        },
        {
          "name": "stderr",
          "output_type": "stream",
          "text": [
            "\r 93%|█████████▎| 140/150 [1:04:08<05:36, 33.67s/it]Setting `pad_token_id` to `eos_token_id`:128001 for open-end generation.\n"
          ]
        },
        {
          "name": "stdout",
          "output_type": "stream",
          "text": [
            "139/150: mse: 0.0058, mae: 0.0637, rmse: 0.0759\n"
          ]
        },
        {
          "name": "stderr",
          "output_type": "stream",
          "text": [
            "\r 94%|█████████▍| 141/150 [1:04:33<04:39, 31.02s/it]Setting `pad_token_id` to `eos_token_id`:128001 for open-end generation.\n"
          ]
        },
        {
          "name": "stdout",
          "output_type": "stream",
          "text": [
            "train-00000-of-00001.parquet failed mse  272.9553456477942\n"
          ]
        },
        {
          "name": "stderr",
          "output_type": "stream",
          "text": [
            "\r 95%|█████████▍| 142/150 [1:05:00<04:00, 30.05s/it]Setting `pad_token_id` to `eos_token_id`:128001 for open-end generation.\n"
          ]
        },
        {
          "name": "stdout",
          "output_type": "stream",
          "text": [
            "train-00000-of-00001.parquet failed mse  1401.304585750777\n"
          ]
        },
        {
          "name": "stderr",
          "output_type": "stream",
          "text": [
            "\r 95%|█████████▌| 143/150 [1:05:30<03:29, 29.91s/it]Setting `pad_token_id` to `eos_token_id`:128001 for open-end generation.\n"
          ]
        },
        {
          "name": "stdout",
          "output_type": "stream",
          "text": [
            "142/150: mse: 1.9280, mae: 1.3797, rmse: 1.3885\n"
          ]
        },
        {
          "name": "stderr",
          "output_type": "stream",
          "text": [
            "\r 96%|█████████▌| 144/150 [1:05:58<02:56, 29.38s/it]Setting `pad_token_id` to `eos_token_id`:128001 for open-end generation.\n"
          ]
        },
        {
          "name": "stdout",
          "output_type": "stream",
          "text": [
            "143/150: mse: 10.0195, mae: 3.0896, rmse: 3.1654\n"
          ]
        },
        {
          "name": "stderr",
          "output_type": "stream",
          "text": [
            "\r 97%|█████████▋| 145/150 [1:06:26<02:24, 28.87s/it]Setting `pad_token_id` to `eos_token_id`:128001 for open-end generation.\n"
          ]
        },
        {
          "name": "stdout",
          "output_type": "stream",
          "text": [
            "144/150: mse: 18.2108, mae: 4.1069, rmse: 4.2674\n"
          ]
        },
        {
          "name": "stderr",
          "output_type": "stream",
          "text": [
            "\r 97%|█████████▋| 146/150 [1:06:54<01:54, 28.64s/it]Setting `pad_token_id` to `eos_token_id`:128001 for open-end generation.\n"
          ]
        },
        {
          "name": "stdout",
          "output_type": "stream",
          "text": [
            "145/150: mse: 0.7991, mae: 0.4032, rmse: 0.8939\n"
          ]
        },
        {
          "name": "stderr",
          "output_type": "stream",
          "text": [
            "\r 98%|█████████▊| 147/150 [1:07:22<01:25, 28.50s/it]Setting `pad_token_id` to `eos_token_id`:128001 for open-end generation.\n"
          ]
        },
        {
          "name": "stdout",
          "output_type": "stream",
          "text": [
            "train-00000-of-00001.parquet failed mse  290.1150184673591\n"
          ]
        },
        {
          "name": "stderr",
          "output_type": "stream",
          "text": [
            "\r 99%|█████████▊| 148/150 [1:07:50<00:56, 28.32s/it]Setting `pad_token_id` to `eos_token_id`:128001 for open-end generation.\n"
          ]
        },
        {
          "name": "stdout",
          "output_type": "stream",
          "text": [
            "train-00000-of-00001.parquet failed mse  137.38924329558336\n"
          ]
        },
        {
          "name": "stderr",
          "output_type": "stream",
          "text": [
            "\r 99%|█████████▉| 149/150 [1:08:16<00:27, 27.68s/it]Setting `pad_token_id` to `eos_token_id`:128001 for open-end generation.\n"
          ]
        },
        {
          "name": "stdout",
          "output_type": "stream",
          "text": [
            "Skipping 148 due to error: object of type 'NoneType' has no len()\n"
          ]
        },
        {
          "name": "stderr",
          "output_type": "stream",
          "text": [
            "100%|██████████| 150/150 [1:08:41<00:00, 27.48s/it]"
          ]
        },
        {
          "name": "stdout",
          "output_type": "stream",
          "text": [
            "train-00000-of-00001.parquet failed mse  275.40031654083566\n",
            "Processing complete. Results saved to MTBench-Test/llama/tsforecast_long/final_results.json\n"
          ]
        },
        {
          "name": "stderr",
          "output_type": "stream",
          "text": [
            "\n"
          ]
        }
      ],
      "source": [
        "parser = argparse.ArgumentParser()\n",
        "parser.add_argument(\"--dataset_path\", type=str, help=\"path to the dataset\")\n",
        "parser.add_argument(\"--save_path\", type=str, help=\"path to save the results\")\n",
        "parser.add_argument(\"--indicator\", default=\"macd\", type=str, help=\"macd, bb, or time\")\n",
        "parser.add_argument(\"--model_type\",  type=str, help=\"deepseek or llama\")\n",
        "parser.add_argument(\"--model\",  type=str, help=\"model name\")\n",
        "parser.add_argument(\n",
        "    \"--mode\",\n",
        "    type=str,\n",
        "    default=\"combined\",\n",
        "    help=\"choose from timeseries_only, text_only, combined\",\n",
        ")\n",
        "args = parser.parse_args()\n",
        "\n",
        "save_path = Path(args.save_path)\n",
        "details_path = save_path / \"output_details\"\n",
        "visualizations_path = save_path / \"visualizations\"\n",
        "details_path.mkdir(parents=True, exist_ok=True)\n",
        "visualizations_path.mkdir(parents=True, exist_ok=True)\n",
        "\n",
        "data_list = []\n",
        "df = pd.read_parquet(args.dataset_path)\n",
        "filename = Path(args.dataset_path).name\n",
        "\n",
        "df[\"text\"] = df[\"text\"].apply(lambda x: json.loads(x) if isinstance(x, str) else x)\n",
        "df[\"technical\"] = df[\"technical\"].apply(lambda x: json.loads(x) if isinstance(x, str) else x)\n",
        "\n",
        "for col in [\"input_window\", \"output_window\", \"input_timestamps\"]:\n",
        "    df[col] = df[col].apply(lambda x: x.tolist() if isinstance(x, np.ndarray) else x)\n",
        "\n",
        "for _, row in df.iterrows():\n",
        "    text = row[\"text\"]\n",
        "    technical = row[\"technical\"]\n",
        "\n",
        "    extracted_data = {\n",
        "        \"filename\": filename,\n",
        "        \"input_window\": row[\"input_window\"],\n",
        "        \"output_window\": row[\"output_window\"],\n",
        "        \"text\": text[\"content\"],\n",
        "        \"input_timestamps\": row[\"input_timestamps\"],\n",
        "        \"in_macd\": technical.get(\"in_macd\"),\n",
        "        \"out_macd\": technical.get(\"out_macd\"),\n",
        "        \"in_upper_bb\": technical.get(\"in_upper_bb\"),\n",
        "        \"out_upper_bb\": technical.get(\"out_upper_bb\"),\n",
        "    }\n",
        "\n",
        "    data_list.append(extracted_data)\n",
        "data_list = data_list[:150]\n",
        "\n",
        "model = ModelFactory.get_model(model_type=args.model_type, model_name=args.model)\n",
        "\n",
        "result_list = []\n",
        "tot_samples = len(data_list)\n",
        "print(f\"Evaluating {tot_samples} samples...\")\n",
        "\n",
        "epoch_results = []\n",
        "cumulative_mse, cumulative_mae, cumulative_rmse, cumulative_mape = [], [], [], []\n",
        "for idx, sample in tqdm(enumerate(data_list), total=tot_samples):\n",
        "    try:\n",
        "        datetime_list = [\n",
        "            datetime.fromtimestamp(s).strftime(\"%Y-%m-%d %H:%M:%S\")\n",
        "            for s in sample[\"input_timestamps\"]\n",
        "        ]\n",
        "        text = sample[\"text\"]\n",
        "        input_ts = sample[\"input_window\"]\n",
        "        granularity_string = format_time_difference(\n",
        "            sample[\"input_timestamps\"][1] - sample[\"input_timestamps\"][0]\n",
        "        )\n",
        "\n",
        "        if args.indicator == \"macd\":\n",
        "            output_ts = sample[\"out_macd\"]\n",
        "            designed_prompt = finance_macd_metaprompt_generation(\n",
        "                text=text,\n",
        "                prices=input_ts,\n",
        "                start_datetime=datetime_list[0],\n",
        "                end_datetime=datetime_list[-1],\n",
        "                pred_end_datetime=output_ts[-1],\n",
        "                granularity=granularity_string,\n",
        "                prediction_length=len(output_ts),\n",
        "                mode=args.mode,\n",
        "            )\n",
        "        elif args.indicator == \"bb\":\n",
        "            output_ts = sample[\"out_upper_bb\"]\n",
        "            designed_prompt = finance_bb_metaprompt_generation(\n",
        "                text=text,\n",
        "                prices=input_ts,\n",
        "                start_datetime=datetime_list[0],\n",
        "                end_datetime=datetime_list[-1],\n",
        "                pred_end_datetime=output_ts[-1],\n",
        "                granularity=granularity_string,\n",
        "                prediction_length=len(output_ts),\n",
        "                mode=args.mode,\n",
        "            )\n",
        "        elif args.indicator == \"time\":\n",
        "            output_ts = sample[\"output_window\"]\n",
        "            designed_prompt = finance_mse_metaprompt_generation(\n",
        "                text=text,\n",
        "                prices=input_ts,\n",
        "                start_datetime=datetime_list[0],\n",
        "                end_datetime=datetime_list[-1],\n",
        "                pred_end_datetime=output_ts[-1],\n",
        "                granularity=granularity_string,\n",
        "                prediction_length=len(output_ts),\n",
        "                mode=args.mode,\n",
        "            )\n",
        "\n",
        "        answer = model.inference(designed_prompt)\n",
        "        answer = answer.strip().replace('\"', '')\n",
        "\n",
        "        predict_ts = parse_val_prediction_response(answer)\n",
        "        predict_ts_orig = predict_ts\n",
        "        predict_ts = np.interp( # type: ignore\n",
        "            np.linspace(0, 1, len(output_ts)),\n",
        "            np.linspace(0, 1, len(predict_ts)),\n",
        "            predict_ts\n",
        "        )\n",
        "\n",
        "        res = {\n",
        "            \"filename\": sample[\"filename\"],\n",
        "            \"response\": answer,\n",
        "            \"ground_truth\": output_ts,\n",
        "            \"predict\": predict_ts.tolist(),\n",
        "        }\n",
        "        result_list.append(res)\n",
        "\n",
        "        save_to_json(res, details_path / sample[\"filename\"])\n",
        "\n",
        "        if args.indicator == \"macd\":\n",
        "            first_half = sample[\"in_macd\"]\n",
        "        elif args.indicator == \"bb\":\n",
        "            first_half = sample[\"in_upper_bb\"]\n",
        "        elif args.indicator == \"time\":\n",
        "            first_half = sample[\"input_window\"]\n",
        "        plot_series(sample[\"filename\"], first_half, output_ts, predict_ts_orig, visualizations_path)\n",
        "\n",
        "        mse = np.mean((np.array(output_ts) - np.array(predict_ts)) ** 2)\n",
        "        mae = np.mean(np.abs(np.array(output_ts) - np.array(predict_ts)))\n",
        "        rmse = np.sqrt(mse)\n",
        "        mape = calculate_mape(output_ts, predict_ts)\n",
        "\n",
        "        if args.indicator == \"macd\" and mse > 10:\n",
        "            print(f\"{sample['filename']} failed mse\", mse)\n",
        "            epoch_results.append({\n",
        "                \"filename\": sample[\"filename\"],\n",
        "                \"failed\": True,\n",
        "                \"epoch\": idx + 1,\n",
        "                \"mse\": mse,\n",
        "                \"mae\": mae,\n",
        "                \"rmse\": rmse,\n",
        "                \"mape\": mape,\n",
        "            })\n",
        "            continue\n",
        "\n",
        "        if args.indicator == \"time\" and mse > 100:\n",
        "            print(f\"{sample['filename']} failed mse \", mse)\n",
        "            epoch_results.append({\n",
        "                \"filename\": sample[\"filename\"],\n",
        "                \"failed\": True,\n",
        "                \"epoch\": idx + 1,\n",
        "                \"mse\": mse,\n",
        "                \"mae\": mae,\n",
        "                \"rmse\": rmse,\n",
        "                \"mape\": mape,\n",
        "            })\n",
        "            continue\n",
        "\n",
        "        if args.indicator == \"bb\" and mse > 100:\n",
        "            print(f\"{sample['filename']} failed mse \", mse)\n",
        "            epoch_results.append({\n",
        "                \"filename\": sample[\"filename\"],\n",
        "                \"failed\": True,\n",
        "                \"epoch\": idx + 1,\n",
        "                \"mse\": mse,\n",
        "                \"mae\": mae,\n",
        "                \"rmse\": rmse,\n",
        "                \"mape\": mape,\n",
        "            })\n",
        "            continue\n",
        "\n",
        "        cumulative_mse.append(mse)\n",
        "        cumulative_mae.append(mae)\n",
        "        cumulative_rmse.append(rmse)\n",
        "        cumulative_mape.append(mape)\n",
        "\n",
        "        epoch_results.append({\n",
        "            \"filename\": sample[\"filename\"],\n",
        "            \"epoch\": idx + 1,\n",
        "            \"mse\": mse,\n",
        "            \"mae\": mae,\n",
        "            \"rmse\": rmse,\n",
        "            \"mape\": mape,\n",
        "            \"mean_mse\": np.mean(cumulative_mse),\n",
        "            \"mean_mae\": np.mean(cumulative_mae),\n",
        "            \"mean_rmse\": np.mean(cumulative_rmse),\n",
        "            \"mean_mape\": np.mean(cumulative_mape),\n",
        "        })\n",
        "        save_to_json(epoch_results, f\"{save_path}/epoch_results.json\")\n",
        "        print(\n",
        "            \"{}/{}: mse: {:.4f}, mae: {:.4f}, rmse: {:.4f}\".format(\n",
        "                idx, tot_samples, mse, mae, rmse\n",
        "            )\n",
        "        )\n",
        "    except Exception as e:\n",
        "        print(f\"Skipping {idx} due to error: {e}\")\n",
        "\n",
        "\n",
        "summary = {\n",
        "    \"total_samples\": len(result_list),\n",
        "    \"mse\": np.mean(cumulative_mse),\n",
        "    \"mae\": np.mean(cumulative_mae),\n",
        "    \"rmse\": np.mean(cumulative_rmse),\n",
        "    \"mape\": np.mean(cumulative_mape),\n",
        "}\n",
        "\n",
        "save_to_json(summary, f\"{save_path}/final_results.json\")\n",
        "print(f\"Processing complete. Results saved to {save_path}/final_results.json\")"
      ]
    }
  ],
  "metadata": {
    "accelerator": "GPU",
    "colab": {
      "gpuType": "T4",
      "provenance": []
    },
    "kernelspec": {
      "display_name": "Python 3",
      "name": "python3"
    },
    "language_info": {
      "name": "python"
    },
    "widgets": {
      "application/vnd.jupyter.widget-state+json": {
        "050ee3c389fa4a48ab6fa210e3e4d9b9": {
          "model_module": "@jupyter-widgets/base",
          "model_module_version": "1.2.0",
          "model_name": "LayoutModel",
          "state": {
            "_model_module": "@jupyter-widgets/base",
            "_model_module_version": "1.2.0",
            "_model_name": "LayoutModel",
            "_view_count": null,
            "_view_module": "@jupyter-widgets/base",
            "_view_module_version": "1.2.0",
            "_view_name": "LayoutView",
            "align_content": null,
            "align_items": null,
            "align_self": null,
            "border": null,
            "bottom": null,
            "display": null,
            "flex": null,
            "flex_flow": null,
            "grid_area": null,
            "grid_auto_columns": null,
            "grid_auto_flow": null,
            "grid_auto_rows": null,
            "grid_column": null,
            "grid_gap": null,
            "grid_row": null,
            "grid_template_areas": null,
            "grid_template_columns": null,
            "grid_template_rows": null,
            "height": null,
            "justify_content": null,
            "justify_items": null,
            "left": null,
            "margin": null,
            "max_height": null,
            "max_width": null,
            "min_height": null,
            "min_width": null,
            "object_fit": null,
            "object_position": null,
            "order": null,
            "overflow": null,
            "overflow_x": null,
            "overflow_y": null,
            "padding": null,
            "right": null,
            "top": null,
            "visibility": null,
            "width": null
          }
        },
        "06c6b4ba17fd439ea13b11e2bc6b0625": {
          "model_module": "@jupyter-widgets/controls",
          "model_module_version": "1.5.0",
          "model_name": "DescriptionStyleModel",
          "state": {
            "_model_module": "@jupyter-widgets/controls",
            "_model_module_version": "1.5.0",
            "_model_name": "DescriptionStyleModel",
            "_view_count": null,
            "_view_module": "@jupyter-widgets/base",
            "_view_module_version": "1.2.0",
            "_view_name": "StyleView",
            "description_width": ""
          }
        },
        "1075e6a050244b9d8fed8e5b36972ec3": {
          "model_module": "@jupyter-widgets/base",
          "model_module_version": "1.2.0",
          "model_name": "LayoutModel",
          "state": {
            "_model_module": "@jupyter-widgets/base",
            "_model_module_version": "1.2.0",
            "_model_name": "LayoutModel",
            "_view_count": null,
            "_view_module": "@jupyter-widgets/base",
            "_view_module_version": "1.2.0",
            "_view_name": "LayoutView",
            "align_content": null,
            "align_items": null,
            "align_self": null,
            "border": null,
            "bottom": null,
            "display": null,
            "flex": null,
            "flex_flow": null,
            "grid_area": null,
            "grid_auto_columns": null,
            "grid_auto_flow": null,
            "grid_auto_rows": null,
            "grid_column": null,
            "grid_gap": null,
            "grid_row": null,
            "grid_template_areas": null,
            "grid_template_columns": null,
            "grid_template_rows": null,
            "height": null,
            "justify_content": null,
            "justify_items": null,
            "left": null,
            "margin": null,
            "max_height": null,
            "max_width": null,
            "min_height": null,
            "min_width": null,
            "object_fit": null,
            "object_position": null,
            "order": null,
            "overflow": null,
            "overflow_x": null,
            "overflow_y": null,
            "padding": null,
            "right": null,
            "top": null,
            "visibility": null,
            "width": null
          }
        },
        "15d2ca9ba9c24407ae33c3ffbd2b4d5a": {
          "model_module": "@jupyter-widgets/controls",
          "model_module_version": "1.5.0",
          "model_name": "HTMLModel",
          "state": {
            "_dom_classes": [],
            "_model_module": "@jupyter-widgets/controls",
            "_model_module_version": "1.5.0",
            "_model_name": "HTMLModel",
            "_view_count": null,
            "_view_module": "@jupyter-widgets/controls",
            "_view_module_version": "1.5.0",
            "_view_name": "HTMLView",
            "description": "",
            "description_tooltip": null,
            "layout": "IPY_MODEL_aaa25438c1cb4e978b3511ab96effbb4",
            "placeholder": "​",
            "style": "IPY_MODEL_a9c2a38e59d84d228d287bcf5debe1b7",
            "value": " 54.5k/54.5k [00:00&lt;00:00, 5.81MB/s]"
          }
        },
        "171eab9402dc49bc8b605844a9cd273d": {
          "model_module": "@jupyter-widgets/base",
          "model_module_version": "1.2.0",
          "model_name": "LayoutModel",
          "state": {
            "_model_module": "@jupyter-widgets/base",
            "_model_module_version": "1.2.0",
            "_model_name": "LayoutModel",
            "_view_count": null,
            "_view_module": "@jupyter-widgets/base",
            "_view_module_version": "1.2.0",
            "_view_name": "LayoutView",
            "align_content": null,
            "align_items": null,
            "align_self": null,
            "border": null,
            "bottom": null,
            "display": null,
            "flex": null,
            "flex_flow": null,
            "grid_area": null,
            "grid_auto_columns": null,
            "grid_auto_flow": null,
            "grid_auto_rows": null,
            "grid_column": null,
            "grid_gap": null,
            "grid_row": null,
            "grid_template_areas": null,
            "grid_template_columns": null,
            "grid_template_rows": null,
            "height": null,
            "justify_content": null,
            "justify_items": null,
            "left": null,
            "margin": null,
            "max_height": null,
            "max_width": null,
            "min_height": null,
            "min_width": null,
            "object_fit": null,
            "object_position": null,
            "order": null,
            "overflow": null,
            "overflow_x": null,
            "overflow_y": null,
            "padding": null,
            "right": null,
            "top": null,
            "visibility": null,
            "width": null
          }
        },
        "181a2f33d3134ac4aaa2843cdfa71507": {
          "model_module": "@jupyter-widgets/base",
          "model_module_version": "1.2.0",
          "model_name": "LayoutModel",
          "state": {
            "_model_module": "@jupyter-widgets/base",
            "_model_module_version": "1.2.0",
            "_model_name": "LayoutModel",
            "_view_count": null,
            "_view_module": "@jupyter-widgets/base",
            "_view_module_version": "1.2.0",
            "_view_name": "LayoutView",
            "align_content": null,
            "align_items": null,
            "align_self": null,
            "border": null,
            "bottom": null,
            "display": null,
            "flex": null,
            "flex_flow": null,
            "grid_area": null,
            "grid_auto_columns": null,
            "grid_auto_flow": null,
            "grid_auto_rows": null,
            "grid_column": null,
            "grid_gap": null,
            "grid_row": null,
            "grid_template_areas": null,
            "grid_template_columns": null,
            "grid_template_rows": null,
            "height": null,
            "justify_content": null,
            "justify_items": null,
            "left": null,
            "margin": null,
            "max_height": null,
            "max_width": null,
            "min_height": null,
            "min_width": null,
            "object_fit": null,
            "object_position": null,
            "order": null,
            "overflow": null,
            "overflow_x": null,
            "overflow_y": null,
            "padding": null,
            "right": null,
            "top": null,
            "visibility": null,
            "width": null
          }
        },
        "183a6d9eac0b4ced9bf537661540426a": {
          "model_module": "@jupyter-widgets/base",
          "model_module_version": "1.2.0",
          "model_name": "LayoutModel",
          "state": {
            "_model_module": "@jupyter-widgets/base",
            "_model_module_version": "1.2.0",
            "_model_name": "LayoutModel",
            "_view_count": null,
            "_view_module": "@jupyter-widgets/base",
            "_view_module_version": "1.2.0",
            "_view_name": "LayoutView",
            "align_content": null,
            "align_items": null,
            "align_self": null,
            "border": null,
            "bottom": null,
            "display": null,
            "flex": null,
            "flex_flow": null,
            "grid_area": null,
            "grid_auto_columns": null,
            "grid_auto_flow": null,
            "grid_auto_rows": null,
            "grid_column": null,
            "grid_gap": null,
            "grid_row": null,
            "grid_template_areas": null,
            "grid_template_columns": null,
            "grid_template_rows": null,
            "height": null,
            "justify_content": null,
            "justify_items": null,
            "left": null,
            "margin": null,
            "max_height": null,
            "max_width": null,
            "min_height": null,
            "min_width": null,
            "object_fit": null,
            "object_position": null,
            "order": null,
            "overflow": null,
            "overflow_x": null,
            "overflow_y": null,
            "padding": null,
            "right": null,
            "top": null,
            "visibility": null,
            "width": null
          }
        },
        "18a14555b65b4145bae61dde26fd3943": {
          "model_module": "@jupyter-widgets/controls",
          "model_module_version": "1.5.0",
          "model_name": "DescriptionStyleModel",
          "state": {
            "_model_module": "@jupyter-widgets/controls",
            "_model_module_version": "1.5.0",
            "_model_name": "DescriptionStyleModel",
            "_view_count": null,
            "_view_module": "@jupyter-widgets/base",
            "_view_module_version": "1.2.0",
            "_view_name": "StyleView",
            "description_width": ""
          }
        },
        "19b8ab839d124b03bdb229a95756ca3b": {
          "model_module": "@jupyter-widgets/controls",
          "model_module_version": "1.5.0",
          "model_name": "HBoxModel",
          "state": {
            "_dom_classes": [],
            "_model_module": "@jupyter-widgets/controls",
            "_model_module_version": "1.5.0",
            "_model_name": "HBoxModel",
            "_view_count": null,
            "_view_module": "@jupyter-widgets/controls",
            "_view_module_version": "1.5.0",
            "_view_name": "HBoxView",
            "box_style": "",
            "children": [
              "IPY_MODEL_69d4de399c55448398355bca0687a431",
              "IPY_MODEL_abc37cdcf5884598a17b13f59a7ce642",
              "IPY_MODEL_7d9185819d264dce97672315b254f231"
            ],
            "layout": "IPY_MODEL_9f96570071f7448caed411c2fedc5f28"
          }
        },
        "1b7ac453757a49d5851082556be115b4": {
          "model_module": "@jupyter-widgets/base",
          "model_module_version": "1.2.0",
          "model_name": "LayoutModel",
          "state": {
            "_model_module": "@jupyter-widgets/base",
            "_model_module_version": "1.2.0",
            "_model_name": "LayoutModel",
            "_view_count": null,
            "_view_module": "@jupyter-widgets/base",
            "_view_module_version": "1.2.0",
            "_view_name": "LayoutView",
            "align_content": null,
            "align_items": null,
            "align_self": null,
            "border": null,
            "bottom": null,
            "display": null,
            "flex": null,
            "flex_flow": null,
            "grid_area": null,
            "grid_auto_columns": null,
            "grid_auto_flow": null,
            "grid_auto_rows": null,
            "grid_column": null,
            "grid_gap": null,
            "grid_row": null,
            "grid_template_areas": null,
            "grid_template_columns": null,
            "grid_template_rows": null,
            "height": null,
            "justify_content": null,
            "justify_items": null,
            "left": null,
            "margin": null,
            "max_height": null,
            "max_width": null,
            "min_height": null,
            "min_width": null,
            "object_fit": null,
            "object_position": null,
            "order": null,
            "overflow": null,
            "overflow_x": null,
            "overflow_y": null,
            "padding": null,
            "right": null,
            "top": null,
            "visibility": null,
            "width": null
          }
        },
        "26094b0abdbb426c8787a25c9133d388": {
          "model_module": "@jupyter-widgets/controls",
          "model_module_version": "1.5.0",
          "model_name": "HBoxModel",
          "state": {
            "_dom_classes": [],
            "_model_module": "@jupyter-widgets/controls",
            "_model_module_version": "1.5.0",
            "_model_name": "HBoxModel",
            "_view_count": null,
            "_view_module": "@jupyter-widgets/controls",
            "_view_module_version": "1.5.0",
            "_view_name": "HBoxView",
            "box_style": "",
            "children": [
              "IPY_MODEL_46dd2126e754400fb00474f2a2c4b805",
              "IPY_MODEL_3d9073799f40431f9f01efc26bafd3a9",
              "IPY_MODEL_a1daf5092b544df0ad4f0e17a9ef7449"
            ],
            "layout": "IPY_MODEL_8efdc1617ea4491eb39a3aadcef6b1fd"
          }
        },
        "27581f47076744f983e3b0102402e08d": {
          "model_module": "@jupyter-widgets/base",
          "model_module_version": "1.2.0",
          "model_name": "LayoutModel",
          "state": {
            "_model_module": "@jupyter-widgets/base",
            "_model_module_version": "1.2.0",
            "_model_name": "LayoutModel",
            "_view_count": null,
            "_view_module": "@jupyter-widgets/base",
            "_view_module_version": "1.2.0",
            "_view_name": "LayoutView",
            "align_content": null,
            "align_items": null,
            "align_self": null,
            "border": null,
            "bottom": null,
            "display": null,
            "flex": null,
            "flex_flow": null,
            "grid_area": null,
            "grid_auto_columns": null,
            "grid_auto_flow": null,
            "grid_auto_rows": null,
            "grid_column": null,
            "grid_gap": null,
            "grid_row": null,
            "grid_template_areas": null,
            "grid_template_columns": null,
            "grid_template_rows": null,
            "height": null,
            "justify_content": null,
            "justify_items": null,
            "left": null,
            "margin": null,
            "max_height": null,
            "max_width": null,
            "min_height": null,
            "min_width": null,
            "object_fit": null,
            "object_position": null,
            "order": null,
            "overflow": null,
            "overflow_x": null,
            "overflow_y": null,
            "padding": null,
            "right": null,
            "top": null,
            "visibility": null,
            "width": null
          }
        },
        "2c0eeb4622134fc888766b02989e472c": {
          "model_module": "@jupyter-widgets/controls",
          "model_module_version": "1.5.0",
          "model_name": "DescriptionStyleModel",
          "state": {
            "_model_module": "@jupyter-widgets/controls",
            "_model_module_version": "1.5.0",
            "_model_name": "DescriptionStyleModel",
            "_view_count": null,
            "_view_module": "@jupyter-widgets/base",
            "_view_module_version": "1.2.0",
            "_view_name": "StyleView",
            "description_width": ""
          }
        },
        "2d81c88e34d142bfb55dde2c2664c004": {
          "model_module": "@jupyter-widgets/controls",
          "model_module_version": "1.5.0",
          "model_name": "HBoxModel",
          "state": {
            "_dom_classes": [],
            "_model_module": "@jupyter-widgets/controls",
            "_model_module_version": "1.5.0",
            "_model_name": "HBoxModel",
            "_view_count": null,
            "_view_module": "@jupyter-widgets/controls",
            "_view_module_version": "1.5.0",
            "_view_name": "HBoxView",
            "box_style": "",
            "children": [
              "IPY_MODEL_54b02dab61c24acfa167cbbf35377c60",
              "IPY_MODEL_5c8662cc9c5146b8ae8fee755c0cd04b",
              "IPY_MODEL_6b59c57007fb4a1cb43003c4a947a116"
            ],
            "layout": "IPY_MODEL_de44e0b3cdf949f096bb7e60e75abf38"
          }
        },
        "3affdfb49a29428d91679f7df65c0aea": {
          "model_module": "@jupyter-widgets/base",
          "model_module_version": "1.2.0",
          "model_name": "LayoutModel",
          "state": {
            "_model_module": "@jupyter-widgets/base",
            "_model_module_version": "1.2.0",
            "_model_name": "LayoutModel",
            "_view_count": null,
            "_view_module": "@jupyter-widgets/base",
            "_view_module_version": "1.2.0",
            "_view_name": "LayoutView",
            "align_content": null,
            "align_items": null,
            "align_self": null,
            "border": null,
            "bottom": null,
            "display": null,
            "flex": null,
            "flex_flow": null,
            "grid_area": null,
            "grid_auto_columns": null,
            "grid_auto_flow": null,
            "grid_auto_rows": null,
            "grid_column": null,
            "grid_gap": null,
            "grid_row": null,
            "grid_template_areas": null,
            "grid_template_columns": null,
            "grid_template_rows": null,
            "height": null,
            "justify_content": null,
            "justify_items": null,
            "left": null,
            "margin": null,
            "max_height": null,
            "max_width": null,
            "min_height": null,
            "min_width": null,
            "object_fit": null,
            "object_position": null,
            "order": null,
            "overflow": null,
            "overflow_x": null,
            "overflow_y": null,
            "padding": null,
            "right": null,
            "top": null,
            "visibility": null,
            "width": null
          }
        },
        "3d9073799f40431f9f01efc26bafd3a9": {
          "model_module": "@jupyter-widgets/controls",
          "model_module_version": "1.5.0",
          "model_name": "FloatProgressModel",
          "state": {
            "_dom_classes": [],
            "_model_module": "@jupyter-widgets/controls",
            "_model_module_version": "1.5.0",
            "_model_name": "FloatProgressModel",
            "_view_count": null,
            "_view_module": "@jupyter-widgets/controls",
            "_view_module_version": "1.5.0",
            "_view_name": "ProgressView",
            "bar_style": "success",
            "description": "",
            "description_tooltip": null,
            "layout": "IPY_MODEL_ac13a2635ed6413db917151a50f817b2",
            "max": 2471645608,
            "min": 0,
            "orientation": "horizontal",
            "style": "IPY_MODEL_dd72d234cace4a5aa092d2d9e82bf783",
            "value": 2471645608
          }
        },
        "3f1548c71cdb4a4ab377b593f1b3b587": {
          "model_module": "@jupyter-widgets/base",
          "model_module_version": "1.2.0",
          "model_name": "LayoutModel",
          "state": {
            "_model_module": "@jupyter-widgets/base",
            "_model_module_version": "1.2.0",
            "_model_name": "LayoutModel",
            "_view_count": null,
            "_view_module": "@jupyter-widgets/base",
            "_view_module_version": "1.2.0",
            "_view_name": "LayoutView",
            "align_content": null,
            "align_items": null,
            "align_self": null,
            "border": null,
            "bottom": null,
            "display": null,
            "flex": null,
            "flex_flow": null,
            "grid_area": null,
            "grid_auto_columns": null,
            "grid_auto_flow": null,
            "grid_auto_rows": null,
            "grid_column": null,
            "grid_gap": null,
            "grid_row": null,
            "grid_template_areas": null,
            "grid_template_columns": null,
            "grid_template_rows": null,
            "height": null,
            "justify_content": null,
            "justify_items": null,
            "left": null,
            "margin": null,
            "max_height": null,
            "max_width": null,
            "min_height": null,
            "min_width": null,
            "object_fit": null,
            "object_position": null,
            "order": null,
            "overflow": null,
            "overflow_x": null,
            "overflow_y": null,
            "padding": null,
            "right": null,
            "top": null,
            "visibility": null,
            "width": null
          }
        },
        "40044c7ccc7c475e95bfca8902f49e8b": {
          "model_module": "@jupyter-widgets/controls",
          "model_module_version": "1.5.0",
          "model_name": "HBoxModel",
          "state": {
            "_dom_classes": [],
            "_model_module": "@jupyter-widgets/controls",
            "_model_module_version": "1.5.0",
            "_model_name": "HBoxModel",
            "_view_count": null,
            "_view_module": "@jupyter-widgets/controls",
            "_view_module_version": "1.5.0",
            "_view_name": "HBoxView",
            "box_style": "",
            "children": [
              "IPY_MODEL_87df60008f4c4f518f202254153e4756",
              "IPY_MODEL_a71804dfa1484efca97b8d27bae6e69f",
              "IPY_MODEL_15d2ca9ba9c24407ae33c3ffbd2b4d5a"
            ],
            "layout": "IPY_MODEL_1b7ac453757a49d5851082556be115b4"
          }
        },
        "415364c279cd4b47a7fa35c675192ba9": {
          "model_module": "@jupyter-widgets/controls",
          "model_module_version": "1.5.0",
          "model_name": "FloatProgressModel",
          "state": {
            "_dom_classes": [],
            "_model_module": "@jupyter-widgets/controls",
            "_model_module_version": "1.5.0",
            "_model_name": "FloatProgressModel",
            "_view_count": null,
            "_view_module": "@jupyter-widgets/controls",
            "_view_module_version": "1.5.0",
            "_view_name": "ProgressView",
            "bar_style": "success",
            "description": "",
            "description_tooltip": null,
            "layout": "IPY_MODEL_6e40b250944748af9c6dc74585c21081",
            "max": 877,
            "min": 0,
            "orientation": "horizontal",
            "style": "IPY_MODEL_71513df3257b46159afc36f78ee21ca1",
            "value": 877
          }
        },
        "423090f4d8e54c0b9fa461a934bd9675": {
          "model_module": "@jupyter-widgets/controls",
          "model_module_version": "1.5.0",
          "model_name": "DescriptionStyleModel",
          "state": {
            "_model_module": "@jupyter-widgets/controls",
            "_model_module_version": "1.5.0",
            "_model_name": "DescriptionStyleModel",
            "_view_count": null,
            "_view_module": "@jupyter-widgets/base",
            "_view_module_version": "1.2.0",
            "_view_name": "StyleView",
            "description_width": ""
          }
        },
        "46dd2126e754400fb00474f2a2c4b805": {
          "model_module": "@jupyter-widgets/controls",
          "model_module_version": "1.5.0",
          "model_name": "HTMLModel",
          "state": {
            "_dom_classes": [],
            "_model_module": "@jupyter-widgets/controls",
            "_model_module_version": "1.5.0",
            "_model_name": "HTMLModel",
            "_view_count": null,
            "_view_module": "@jupyter-widgets/controls",
            "_view_module_version": "1.5.0",
            "_view_name": "HTMLView",
            "description": "",
            "description_tooltip": null,
            "layout": "IPY_MODEL_27581f47076744f983e3b0102402e08d",
            "placeholder": "​",
            "style": "IPY_MODEL_8e4b7145a3ba4788aba68548678f5676",
            "value": "model.safetensors: 100%"
          }
        },
        "4b921487bf8549cca8b9bba4194021df": {
          "model_module": "@jupyter-widgets/base",
          "model_module_version": "1.2.0",
          "model_name": "LayoutModel",
          "state": {
            "_model_module": "@jupyter-widgets/base",
            "_model_module_version": "1.2.0",
            "_model_name": "LayoutModel",
            "_view_count": null,
            "_view_module": "@jupyter-widgets/base",
            "_view_module_version": "1.2.0",
            "_view_name": "LayoutView",
            "align_content": null,
            "align_items": null,
            "align_self": null,
            "border": null,
            "bottom": null,
            "display": null,
            "flex": null,
            "flex_flow": null,
            "grid_area": null,
            "grid_auto_columns": null,
            "grid_auto_flow": null,
            "grid_auto_rows": null,
            "grid_column": null,
            "grid_gap": null,
            "grid_row": null,
            "grid_template_areas": null,
            "grid_template_columns": null,
            "grid_template_rows": null,
            "height": null,
            "justify_content": null,
            "justify_items": null,
            "left": null,
            "margin": null,
            "max_height": null,
            "max_width": null,
            "min_height": null,
            "min_width": null,
            "object_fit": null,
            "object_position": null,
            "order": null,
            "overflow": null,
            "overflow_x": null,
            "overflow_y": null,
            "padding": null,
            "right": null,
            "top": null,
            "visibility": null,
            "width": null
          }
        },
        "4f9944a068c042d28a49c1cf89f7d5ad": {
          "model_module": "@jupyter-widgets/base",
          "model_module_version": "1.2.0",
          "model_name": "LayoutModel",
          "state": {
            "_model_module": "@jupyter-widgets/base",
            "_model_module_version": "1.2.0",
            "_model_name": "LayoutModel",
            "_view_count": null,
            "_view_module": "@jupyter-widgets/base",
            "_view_module_version": "1.2.0",
            "_view_name": "LayoutView",
            "align_content": null,
            "align_items": null,
            "align_self": null,
            "border": null,
            "bottom": null,
            "display": null,
            "flex": null,
            "flex_flow": null,
            "grid_area": null,
            "grid_auto_columns": null,
            "grid_auto_flow": null,
            "grid_auto_rows": null,
            "grid_column": null,
            "grid_gap": null,
            "grid_row": null,
            "grid_template_areas": null,
            "grid_template_columns": null,
            "grid_template_rows": null,
            "height": null,
            "justify_content": null,
            "justify_items": null,
            "left": null,
            "margin": null,
            "max_height": null,
            "max_width": null,
            "min_height": null,
            "min_width": null,
            "object_fit": null,
            "object_position": null,
            "order": null,
            "overflow": null,
            "overflow_x": null,
            "overflow_y": null,
            "padding": null,
            "right": null,
            "top": null,
            "visibility": null,
            "width": null
          }
        },
        "5320d57be21c4dc3b8c78dd508217bff": {
          "model_module": "@jupyter-widgets/base",
          "model_module_version": "1.2.0",
          "model_name": "LayoutModel",
          "state": {
            "_model_module": "@jupyter-widgets/base",
            "_model_module_version": "1.2.0",
            "_model_name": "LayoutModel",
            "_view_count": null,
            "_view_module": "@jupyter-widgets/base",
            "_view_module_version": "1.2.0",
            "_view_name": "LayoutView",
            "align_content": null,
            "align_items": null,
            "align_self": null,
            "border": null,
            "bottom": null,
            "display": null,
            "flex": null,
            "flex_flow": null,
            "grid_area": null,
            "grid_auto_columns": null,
            "grid_auto_flow": null,
            "grid_auto_rows": null,
            "grid_column": null,
            "grid_gap": null,
            "grid_row": null,
            "grid_template_areas": null,
            "grid_template_columns": null,
            "grid_template_rows": null,
            "height": null,
            "justify_content": null,
            "justify_items": null,
            "left": null,
            "margin": null,
            "max_height": null,
            "max_width": null,
            "min_height": null,
            "min_width": null,
            "object_fit": null,
            "object_position": null,
            "order": null,
            "overflow": null,
            "overflow_x": null,
            "overflow_y": null,
            "padding": null,
            "right": null,
            "top": null,
            "visibility": null,
            "width": null
          }
        },
        "54b02dab61c24acfa167cbbf35377c60": {
          "model_module": "@jupyter-widgets/controls",
          "model_module_version": "1.5.0",
          "model_name": "HTMLModel",
          "state": {
            "_dom_classes": [],
            "_model_module": "@jupyter-widgets/controls",
            "_model_module_version": "1.5.0",
            "_model_name": "HTMLModel",
            "_view_count": null,
            "_view_module": "@jupyter-widgets/controls",
            "_view_module_version": "1.5.0",
            "_view_name": "HTMLView",
            "description": "",
            "description_tooltip": null,
            "layout": "IPY_MODEL_d67815b43a624473b8e9c0758f6baffe",
            "placeholder": "​",
            "style": "IPY_MODEL_423090f4d8e54c0b9fa461a934bd9675",
            "value": "generation_config.json: 100%"
          }
        },
        "54d92e913c2c41d6a3642070e4b28341": {
          "model_module": "@jupyter-widgets/base",
          "model_module_version": "1.2.0",
          "model_name": "LayoutModel",
          "state": {
            "_model_module": "@jupyter-widgets/base",
            "_model_module_version": "1.2.0",
            "_model_name": "LayoutModel",
            "_view_count": null,
            "_view_module": "@jupyter-widgets/base",
            "_view_module_version": "1.2.0",
            "_view_name": "LayoutView",
            "align_content": null,
            "align_items": null,
            "align_self": null,
            "border": null,
            "bottom": null,
            "display": null,
            "flex": null,
            "flex_flow": null,
            "grid_area": null,
            "grid_auto_columns": null,
            "grid_auto_flow": null,
            "grid_auto_rows": null,
            "grid_column": null,
            "grid_gap": null,
            "grid_row": null,
            "grid_template_areas": null,
            "grid_template_columns": null,
            "grid_template_rows": null,
            "height": null,
            "justify_content": null,
            "justify_items": null,
            "left": null,
            "margin": null,
            "max_height": null,
            "max_width": null,
            "min_height": null,
            "min_width": null,
            "object_fit": null,
            "object_position": null,
            "order": null,
            "overflow": null,
            "overflow_x": null,
            "overflow_y": null,
            "padding": null,
            "right": null,
            "top": null,
            "visibility": null,
            "width": null
          }
        },
        "582586f5c1ad48fc8a15cab257f84648": {
          "model_module": "@jupyter-widgets/controls",
          "model_module_version": "1.5.0",
          "model_name": "DescriptionStyleModel",
          "state": {
            "_model_module": "@jupyter-widgets/controls",
            "_model_module_version": "1.5.0",
            "_model_name": "DescriptionStyleModel",
            "_view_count": null,
            "_view_module": "@jupyter-widgets/base",
            "_view_module_version": "1.2.0",
            "_view_name": "StyleView",
            "description_width": ""
          }
        },
        "5c8662cc9c5146b8ae8fee755c0cd04b": {
          "model_module": "@jupyter-widgets/controls",
          "model_module_version": "1.5.0",
          "model_name": "FloatProgressModel",
          "state": {
            "_dom_classes": [],
            "_model_module": "@jupyter-widgets/controls",
            "_model_module_version": "1.5.0",
            "_model_name": "FloatProgressModel",
            "_view_count": null,
            "_view_module": "@jupyter-widgets/controls",
            "_view_module_version": "1.5.0",
            "_view_name": "ProgressView",
            "bar_style": "success",
            "description": "",
            "description_tooltip": null,
            "layout": "IPY_MODEL_171eab9402dc49bc8b605844a9cd273d",
            "max": 189,
            "min": 0,
            "orientation": "horizontal",
            "style": "IPY_MODEL_e94c950126b543caa8a6892a41f1d806",
            "value": 189
          }
        },
        "5d9883fa554d44c293b6af4c43acf300": {
          "model_module": "@jupyter-widgets/controls",
          "model_module_version": "1.5.0",
          "model_name": "ProgressStyleModel",
          "state": {
            "_model_module": "@jupyter-widgets/controls",
            "_model_module_version": "1.5.0",
            "_model_name": "ProgressStyleModel",
            "_view_count": null,
            "_view_module": "@jupyter-widgets/base",
            "_view_module_version": "1.2.0",
            "_view_name": "StyleView",
            "bar_color": null,
            "description_width": ""
          }
        },
        "69d4de399c55448398355bca0687a431": {
          "model_module": "@jupyter-widgets/controls",
          "model_module_version": "1.5.0",
          "model_name": "HTMLModel",
          "state": {
            "_dom_classes": [],
            "_model_module": "@jupyter-widgets/controls",
            "_model_module_version": "1.5.0",
            "_model_name": "HTMLModel",
            "_view_count": null,
            "_view_module": "@jupyter-widgets/controls",
            "_view_module_version": "1.5.0",
            "_view_name": "HTMLView",
            "description": "",
            "description_tooltip": null,
            "layout": "IPY_MODEL_183a6d9eac0b4ced9bf537661540426a",
            "placeholder": "​",
            "style": "IPY_MODEL_ade8c70d4d3f413a997a970671fb9563",
            "value": "tokenizer.json: 100%"
          }
        },
        "6b59c57007fb4a1cb43003c4a947a116": {
          "model_module": "@jupyter-widgets/controls",
          "model_module_version": "1.5.0",
          "model_name": "HTMLModel",
          "state": {
            "_dom_classes": [],
            "_model_module": "@jupyter-widgets/controls",
            "_model_module_version": "1.5.0",
            "_model_name": "HTMLModel",
            "_view_count": null,
            "_view_module": "@jupyter-widgets/controls",
            "_view_module_version": "1.5.0",
            "_view_name": "HTMLView",
            "description": "",
            "description_tooltip": null,
            "layout": "IPY_MODEL_4b921487bf8549cca8b9bba4194021df",
            "placeholder": "​",
            "style": "IPY_MODEL_06c6b4ba17fd439ea13b11e2bc6b0625",
            "value": " 189/189 [00:00&lt;00:00, 21.5kB/s]"
          }
        },
        "6c38dc7521764c70b2df2aad4dfe665c": {
          "model_module": "@jupyter-widgets/controls",
          "model_module_version": "1.5.0",
          "model_name": "HBoxModel",
          "state": {
            "_dom_classes": [],
            "_model_module": "@jupyter-widgets/controls",
            "_model_module_version": "1.5.0",
            "_model_name": "HBoxModel",
            "_view_count": null,
            "_view_module": "@jupyter-widgets/controls",
            "_view_module_version": "1.5.0",
            "_view_name": "HBoxView",
            "box_style": "",
            "children": [
              "IPY_MODEL_c396334410b9415784bbabee6249112a",
              "IPY_MODEL_a912edc764954e2d9d93770e748a1181",
              "IPY_MODEL_94256edfe14b41608f9f39b3793b5b24"
            ],
            "layout": "IPY_MODEL_54d92e913c2c41d6a3642070e4b28341"
          }
        },
        "6e40b250944748af9c6dc74585c21081": {
          "model_module": "@jupyter-widgets/base",
          "model_module_version": "1.2.0",
          "model_name": "LayoutModel",
          "state": {
            "_model_module": "@jupyter-widgets/base",
            "_model_module_version": "1.2.0",
            "_model_name": "LayoutModel",
            "_view_count": null,
            "_view_module": "@jupyter-widgets/base",
            "_view_module_version": "1.2.0",
            "_view_name": "LayoutView",
            "align_content": null,
            "align_items": null,
            "align_self": null,
            "border": null,
            "bottom": null,
            "display": null,
            "flex": null,
            "flex_flow": null,
            "grid_area": null,
            "grid_auto_columns": null,
            "grid_auto_flow": null,
            "grid_auto_rows": null,
            "grid_column": null,
            "grid_gap": null,
            "grid_row": null,
            "grid_template_areas": null,
            "grid_template_columns": null,
            "grid_template_rows": null,
            "height": null,
            "justify_content": null,
            "justify_items": null,
            "left": null,
            "margin": null,
            "max_height": null,
            "max_width": null,
            "min_height": null,
            "min_width": null,
            "object_fit": null,
            "object_position": null,
            "order": null,
            "overflow": null,
            "overflow_x": null,
            "overflow_y": null,
            "padding": null,
            "right": null,
            "top": null,
            "visibility": null,
            "width": null
          }
        },
        "71513df3257b46159afc36f78ee21ca1": {
          "model_module": "@jupyter-widgets/controls",
          "model_module_version": "1.5.0",
          "model_name": "ProgressStyleModel",
          "state": {
            "_model_module": "@jupyter-widgets/controls",
            "_model_module_version": "1.5.0",
            "_model_name": "ProgressStyleModel",
            "_view_count": null,
            "_view_module": "@jupyter-widgets/base",
            "_view_module_version": "1.2.0",
            "_view_name": "StyleView",
            "bar_color": null,
            "description_width": ""
          }
        },
        "7d9185819d264dce97672315b254f231": {
          "model_module": "@jupyter-widgets/controls",
          "model_module_version": "1.5.0",
          "model_name": "HTMLModel",
          "state": {
            "_dom_classes": [],
            "_model_module": "@jupyter-widgets/controls",
            "_model_module_version": "1.5.0",
            "_model_name": "HTMLModel",
            "_view_count": null,
            "_view_module": "@jupyter-widgets/controls",
            "_view_module_version": "1.5.0",
            "_view_name": "HTMLView",
            "description": "",
            "description_tooltip": null,
            "layout": "IPY_MODEL_3affdfb49a29428d91679f7df65c0aea",
            "placeholder": "​",
            "style": "IPY_MODEL_18a14555b65b4145bae61dde26fd3943",
            "value": " 9.09M/9.09M [00:00&lt;00:00, 32.6MB/s]"
          }
        },
        "7ef8b95eca8444dab35f0eae647aa66d": {
          "model_module": "@jupyter-widgets/base",
          "model_module_version": "1.2.0",
          "model_name": "LayoutModel",
          "state": {
            "_model_module": "@jupyter-widgets/base",
            "_model_module_version": "1.2.0",
            "_model_name": "LayoutModel",
            "_view_count": null,
            "_view_module": "@jupyter-widgets/base",
            "_view_module_version": "1.2.0",
            "_view_name": "LayoutView",
            "align_content": null,
            "align_items": null,
            "align_self": null,
            "border": null,
            "bottom": null,
            "display": null,
            "flex": null,
            "flex_flow": null,
            "grid_area": null,
            "grid_auto_columns": null,
            "grid_auto_flow": null,
            "grid_auto_rows": null,
            "grid_column": null,
            "grid_gap": null,
            "grid_row": null,
            "grid_template_areas": null,
            "grid_template_columns": null,
            "grid_template_rows": null,
            "height": null,
            "justify_content": null,
            "justify_items": null,
            "left": null,
            "margin": null,
            "max_height": null,
            "max_width": null,
            "min_height": null,
            "min_width": null,
            "object_fit": null,
            "object_position": null,
            "order": null,
            "overflow": null,
            "overflow_x": null,
            "overflow_y": null,
            "padding": null,
            "right": null,
            "top": null,
            "visibility": null,
            "width": null
          }
        },
        "87df60008f4c4f518f202254153e4756": {
          "model_module": "@jupyter-widgets/controls",
          "model_module_version": "1.5.0",
          "model_name": "HTMLModel",
          "state": {
            "_dom_classes": [],
            "_model_module": "@jupyter-widgets/controls",
            "_model_module_version": "1.5.0",
            "_model_name": "HTMLModel",
            "_view_count": null,
            "_view_module": "@jupyter-widgets/controls",
            "_view_module_version": "1.5.0",
            "_view_name": "HTMLView",
            "description": "",
            "description_tooltip": null,
            "layout": "IPY_MODEL_050ee3c389fa4a48ab6fa210e3e4d9b9",
            "placeholder": "​",
            "style": "IPY_MODEL_b9e3c587a82542d6af0ec289aeff6083",
            "value": "tokenizer_config.json: 100%"
          }
        },
        "8e4b7145a3ba4788aba68548678f5676": {
          "model_module": "@jupyter-widgets/controls",
          "model_module_version": "1.5.0",
          "model_name": "DescriptionStyleModel",
          "state": {
            "_model_module": "@jupyter-widgets/controls",
            "_model_module_version": "1.5.0",
            "_model_name": "DescriptionStyleModel",
            "_view_count": null,
            "_view_module": "@jupyter-widgets/base",
            "_view_module_version": "1.2.0",
            "_view_name": "StyleView",
            "description_width": ""
          }
        },
        "8efdc1617ea4491eb39a3aadcef6b1fd": {
          "model_module": "@jupyter-widgets/base",
          "model_module_version": "1.2.0",
          "model_name": "LayoutModel",
          "state": {
            "_model_module": "@jupyter-widgets/base",
            "_model_module_version": "1.2.0",
            "_model_name": "LayoutModel",
            "_view_count": null,
            "_view_module": "@jupyter-widgets/base",
            "_view_module_version": "1.2.0",
            "_view_name": "LayoutView",
            "align_content": null,
            "align_items": null,
            "align_self": null,
            "border": null,
            "bottom": null,
            "display": null,
            "flex": null,
            "flex_flow": null,
            "grid_area": null,
            "grid_auto_columns": null,
            "grid_auto_flow": null,
            "grid_auto_rows": null,
            "grid_column": null,
            "grid_gap": null,
            "grid_row": null,
            "grid_template_areas": null,
            "grid_template_columns": null,
            "grid_template_rows": null,
            "height": null,
            "justify_content": null,
            "justify_items": null,
            "left": null,
            "margin": null,
            "max_height": null,
            "max_width": null,
            "min_height": null,
            "min_width": null,
            "object_fit": null,
            "object_position": null,
            "order": null,
            "overflow": null,
            "overflow_x": null,
            "overflow_y": null,
            "padding": null,
            "right": null,
            "top": null,
            "visibility": null,
            "width": null
          }
        },
        "94256edfe14b41608f9f39b3793b5b24": {
          "model_module": "@jupyter-widgets/controls",
          "model_module_version": "1.5.0",
          "model_name": "HTMLModel",
          "state": {
            "_dom_classes": [],
            "_model_module": "@jupyter-widgets/controls",
            "_model_module_version": "1.5.0",
            "_model_name": "HTMLModel",
            "_view_count": null,
            "_view_module": "@jupyter-widgets/controls",
            "_view_module_version": "1.5.0",
            "_view_name": "HTMLView",
            "description": "",
            "description_tooltip": null,
            "layout": "IPY_MODEL_fb3c8a68d87a499990c7d51aaaa87916",
            "placeholder": "​",
            "style": "IPY_MODEL_c3201fa93f344489b3ef3d70449c8c74",
            "value": " 296/296 [00:00&lt;00:00, 23.0kB/s]"
          }
        },
        "9cd37b7aebf841a2b0541cd21a23af2e": {
          "model_module": "@jupyter-widgets/controls",
          "model_module_version": "1.5.0",
          "model_name": "ProgressStyleModel",
          "state": {
            "_model_module": "@jupyter-widgets/controls",
            "_model_module_version": "1.5.0",
            "_model_name": "ProgressStyleModel",
            "_view_count": null,
            "_view_module": "@jupyter-widgets/base",
            "_view_module_version": "1.2.0",
            "_view_name": "StyleView",
            "bar_color": null,
            "description_width": ""
          }
        },
        "9f96570071f7448caed411c2fedc5f28": {
          "model_module": "@jupyter-widgets/base",
          "model_module_version": "1.2.0",
          "model_name": "LayoutModel",
          "state": {
            "_model_module": "@jupyter-widgets/base",
            "_model_module_version": "1.2.0",
            "_model_name": "LayoutModel",
            "_view_count": null,
            "_view_module": "@jupyter-widgets/base",
            "_view_module_version": "1.2.0",
            "_view_name": "LayoutView",
            "align_content": null,
            "align_items": null,
            "align_self": null,
            "border": null,
            "bottom": null,
            "display": null,
            "flex": null,
            "flex_flow": null,
            "grid_area": null,
            "grid_auto_columns": null,
            "grid_auto_flow": null,
            "grid_auto_rows": null,
            "grid_column": null,
            "grid_gap": null,
            "grid_row": null,
            "grid_template_areas": null,
            "grid_template_columns": null,
            "grid_template_rows": null,
            "height": null,
            "justify_content": null,
            "justify_items": null,
            "left": null,
            "margin": null,
            "max_height": null,
            "max_width": null,
            "min_height": null,
            "min_width": null,
            "object_fit": null,
            "object_position": null,
            "order": null,
            "overflow": null,
            "overflow_x": null,
            "overflow_y": null,
            "padding": null,
            "right": null,
            "top": null,
            "visibility": null,
            "width": null
          }
        },
        "a1daf5092b544df0ad4f0e17a9ef7449": {
          "model_module": "@jupyter-widgets/controls",
          "model_module_version": "1.5.0",
          "model_name": "HTMLModel",
          "state": {
            "_dom_classes": [],
            "_model_module": "@jupyter-widgets/controls",
            "_model_module_version": "1.5.0",
            "_model_name": "HTMLModel",
            "_view_count": null,
            "_view_module": "@jupyter-widgets/controls",
            "_view_module_version": "1.5.0",
            "_view_name": "HTMLView",
            "description": "",
            "description_tooltip": null,
            "layout": "IPY_MODEL_5320d57be21c4dc3b8c78dd508217bff",
            "placeholder": "​",
            "style": "IPY_MODEL_a9c9748361e44bebb625060eea4cb4c2",
            "value": " 2.47G/2.47G [01:21&lt;00:00, 28.4MB/s]"
          }
        },
        "a71804dfa1484efca97b8d27bae6e69f": {
          "model_module": "@jupyter-widgets/controls",
          "model_module_version": "1.5.0",
          "model_name": "FloatProgressModel",
          "state": {
            "_dom_classes": [],
            "_model_module": "@jupyter-widgets/controls",
            "_model_module_version": "1.5.0",
            "_model_name": "FloatProgressModel",
            "_view_count": null,
            "_view_module": "@jupyter-widgets/controls",
            "_view_module_version": "1.5.0",
            "_view_name": "ProgressView",
            "bar_style": "success",
            "description": "",
            "description_tooltip": null,
            "layout": "IPY_MODEL_7ef8b95eca8444dab35f0eae647aa66d",
            "max": 54528,
            "min": 0,
            "orientation": "horizontal",
            "style": "IPY_MODEL_fb1064fbb22b4afd8e85e0f3fafc8608",
            "value": 54528
          }
        },
        "a912edc764954e2d9d93770e748a1181": {
          "model_module": "@jupyter-widgets/controls",
          "model_module_version": "1.5.0",
          "model_name": "FloatProgressModel",
          "state": {
            "_dom_classes": [],
            "_model_module": "@jupyter-widgets/controls",
            "_model_module_version": "1.5.0",
            "_model_name": "FloatProgressModel",
            "_view_count": null,
            "_view_module": "@jupyter-widgets/controls",
            "_view_module_version": "1.5.0",
            "_view_name": "ProgressView",
            "bar_style": "success",
            "description": "",
            "description_tooltip": null,
            "layout": "IPY_MODEL_3f1548c71cdb4a4ab377b593f1b3b587",
            "max": 296,
            "min": 0,
            "orientation": "horizontal",
            "style": "IPY_MODEL_5d9883fa554d44c293b6af4c43acf300",
            "value": 296
          }
        },
        "a9c2a38e59d84d228d287bcf5debe1b7": {
          "model_module": "@jupyter-widgets/controls",
          "model_module_version": "1.5.0",
          "model_name": "DescriptionStyleModel",
          "state": {
            "_model_module": "@jupyter-widgets/controls",
            "_model_module_version": "1.5.0",
            "_model_name": "DescriptionStyleModel",
            "_view_count": null,
            "_view_module": "@jupyter-widgets/base",
            "_view_module_version": "1.2.0",
            "_view_name": "StyleView",
            "description_width": ""
          }
        },
        "a9c9748361e44bebb625060eea4cb4c2": {
          "model_module": "@jupyter-widgets/controls",
          "model_module_version": "1.5.0",
          "model_name": "DescriptionStyleModel",
          "state": {
            "_model_module": "@jupyter-widgets/controls",
            "_model_module_version": "1.5.0",
            "_model_name": "DescriptionStyleModel",
            "_view_count": null,
            "_view_module": "@jupyter-widgets/base",
            "_view_module_version": "1.2.0",
            "_view_name": "StyleView",
            "description_width": ""
          }
        },
        "aaa25438c1cb4e978b3511ab96effbb4": {
          "model_module": "@jupyter-widgets/base",
          "model_module_version": "1.2.0",
          "model_name": "LayoutModel",
          "state": {
            "_model_module": "@jupyter-widgets/base",
            "_model_module_version": "1.2.0",
            "_model_name": "LayoutModel",
            "_view_count": null,
            "_view_module": "@jupyter-widgets/base",
            "_view_module_version": "1.2.0",
            "_view_name": "LayoutView",
            "align_content": null,
            "align_items": null,
            "align_self": null,
            "border": null,
            "bottom": null,
            "display": null,
            "flex": null,
            "flex_flow": null,
            "grid_area": null,
            "grid_auto_columns": null,
            "grid_auto_flow": null,
            "grid_auto_rows": null,
            "grid_column": null,
            "grid_gap": null,
            "grid_row": null,
            "grid_template_areas": null,
            "grid_template_columns": null,
            "grid_template_rows": null,
            "height": null,
            "justify_content": null,
            "justify_items": null,
            "left": null,
            "margin": null,
            "max_height": null,
            "max_width": null,
            "min_height": null,
            "min_width": null,
            "object_fit": null,
            "object_position": null,
            "order": null,
            "overflow": null,
            "overflow_x": null,
            "overflow_y": null,
            "padding": null,
            "right": null,
            "top": null,
            "visibility": null,
            "width": null
          }
        },
        "abc37cdcf5884598a17b13f59a7ce642": {
          "model_module": "@jupyter-widgets/controls",
          "model_module_version": "1.5.0",
          "model_name": "FloatProgressModel",
          "state": {
            "_dom_classes": [],
            "_model_module": "@jupyter-widgets/controls",
            "_model_module_version": "1.5.0",
            "_model_name": "FloatProgressModel",
            "_view_count": null,
            "_view_module": "@jupyter-widgets/controls",
            "_view_module_version": "1.5.0",
            "_view_name": "ProgressView",
            "bar_style": "success",
            "description": "",
            "description_tooltip": null,
            "layout": "IPY_MODEL_ad95bfea92d142fdb6f8f95bb88f3b15",
            "max": 9085657,
            "min": 0,
            "orientation": "horizontal",
            "style": "IPY_MODEL_9cd37b7aebf841a2b0541cd21a23af2e",
            "value": 9085657
          }
        },
        "ac13a2635ed6413db917151a50f817b2": {
          "model_module": "@jupyter-widgets/base",
          "model_module_version": "1.2.0",
          "model_name": "LayoutModel",
          "state": {
            "_model_module": "@jupyter-widgets/base",
            "_model_module_version": "1.2.0",
            "_model_name": "LayoutModel",
            "_view_count": null,
            "_view_module": "@jupyter-widgets/base",
            "_view_module_version": "1.2.0",
            "_view_name": "LayoutView",
            "align_content": null,
            "align_items": null,
            "align_self": null,
            "border": null,
            "bottom": null,
            "display": null,
            "flex": null,
            "flex_flow": null,
            "grid_area": null,
            "grid_auto_columns": null,
            "grid_auto_flow": null,
            "grid_auto_rows": null,
            "grid_column": null,
            "grid_gap": null,
            "grid_row": null,
            "grid_template_areas": null,
            "grid_template_columns": null,
            "grid_template_rows": null,
            "height": null,
            "justify_content": null,
            "justify_items": null,
            "left": null,
            "margin": null,
            "max_height": null,
            "max_width": null,
            "min_height": null,
            "min_width": null,
            "object_fit": null,
            "object_position": null,
            "order": null,
            "overflow": null,
            "overflow_x": null,
            "overflow_y": null,
            "padding": null,
            "right": null,
            "top": null,
            "visibility": null,
            "width": null
          }
        },
        "ad95bfea92d142fdb6f8f95bb88f3b15": {
          "model_module": "@jupyter-widgets/base",
          "model_module_version": "1.2.0",
          "model_name": "LayoutModel",
          "state": {
            "_model_module": "@jupyter-widgets/base",
            "_model_module_version": "1.2.0",
            "_model_name": "LayoutModel",
            "_view_count": null,
            "_view_module": "@jupyter-widgets/base",
            "_view_module_version": "1.2.0",
            "_view_name": "LayoutView",
            "align_content": null,
            "align_items": null,
            "align_self": null,
            "border": null,
            "bottom": null,
            "display": null,
            "flex": null,
            "flex_flow": null,
            "grid_area": null,
            "grid_auto_columns": null,
            "grid_auto_flow": null,
            "grid_auto_rows": null,
            "grid_column": null,
            "grid_gap": null,
            "grid_row": null,
            "grid_template_areas": null,
            "grid_template_columns": null,
            "grid_template_rows": null,
            "height": null,
            "justify_content": null,
            "justify_items": null,
            "left": null,
            "margin": null,
            "max_height": null,
            "max_width": null,
            "min_height": null,
            "min_width": null,
            "object_fit": null,
            "object_position": null,
            "order": null,
            "overflow": null,
            "overflow_x": null,
            "overflow_y": null,
            "padding": null,
            "right": null,
            "top": null,
            "visibility": null,
            "width": null
          }
        },
        "ade8c70d4d3f413a997a970671fb9563": {
          "model_module": "@jupyter-widgets/controls",
          "model_module_version": "1.5.0",
          "model_name": "DescriptionStyleModel",
          "state": {
            "_model_module": "@jupyter-widgets/controls",
            "_model_module_version": "1.5.0",
            "_model_name": "DescriptionStyleModel",
            "_view_count": null,
            "_view_module": "@jupyter-widgets/base",
            "_view_module_version": "1.2.0",
            "_view_name": "StyleView",
            "description_width": ""
          }
        },
        "b9e3c587a82542d6af0ec289aeff6083": {
          "model_module": "@jupyter-widgets/controls",
          "model_module_version": "1.5.0",
          "model_name": "DescriptionStyleModel",
          "state": {
            "_model_module": "@jupyter-widgets/controls",
            "_model_module_version": "1.5.0",
            "_model_name": "DescriptionStyleModel",
            "_view_count": null,
            "_view_module": "@jupyter-widgets/base",
            "_view_module_version": "1.2.0",
            "_view_name": "StyleView",
            "description_width": ""
          }
        },
        "c3201fa93f344489b3ef3d70449c8c74": {
          "model_module": "@jupyter-widgets/controls",
          "model_module_version": "1.5.0",
          "model_name": "DescriptionStyleModel",
          "state": {
            "_model_module": "@jupyter-widgets/controls",
            "_model_module_version": "1.5.0",
            "_model_name": "DescriptionStyleModel",
            "_view_count": null,
            "_view_module": "@jupyter-widgets/base",
            "_view_module_version": "1.2.0",
            "_view_name": "StyleView",
            "description_width": ""
          }
        },
        "c396334410b9415784bbabee6249112a": {
          "model_module": "@jupyter-widgets/controls",
          "model_module_version": "1.5.0",
          "model_name": "HTMLModel",
          "state": {
            "_dom_classes": [],
            "_model_module": "@jupyter-widgets/controls",
            "_model_module_version": "1.5.0",
            "_model_name": "HTMLModel",
            "_view_count": null,
            "_view_module": "@jupyter-widgets/controls",
            "_view_module_version": "1.5.0",
            "_view_name": "HTMLView",
            "description": "",
            "description_tooltip": null,
            "layout": "IPY_MODEL_4f9944a068c042d28a49c1cf89f7d5ad",
            "placeholder": "​",
            "style": "IPY_MODEL_582586f5c1ad48fc8a15cab257f84648",
            "value": "special_tokens_map.json: 100%"
          }
        },
        "c75c910291d64bd4b9e8020014bb44f0": {
          "model_module": "@jupyter-widgets/base",
          "model_module_version": "1.2.0",
          "model_name": "LayoutModel",
          "state": {
            "_model_module": "@jupyter-widgets/base",
            "_model_module_version": "1.2.0",
            "_model_name": "LayoutModel",
            "_view_count": null,
            "_view_module": "@jupyter-widgets/base",
            "_view_module_version": "1.2.0",
            "_view_name": "LayoutView",
            "align_content": null,
            "align_items": null,
            "align_self": null,
            "border": null,
            "bottom": null,
            "display": null,
            "flex": null,
            "flex_flow": null,
            "grid_area": null,
            "grid_auto_columns": null,
            "grid_auto_flow": null,
            "grid_auto_rows": null,
            "grid_column": null,
            "grid_gap": null,
            "grid_row": null,
            "grid_template_areas": null,
            "grid_template_columns": null,
            "grid_template_rows": null,
            "height": null,
            "justify_content": null,
            "justify_items": null,
            "left": null,
            "margin": null,
            "max_height": null,
            "max_width": null,
            "min_height": null,
            "min_width": null,
            "object_fit": null,
            "object_position": null,
            "order": null,
            "overflow": null,
            "overflow_x": null,
            "overflow_y": null,
            "padding": null,
            "right": null,
            "top": null,
            "visibility": null,
            "width": null
          }
        },
        "d67815b43a624473b8e9c0758f6baffe": {
          "model_module": "@jupyter-widgets/base",
          "model_module_version": "1.2.0",
          "model_name": "LayoutModel",
          "state": {
            "_model_module": "@jupyter-widgets/base",
            "_model_module_version": "1.2.0",
            "_model_name": "LayoutModel",
            "_view_count": null,
            "_view_module": "@jupyter-widgets/base",
            "_view_module_version": "1.2.0",
            "_view_name": "LayoutView",
            "align_content": null,
            "align_items": null,
            "align_self": null,
            "border": null,
            "bottom": null,
            "display": null,
            "flex": null,
            "flex_flow": null,
            "grid_area": null,
            "grid_auto_columns": null,
            "grid_auto_flow": null,
            "grid_auto_rows": null,
            "grid_column": null,
            "grid_gap": null,
            "grid_row": null,
            "grid_template_areas": null,
            "grid_template_columns": null,
            "grid_template_rows": null,
            "height": null,
            "justify_content": null,
            "justify_items": null,
            "left": null,
            "margin": null,
            "max_height": null,
            "max_width": null,
            "min_height": null,
            "min_width": null,
            "object_fit": null,
            "object_position": null,
            "order": null,
            "overflow": null,
            "overflow_x": null,
            "overflow_y": null,
            "padding": null,
            "right": null,
            "top": null,
            "visibility": null,
            "width": null
          }
        },
        "dd72d234cace4a5aa092d2d9e82bf783": {
          "model_module": "@jupyter-widgets/controls",
          "model_module_version": "1.5.0",
          "model_name": "ProgressStyleModel",
          "state": {
            "_model_module": "@jupyter-widgets/controls",
            "_model_module_version": "1.5.0",
            "_model_name": "ProgressStyleModel",
            "_view_count": null,
            "_view_module": "@jupyter-widgets/base",
            "_view_module_version": "1.2.0",
            "_view_name": "StyleView",
            "bar_color": null,
            "description_width": ""
          }
        },
        "de44e0b3cdf949f096bb7e60e75abf38": {
          "model_module": "@jupyter-widgets/base",
          "model_module_version": "1.2.0",
          "model_name": "LayoutModel",
          "state": {
            "_model_module": "@jupyter-widgets/base",
            "_model_module_version": "1.2.0",
            "_model_name": "LayoutModel",
            "_view_count": null,
            "_view_module": "@jupyter-widgets/base",
            "_view_module_version": "1.2.0",
            "_view_name": "LayoutView",
            "align_content": null,
            "align_items": null,
            "align_self": null,
            "border": null,
            "bottom": null,
            "display": null,
            "flex": null,
            "flex_flow": null,
            "grid_area": null,
            "grid_auto_columns": null,
            "grid_auto_flow": null,
            "grid_auto_rows": null,
            "grid_column": null,
            "grid_gap": null,
            "grid_row": null,
            "grid_template_areas": null,
            "grid_template_columns": null,
            "grid_template_rows": null,
            "height": null,
            "justify_content": null,
            "justify_items": null,
            "left": null,
            "margin": null,
            "max_height": null,
            "max_width": null,
            "min_height": null,
            "min_width": null,
            "object_fit": null,
            "object_position": null,
            "order": null,
            "overflow": null,
            "overflow_x": null,
            "overflow_y": null,
            "padding": null,
            "right": null,
            "top": null,
            "visibility": null,
            "width": null
          }
        },
        "e02b10668111492db3f7ed9ac94270bb": {
          "model_module": "@jupyter-widgets/controls",
          "model_module_version": "1.5.0",
          "model_name": "HBoxModel",
          "state": {
            "_dom_classes": [],
            "_model_module": "@jupyter-widgets/controls",
            "_model_module_version": "1.5.0",
            "_model_name": "HBoxModel",
            "_view_count": null,
            "_view_module": "@jupyter-widgets/controls",
            "_view_module_version": "1.5.0",
            "_view_name": "HBoxView",
            "box_style": "",
            "children": [
              "IPY_MODEL_e56412e9efcb487c98d07003549e42fe",
              "IPY_MODEL_415364c279cd4b47a7fa35c675192ba9",
              "IPY_MODEL_e44b0ebcf2bc4819a2290b7012d85e60"
            ],
            "layout": "IPY_MODEL_1075e6a050244b9d8fed8e5b36972ec3"
          }
        },
        "e44b0ebcf2bc4819a2290b7012d85e60": {
          "model_module": "@jupyter-widgets/controls",
          "model_module_version": "1.5.0",
          "model_name": "HTMLModel",
          "state": {
            "_dom_classes": [],
            "_model_module": "@jupyter-widgets/controls",
            "_model_module_version": "1.5.0",
            "_model_name": "HTMLModel",
            "_view_count": null,
            "_view_module": "@jupyter-widgets/controls",
            "_view_module_version": "1.5.0",
            "_view_name": "HTMLView",
            "description": "",
            "description_tooltip": null,
            "layout": "IPY_MODEL_c75c910291d64bd4b9e8020014bb44f0",
            "placeholder": "​",
            "style": "IPY_MODEL_e5c184b3e7674829ad82efa3e413d69a",
            "value": " 877/877 [00:00&lt;00:00, 19.6kB/s]"
          }
        },
        "e56412e9efcb487c98d07003549e42fe": {
          "model_module": "@jupyter-widgets/controls",
          "model_module_version": "1.5.0",
          "model_name": "HTMLModel",
          "state": {
            "_dom_classes": [],
            "_model_module": "@jupyter-widgets/controls",
            "_model_module_version": "1.5.0",
            "_model_name": "HTMLModel",
            "_view_count": null,
            "_view_module": "@jupyter-widgets/controls",
            "_view_module_version": "1.5.0",
            "_view_name": "HTMLView",
            "description": "",
            "description_tooltip": null,
            "layout": "IPY_MODEL_181a2f33d3134ac4aaa2843cdfa71507",
            "placeholder": "​",
            "style": "IPY_MODEL_2c0eeb4622134fc888766b02989e472c",
            "value": "config.json: 100%"
          }
        },
        "e5c184b3e7674829ad82efa3e413d69a": {
          "model_module": "@jupyter-widgets/controls",
          "model_module_version": "1.5.0",
          "model_name": "DescriptionStyleModel",
          "state": {
            "_model_module": "@jupyter-widgets/controls",
            "_model_module_version": "1.5.0",
            "_model_name": "DescriptionStyleModel",
            "_view_count": null,
            "_view_module": "@jupyter-widgets/base",
            "_view_module_version": "1.2.0",
            "_view_name": "StyleView",
            "description_width": ""
          }
        },
        "e94c950126b543caa8a6892a41f1d806": {
          "model_module": "@jupyter-widgets/controls",
          "model_module_version": "1.5.0",
          "model_name": "ProgressStyleModel",
          "state": {
            "_model_module": "@jupyter-widgets/controls",
            "_model_module_version": "1.5.0",
            "_model_name": "ProgressStyleModel",
            "_view_count": null,
            "_view_module": "@jupyter-widgets/base",
            "_view_module_version": "1.2.0",
            "_view_name": "StyleView",
            "bar_color": null,
            "description_width": ""
          }
        },
        "fb1064fbb22b4afd8e85e0f3fafc8608": {
          "model_module": "@jupyter-widgets/controls",
          "model_module_version": "1.5.0",
          "model_name": "ProgressStyleModel",
          "state": {
            "_model_module": "@jupyter-widgets/controls",
            "_model_module_version": "1.5.0",
            "_model_name": "ProgressStyleModel",
            "_view_count": null,
            "_view_module": "@jupyter-widgets/base",
            "_view_module_version": "1.2.0",
            "_view_name": "StyleView",
            "bar_color": null,
            "description_width": ""
          }
        },
        "fb3c8a68d87a499990c7d51aaaa87916": {
          "model_module": "@jupyter-widgets/base",
          "model_module_version": "1.2.0",
          "model_name": "LayoutModel",
          "state": {
            "_model_module": "@jupyter-widgets/base",
            "_model_module_version": "1.2.0",
            "_model_name": "LayoutModel",
            "_view_count": null,
            "_view_module": "@jupyter-widgets/base",
            "_view_module_version": "1.2.0",
            "_view_name": "LayoutView",
            "align_content": null,
            "align_items": null,
            "align_self": null,
            "border": null,
            "bottom": null,
            "display": null,
            "flex": null,
            "flex_flow": null,
            "grid_area": null,
            "grid_auto_columns": null,
            "grid_auto_flow": null,
            "grid_auto_rows": null,
            "grid_column": null,
            "grid_gap": null,
            "grid_row": null,
            "grid_template_areas": null,
            "grid_template_columns": null,
            "grid_template_rows": null,
            "height": null,
            "justify_content": null,
            "justify_items": null,
            "left": null,
            "margin": null,
            "max_height": null,
            "max_width": null,
            "min_height": null,
            "min_width": null,
            "object_fit": null,
            "object_position": null,
            "order": null,
            "overflow": null,
            "overflow_x": null,
            "overflow_y": null,
            "padding": null,
            "right": null,
            "top": null,
            "visibility": null,
            "width": null
          }
        }
      }
    }
  },
  "nbformat": 4,
  "nbformat_minor": 0
}
